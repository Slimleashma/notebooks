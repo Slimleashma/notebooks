{
 "cells": [
  {
   "cell_type": "code",
   "execution_count": null,
   "metadata": {},
   "outputs": [],
   "source": [
    "from astropy.io import fits\n",
    "import numpy as np\n",
    "import matplotlib.pyplot as plt\n",
    "\n",
    "%matplotlib inline \n",
    "#%matplotlib notebook\n",
    "%config InlineBackend.figure_format = 'retina'\n"
   ]
  },
  {
   "cell_type": "code",
   "execution_count": null,
   "metadata": {},
   "outputs": [],
   "source": [
    "date=\"20190418\"\n"
   ]
  },
  {
   "cell_type": "code",
   "execution_count": null,
   "metadata": {},
   "outputs": [],
   "source": [
    "#print(repr(bias[9].header))\n",
    "xmin=150\n",
    "xmax=350\n",
    "ymin=150\n",
    "ymax=350\n",
    "amp=6\n",
    "\n",
    "expnum=624\n",
    "exposure=(str(expnum).zfill(6))\n",
    "filename=\"/project/bstalder/comcam/raw/\"+date+\"/CC_C_\"+date+\"_\"+exposure+\"/CC_C_\"+date+\"_\"+exposure+\"_R22_S11.fits\"\n",
    "bias=fits.open(filename)\n",
    "#print(repr(bias[0].header))\n",
    "\n",
    "expnum=625\n",
    "exposure=(str(expnum).zfill(6))\n",
    "filename=\"/project/bstalder/comcam/raw/\"+date+\"/CC_C_\"+date+\"_\"+exposure+\"/CC_C_\"+date+\"_\"+exposure+\"_R22_S11.fits\"\n",
    "flat1=fits.open(filename)\n",
    "\n",
    "expnum=626\n",
    "exposure=(str(expnum).zfill(6))\n",
    "filename=\"/project/bstalder/comcam/raw/\"+date+\"/CC_C_\"+date+\"_\"+exposure+\"/CC_C_\"+date+\"_\"+exposure+\"_R22_S11.fits\"\n",
    "flat2=fits.open(filename)\n",
    "\n",
    "biasamp=bias[amp].data[xmin:xmax,ymin:ymax]\n",
    "flat1amp=flat1[amp].data[xmin:xmax,ymin:ymax]\n",
    "flat2amp=flat2[amp].data[xmin:xmax,ymin:ymax]\n",
    "\n",
    "plt.rcParams['figure.figsize'] = [10, 10]\n",
    "plt.imshow(flat1amp-biasamp)\n",
    "signal=np.mean( flat1amp-biasamp)\n",
    "variance=np.std( (flat1amp-flat2amp)**2 )\n",
    "\n",
    "print(signal, variance)\n",
    "\n",
    "bias.close()\n",
    "flat1.close()\n",
    "flat2.close()"
   ]
  },
  {
   "cell_type": "code",
   "execution_count": null,
   "metadata": {},
   "outputs": [],
   "source": [
    "date=\"20190418\"\n",
    "xmin=150\n",
    "xmax=350\n",
    "ymin=150\n",
    "ymax=350\n",
    "amp=6\n",
    "\n",
    "signal = []\n",
    "variance = []\n",
    "\n",
    "\n",
    "for i in range(600,687,3):\n",
    "#    print(i)\n",
    "    biasnum=str(i).zfill(6)\n",
    "    flat1num=str(i+1).zfill(6)\n",
    "    flat2num=str(i+2).zfill(6)\n",
    "    biasfile=\"/project/bstalder/comcam/raw/\"+date+\"/CC_C_\"+date+\"_\"+biasnum+\"/CC_C_\"+date+\"_\"+biasnum+\"_R22_S11.fits\"\n",
    "    flat1file=\"/project/bstalder/comcam/raw/\"+date+\"/CC_C_\"+date+\"_\"+flat1num+\"/CC_C_\"+date+\"_\"+flat1num+\"_R22_S11.fits\"\n",
    "    flat2file=\"/project/bstalder/comcam/raw/\"+date+\"/CC_C_\"+date+\"_\"+flat2num+\"/CC_C_\"+date+\"_\"+flat2num+\"_R22_S11.fits\"\n",
    "    with fits.open(biasfile) as bias:\n",
    "        biasamp=bias[amp].data[xmin:xmax,ymin:ymax]\n",
    "    with fits.open(flat1file) as flat1:\n",
    "        flat1amp=flat1[amp].data[xmin:xmax,ymin:ymax]\n",
    "#        print(flat1[0].header['EXPTIME'])\n",
    "    with fits.open(flat2file) as flat2:\n",
    "        flat2amp=flat2[amp].data[xmin:xmax,ymin:ymax]\n",
    "    \n",
    "    signal.append(np.mean( flat1amp - biasamp))\n",
    "    variance.append(np.std( 0.5*(flat1amp-flat2amp)**2 ))\n",
    "\n"
   ]
  },
  {
   "cell_type": "code",
   "execution_count": null,
   "metadata": {},
   "outputs": [],
   "source": [
    "plt.figure()\n",
    "plt.scatter(signal, variance)\n",
    "plt.xlabel('Signal (ADU)')\n",
    "plt.ylabel('Variance (ADU^2)')\n",
    "#plt.axis([0,180000,0,1250000])"
   ]
  },
  {
   "cell_type": "code",
   "execution_count": null,
   "metadata": {},
   "outputs": [],
   "source": [
    "for i in range(0,len(signal)-1):\n",
    "    print(600+3*i,signal[i],variance[i])"
   ]
  },
  {
   "cell_type": "code",
   "execution_count": null,
   "metadata": {},
   "outputs": [],
   "source": []
  }
 ],
 "metadata": {
  "kernelspec": {
   "display_name": "LSST",
   "language": "python",
   "name": "lsst"
  },
  "language_info": {
   "codemirror_mode": {
    "name": "ipython",
    "version": 3
   },
   "file_extension": ".py",
   "mimetype": "text/x-python",
   "name": "python",
   "nbconvert_exporter": "python",
   "pygments_lexer": "ipython3",
   "version": "3.7.2"
  }
 },
 "nbformat": 4,
 "nbformat_minor": 2
}
