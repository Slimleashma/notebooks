{
 "cells": [
  {
   "cell_type": "code",
   "execution_count": null,
   "metadata": {},
   "outputs": [],
   "source": [
    "from bokeh.plotting import figure, show\n",
    "from bokeh.layouts import gridplot\n",
    "from bokeh.io import output_notebook, export_png\n",
    "output_notebook()\n",
    "\n",
    "from lsst.daf.persistence import Butler, NoResults\n",
    "import os, numpy"
   ]
  },
  {
   "cell_type": "code",
   "execution_count": null,
   "metadata": {},
   "outputs": [],
   "source": [
    "DATADIR = f\"{os.environ['OBS_LSST_DIR']}/ts8/CALIB\"\n",
    "butler = Butler(DATADIR)"
   ]
  },
  {
   "cell_type": "code",
   "execution_count": null,
   "metadata": {},
   "outputs": [],
   "source": [
    "camera = butler.get('camera')"
   ]
  },
  {
   "cell_type": "code",
   "execution_count": null,
   "metadata": {},
   "outputs": [],
   "source": [
    "def make_subplot(plot, n):\n",
    "    xmin = None\n",
    "    xmax = None\n",
    "    interp_list = []\n",
    "    for k in qe_curve.data:\n",
    "        wlen = qe_curve.data[k][0]\n",
    "        eff = qe_curve.data[k][1]    \n",
    "        plot.line(wlen.value, eff.value, alpha=0.1, line_width=3)\n",
    "        \n",
    "        amp_point = det[k].getBBox().getCenter()\n",
    "        if xmin is None or xmax is None:\n",
    "            xmin = wlen.min()\n",
    "            xmax = wlen.max()\n",
    "            interp_wlen = numpy.linspace(xmin, xmax, num=500)\n",
    "        interp_eff = qe_curve.evaluate(det, amp_point, interp_wlen, kind='quadratic')\n",
    "        interp_list.append(interp_eff)\n",
    "        \n",
    "    interp_arr = numpy.array([arr for arr in interp_list])\n",
    "    median_eff = numpy.median(interp_arr, axis=0)\n",
    "    plot.line(interp_wlen, median_eff, color='black', line_width=2)\n",
    "    \n",
    "    if n > 6:\n",
    "        plot.xaxis.axis_label = 'wavelength (nm)'\n",
    "        \n",
    "    if n in (1, 4, 7):\n",
    "        plot.yaxis.axis_label = 'efficiency (%)'\n",
    "        \n",
    "    plot.text(x=[400,], y=[20,], text=[f'Detector: {det.getName()}',])"
   ]
  },
  {
   "cell_type": "code",
   "execution_count": null,
   "metadata": {},
   "outputs": [],
   "source": [
    "plots = []\n",
    "for det in camera:\n",
    "    rname, dname = det.getName().split('_')\n",
    "    try:\n",
    "        qe_curve = butler.get('qe_curve', raftName=rname, detectorName=dname, taiObs='2000-01-01T00:00:00')\n",
    "    except NoResults:\n",
    "        continue  # No results found for this detector\n",
    "\n",
    "    if len(plots) > 0:\n",
    "        plots.append(figure(x_range=plots[0].x_range, y_range=plots[0].y_range))\n",
    "    else:\n",
    "        plots.append(figure())\n",
    "\n",
    "    make_subplot(plots[-1], len(plots))"
   ]
  },
  {
   "cell_type": "code",
   "execution_count": null,
   "metadata": {},
   "outputs": [],
   "source": [
    "grid = gridplot(plots, ncols=3, plot_width=500, plot_height=250)\n",
    "show(grid)"
   ]
  },
  {
   "cell_type": "markdown",
   "metadata": {},
   "source": [
    "## A rendered version of the above plot"
   ]
  },
  {
   "cell_type": "markdown",
   "metadata": {},
   "source": [
    "![QE grid](qe_grid.png)"
   ]
  }
 ],
 "metadata": {
  "kernelspec": {
   "display_name": "LSST",
   "language": "python",
   "name": "lsst"
  },
  "language_info": {
   "codemirror_mode": {
    "name": "ipython",
    "version": 3
   },
   "file_extension": ".py",
   "mimetype": "text/x-python",
   "name": "python",
   "nbconvert_exporter": "python",
   "pygments_lexer": "ipython3",
   "version": "3.7.2"
  }
 },
 "nbformat": 4,
 "nbformat_minor": 4
}
