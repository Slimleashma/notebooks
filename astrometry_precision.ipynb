{
 "cells": [
  {
   "cell_type": "markdown",
   "metadata": {},
   "source": [
    "A notebook to explore how well astrometry performs on a single night. Check the RMS of object centroid as a function of SNR."
   ]
  },
  {
   "cell_type": "code",
   "execution_count": 1,
   "metadata": {},
   "outputs": [],
   "source": [
    "import matplotlib.pyplot as plt\n",
    "%matplotlib inline\n",
    "import numpy as np"
   ]
  },
  {
   "cell_type": "code",
   "execution_count": 2,
   "metadata": {},
   "outputs": [],
   "source": [
    "from lsst.daf.persistence import Butler\n",
    "from lsst.afw.table import MultiMatch\n",
    "from lsst.afw.image import abMagFromFlux, fluxFromABMag"
   ]
  },
  {
   "cell_type": "code",
   "execution_count": 3,
   "metadata": {},
   "outputs": [],
   "source": [
    "# Handy function for later. \n",
    "# Stolen from lsst.sims.maf.utils. Should probably go to a more general library.\n",
    "def gnomonic_project_toxy(RA1, Dec1, RAcen, Deccen):\n",
    "    \"\"\"\n",
    "    Calculate the x/y values of RA1/Dec1 in a gnomonic projection with center at RAcen/Deccen.\n",
    "\n",
    "    Parameters\n",
    "    ----------\n",
    "    RA1 : numpy.ndarray\n",
    "        RA values of the data to be projected, in radians.\n",
    "    Dec1 : numpy.ndarray\n",
    "        Dec values of the data to be projected, in radians.\n",
    "    RAcen: float\n",
    "        RA value of the center of the projection, in radians.\n",
    "    Deccen : float\n",
    "        Dec value of the center of the projection, in radians.\n",
    "\n",
    "    Returns\n",
    "    -------\n",
    "    numpy.ndarray, numpy.ndarray\n",
    "        The x/y values of the projected RA1/Dec1 positions.\n",
    "    \"\"\"\n",
    "    cosc = np.sin(Deccen) * np.sin(Dec1) + np.cos(Deccen) * np.cos(Dec1) * np.cos(RA1-RAcen)\n",
    "    x = np.cos(Dec1) * np.sin(RA1-RAcen) / cosc\n",
    "    y = (np.cos(Deccen)*np.sin(Dec1) - np.sin(Deccen)*np.cos(Dec1)*np.cos(RA1-RAcen)) / cosc\n",
    "    return x, y\n"
   ]
  },
  {
   "cell_type": "code",
   "execution_count": 4,
   "metadata": {},
   "outputs": [
    {
     "name": "stderr",
     "output_type": "stream",
     "text": [
      "/opt/lsst/software/stack/python/miniconda3-4.3.21/lib/python3.6/site-packages/matplotlib/__init__.py:1405: UserWarning: \n",
      "This call to matplotlib.use() has no effect because the backend has already\n",
      "been chosen; matplotlib.use() must be called *before* pylab, matplotlib.pyplot,\n",
      "or matplotlib.backends is imported for the first time.\n",
      "\n",
      "  warnings.warn(_use_error_msg)\n"
     ]
    }
   ],
   "source": [
    "# set up a butler\n",
    "butler = Butler('/project/shared/data/Twinkles_subset/output_data_v2')"
   ]
  },
  {
   "cell_type": "code",
   "execution_count": 5,
   "metadata": {},
   "outputs": [],
   "source": [
    "# This is pulling the initial pipeline WCS fit. In the future, will want to use jointcal results.\n",
    "subset = butler.subset('src', filter='r')"
   ]
  },
  {
   "cell_type": "code",
   "execution_count": 6,
   "metadata": {},
   "outputs": [],
   "source": [
    "# Copy pasta from matching notebook. Presumably, using jointcal would already have things matched up\n",
    "matched_cat = None\n",
    "calexps = {}\n",
    "for data_ref in subset:\n",
    "    data_id = data_ref.dataId\n",
    "    src_cat = data_ref.get('src')\n",
    "    calexps[data_id['visit']] = data_ref.get('calexp')\n",
    "    if matched_cat is None:\n",
    "        id_fmt = {'visit':np.int64}\n",
    "        # Using default 0.5 arcsec radius\n",
    "        matched_cat = MultiMatch(src_cat.schema, id_fmt)\n",
    "    matched_cat.add(src_cat, data_id)\n",
    "final_catalog = matched_cat.finish()"
   ]
  },
  {
   "cell_type": "code",
   "execution_count": 7,
   "metadata": {},
   "outputs": [],
   "source": [
    "# Find the unique object IDs\n",
    "object_ids = final_catalog.get('object')\n",
    "unique_object_ids = np.unique(object_ids)"
   ]
  },
  {
   "cell_type": "code",
   "execution_count": 8,
   "metadata": {},
   "outputs": [
    {
     "data": {
      "text/plain": [
       "array([   1,    2,    3, ..., 6696, 6697, 6698], dtype=int64)"
      ]
     },
     "execution_count": 8,
     "metadata": {},
     "output_type": "execute_result"
    }
   ],
   "source": [
    "unique_object_ids"
   ]
  },
  {
   "cell_type": "code",
   "execution_count": 9,
   "metadata": {},
   "outputs": [],
   "source": [
    "# For each unique object, want to know the"
   ]
  },
  {
   "cell_type": "code",
   "execution_count": 10,
   "metadata": {},
   "outputs": [
    {
     "data": {
      "text/plain": [
       "<class 'lsst.afw.table.source.source.SourceCatalog'>\n",
       "      id           coord_ra           coord_dec       ... object visit\n",
       "                     rad                 rad          ...             \n",
       "------------- ------------------ -------------------- ... ------ -----\n",
       " 988882665473 0.9235074520228211  -0.4766365244228648 ...      1   230\n",
       " 988882665474  0.923440817814142 -0.47691936249744354 ...      2   230\n",
       " 988882665475 0.9234075343436854  -0.4770033201661779 ...      3   230\n",
       " 988882665476 0.9227891880394103 -0.47936484621963726 ...      4   230\n",
       " 988882665477 0.9227211251615833  -0.4796207587219972 ...      5   230\n",
       " 988882665478 0.9226835125005866  -0.4797644474181495 ...      6   230\n",
       " 988882665479 0.9231775946204576 -0.47789024798034624 ...      7   230\n",
       "1001767567613 0.9231778259833596  -0.4778902460626018 ...      7   233\n",
       "1010357502194 0.9231776163406615 -0.47789030940973437 ...      7   235\n",
       "1023242404072 0.9231782648808977 -0.47789014784112605 ...      7   238\n",
       "          ...                ...                  ... ...    ...   ...\n",
       "1027537373627 0.9273666149867388 -0.47999722328962885 ...   6689   239\n",
       "1027537373634 0.9274935371638854  -0.4803432268252282 ...   6690   239\n",
       "1027537373643 0.9273710311305873 -0.47937184333020527 ...   6691   239\n",
       "1027537373644 0.9273101797585267 -0.47941103480930053 ...   6692   239\n",
       "1027537373646 0.9273614256816027 -0.47940622345855327 ...   6693   239\n",
       "1027537373647 0.9273121464006062  -0.4793693097757686 ...   6694   239\n",
       "1027537373648 0.9274777863248266 -0.47966800370582485 ...   6695   239\n",
       "1027537373649 0.9274776973567744 -0.47969429914838113 ...   6696   239\n",
       "1027537373658 0.9277640855732572  -0.4801832642634254 ...   6697   239\n",
       "1027537373662 0.9277620001852805  -0.4801547870614495 ...   6698   239\n",
       "Length = 19962 rows"
      ]
     },
     "execution_count": 10,
     "metadata": {},
     "output_type": "execute_result"
    }
   ],
   "source": [
    "final_catalog"
   ]
  },
  {
   "cell_type": "code",
   "execution_count": 21,
   "metadata": {},
   "outputs": [],
   "source": [
    "# array to hold stats for each object we have matched up\n",
    "names = ['id', 'flux_avg', 'flux_std', 'flux_err_avg',\n",
    "         'mag', 'snr_avg', 'ra_rms_arcsec', 'dec_rms_arcsec']\n",
    "dtypes = [int, float, float, float, float, float, float, float]\n",
    "results = np.zeros(len(unique_object_ids), dtype=list(zip(names, dtypes)))"
   ]
  },
  {
   "cell_type": "code",
   "execution_count": 22,
   "metadata": {},
   "outputs": [
    {
     "name": "stderr",
     "output_type": "stream",
     "text": [
      "/opt/lsst/software/stack/python/miniconda3-4.3.21/lib/python3.6/site-packages/numpy/lib/function_base.py:1128: RuntimeWarning: Mean of empty slice.\n",
      "  avg = a.mean(axis)\n",
      "/opt/lsst/software/stack/python/miniconda3-4.3.21/lib/python3.6/site-packages/numpy/core/_methods.py:80: RuntimeWarning: invalid value encountered in double_scalars\n",
      "  ret = ret.dtype.type(ret / rcount)\n",
      "/opt/lsst/software/stack/python/miniconda3-4.3.21/lib/python3.6/site-packages/numpy/core/_methods.py:135: RuntimeWarning: Degrees of freedom <= 0 for slice\n",
      "  keepdims=keepdims)\n",
      "/opt/lsst/software/stack/python/miniconda3-4.3.21/lib/python3.6/site-packages/numpy/core/_methods.py:105: RuntimeWarning: invalid value encountered in true_divide\n",
      "  arrmean, rcount, out=arrmean, casting='unsafe', subok=False)\n",
      "/opt/lsst/software/stack/python/miniconda3-4.3.21/lib/python3.6/site-packages/numpy/core/_methods.py:127: RuntimeWarning: invalid value encountered in double_scalars\n",
      "  ret = ret.dtype.type(ret / rcount)\n"
     ]
    }
   ],
   "source": [
    "\n",
    "for i,obj_id in enumerate(unique_object_ids):\n",
    "    idx = np.where(final_catalog.get('object')==obj_id)[0]\n",
    "    # only ones where we have enough observations to do stats\n",
    "    if np.size(idx) > 4:\n",
    "        # pull out the ra and dec (these are in radians)\n",
    "        ra = final_catalog.get('coord_ra')[idx]\n",
    "        dec = final_catalog.get('coord_dec')[idx]\n",
    "        x,y = gnomonic_project_toxy(ra, dec, ra[0], dec[0])\n",
    "        results['id'][i] = obj_id\n",
    "        results['ra_rms_arcsec'][i] = np.std(np.degrees(x)*3600.)\n",
    "        results['dec_rms_arcsec'][i] = np.std(np.degrees(y)*3600.)\n",
    "        # Now to get the fluxes\n",
    "        flux_inst = final_catalog.get('base_PsfFlux_flux')[idx]\n",
    "        flux_inst_err = final_catalog.get('base_PsfFlux_fluxSigma')[idx]\n",
    "        flag_gen = final_catalog.get('base_PsfFlux_flag')[idx]\n",
    "        flag_edge = final_catalog.get('base_PsfFlux_flag_edge')[idx]\n",
    "        flag_nogood = final_catalog.get('base_PsfFlux_flag_noGoodPixels')[idx]\n",
    "        visit = final_catalog.get('visit')[idx]\n",
    "        flux = []\n",
    "        flux_err = []\n",
    "        for f, f_err, v, fl1, fl2, fl3 in zip(flux_inst, flux_inst_err, visit, flag_gen, flag_edge, flag_nogood):\n",
    "            if f > 0. and not (fl1|fl2|fl3):\n",
    "                calib = calexps[v].getCalib()\n",
    "                flux.append(fluxFromABMag(calib.getMagnitude(f)))\n",
    "                flux_err.append(fluxFromABMag(calib.getMagnitude(f_err)))\n",
    "        flux = np.array(flux)\n",
    "        flux_err = np.array(flux_err)\n",
    "        # might want to put some weights on these things\n",
    "        results['flux_avg'][i] = np.average(flux)\n",
    "        results['mag'][i] = abMagFromFlux(results['flux_avg'][i])\n",
    "        results['flux_std'][i] = np.std(flux)\n",
    "        results['flux_err_avg'] = np.average(flux_err)\n",
    "        results['snr_avg'][i] = np.average(flux/flux_err)\n",
    "        \n",
    "# crop off the rows we skipped\n",
    "results = results[np.where(results['id'] != 0)]"
   ]
  },
  {
   "cell_type": "code",
   "execution_count": null,
   "metadata": {},
   "outputs": [],
   "source": []
  },
  {
   "cell_type": "code",
   "execution_count": 34,
   "metadata": {},
   "outputs": [
    {
     "data": {
      "text/plain": [
       "<matplotlib.legend.Legend at 0x7f30089cb630>"
      ]
     },
     "execution_count": 34,
     "metadata": {},
     "output_type": "execute_result"
    },
    {
     "data": {
      "image/png": "[encoded data removed]",
      "text/plain": [
       "<matplotlib.figure.Figure at 0x7f30006505c0>"
      ]
     },
     "metadata": {},
     "output_type": "display_data"
    }
   ],
   "source": [
    "plt.plot(results['snr_avg'], results['ra_rms_arcsec']*1e3, 'ro', alpha=.5, label='RA')\n",
    "plt.plot(results['snr_avg'], results['dec_rms_arcsec']*1e3, 'bo', alpha=.5, label='dec')\n",
    "plt.xlabel('SNR')\n",
    "plt.ylabel('Position RMS (milliarcsec)')\n",
    "plt.title('Per Object')\n",
    "plt.legend()"
   ]
  },
  {
   "cell_type": "code",
   "execution_count": 26,
   "metadata": {},
   "outputs": [
    {
     "data": {
      "text/plain": [
       "[<matplotlib.lines.Line2D at 0x7f30005778d0>]"
      ]
     },
     "execution_count": 26,
     "metadata": {},
     "output_type": "execute_result"
    },
    {
     "data": {
      "image/png": "[encoded data removed]",
      "text/plain": [
       "<matplotlib.figure.Figure at 0x7f3000577c88>"
      ]
     },
     "metadata": {},
     "output_type": "display_data"
    }
   ],
   "source": [
    "# I don't think I understand this plot.\n",
    "plt.semilogy(results['flux_avg'], results['flux_std'], 'bo')\n",
    "plt.plot(results['flux_avg'], results['flux_err_avg'], 'ro')"
   ]
  },
  {
   "cell_type": "code",
   "execution_count": 36,
   "metadata": {},
   "outputs": [
    {
     "data": {
      "text/plain": [
       "<matplotlib.text.Text at 0x7f3008a29518>"
      ]
     },
     "execution_count": 36,
     "metadata": {},
     "output_type": "execute_result"
    },
    {
     "data": {
      "image/png": "[encoded data removed]",
      "text/plain": [
       "<matplotlib.figure.Figure at 0x7f300160f550>"
      ]
     },
     "metadata": {},
     "output_type": "display_data"
    }
   ],
   "source": [
    "plt.plot(results['mag'], results['snr_avg'], 'ko')\n",
    "plt.xlabel('r (mag)')\n",
    "plt.ylabel('SNR')"
   ]
  },
  {
   "cell_type": "code",
   "execution_count": 66,
   "metadata": {},
   "outputs": [],
   "source": [
    "# OK, let's say we want to know the final proper motion precision for a r=20 star\n",
    "mag_check = 20.\n",
    "mag_width = 0.1\n",
    "inbin = np.where((results['mag'] > mag_check-mag_width) & (results['mag'] <  mag_check+mag_width))\n",
    "snr = np.median(results['snr_avg'][inbin])\n",
    "position_err = np.median(results['dec_rms_arcsec']) # arcsec\n"
   ]
  },
  {
   "cell_type": "code",
   "execution_count": 67,
   "metadata": {},
   "outputs": [],
   "source": [
    "# from lsst.sims.maf.utils. \n",
    "def sigma_slope(x, sigma_y):\n",
    "    \"\"\"\n",
    "    Calculate the uncertainty in fitting a line, as\n",
    "    given by the spread in x values and the uncertainties\n",
    "    in the y values.\n",
    "\n",
    "    Parameters\n",
    "    ----------\n",
    "    x : numpy.ndarray\n",
    "        The x values of the data\n",
    "    sigma_y : numpy.ndarray\n",
    "        The uncertainty in the y values\n",
    "\n",
    "    Returns\n",
    "    -------\n",
    "    float\n",
    "        The uncertainty in the line fit\n",
    "    \"\"\"\n",
    "    w = 1./sigma_y**2\n",
    "    denom = np.sum(w)*np.sum(w*x**2)-np.sum(w*x)**2\n",
    "    if denom <= 0:\n",
    "        return np.nan\n",
    "    else:\n",
    "        result = np.sqrt(np.sum(w)/denom )\n",
    "        return result"
   ]
  },
  {
   "cell_type": "code",
   "execution_count": 68,
   "metadata": {},
   "outputs": [],
   "source": [
    "# observe every 8 days for 10 years. \n",
    "observation_dates = np.arange(0,3652, 8)"
   ]
  },
  {
   "cell_type": "code",
   "execution_count": 69,
   "metadata": {},
   "outputs": [],
   "source": [
    "pm_uncert = sigma_slope(observation_dates, position_err)"
   ]
  },
  {
   "cell_type": "code",
   "execution_count": 70,
   "metadata": {},
   "outputs": [
    {
     "data": {
      "text/plain": [
       "nan"
      ]
     },
     "execution_count": 70,
     "metadata": {},
     "output_type": "execute_result"
    }
   ],
   "source": [
    "pm_uncert"
   ]
  },
  {
   "cell_type": "code",
   "execution_count": 71,
   "metadata": {},
   "outputs": [
    {
     "data": {
      "text/plain": [
       "0.06940503587386845"
      ]
     },
     "execution_count": 71,
     "metadata": {},
     "output_type": "execute_result"
    }
   ],
   "source": [
    "position_err"
   ]
  },
  {
   "cell_type": "code",
   "execution_count": null,
   "metadata": {},
   "outputs": [],
   "source": []
  },
  {
   "cell_type": "code",
   "execution_count": null,
   "metadata": {},
   "outputs": [],
   "source": []
  }
 ],
 "metadata": {
  "kernelspec": {
   "display_name": "LSST",
   "language": "python",
   "name": "lsst"
  },
  "language_info": {
   "codemirror_mode": {
    "name": "ipython",
    "version": 3
   },
   "file_extension": ".py",
   "mimetype": "text/x-python",
   "name": "python",
   "nbconvert_exporter": "python",
   "pygments_lexer": "ipython3",
   "version": "3.6.2"
  }
 },
 "nbformat": 4,
 "nbformat_minor": 2
}
