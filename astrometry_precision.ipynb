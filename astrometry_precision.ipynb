{
 "cells": [
  {
   "cell_type": "markdown",
   "metadata": {},
   "source": [
    "A notebook to explore how well astrometry performs on a single night. Check the RMS of object centroid as a function of SNR."
   ]
  },
  {
   "cell_type": "code",
   "execution_count": 1,
   "metadata": {},
   "outputs": [],
   "source": [
    "import matplotlib.pyplot as plt\n",
    "%matplotlib inline\n",
    "import numpy as np"
   ]
  },
  {
   "cell_type": "code",
   "execution_count": 2,
   "metadata": {},
   "outputs": [],
   "source": [
    "from lsst.daf.persistence import Butler\n",
    "from lsst.afw.table import MultiMatch"
   ]
  },
  {
   "cell_type": "code",
   "execution_count": 3,
   "metadata": {},
   "outputs": [],
   "source": [
    "# Handy function for later. \n",
    "# Stolen from lsst.sims.maf.utils. Should probably go to a more general library.\n",
    "def gnomonic_project_toxy(RA1, Dec1, RAcen, Deccen):\n",
    "    \"\"\"\n",
    "    Calculate the x/y values of RA1/Dec1 in a gnomonic projection with center at RAcen/Deccen.\n",
    "\n",
    "    Parameters\n",
    "    ----------\n",
    "    RA1 : numpy.ndarray\n",
    "        RA values of the data to be projected, in radians.\n",
    "    Dec1 : numpy.ndarray\n",
    "        Dec values of the data to be projected, in radians.\n",
    "    RAcen: float\n",
    "        RA value of the center of the projection, in radians.\n",
    "    Deccen : float\n",
    "        Dec value of the center of the projection, in radians.\n",
    "\n",
    "    Returns\n",
    "    -------\n",
    "    numpy.ndarray, numpy.ndarray\n",
    "        The x/y values of the projected RA1/Dec1 positions.\n",
    "    \"\"\"\n",
    "    cosc = np.sin(Deccen) * np.sin(Dec1) + np.cos(Deccen) * np.cos(Dec1) * np.cos(RA1-RAcen)\n",
    "    x = np.cos(Dec1) * np.sin(RA1-RAcen) / cosc\n",
    "    y = (np.cos(Deccen)*np.sin(Dec1) - np.sin(Deccen)*np.cos(Dec1)*np.cos(RA1-RAcen)) / cosc\n",
    "    return x, y\n"
   ]
  },
  {
   "cell_type": "code",
   "execution_count": 4,
   "metadata": {},
   "outputs": [
    {
     "name": "stderr",
     "output_type": "stream",
     "text": [
      "/opt/lsst/software/stack/python/miniconda3-4.3.21/lib/python3.6/site-packages/matplotlib/__init__.py:1405: UserWarning: \n",
      "This call to matplotlib.use() has no effect because the backend has already\n",
      "been chosen; matplotlib.use() must be called *before* pylab, matplotlib.pyplot,\n",
      "or matplotlib.backends is imported for the first time.\n",
      "\n",
      "  warnings.warn(_use_error_msg)\n"
     ]
    }
   ],
   "source": [
    "# set up a butler\n",
    "butler = Butler('/project/shared/data/Twinkles_subset/output_data_v2')"
   ]
  },
  {
   "cell_type": "code",
   "execution_count": 5,
   "metadata": {},
   "outputs": [],
   "source": [
    "# This is pulling the initial WCS fit. In the future, will want to use jointcal results.\n",
    "subset = butler.subset('src', filter='r')"
   ]
  },
  {
   "cell_type": "code",
   "execution_count": 6,
   "metadata": {},
   "outputs": [],
   "source": [
    "# Copy pasta from matching notebook. Presumably, using jointcal would already have things matched up\n",
    "matched_cat = None\n",
    "calexps = {}\n",
    "for data_ref in subset:\n",
    "    data_id = data_ref.dataId\n",
    "    src_cat = data_ref.get('src')\n",
    "    calexps[data_id['visit']] = data_ref.get('calexp')\n",
    "    if matched_cat is None:\n",
    "        id_fmt = {'visit':np.int64}\n",
    "        # Using default 0.5 arcsec radius\n",
    "        matched_cat = MultiMatch(src_cat.schema, id_fmt)\n",
    "    matched_cat.add(src_cat, data_id)\n",
    "final_catalog = matched_cat.finish()"
   ]
  },
  {
   "cell_type": "code",
   "execution_count": 7,
   "metadata": {},
   "outputs": [],
   "source": [
    "# Find the unique object IDs\n",
    "object_ids = final_catalog.get('object')\n",
    "unique_object_ids = np.unique(object_ids)"
   ]
  },
  {
   "cell_type": "code",
   "execution_count": 8,
   "metadata": {},
   "outputs": [
    {
     "data": {
      "text/plain": [
       "array([   1,    2,    3, ..., 6696, 6697, 6698], dtype=int64)"
      ]
     },
     "execution_count": 8,
     "metadata": {},
     "output_type": "execute_result"
    }
   ],
   "source": [
    "unique_object_ids"
   ]
  },
  {
   "cell_type": "code",
   "execution_count": 9,
   "metadata": {},
   "outputs": [],
   "source": [
    "# For each unique object, want to know the"
   ]
  },
  {
   "cell_type": "code",
   "execution_count": 10,
   "metadata": {},
   "outputs": [
    {
     "data": {
      "text/plain": [
       "<class 'lsst.afw.table.source.source.SourceCatalog'>\n",
       "      id           coord_ra           coord_dec       ... object visit\n",
       "                     rad                 rad          ...             \n",
       "------------- ------------------ -------------------- ... ------ -----\n",
       " 988882665473 0.9235074520228211  -0.4766365244228648 ...      1   230\n",
       " 988882665474  0.923440817814142 -0.47691936249744354 ...      2   230\n",
       " 988882665475 0.9234075343436854  -0.4770033201661779 ...      3   230\n",
       " 988882665476 0.9227891880394103 -0.47936484621963726 ...      4   230\n",
       " 988882665477 0.9227211251615833  -0.4796207587219972 ...      5   230\n",
       " 988882665478 0.9226835125005866  -0.4797644474181495 ...      6   230\n",
       " 988882665479 0.9231775946204576 -0.47789024798034624 ...      7   230\n",
       "1001767567613 0.9231778259833596  -0.4778902460626018 ...      7   233\n",
       "1010357502194 0.9231776163406615 -0.47789030940973437 ...      7   235\n",
       "1023242404072 0.9231782648808977 -0.47789014784112605 ...      7   238\n",
       "          ...                ...                  ... ...    ...   ...\n",
       "1027537373627 0.9273666149867388 -0.47999722328962885 ...   6689   239\n",
       "1027537373634 0.9274935371638854  -0.4803432268252282 ...   6690   239\n",
       "1027537373643 0.9273710311305873 -0.47937184333020527 ...   6691   239\n",
       "1027537373644 0.9273101797585267 -0.47941103480930053 ...   6692   239\n",
       "1027537373646 0.9273614256816027 -0.47940622345855327 ...   6693   239\n",
       "1027537373647 0.9273121464006062  -0.4793693097757686 ...   6694   239\n",
       "1027537373648 0.9274777863248266 -0.47966800370582485 ...   6695   239\n",
       "1027537373649 0.9274776973567744 -0.47969429914838113 ...   6696   239\n",
       "1027537373658 0.9277640855732572  -0.4801832642634254 ...   6697   239\n",
       "1027537373662 0.9277620001852805  -0.4801547870614495 ...   6698   239\n",
       "Length = 19962 rows"
      ]
     },
     "execution_count": 10,
     "metadata": {},
     "output_type": "execute_result"
    }
   ],
   "source": [
    "final_catalog"
   ]
  },
  {
   "cell_type": "code",
   "execution_count": 26,
   "metadata": {},
   "outputs": [],
   "source": [
    "# array to hold stats for each object we have matched up\n",
    "names = ['id', 'flux', 'flux_err', 'ra_rms_arcsec', 'dec_rms_arcsec']\n",
    "dtypes = [int, float, float, float, float]\n",
    "results = np.zeros(len(unique_object_ids), dtype=list(zip(names, dtypes)))"
   ]
  },
  {
   "cell_type": "code",
   "execution_count": 27,
   "metadata": {},
   "outputs": [],
   "source": [
    "\n",
    "for i,obj_id in enumerate(unique_object_ids):\n",
    "    idx = np.where(final_catalog.get('object')==obj_id)[0]\n",
    "    # only ones where we have enough observations to do stats\n",
    "    if np.size(idx) > 3:\n",
    "        # pull out the ra and dec (these are in radians)\n",
    "        ra = final_catalog.get('coord_ra')[idx]\n",
    "        dec = final_catalog.get('coord_dec')[idx]\n",
    "        x,y = gnomonic_project_toxy(ra, dec, ra[0], dec[0])\n",
    "        results['id'][i] = obj_id\n",
    "        results['ra_rms_arcsec'][i] = np.std(np.degrees(x)*3600.)\n",
    "        results['dec_rms_arcsec'][i] = np.std(np.degrees(y)*3600.)\n",
    "# crop off the rows we skipped\n",
    "results = results[np.where(results['id'] != 0)]"
   ]
  },
  {
   "cell_type": "code",
   "execution_count": 30,
   "metadata": {},
   "outputs": [
    {
     "data": {
      "text/plain": [
       "array([0.0594606 , 0.01751762, 0.09431436, ..., 0.14578818, 0.07584487,\n",
       "       0.11900335])"
      ]
     },
     "execution_count": 30,
     "metadata": {},
     "output_type": "execute_result"
    }
   ],
   "source": [
    "\n"
   ]
  },
  {
   "cell_type": "code",
   "execution_count": 20,
   "metadata": {},
   "outputs": [],
   "source": [
    "obj_id = 12\n",
    "idx = np.where(final_catalog.get('object')==obj_id)[0]"
   ]
  },
  {
   "cell_type": "code",
   "execution_count": 20,
   "metadata": {},
   "outputs": [],
   "source": []
  },
  {
   "cell_type": "code",
   "execution_count": 32,
   "metadata": {},
   "outputs": [],
   "source": [
    "ra = final_catalog.get('coord_ra')[idx]\n",
    "dec = final_catalog.get('coord_dec')[idx]\n",
    "x,y = gnomonic_project_toxy(ra, dec, ra[0], dec[0])"
   ]
  },
  {
   "cell_type": "code",
   "execution_count": 34,
   "metadata": {},
   "outputs": [
    {
     "data": {
      "text/plain": [
       "[<matplotlib.lines.Line2D at 0x7f090f225ba8>]"
      ]
     },
     "execution_count": 34,
     "metadata": {},
     "output_type": "execute_result"
    },
    {
     "data": {
      "image/png": "[encoded data removed]",
      "text/plain": [
       "<matplotlib.figure.Figure at 0x7f090f35d898>"
      ]
     },
     "metadata": {},
     "output_type": "display_data"
    }
   ],
   "source": [
    "plt.plot(x,y, 'ko')"
   ]
  },
  {
   "cell_type": "code",
   "execution_count": 29,
   "metadata": {},
   "outputs": [
    {
     "data": {
      "text/plain": [
       "0.05548774156439943"
      ]
     },
     "execution_count": 29,
     "metadata": {},
     "output_type": "execute_result"
    }
   ],
   "source": []
  },
  {
   "cell_type": "code",
   "execution_count": null,
   "metadata": {},
   "outputs": [],
   "source": []
  }
 ],
 "metadata": {
  "kernelspec": {
   "display_name": "LSST",
   "language": "python",
   "name": "lsst"
  },
  "language_info": {
   "codemirror_mode": {
    "name": "ipython",
    "version": 3
   },
   "file_extension": ".py",
   "mimetype": "text/x-python",
   "name": "python",
   "nbconvert_exporter": "python",
   "pygments_lexer": "ipython3",
   "version": "3.6.2"
  }
 },
 "nbformat": 4,
 "nbformat_minor": 2
}
