{
 "cells": [
  {
   "cell_type": "markdown",
   "metadata": {},
   "source": [
    "# Testing the outputs from Synpipe"
   ]
  },
  {
   "cell_type": "markdown",
   "metadata": {},
   "source": [
    "_Jeff Carlin & Michael Reuter_\n",
    "\n",
    "_Last edited: 2018-05-30_\n",
    "\n",
    "*Works on DM Stack release: Weekly `2018_21`*"
   ]
  },
  {
   "cell_type": "markdown",
   "metadata": {},
   "source": [
    "Synpipe is a pipeline to insert synthetic sources into imaging data (originally designed for HSC data). Details can be found at: https://arxiv.org/abs/1705.01599\n",
    "\n",
    "The data we are exploring is HSC imaging of the galaxy IC 1613 from Jeff Carlin's research. Nate Lust has run Synpipe on these data, inserting artificial stars in all the images, and extracted the resulting catalogs into .fits files. In this notebook, we focus on the .fits catalogs rather than butler repos."
   ]
  },
  {
   "cell_type": "code",
   "execution_count": null,
   "metadata": {},
   "outputs": [],
   "source": [
    "from astropy.io import fits\n",
    "import numpy as np\n",
    "\n",
    "import matplotlib.pyplot as plt\n",
    "%matplotlib inline\n",
    "\n",
    "# Setup plot defaults to make nicer looking figures:\n",
    "plt.rcParams['axes.labelsize'] = 24\n",
    "plt.rcParams['font.size'] = 24\n",
    "plt.rcParams['legend.fontsize'] = 16\n",
    "plt.rcParams['axes.linewidth'] = 3\n",
    "plt.rcParams['axes.labelweight'] = 3\n",
    "plt.rcParams['axes.titleweight'] = 3\n",
    "plt.rcParams['figure.figsize'] = (9, 7)\n"
   ]
  },
  {
   "cell_type": "code",
   "execution_count": null,
   "metadata": {},
   "outputs": [],
   "source": [
    "# Read a catalog that contains only the fake stars from a single patch:\n",
    "# This catalog should contain all of the matches of fake stars to objects in the measured catalog.\n",
    "# Note that this does not mean that it contains all input fake stars -- only those with a match in the output repo.\n",
    "\n",
    "# hdulist = fits.open(\"/project/jcarlin/ic1613_synpipe/ic_fakes_only/g_10,14.fits.fits\") # a single patch\n",
    "hdulist = fits.open(\"/project/mreuter/ic_fakes_cat/g_8-12,12-16.fits\") # a few patches\n",
    "data = hdulist[1].data"
   ]
  },
  {
   "cell_type": "code",
   "execution_count": null,
   "metadata": {},
   "outputs": [],
   "source": [
    "# Read a catalog that lists the fake stars that were input:\n",
    "# NOTE: this contains stars over the entire observed field.\n",
    "hdu_all = fits.open('/project/jcarlin/ic1613_synpipe/ic_fake_catalogs/src_0_radec_G.fits')\n",
    "data_all = hdu_all[1].data\n"
   ]
  },
  {
   "cell_type": "code",
   "execution_count": null,
   "metadata": {},
   "outputs": [],
   "source": [
    "# Create arrays of RA, Dec:\n",
    "ra = data['coord_ra']\n",
    "dec = data['coord_dec']\n",
    "\n",
    "ra_all = data_all['RA']\n",
    "dec_all = data_all['Dec']"
   ]
  },
  {
   "cell_type": "code",
   "execution_count": null,
   "metadata": {},
   "outputs": [],
   "source": [
    "# We'll work with only objects in the outputs that satisfy the \"detect_isPrimary\" flag:\n",
    "is_primary = data['detect_isPrimary'] #& (data['parent'] > 0)"
   ]
  },
  {
   "cell_type": "code",
   "execution_count": null,
   "metadata": {},
   "outputs": [],
   "source": [
    "# Extract the measured PSF flux and magnitude zeropoint (a constant 27.0 for all objects, but we'll grab it in case...)\n",
    "psf_flux = data['base_PsfFlux_flux'][is_primary]\n",
    "zeropoint = data['zeropoint'][is_primary]"
   ]
  },
  {
   "cell_type": "code",
   "execution_count": null,
   "metadata": {},
   "outputs": [],
   "source": [
    "# Calculate PSF magnitudes:\n",
    "psf_mags = -2.5 * np.log10(psf_flux) + zeropoint"
   ]
  },
  {
   "cell_type": "code",
   "execution_count": null,
   "metadata": {},
   "outputs": [],
   "source": [
    "# Extract the fake input mags:\n",
    "fake_mags = data['mag'][is_primary]"
   ]
  },
  {
   "cell_type": "markdown",
   "metadata": {},
   "source": [
    "### Compare the input (fake) magnitudes and measured PSF mags"
   ]
  },
  {
   "cell_type": "code",
   "execution_count": null,
   "metadata": {},
   "outputs": [],
   "source": [
    "diff_mags = psf_mags - fake_mags"
   ]
  },
  {
   "cell_type": "code",
   "execution_count": null,
   "metadata": {},
   "outputs": [],
   "source": [
    "plt.figure()\n",
    "plt.plot(fake_mags, diff_mags, 'b.')\n",
    "tmp = np.arange(14,30)\n",
    "plt.plot(tmp,0.0*tmp,color='0.7')\n",
    "plt.ylim(-0.5,0.5)\n",
    "#plt.ylim(-1.5,1.5)\n",
    "plt.xlim(17.5,28.0)\n",
    "plt.xlabel('fake mag')\n",
    "plt.ylabel('PSF mag - fake mag')\n",
    "plt.minorticks_on()"
   ]
  },
  {
   "cell_type": "markdown",
   "metadata": {},
   "source": [
    "### Completeness as a function of magnitude"
   ]
  },
  {
   "cell_type": "code",
   "execution_count": null,
   "metadata": {},
   "outputs": [],
   "source": [
    "# Of the input fake stars, how many were recovered?\n",
    "\n",
    "magbins = np.arange(18., 28., 0.25)\n",
    "\n",
    "# bin the PSF magnitudes:\n",
    "mags_hist = np.histogram(psf_mags, magbins)\n",
    "\n",
    "# bin the fake magnitudes:\n",
    "fake_mags_clean_hist = np.histogram(fake_mags, magbins)\n",
    "\n",
    "# Calculate the centers of the bins:\n",
    "bin_centers = (mags_hist[1][:-1] + mags_hist[1][1:]) / 2.\n"
   ]
  },
  {
   "cell_type": "code",
   "execution_count": null,
   "metadata": {},
   "outputs": [],
   "source": [
    "# Total number of stars in the bins:\n",
    "plt.figure()\n",
    "plt.plot(bin_centers, mags_hist[0], 'r.-',label='measured')\n",
    "plt.plot(bin_centers, fake_mags_clean_hist[0], 'b.-',label='input')\n",
    "#plt.ylim(-0.5,0.5)\n",
    "#plt.ylim(-1.5,1.5)\n",
    "plt.xlim(17.5,28.0)\n",
    "plt.xlabel('mag')\n",
    "plt.ylabel('N')\n",
    "plt.legend(loc='lower left')"
   ]
  },
  {
   "cell_type": "code",
   "execution_count": null,
   "metadata": {},
   "outputs": [],
   "source": [
    "# Because the input catalog covers a large field of view,\n",
    "# and we're looking at a smaller region, we need to pick\n",
    "# out this region based on RA, Dec coordinates:\n",
    "\n",
    "minra, maxra = np.min(ra[is_primary]), np.max(ra[is_primary])\n",
    "mindec, maxdec = np.min(dec[is_primary]), np.max(dec[is_primary])\n",
    "\n",
    "inbbox = (ra_all > minra) & (ra_all< maxra) &\\\n",
    "         (dec_all > mindec) & (dec_all < maxdec)"
   ]
  },
  {
   "cell_type": "code",
   "execution_count": null,
   "metadata": {},
   "outputs": [],
   "source": [
    "# Where are the sources in RA, Dec?\n",
    "plt.figure()\n",
    "plt.plot(ra_all[inbbox],dec_all[inbbox],'b.',label='input')\n",
    "plt.plot(ra[is_primary],dec[is_primary],'r.',label='measured')\n",
    "plt.xlabel('RA (deg)')\n",
    "plt.ylabel('Dec (deg)')\n",
    "plt.legend()"
   ]
  },
  {
   "cell_type": "code",
   "execution_count": null,
   "metadata": {},
   "outputs": [],
   "source": [
    "# To find the completeness, bin magnitudes of input (fake) stars aand compare to the number in binned measred mags:\n",
    "\n",
    "fake_mags_all_hist = np.histogram(data_all['mag'][inbbox], magbins)\n",
    "\n",
    "# Completeness is # found vs. number input in each bin:\n",
    "completeness_all = mags_hist[0] / fake_mags_all_hist[0]\n",
    "completeness_all2 = fake_mags_clean_hist[0] / fake_mags_all_hist[0]"
   ]
  },
  {
   "cell_type": "code",
   "execution_count": null,
   "metadata": {},
   "outputs": [],
   "source": [
    "plt.figure()\n",
    "plt.plot(bin_centers, completeness_all, 'b.-', label='measured magnitudes')\n",
    "plt.plot(bin_centers, completeness_all2, 'r.-', label='all fakes with RA, Dec matches')\n",
    "plt.xlim(17.5,28.0)\n",
    "plt.xlabel('mag')\n",
    "plt.ylabel('completeness')\n",
    "plt.legend(loc='lower left')"
   ]
  }
 ],
 "metadata": {
  "kernelspec": {
   "display_name": "LSST",
   "language": "python",
   "name": "lsst"
  },
  "language_info": {
   "codemirror_mode": {
    "name": "ipython",
    "version": 3
   },
   "file_extension": ".py",
   "mimetype": "text/x-python",
   "name": "python",
   "nbconvert_exporter": "python",
   "pygments_lexer": "ipython3",
   "version": "3.6.2"
  }
 },
 "nbformat": 4,
 "nbformat_minor": 2
}
