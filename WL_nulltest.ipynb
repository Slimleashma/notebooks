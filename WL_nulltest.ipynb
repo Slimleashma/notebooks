{
 "cells": [
  {
   "cell_type": "markdown",
   "metadata": {},
   "source": [
    "Weak Lensing Null Test notebook.  \n",
    "\n",
    "Chris W. and Keith B. for the SV bootcamp.  First version on 05/30/18.\n",
    "\n",
    "In this notebook we use a the HSC 100 sq deg. Deep dataset to test:\n",
    "\n",
    "- The agreement between the PSF model from PSFEX and the measured PSF from stars.\n",
    "- Check shape correllation between stars and galaxies."
   ]
  },
  {
   "cell_type": "code",
   "execution_count": 30,
   "metadata": {},
   "outputs": [],
   "source": [
    "import glob\n",
    "import numpy as np\n",
    "import pandas as pd\n",
    "\n",
    "from collections import OrderedDict\n",
    "\n",
    "import lsst.daf.persistence as daf_persistence\n",
    "\n",
    "import matplotlib.pyplot as pyplot\n",
    "%matplotlib inline"
   ]
  },
  {
   "cell_type": "markdown",
   "metadata": {},
   "source": [
    "Define a function to RA and DEC center of a patch in a tract."
   ]
  },
  {
   "cell_type": "code",
   "execution_count": 22,
   "metadata": {},
   "outputs": [],
   "source": [
    "def getPatchCenter(skymap, tract, patch):\n",
    "    '''\n",
    "    Find the center of the patch BBox in pixel coordinates and convert with tract WCS\n",
    "    An example of the format is:\n",
    "    tract = 1800\n",
    "    patch = '4,4'\n",
    "    '''\n",
    "    \n",
    "    # Convert strings to ints\n",
    "    patch = list(map(int, patch.split(','))) \n",
    "\n",
    "    # Get WCS for this tract\n",
    "    wcs = skymap.generateTract(tract).getWcs()\n",
    "\n",
    "    # Get four corners of patch\n",
    "    bbox = skymap.generateTract(tract).getPatchInfo(patch).getInnerBBox() \n",
    "\n",
    "    # Manually calculate the center of the patch and then return the values converted to degrees\n",
    "    sky = wcs.pixelToSky(np.mean((bbox.getBeginX(), bbox.getEndX())), \n",
    "                         np.mean((bbox.getBeginY(), bbox.getEndY())))\n",
    "    return sky[0].asDegrees(), sky[1].asDegrees()"
   ]
  },
  {
   "cell_type": "markdown",
   "metadata": {},
   "source": [
    "First open the HSC datafiles with the Butler"
   ]
  },
  {
   "cell_type": "code",
   "execution_count": 24,
   "metadata": {},
   "outputs": [
    {
     "name": "stdout",
     "output_type": "stream",
     "text": [
      "Found 1303 patches\n"
     ]
    }
   ],
   "source": [
    "depth = 'DEEP'\n",
    "butler = daf_persistence.Butler('/datasets/hsc/repo/rerun/DM-13666/{:s}/'.format(depth))\n",
    "\n",
    "# In the generation 2 butler it isn't possibe to introspect the metadata for any step after the initial\n",
    "# data ingest.  This code parses the names of the files to build a dataframe for later inspection.\n",
    "\n",
    "infiles = glob.glob('/datasets/hsc/repo/rerun/DM-13666/{:s}/deepCoadd-results/HSC-I/*/*/calexp-*.fits'\n",
    "                    .format(depth))\n",
    "\n",
    "# Get the skymap for the repo so we can understand where the tracks and patches are\n",
    "skymap = butler.get('deepCoadd_skyMap')\n",
    "\n",
    "\n",
    "# Now get the names of the tracts and patches based on the file parsing\n",
    "tract_array = []\n",
    "patch_array = []\n",
    "for i in range(0, len(infiles)):\n",
    "    parts = infiles[i].split('/')\n",
    "    tract_array.append(int(parts[-3]))\n",
    "    patch_array.append(parts[-2])\n",
    "\n",
    "number_patches = len(patch_array)\n",
    "\n",
    "# Create arrays to hold the RA and DEC of the centers of the patches\n",
    "ra_center_array = np.empty(number_patches, dtype=np.float)\n",
    "dec_center_array = np.empty(number_patches, dtype=np.float) \n",
    "\n",
    "# Loop through the patches and figure out where their centers are in degrees\n",
    "for index, (tract, patch) in enumerate(zip(tract_array, patch_array)):\n",
    "    ra_center_array[index], dec_center_array[index] = getPatchCenter(skymap, tract, patch)\n",
    "    \n",
    "print('Found {:d} patches'.format(number_patches))"
   ]
  },
  {
   "cell_type": "code",
   "execution_count": 45,
   "metadata": {},
   "outputs": [],
   "source": [
    "# Make a pandas dataframe with information on each tract and patch\n",
    "data = OrderedDict({'tract': tract_array,\n",
    "        'patch': patch_array, \n",
    "        'ra_center': ra_center_array, \n",
    "        'dec_center': dec_center_array})\n",
    "\n",
    "df_tract_patch = pd.DataFrame(data=data)"
   ]
  }
 ],
 "metadata": {
  "kernelspec": {
   "display_name": "LSST",
   "language": "python",
   "name": "lsst"
  },
  "language_info": {
   "codemirror_mode": {
    "name": "ipython",
    "version": 3
   },
   "file_extension": ".py",
   "mimetype": "text/x-python",
   "name": "python",
   "nbconvert_exporter": "python",
   "pygments_lexer": "ipython3",
   "version": "3.6.2"
  }
 },
 "nbformat": 4,
 "nbformat_minor": 2
}
