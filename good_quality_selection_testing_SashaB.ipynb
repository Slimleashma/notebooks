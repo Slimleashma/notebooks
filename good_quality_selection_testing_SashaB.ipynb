{
 "cells": [
  {
   "cell_type": "code",
   "execution_count": 223,
   "metadata": {},
   "outputs": [],
   "source": [
    "# LSST stack imports\n",
    "from lsst.daf.persistence import Butler\n",
    "import lsst.afw.display as afw_display\n",
    "import matplotlib.pyplot as plt\n",
    "import math\n",
    "%matplotlib inline\n",
    "\n",
    "# Firefly client imports\n",
    "from firefly_client import FireflyClient\n",
    "\n",
    "# Standard libraries in support of Firefly display\n",
    "from urllib.parse import urlparse, urlunparse, ParseResult\n",
    "from IPython.display import display, Markdown\n",
    "import os"
   ]
  },
  {
   "cell_type": "code",
   "execution_count": null,
   "metadata": {},
   "outputs": [],
   "source": [
    "#Coadd or single visit? For now, let's just do a coadd "
   ]
  },
  {
   "cell_type": "code",
   "execution_count": 12,
   "metadata": {},
   "outputs": [
    {
     "name": "stdout",
     "output_type": "stream",
     "text": [
      "aaa\n"
     ]
    }
   ],
   "source": []
  },
  {
   "cell_type": "code",
   "execution_count": 174,
   "metadata": {},
   "outputs": [],
   "source": [
    "data_set = 'UDEEP'# can be WIDE, DEEP, UDEEP\n",
    "sample_datadir = '/datasets/hsc/repo/rerun/DM-13666/' + data_set \n",
    "butler = Butler(sample_datadir)"
   ]
  },
  {
   "cell_type": "code",
   "execution_count": 293,
   "metadata": {},
   "outputs": [
    {
     "name": "stdout",
     "output_type": "stream",
     "text": [
      "It would be great to be able to query butler based on things like, eg, RA, Dec rather than, the tract and patch number\n"
     ]
    }
   ],
   "source": [
    "tract = 8765 #8766\n",
    "patch = '1,2' #'8,3'\n",
    "filters = ['HSC-I','HSC-Y']\n",
    "data_set = 'deepCoadd_forced_src'\n",
    "print('It would be great to be able to query butler based on things like, eg, RA, Dec rather than, the tract and patch number')"
   ]
  },
  {
   "cell_type": "code",
   "execution_count": 299,
   "metadata": {},
   "outputs": [],
   "source": [
    "#deep_coadd_Y = butler.get(data_set, tract = tract, patch = patch, dataId={'filter': 'HSC-Y'})\n",
    "#deep_coadd_I = butler.get(data_set, tract = tract, patch = patch, dataId={'filter': 'HSC-I'})\n",
    "n_filters = len(filters)\n",
    "deep_coadds = [butler.get(data_set, tract = tract, patch = patch, dataId={'filter': filter}) for filter in filters]"
   ]
  },
  {
   "cell_type": "code",
   "execution_count": 330,
   "metadata": {},
   "outputs": [
    {
     "name": "stdout",
     "output_type": "stream",
     "text": [
      "Number of objects in filter HSC-I = 25266\n",
      "Number of objects in filter HSC-Y = 25266\n"
     ]
    }
   ],
   "source": [
    "for i in range(len(filters)):\n",
    "    print ('Number of objects in filter ' + filters[i] + ' = ' + str(len(deep_coadds[i])))\n",
    "#print (deep_coadd_I)\n",
    "#print (deep_coadd_Y)\n",
    "n_raw_objects = len(deep_coadds[0])"
   ]
  },
  {
   "cell_type": "code",
   "execution_count": 304,
   "metadata": {},
   "outputs": [],
   "source": [
    "deep_coadd_tables = [deep_coadd.asAstropy() for deep_coadd in deep_coadds]"
   ]
  },
  {
   "cell_type": "code",
   "execution_count": 305,
   "metadata": {},
   "outputs": [
    {
     "name": "stdout",
     "output_type": "stream",
     "text": [
      "<class 'astropy.table.table.Table'>\n"
     ]
    }
   ],
   "source": [
    "#deep_coadd_I_table =  deep_coadd_I.asAstropy()\n",
    "#deep_coadd_Y_table =  deep_coadd_Y.asAstropy()\n",
    "#print (deep_coadd[556])\n",
    "#print (deep_coadd[556]['id'])\n",
    "#print (deep_coadd[556].schema)\n",
    "#print (type(deep_coadd_Y_table))\n",
    "print (type(deep_coadd_I_table))\n",
    "#print (deep_coadd_table.info())\n",
    "#print(deep_coadd_Y_table.info())\n",
    "#print(deep_coadd_I_table.info())"
   ]
  },
  {
   "cell_type": "code",
   "execution_count": null,
   "metadata": {},
   "outputs": [],
   "source": []
  },
  {
   "cell_type": "code",
   "execution_count": 240,
   "metadata": {},
   "outputs": [],
   "source": [
    "ras_I = deep_coadd_I_table['coord_ra']\n",
    "decs_I = deep_coadd_I_table['coord_dec']\n",
    "#Note that the syntax for these bad pixels is different from \n",
    "# that listed on page 6 of the paper 'The Hyper Suprime-Cam Software Pipeline' \n",
    "#\n",
    "I_bad_pixel_flags = deep_coadd_I_table['base_PixelFlags_flag_bad']\n",
    "Y_cr_pixel_flags=deep_coadd_I_table['base_PixelFlags_flag_cr']"
   ]
  },
  {
   "cell_type": "code",
   "execution_count": 231,
   "metadata": {},
   "outputs": [
    {
     "data": {
      "text/plain": [
       "False"
      ]
     },
     "execution_count": 231,
     "metadata": {},
     "output_type": "execute_result"
    }
   ],
   "source": [
    "math.nan > 0"
   ]
  },
  {
   "cell_type": "code",
   "execution_count": 311,
   "metadata": {},
   "outputs": [],
   "source": [
    "#Do some flag definitions\n",
    "#flags_to_reject_on_suffixes = ['flag_bad', 'flag_cr', 'flag_offimage','flag_edge', 'flag_saturated', 'flag_rejected', 'flag_interpolated']\n",
    "flags_to_reject_on_recommended= ['base_PixelFlags_flag_bad', 'base_PixelFlags_flag_cr', 'base_PixelFlags_flag_offimage','base_PixelFlags_flag_edge', 'base_PixelFlags_flag_saturated', 'base_PixelFlags_flag_rejected', 'base_PixelFlags_flag_interpolated']\n",
    "flags_to_reject_on_all = ['base_PixelFlags_flag_bad', 'base_PixelFlags_flag_cr', 'base_PixelFlags_flag_offimage','base_PixelFlags_flag_edge', 'base_PixelFlags_flag_saturated', 'base_PixelFlags_flag_rejected', 'base_PixelFlags_flag_interpolated']"
   ]
  },
  {
   "cell_type": "code",
   "execution_count": 312,
   "metadata": {},
   "outputs": [
    {
     "name": "stdout",
     "output_type": "stream",
     "text": [
      "Choose the flags on which you wish to reject observations. \n",
      "Here are your options: \n",
      "['base_PixelFlags_flag_bad', 'base_PixelFlags_flag_cr', 'base_PixelFlags_flag_offimage', 'base_PixelFlags_flag_edge', 'base_PixelFlags_flag_saturated', 'base_PixelFlags_flag_rejected', 'base_PixelFlags_flag_interpolated']\n",
      "Here are our suggestions:\n",
      "['base_PixelFlags_flag_bad', 'base_PixelFlags_flag_cr', 'base_PixelFlags_flag_offimage', 'base_PixelFlags_flag_edge', 'base_PixelFlags_flag_saturated', 'base_PixelFlags_flag_rejected', 'base_PixelFlags_flag_interpolated']\n"
     ]
    }
   ],
   "source": [
    "print ('Choose the flags on which you wish to reject observations. ')\n",
    "print ('Here are your options: ')\n",
    "print (flags_to_reject_on_all)\n",
    "print ('Here are our suggestions:')\n",
    "print (flags_to_reject_on_recommended)\n"
   ]
  },
  {
   "cell_type": "code",
   "execution_count": null,
   "metadata": {},
   "outputs": [],
   "source": [
    "######ENTER YOUR CHOICE OF REJECTION FLAGS HERE##### \n",
    "flags_to_reject_on = ['base_PixelFlags_flag_bad', 'base_PixelFlags_flag_cr', 'base_PixelFlags_flag_offimage','base_PixelFlags_flag_edge', 'base_PixelFlags_flag_saturated', 'base_PixelFlags_flag_rejected', 'base_PixelFlags_flag_interpolated']"
   ]
  },
  {
   "cell_type": "code",
   "execution_count": 331,
   "metadata": {},
   "outputs": [
    {
     "name": "stdout",
     "output_type": "stream",
     "text": [
      "[True, True]\n",
      "25266\n"
     ]
    }
   ],
   "source": [
    "print ([any([deep_coadd_table[flag][0] for flag in flags_to_reject_on]) for deep_coadd_table in deep_coadd_tables] )\n",
    "print (n_raw_objects)"
   ]
  },
  {
   "cell_type": "code",
   "execution_count": 154,
   "metadata": {},
   "outputs": [],
   "source": [
    "#print (deep_coadd_table['base_PixelFlags_flag_edge'])"
   ]
  },
  {
   "cell_type": "code",
   "execution_count": 156,
   "metadata": {},
   "outputs": [
    {
     "name": "stdout",
     "output_type": "stream",
     "text": [
      "['base_PixelFlags_flag_bad', 'base_PixelFlags_flag_cr', 'base_PixelFlags_flag_offimage', 'base_PixelFlags_flag_edge', 'base_PixelFlags_flag_saturated', 'base_PixelFlags_flag_rejected']\n"
     ]
    },
    {
     "data": {
      "text/plain": [
       "[False, False, False, False, False, False]"
      ]
     },
     "execution_count": 156,
     "metadata": {},
     "output_type": "execute_result"
    }
   ],
   "source": []
  },
  {
   "cell_type": "code",
   "execution_count": 334,
   "metadata": {},
   "outputs": [],
   "source": [
    "#Specify the flags that we wish to reject on, and then combine them together so that if any flag is on, \n",
    "# the object is marked for rejection. \n",
    "#flags_to_reject_on_suffixes = ['flag_bad', 'flag_cr', 'flag_offimage','flag_edge', 'flag_saturated', 'flag_rejected', 'flag_interpolated']\n",
    "#flags_to_reject_on = ['base_PixelFlags_' + suffix for suffix in flags_to_reject_on_suffixes]\n",
    "#base_PixelFlags_I_master_rejection = ([any([deep_coadd_I_table[rej_flag][i] for rej_flag in flags_to_reject_on]) for i in range(len(deep_coadd_I_table))])\n",
    "#base_PixelFlags_Y_master_rejection  = ([any([deep_coadd_Y_table[rej_flag][i] for rej_flag in flags_to_reject_on]) for i in range(len(deep_coadd_Y_table))])\n",
    "\n",
    "total_rej_flags_by_filters = [[any([deep_coadd_table[flag][i] for flag in flags_to_reject_on]) for i in range(n_raw_objects)] \n",
    "                                              for deep_coadd_table in deep_coadd_tables] \n",
    "master_rejection_flags = [any([total_rej_flags[i] for total_rej_flags in total_rej_flags_by_filters]) for i in range(n_raw_objects)]\n"
   ]
  },
  {
   "cell_type": "code",
   "execution_count": 337,
   "metadata": {},
   "outputs": [],
   "source": [
    "#print (master_rejection_flags) "
   ]
  },
  {
   "cell_type": "code",
   "execution_count": null,
   "metadata": {},
   "outputs": [],
   "source": [
    "print ('There are ' + str(len([elem for elem in master_rejection_flags if elem == False])) + ' good objects remaining. ') \n",
    "#print(base_PixelFlags_Y_master_rejection)\n",
    "#print(base_PixelFlags_I_master_rejection)"
   ]
  },
  {
   "cell_type": "code",
   "execution_count": 349,
   "metadata": {},
   "outputs": [
    {
     "name": "stdout",
     "output_type": "stream",
     "text": [
      "len(good_objects_by_filter[0]) = 8242\n",
      "len(good_objects_by_filter[1]) = 8242\n",
      "We have now parsed the given object lists by the specified flags.\n",
      "If you JUST want objects sliced by the given flags, take the good_objects_by_filter array. \n",
      "But if you want to also cut based on whether an object is a star or a galaxy, then continue onward!\n"
     ]
    }
   ],
   "source": [
    "#Now define a NEW astropy table and fill it in with those objects that are not rejected by the flag.  \n",
    "# These are just objects not rejected based on the user's flags.\n",
    "# They might still not be good in all respects.  \n",
    "#good_I_objects = deep_coadd_I_table[[not(flag) for flag in base_PixelFlags_all_master_rejection]]\n",
    "#good_Y_objects = deep_coadd_Y_table[[not(flag) for flag in base_PixelFlags_all_master_rejection]]\n",
    "good_objects_by_filter = [deep_coadd_table[[not(flag) for flag in master_rejection_flags]] \n",
    "                         for deep_coadd_table in deep_coadd_tables]\n",
    "print ('len(good_objects_by_filter[0]) = ' + str(len(good_objects_by_filter[0])))\n",
    "print ('len(good_objects_by_filter[1]) = ' + str(len(good_objects_by_filter[1])))\n",
    "\n",
    "print ('We have now parsed the given object lists by the specified flags.')\n",
    "print  ('If you JUST want objects sliced by the given flags, take the good_objects_by_filter array. ')\n",
    "print ('But if you want to also cut based on whether an object is a star or a galaxy, then continue onward!') "
   ]
  },
  {
   "cell_type": "code",
   "execution_count": 343,
   "metadata": {},
   "outputs": [
    {
     "name": "stdout",
     "output_type": "stream",
     "text": [
      "8242\n",
      "2148\n",
      "4523\n"
     ]
    }
   ],
   "source": [
    "\n",
    "extendedness_by_filter = [good_objects['base_ClassificationExtendedness_value'] \n",
    "                          for good_objects in good_objects_by_filter]\n",
    "#extend_Y = good_Y_objects['base_ClassificationExtendedness_value']\n",
    "#Note that is_star_I is NOT the same as the opposite of the is_galaxy_I\n",
    "# This is because that the extendness are sometimes nans, which we treat as neither \n",
    "#   stars nor galaxies.  \n",
    "is_star_by_filter = [[extendedness <= 0 for extendedness in extendednesses] \n",
    "                      for extendednesses in extendedness_by_filter] \n",
    "is_galaxy_by_filter = [[extendedness > 0 for extendedness in extendednesses] \n",
    "                      for extendednesses in extendedness_by_filter] \n",
    "\n",
    "is_star_I = [extendedness <= 0 for extendedness in extend_I ]\n",
    "is_galaxy_I = [extendedness > 0 for extendedness in extend_I ]\n",
    "is_star_Y = [extendedness <= 0 for extendedness in extend_Y ]\n",
    "is_galaxy_Y = [extendedness >= 0 for extendedness in extend_Y ]\n",
    "\n",
    "good_stars_by_filter = [good_objects_by_filter[i][is_star_by_filter[i]] for i in range(n_filters)] \n",
    "good_galaxies_by_filter = [good_objects_by_filter[i][is_galaxy_by_filter[i]] for i in range(n_filters)] \n",
    "stars_Y = good_Y_objects[is_star_Y]\n",
    "\n",
    "galaxies_Y = good_Y_objects[is_galaxy_Y]\n",
    "#print (stars_I)\n",
    "#print (galaxies_I)\n",
    "#print (stars_Y)\n",
    "print (len(is_galaxy_I))\n",
    "print (len(stars_I))\n",
    "print (len(galaxies_I))\n",
    "\n",
    "#print ([math.isnan(extend_I[i]) == deep_coadd_I_table['base_PsfFlux_flag'][i] for i in range(len(deep_coadd_I_table['base_PsfFlux_flag']))])\n",
    "#print ([math.isnan(extend_Y[i]) == deep_coadd_Y_table['base_PsfFlux_flag'][i] for i in range(len(deep_coadd_Y_table['base_PsfFlux_flag']))])"
   ]
  },
  {
   "cell_type": "code",
   "execution_count": 347,
   "metadata": {},
   "outputs": [
    {
     "name": "stdout",
     "output_type": "stream",
     "text": [
      "For filter HSC-I, there are: \n",
      "2148 good stars.\n",
      "4523 good galaxies.\n",
      "For filter HSC-Y, there are: \n",
      "2016 good stars.\n",
      "4650 good galaxies.\n"
     ]
    }
   ],
   "source": [
    "for i in range(n_filters):\n",
    "    print ('For filter ' + str(filters[i]) + ', there are: ')\n",
    "    print (str(len(good_stars_by_filter[i])) + ' good stars.')\n",
    "    print (str(len(good_galaxies_by_filter[i])) + ' good galaxies.')"
   ]
  },
  {
   "cell_type": "code",
   "execution_count": 167,
   "metadata": {},
   "outputs": [],
   "source": [
    "base_PixelFlags_master_rejection\n",
    "refined_objects = [deep_coadd_table[i] for i in range(len(deep_coadd_table)) if not(base_PixelFlags_master_rejection[i])] \n",
    "#refined_objects = [1 for i in range(len(deep_coadd_table)) if not(base_PixelFlags_master_rejection[i])] \n"
   ]
  },
  {
   "cell_type": "code",
   "execution_count": 171,
   "metadata": {},
   "outputs": [
    {
     "name": "stdout",
     "output_type": "stream",
     "text": [
      "492\n"
     ]
    }
   ],
   "source": [
    "print (len(refined_objects[0])) "
   ]
  },
  {
   "cell_type": "code",
   "execution_count": 74,
   "metadata": {},
   "outputs": [
    {
     "data": {
      "image/png": "[encoded data removed]",
      "text/plain": [
       "<matplotlib.figure.Figure at 0x7f236bd99ac8>"
      ]
     },
     "metadata": {},
     "output_type": "display_data"
    }
   ],
   "source": [
    "plt.scatter(ras, decs)\n",
    "plt.show() "
   ]
  },
  {
   "cell_type": "code",
   "execution_count": null,
   "metadata": {},
   "outputs": [],
   "source": [
    "user_specs = {portion_of_sky:[], object_type:[], object_qualities:[],flags_to_not_cut_on:[]}"
   ]
  },
  {
   "cell_type": "code",
   "execution_count": 153,
   "metadata": {},
   "outputs": [
    {
     "name": "stdout",
     "output_type": "stream",
     "text": [
      "[True, True]\n"
     ]
    }
   ],
   "source": [
    "test = [False, True, True, False]\n",
    "print ([elem for elem in test if elem == True ])"
   ]
  },
  {
   "cell_type": "code",
   "execution_count": null,
   "metadata": {},
   "outputs": [],
   "source": []
  }
 ],
 "metadata": {
  "kernelspec": {
   "display_name": "LSST",
   "language": "python",
   "name": "lsst"
  },
  "language_info": {
   "codemirror_mode": {
    "name": "ipython",
    "version": 3
   },
   "file_extension": ".py",
   "mimetype": "text/x-python",
   "name": "python",
   "nbconvert_exporter": "python",
   "pygments_lexer": "ipython3",
   "version": "3.6.2"
  }
 },
 "nbformat": 4,
 "nbformat_minor": 2
}
