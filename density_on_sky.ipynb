{
 "cells": [
  {
   "cell_type": "code",
   "execution_count": 188,
   "metadata": {},
   "outputs": [],
   "source": [
    "import healpy as hp\n",
    "import numpy as np\n",
    "import os\n",
    "from lsst.daf.persistence import Butler\n",
    "repo_dir = '/datasets/hsc/repo/rerun/DM-13666/WIDE'\n",
    "butler = Butler(repo_dir)\n",
    "#/datasets/hsc/repo/rerun/DM-13666/DEEP/deepCoadd-results/HSC-R"
   ]
  },
  {
   "cell_type": "code",
   "execution_count": 189,
   "metadata": {},
   "outputs": [
    {
     "name": "stdout",
     "output_type": "stream",
     "text": [
      "resolution 1.311396e-02 sq degrees\n"
     ]
    }
   ],
   "source": [
    "nside = 512\n",
    "npix = hp.nside2npix(nside)\n",
    "print('resolution %e sq degrees' % (4.0*np.pi*(180.0/np.pi)**2/npix))"
   ]
  },
  {
   "cell_type": "code",
   "execution_count": 190,
   "metadata": {},
   "outputs": [],
   "source": [
    "pixel_counts = np.zeros(npix, dtype=float)"
   ]
  },
  {
   "cell_type": "code",
   "execution_count": 191,
   "metadata": {},
   "outputs": [],
   "source": [
    "sky_map = butler.get('deepCoadd_skyMap')"
   ]
  },
  {
   "cell_type": "code",
   "execution_count": 192,
   "metadata": {},
   "outputs": [],
   "source": [
    "catalog_name = 'deepCoadd_forced_src'\n",
    "ref_name = 'deepCoadd_ref'\n",
    "filter_name = 'HSC-R'"
   ]
  },
  {
   "cell_type": "code",
   "execution_count": 193,
   "metadata": {},
   "outputs": [],
   "source": [
    "tract_root = os.path.join(repo_dir, 'deepCoadd-results', filter_name)\n",
    "tract_list = os.listdir(tract_root)\n",
    "tract_list = np.array(tract_list).astype(int)"
   ]
  },
  {
   "cell_type": "code",
   "execution_count": null,
   "metadata": {},
   "outputs": [],
   "source": [
    "valid_data_id = []\n",
    "for tract_id in tract_list:\n",
    "    tract = sky_map[tract_id]\n",
    "    patches = tract.getNumPatches()\n",
    "    for ip1 in range(patches[0]):\n",
    "        for ip2 in range(patches[1]):\n",
    "            dataId = {'filter':filter_name,\n",
    "                      'tract':tract_id,\n",
    "                      'patch':'%d,%d' % (ip1, ip2)}\n",
    "            if not butler.datasetExists(catalog_name, dataId=dataId):\n",
    "                continue\n",
    "            else:\n",
    "                valid_data_id.append(dataId)"
   ]
  },
  {
   "cell_type": "code",
   "execution_count": null,
   "metadata": {},
   "outputs": [],
   "source": [
    "ref_cat = butler.get(ref_name, dataId=valid_data_id[0])\n",
    "src_cat = butler.get(catalog_name, dataId=valid_data_id[0])"
   ]
  },
  {
   "cell_type": "code",
   "execution_count": null,
   "metadata": {},
   "outputs": [],
   "source": [
    "len(ref_cat)"
   ]
  },
  {
   "cell_type": "code",
   "execution_count": null,
   "metadata": {},
   "outputs": [],
   "source": [
    "len(src_cat)"
   ]
  },
  {
   "cell_type": "code",
   "execution_count": null,
   "metadata": {},
   "outputs": [],
   "source": [
    "np.testing.assert_array_equal(ref_cat['coord_ra'], src_cat['coord_ra'])"
   ]
  },
  {
   "cell_type": "code",
   "execution_count": null,
   "metadata": {},
   "outputs": [],
   "source": [
    "np.testing.assert_array_equal(ref_cat['coord_dec'], src_cat['coord_dec'])"
   ]
  },
  {
   "cell_type": "code",
   "execution_count": null,
   "metadata": {},
   "outputs": [],
   "source": [
    "ref_cat['detect_isPrimary']"
   ]
  },
  {
   "cell_type": "code",
   "execution_count": null,
   "metadata": {},
   "outputs": [],
   "source": [
    "ref_cat.schema.find('base_PsfFlux_flux')"
   ]
  },
  {
   "cell_type": "code",
   "execution_count": null,
   "metadata": {},
   "outputs": [],
   "source": [
    "#src_cat.schema.getNames()"
   ]
  },
  {
   "cell_type": "code",
   "execution_count": null,
   "metadata": {},
   "outputs": [],
   "source": [
    "src_val = src_cat['base_ClassificationExtendedness_value']\n",
    "ref_val = ref_cat['base_ClassificationExtendedness_value']\n",
    "flux_flag = ref_cat['modelfit_CModel_flag']\n",
    "src_psf_flux = src_cat['base_PsfFlux_flux']\n",
    "src_model_flux = src_cat['modelfit_CModel_flux']\n",
    "ref_psf_flux = ref_cat['base_PsfFlux_flux']\n",
    "ref_model_flux =ref_cat['modelfit_CModel_flux']\n",
    "\n",
    "src_ratio = src_psf_flux/src_model_flux\n",
    "ref_ratio = ref_psf_flux/ref_model_flux\n",
    "for ii in range(len(src_cat)):\n",
    "    if src_val[ii] != ref_val[ii] and not np.isnan(src_val[ii]) and \\\n",
    "    not np.isnan(ref_val[ii]):\n",
    "        print(src_val[ii], ref_val[ii],\n",
    "              src_ratio[ii], ref_ratio[ii])"
   ]
  },
  {
   "cell_type": "code",
   "execution_count": null,
   "metadata": {},
   "outputs": [],
   "source": [
    "help(hp.ang2pix)"
   ]
  },
  {
   "cell_type": "code",
   "execution_count": null,
   "metadata": {},
   "outputs": [],
   "source": [
    "import time\n",
    "ct = 0\n",
    "pixel_counts = np.zeros(npix, dtype=float)\n",
    "t_start = time.time()\n",
    "for dataId in valid_data_id:\n",
    "    ref_cat = butler.get(ref_name, dataId=dataId)\n",
    "    is_primary = ref_cat['detect_isPrimary']\n",
    "    is_star = ref_cat['base_ClassificationExtendedness_value'] < 0.99\n",
    "    valid = is_primary & is_star\n",
    "    data = ref_cat[valid]\n",
    "    pixel_number = hp.ang2pix(nside,\n",
    "                              np.degrees(data['coord_ra']),\n",
    "                              np.degrees(data['coord_dec']),\n",
    "                              lonlat=True)\n",
    "\n",
    "    l_pixel_dexes, l_pixel_counts = np.unique(pixel_number,\n",
    "                                              return_counts=True)\n",
    "    pixel_counts[l_pixel_dexes]+=l_pixel_counts\n",
    "    ct += 1\n",
    "    if ct %10 ==0:\n",
    "        duration = time.time()-t_start\n",
    "        predict = len(valid_data_id)*duration/ct\n",
    "        print('ran %d of %d dataIds; took %e sec; total should take %e sec' %\n",
    "              (ct, len(valid_data_id), duration, predict))"
   ]
  },
  {
   "cell_type": "code",
   "execution_count": null,
   "metadata": {},
   "outputs": [],
   "source": [
    "%matplotlib inline"
   ]
  },
  {
   "cell_type": "code",
   "execution_count": null,
   "metadata": {},
   "outputs": [],
   "source": [
    "import matplotlib.pyplot as plt"
   ]
  },
  {
   "cell_type": "code",
   "execution_count": null,
   "metadata": {},
   "outputs": [],
   "source": [
    "valid_pixels = np.where(pixel_counts>0.0)"
   ]
  },
  {
   "cell_type": "code",
   "execution_count": null,
   "metadata": {},
   "outputs": [],
   "source": [
    "ra_arr, dec_arr = hp.pix2ang(nside, range(len(pixel_counts)),lonlat=True)"
   ]
  },
  {
   "cell_type": "code",
   "execution_count": null,
   "metadata": {},
   "outputs": [],
   "source": [
    "valid_ra = ra_arr[valid_pixels]\n",
    "valid_dec = dec_arr[valid_pixels]\n",
    "valid_counts = pixel_counts[valid_pixels]\n",
    "\n",
    "ra_min = valid_ra.min()\n",
    "ra_max = valid_ra.max()\n",
    "dec_min = valid_dec.min()\n",
    "dec_max = valid_dec.max()"
   ]
  },
  {
   "cell_type": "code",
   "execution_count": null,
   "metadata": {},
   "outputs": [],
   "source": [
    "print(ra_min,ra_max)\n",
    "print(dec_min,dec_max)"
   ]
  },
  {
   "cell_type": "code",
   "execution_count": null,
   "metadata": {},
   "outputs": [],
   "source": [
    "plt.figsize=(30,30)\n",
    "\n",
    "plt.scatter(valid_ra, valid_dec, c=valid_counts)\n",
    "plt.xlabel('ra')\n",
    "plt.ylabel('dec')\n",
    "plt.colorbar()"
   ]
  },
  {
   "cell_type": "code",
   "execution_count": null,
   "metadata": {},
   "outputs": [],
   "source": [
    "cart_view = hp.mollview(pixel_counts, cbar=False,\n",
    "                        #lonra=[ra_min,ra_max],\n",
    "                        #latra=[dec_min,dec_max],\n",
    "                        flip='astro',\n",
    "                        return_projected_map=True)\n",
    "\n",
    "\n",
    "plt.imshow(cart_view, extent=[ra_min, ra_max, dec_min, dec_max],\n",
    "           origin='lower', interpolation='none')\n",
    "plt.colorbar()\n",
    "ax = plt.gca()\n",
    "plt.xlabel('ra')\n",
    "ax.set_ylabel('dec')\n",
    "xticks = np.arange(ra_min, ra_max, 0.1*(ra_max-ra_min))\n",
    "print(cart_view.shape)\n",
    "print(cart_view.shape[0]*cart_view.shape[1], npix)\n",
    "print(cart_view)"
   ]
  },
  {
   "cell_type": "code",
   "execution_count": null,
   "metadata": {},
   "outputs": [],
   "source": [
    "hp.mollview(pixel_counts, cbar=False,\n",
    "                        flip='astro',\n",
    "                        return_projected_map=True)\n",
    "hp.graticule()\n",
    "ax = plt.gca()\n",
    "im = ax.get_images()[0]\n",
    "plt.colorbar(im)"
   ]
  },
  {
   "cell_type": "code",
   "execution_count": null,
   "metadata": {},
   "outputs": [],
   "source": [
    "len(valid[0])"
   ]
  },
  {
   "cell_type": "code",
   "execution_count": null,
   "metadata": {},
   "outputs": [],
   "source": [
    "len(pixel_counts)"
   ]
  },
  {
   "cell_type": "code",
   "execution_count": null,
   "metadata": {},
   "outputs": [],
   "source": [
    "np.median(pixel_counts[valid])"
   ]
  },
  {
   "cell_type": "code",
   "execution_count": null,
   "metadata": {},
   "outputs": [],
   "source": [
    "#help(hp.gnomview)"
   ]
  },
  {
   "cell_type": "code",
   "execution_count": null,
   "metadata": {},
   "outputs": [],
   "source": [
    "help(hp.projaxes)"
   ]
  },
  {
   "cell_type": "code",
   "execution_count": null,
   "metadata": {},
   "outputs": [],
   "source": [
    "hp.nside2npix(16)"
   ]
  },
  {
   "cell_type": "code",
   "execution_count": null,
   "metadata": {},
   "outputs": [],
   "source": [
    "help(hp.graticule)"
   ]
  },
  {
   "cell_type": "code",
   "execution_count": null,
   "metadata": {},
   "outputs": [],
   "source": []
  }
 ],
 "metadata": {
  "kernelspec": {
   "display_name": "LSST",
   "language": "python",
   "name": "lsst"
  },
  "language_info": {
   "codemirror_mode": {
    "name": "ipython",
    "version": 3
   },
   "file_extension": ".py",
   "mimetype": "text/x-python",
   "name": "python",
   "nbconvert_exporter": "python",
   "pygments_lexer": "ipython3",
   "version": "3.6.2"
  }
 },
 "nbformat": 4,
 "nbformat_minor": 2
}
