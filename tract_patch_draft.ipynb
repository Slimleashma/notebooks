{
 "cells": [
  {
   "cell_type": "code",
   "execution_count": 454,
   "metadata": {},
   "outputs": [],
   "source": [
    "%matplotlib inline\n",
    "import numpy as np\n",
    "from lsst.daf.persistence import Butler\n",
    "butler = Butler('/datasets/hsc/repo/rerun/DM-13666/DEEP')"
   ]
  },
  {
   "cell_type": "code",
   "execution_count": 455,
   "metadata": {},
   "outputs": [],
   "source": [
    "sky_map = butler.get('deepCoadd_skyMap')"
   ]
  },
  {
   "cell_type": "code",
   "execution_count": 456,
   "metadata": {},
   "outputs": [],
   "source": [
    "import numpy as np\n",
    "\n",
    "class ArbitrarySkyQuery(object):\n",
    "\n",
    "    def __init__(self, butler):\n",
    "    \n",
    "        self.butler = butler\n",
    "        self.sky_map = self.butler.get('deepCoadd_skyMap')\n",
    "    \n",
    "        # an array of the centers of all tracts (Cartesian)\n",
    "        self.tract_center_array = np.zeros((len(sky_map), 3), dtype=float)\n",
    "\n",
    "        # an array of the angular radii of all tracts (in degrees)\n",
    "        self.tract_radius_array = np.zeros(len(sky_map), dtype=float)\n",
    "\n",
    "        # a dict keyed on tract id that gives the cartesian centers\n",
    "        # of all patches\n",
    "        self.tract_patch_centers = {}\n",
    "        self.tract_patch_radii = {}\n",
    "\n",
    "        # a dict that will associate the integer id of a patch\n",
    "        # in self.tract_patch_center_dict[tract_id] with the\n",
    "        # (ix, iy) identity of the patch\n",
    "        self.tract_patch_lookup = {}\n",
    "        self.tract_patch_initialized = {}\n",
    "\n",
    "        for ii in range(len(self.sky_map)):\n",
    "            tract = self.sky_map[ii]\n",
    "            wcs = tract.getWcs()\n",
    "            bbox = tract.getBBox()\n",
    "\n",
    "            tract_center = np.array(tract.getCtrCoord().getVector())                          \n",
    "               \n",
    "            dist_max = None\n",
    "            for xx in [bbox.getMinX(), bbox.getMaxX()]:\n",
    "                for yy in [bbox.getMinY(), bbox.getMaxY()]:\n",
    "                    sky_pt = np.array(wcs.pixelToSky(xx, yy).getVector())\n",
    "                    dp = np.dot(tract_center, sky_pt)\n",
    "                    rr = np.abs(np.arccos(dp))\n",
    "                    if dist_max is None or rr>dist_max:\n",
    "                        dist_max = rr\n",
    "            self.tract_radius_array[ii] = np.degrees(dist_max)\n",
    " \n",
    "            self.tract_center_array[ii] = tract_center\n",
    "            patch_grid_dim = tract.getNumPatches()\n",
    "            self.tract_patch_lookup[ii] = []\n",
    "            self.tract_patch_initialized[ii] = False\n",
    "            ct = 0\n",
    "            for i1 in range(patch_grid_dim[0]):\n",
    "                for i2 in range(patch_grid_dim[1]):\n",
    "                    self.tract_patch_lookup[ii].append((i1,i2))\n",
    "                    ct += 1\n",
    "            self.tract_patch_lookup[ii] = np.array(self.tract_patch_lookup[ii])\n",
    "            self.tract_patch_centers[ii] = np.zeros((ct,3), dtype=float)\n",
    "            self.tract_patch_radii[ii] = np.zeros(ct, dtype=float)\n",
    "\n",
    "    def find_tracts(self, ra, dec, angular_radius):\n",
    "        \"\"\"\n",
    "        ra, dec, angular radius are all in degrees\n",
    "        \"\"\"\n",
    "        ra_rad = np.radians(ra)\n",
    "        dec_rad = np.radians(dec)\n",
    "        xyz = np.array([np.cos(dec_rad)*np.cos(ra_rad),\n",
    "                        np.cos(dec_rad)*np.sin(ra_rad),\n",
    "                        np.sin(dec_rad)])\n",
    "        dot_prod = np.dot(self.tract_center_array, xyz)\n",
    "        valid = np.where(dot_prod>np.cos(np.radians(angular_radius +\n",
    "                                                    self.tract_radius_array)))\n",
    "\n",
    "        print('valid dot')\n",
    "        print(dot_prod[valid])\n",
    "        for i_valid in valid[0]:\n",
    "            print(np.dot(xyz,self.tract_center_array[i_valid]))\n",
    "        return valid\n",
    "    \n",
    "    def _initialize_patch_coords(self, tract_id):\n",
    "        \"\"\"\n",
    "        compute the centers and radii for the patches in a tract\n",
    "\n",
    "        tract_id is an integer denoting the tract we are dealing with\n",
    "        \"\"\"\n",
    "        if self.tract_patch_initialized[tract_id]:\n",
    "            return\n",
    "        print('initializing ',tract_id)\n",
    "        tract = self.sky_map[tract_id]\n",
    "        wcs = tract.getWcs()\n",
    "\n",
    "        xyz_array = np.zeros((4,3), dtype=float)\n",
    "        for ii in range(len(self.tract_patch_lookup[tract_id])):\n",
    "            patch_id = self.tract_patch_lookup[tract_id][ii]\n",
    "            patch = tract[patch_id[0], patch_id[1]]\n",
    "            bbox = patch.getOuterBBox()\n",
    "            ct = 0\n",
    "            for xx in [bbox.getMinX(), bbox.getMaxX()]:\n",
    "                for yy in [bbox.getMinY(), bbox.getMaxY()]:\n",
    "                    sky = np.array(wcs.pixelToSky(xx, yy).getVector())\n",
    "                    xyz_array[ct] = sky\n",
    "                    ct += 1\n",
    "            center_xyz = np.array([np.mean(xyz_array[:,0]),\n",
    "                                   np.mean(xyz_array[:,1]),\n",
    "                                   np.mean(xyz_array[:,2])])\n",
    "            self.tract_patch_centers[tract_id][ii] = center_xyz\n",
    "            \n",
    "            dist_max = None\n",
    "            for xyz in xyz_array:\n",
    "                dp = np.dot(xyz, center_xyz)\n",
    "                rr = np.degrees(np.abs(np.arccos(dp)))\n",
    "                if dist_max is None or rr> dist_max:\n",
    "                    dist_max = rr\n",
    "            self.tract_patch_radii[tract_id][ii] = dist_max\n",
    "\n",
    "        self.tract_patch_initialized[tract_id] = True\n",
    "    \n",
    "    def find_patches(self, ra, dec, angular_distance, tract_id):\n",
    "        \"\"\"\n",
    "        ra -- ra of boresite in degrees\n",
    "        dec -- dec of boresite in degrees\n",
    "        angular_distance -- radius of patch of sky in degrees\n",
    "        tract_id -- integer ID of the tract being considered\n",
    "        \n",
    "        returns:\n",
    "        --------\n",
    "        A 2-D list.  Each row contains the ix, iy indices of\n",
    "        patches that may overlap the region\n",
    "        \"\"\"\n",
    "        if not self.tract_patch_initialized[tract_id]:\n",
    "            self._initialize_patch_coords(tract_id)\n",
    "        \n",
    "        ra_rad = np.radians(ra)\n",
    "        dec_rad = np.radians(dec)\n",
    "        xyz = np.array([np.cos(dec_rad)*np.cos(ra_rad),\n",
    "                        np.cos(dec_rad)*np.sin(ra_rad),\n",
    "                        np.sin(dec_rad)])\n",
    "        \n",
    "        patch_centers = self.tract_patch_centers[tract_id]\n",
    "        patch_radii = self.tract_patch_radii[tract_id]\n",
    "        valid = np.where(np.dot(patch_centers, xyz) >\n",
    "                         np.cos(np.radians(patch_radii+angular_distance)))\n",
    "        return self.tract_patch_lookup[tract_id][valid]\n",
    "    \n",
    "    def get_forced_sources(self, ra, dec, angular_distance):\n",
    "        valid_tracts = self.find_tracts(ra, dec, angular_distance)\n",
    "        patches = {}\n",
    "        output = {}\n",
    "        ra_rad = np.radians(ra)\n",
    "        dec_rad = np.radians(dec)\n",
    "        xyz_pointing = np.array([np.cos(dec_rad)*np.cos(ra_rad),\n",
    "                                 np.cos(dec_rad)*np.sin(ra_rad),\n",
    "                                 np.sin(dec_rad)])\n",
    "        for tract_id in valid_tracts[0]:\n",
    "            patches = self.find_patches(ra, dec, angular_distance, tract_id)\n",
    "            if len(patches)>0:\n",
    "                for patch in patches:\n",
    "                    dataId = {'filter':'HSC-R', 'tract':tract_id,\n",
    "                              'patch':'%d,%d' % (patch[0],patch[1])}\n",
    "                    if self.butler.datasetExists('deepCoadd_forced_src', dataId=dataId):\n",
    "                        data = butler.get('deepCoadd_forced_src', dataId=dataId)\n",
    "                        cos_ra = np.cos(data['coord_ra'])\n",
    "                        cos_dec = np.cos(data['coord_dec'])\n",
    "                        sin_ra = np.sin(data['coord_ra'])\n",
    "                        sin_dec = np.sin(data['coord_dec'])\n",
    "                        xyz_arr = np.array([cos_dec*cos_ra,\n",
    "                                            cos_dec*sin_ra,\n",
    "                                            sin_dec]).transpose()\n",
    "                        dot_prod = np.dot(xyz_arr, xyz_pointing)\n",
    "                        if tract_id not in output:\n",
    "                            output[tract_id] = {}\n",
    "                        output[tract_id][(patch[0], patch[1])] = data\n",
    "\n",
    "        return output\n"
   ]
  },
  {
   "cell_type": "code",
   "execution_count": 457,
   "metadata": {},
   "outputs": [],
   "source": [
    "asq = ArbitrarySkyQuery(butler)"
   ]
  },
  {
   "cell_type": "code",
   "execution_count": 458,
   "metadata": {},
   "outputs": [
    {
     "name": "stdout",
     "output_type": "stream",
     "text": [
      "valid dot\n",
      "[0.99986214 0.99995904]\n",
      "0.99986214136376\n",
      "0.9999590403611961\n",
      "(148.760331, +3.719008)\n"
     ]
    }
   ],
   "source": [
    "ra=109.0\n",
    "dec=36.45\n",
    "dist = 0.2\n",
    "valid_tracts = asq.find_tracts(ra, dec, dist)\n",
    "tract = sky_map[10054]\n",
    "print(tract.getCtrCoord())"
   ]
  },
  {
   "cell_type": "code",
   "execution_count": 349,
   "metadata": {},
   "outputs": [
    {
     "name": "stdout",
     "output_type": "stream",
     "text": [
      "tract 7318\n",
      "initializing  7318\n",
      "[[2 7]\n",
      " [2 8]\n",
      " [3 7]\n",
      " [3 8]\n",
      " [4 7]\n",
      " [4 8]]\n",
      "tract 7555\n",
      "initializing  7555\n",
      "[[1 0]\n",
      " [2 0]\n",
      " [3 0]]\n"
     ]
    }
   ],
   "source": [
    "for tract_id in valid_tracts[0]:\n",
    "    print('tract %d' % tract_id)\n",
    "    patches = asq.find_patches(ra, dec, dist, tract_id)\n",
    "    print(patches)"
   ]
  },
  {
   "cell_type": "code",
   "execution_count": 437,
   "metadata": {},
   "outputs": [
    {
     "name": "stdout",
     "output_type": "stream",
     "text": [
      "valid dot\n",
      "[1.]\n",
      "0.9999999998336236\n",
      "initializing  10054\n"
     ]
    }
   ],
   "source": [
    "ra=148.76\n",
    "dec=3.72\n",
    "dist = 0.2\n",
    "data = asq.get_forced_sources(ra, dec, dist)"
   ]
  },
  {
   "cell_type": "code",
   "execution_count": 440,
   "metadata": {},
   "outputs": [],
   "source": [
    "subset = data[10054][(3,3)]"
   ]
  },
  {
   "cell_type": "code",
   "execution_count": 446,
   "metadata": {},
   "outputs": [
    {
     "data": {
      "text/plain": [
       "SchemaItem(key=Key<F>(offset=56, nElements=1), field=Field['F'](name=\"base_SdssCentroid_xSigma\", doc=\"1-sigma uncertainty on x position\", units=\"pixel\"))"
      ]
     },
     "execution_count": 446,
     "metadata": {},
     "output_type": "execute_result"
    }
   ],
   "source": [
    "#subset.schema.getNames()\n",
    "subset.schema.find('base_SdssCentroid_xSigma')"
   ]
  },
  {
   "cell_type": "code",
   "execution_count": 343,
   "metadata": {},
   "outputs": [],
   "source": [
    "from lsst.afw.geom import SpherePoint, Angle, degrees"
   ]
  },
  {
   "cell_type": "code",
   "execution_count": 427,
   "metadata": {},
   "outputs": [
    {
     "name": "stdout",
     "output_type": "stream",
     "text": [
      "(1, 2) 0 37169\n",
      "(1, 3) 982 22782\n",
      "(1, 4) 1686 9561\n",
      "(2, 1) 0 30916\n",
      "(2, 2) 7028 24551\n",
      "(2, 3) 24238 26170\n",
      "(2, 4) 12467 12467\n",
      "(3, 1) 942 23833\n",
      "(3, 2) 20236 22237\n",
      "(3, 3) 28016 28016\n",
      "(3, 4) 5934 5934\n",
      "(4, 1) 3492 21957\n",
      "(4, 2) 21114 21114\n",
      "(4, 3) 9598 9598\n",
      "(5, 1) 1244 14160\n",
      "(5, 2) 5493 5904\n",
      "(5, 3) 133 133\n",
      "0.5\n",
      "dict_keys([(1, 2), (1, 3), (1, 4), (2, 1), (2, 2), (2, 3), (2, 4), (3, 1), (3, 2), (3, 3), (3, 4), (4, 1), (4, 2), (4, 3), (5, 1), (5, 2), (5, 3)])\n"
     ]
    }
   ],
   "source": [
    "ra_rad = np.radians(ra)\n",
    "dec_rad = np.radians(dec)\n",
    "\n",
    "xyz = np.array([np.cos(dec_rad)*np.cos(ra_rad),\n",
    "                np.cos(dec_rad)*np.sin(ra_rad),\n",
    "                np.sin(dec_rad)])\n",
    "\n",
    "for patch in data[10054]:\n",
    "    local_data = data[10054][patch]\n",
    "    cos_ra = np.cos(local_data['coord_ra'])\n",
    "    sin_ra = np.sin(local_data['coord_ra'])\n",
    "    cos_dec = np.cos(local_data['coord_dec'])\n",
    "    sin_dec = np.sin(local_data['coord_dec'])\n",
    "    xyz_stars = np.array([cos_dec*cos_ra, cos_dec*sin_ra, sin_dec]).transpose()\n",
    "    dot_prod = np.dot(xyz_stars, xyz)\n",
    "    valid = np.where(dot_prod>np.cos(np.radians(dist)))\n",
    "    print(patch,len(valid[0]),len(local_data))\n",
    "print(dist)\n",
    "print(data[10054].keys())\n",
    "\n"
   ]
  },
  {
   "cell_type": "code",
   "execution_count": 434,
   "metadata": {},
   "outputs": [
    {
     "name": "stdout",
     "output_type": "stream",
     "text": [
      "(9, 9)\n"
     ]
    },
    {
     "ename": "KeyboardInterrupt",
     "evalue": "",
     "output_type": "error",
     "traceback": [
      "\u001b[0;31m---------------------------------------------------------------------------\u001b[0m",
      "\u001b[0;31mKeyboardInterrupt\u001b[0m                         Traceback (most recent call last)",
      "\u001b[0;32m<ipython-input-434-a54033f6c563>\u001b[0m in \u001b[0;36m<module>\u001b[0;34m()\u001b[0m\n\u001b[1;32m     18\u001b[0m         \u001b[0;32mif\u001b[0m \u001b[0;32mnot\u001b[0m \u001b[0mbutler\u001b[0m\u001b[0;34m.\u001b[0m\u001b[0mdatasetExists\u001b[0m\u001b[0;34m(\u001b[0m\u001b[0;34m'deepCoadd_ref'\u001b[0m\u001b[0;34m,\u001b[0m \u001b[0mdataId\u001b[0m\u001b[0;34m=\u001b[0m\u001b[0md_id_2\u001b[0m\u001b[0;34m)\u001b[0m\u001b[0;34m:\u001b[0m\u001b[0;34m\u001b[0m\u001b[0m\n\u001b[1;32m     19\u001b[0m             \u001b[0;32mcontinue\u001b[0m\u001b[0;34m\u001b[0m\u001b[0m\n\u001b[0;32m---> 20\u001b[0;31m         \u001b[0md2\u001b[0m \u001b[0;34m=\u001b[0m \u001b[0mbutler\u001b[0m\u001b[0;34m.\u001b[0m\u001b[0mget\u001b[0m\u001b[0;34m(\u001b[0m\u001b[0;34m'deepCoadd_ref'\u001b[0m\u001b[0;34m,\u001b[0m \u001b[0mdataId\u001b[0m\u001b[0;34m=\u001b[0m\u001b[0md_id_2\u001b[0m\u001b[0;34m)\u001b[0m\u001b[0;34m\u001b[0m\u001b[0m\n\u001b[0m\u001b[1;32m     21\u001b[0m         \u001b[0minter\u001b[0m \u001b[0;34m=\u001b[0m \u001b[0mnp\u001b[0m\u001b[0;34m.\u001b[0m\u001b[0mintersect1d\u001b[0m\u001b[0;34m(\u001b[0m\u001b[0md1\u001b[0m\u001b[0;34m[\u001b[0m\u001b[0;34m'id'\u001b[0m\u001b[0;34m]\u001b[0m\u001b[0;34m,\u001b[0m \u001b[0md2\u001b[0m\u001b[0;34m[\u001b[0m\u001b[0;34m'id'\u001b[0m\u001b[0;34m]\u001b[0m\u001b[0;34m)\u001b[0m\u001b[0;34m\u001b[0m\u001b[0m\n\u001b[1;32m     22\u001b[0m         \u001b[0;32mif\u001b[0m \u001b[0mlen\u001b[0m\u001b[0;34m(\u001b[0m\u001b[0minter\u001b[0m\u001b[0;34m)\u001b[0m\u001b[0;34m>\u001b[0m\u001b[0;36m0\u001b[0m\u001b[0;34m:\u001b[0m\u001b[0;34m\u001b[0m\u001b[0m\n",
      "\u001b[0;32m/opt/lsst/software/stack/stack/miniconda3-4.3.21-10a4fa6/Linux64/daf_persistence/15.0-9-g1e7c341/python/lsst/daf/persistence/butler.py\u001b[0m in \u001b[0;36mget\u001b[0;34m(self, datasetType, dataId, immediate, **rest)\u001b[0m\n\u001b[1;32m   1426\u001b[0m                 \u001b[0;32mreturn\u001b[0m \u001b[0mlocation\u001b[0m\u001b[0;34m.\u001b[0m\u001b[0mmapper\u001b[0m\u001b[0;34m.\u001b[0m\u001b[0mstandardize\u001b[0m\u001b[0;34m(\u001b[0m\u001b[0mlocation\u001b[0m\u001b[0;34m.\u001b[0m\u001b[0mdatasetType\u001b[0m\u001b[0;34m,\u001b[0m \u001b[0minnerCallback\u001b[0m\u001b[0;34m(\u001b[0m\u001b[0;34m)\u001b[0m\u001b[0;34m,\u001b[0m \u001b[0mdataId\u001b[0m\u001b[0;34m)\u001b[0m\u001b[0;34m\u001b[0m\u001b[0m\n\u001b[1;32m   1427\u001b[0m         \u001b[0;32mif\u001b[0m \u001b[0mimmediate\u001b[0m\u001b[0;34m:\u001b[0m\u001b[0;34m\u001b[0m\u001b[0m\n\u001b[0;32m-> 1428\u001b[0;31m             \u001b[0;32mreturn\u001b[0m \u001b[0mcallback\u001b[0m\u001b[0;34m(\u001b[0m\u001b[0;34m)\u001b[0m\u001b[0;34m\u001b[0m\u001b[0m\n\u001b[0m\u001b[1;32m   1429\u001b[0m         \u001b[0;32mreturn\u001b[0m \u001b[0mReadProxy\u001b[0m\u001b[0;34m(\u001b[0m\u001b[0mcallback\u001b[0m\u001b[0;34m)\u001b[0m\u001b[0;34m\u001b[0m\u001b[0m\n\u001b[1;32m   1430\u001b[0m \u001b[0;34m\u001b[0m\u001b[0m\n",
      "\u001b[0;32m/opt/lsst/software/stack/stack/miniconda3-4.3.21-10a4fa6/Linux64/daf_persistence/15.0-9-g1e7c341/python/lsst/daf/persistence/butler.py\u001b[0m in \u001b[0;36mcallback\u001b[0;34m()\u001b[0m\n\u001b[1;32m   1419\u001b[0m         \u001b[0;32melse\u001b[0m\u001b[0;34m:\u001b[0m\u001b[0;34m\u001b[0m\u001b[0m\n\u001b[1;32m   1420\u001b[0m             \u001b[0;32mdef\u001b[0m \u001b[0mcallback\u001b[0m\u001b[0;34m(\u001b[0m\u001b[0;34m)\u001b[0m\u001b[0;34m:\u001b[0m\u001b[0;34m\u001b[0m\u001b[0m\n\u001b[0;32m-> 1421\u001b[0;31m                 \u001b[0;32mreturn\u001b[0m \u001b[0mself\u001b[0m\u001b[0;34m.\u001b[0m\u001b[0m_read\u001b[0m\u001b[0;34m(\u001b[0m\u001b[0mlocation\u001b[0m\u001b[0;34m)\u001b[0m\u001b[0;34m\u001b[0m\u001b[0m\n\u001b[0m\u001b[1;32m   1422\u001b[0m         \u001b[0;32mif\u001b[0m \u001b[0mlocation\u001b[0m\u001b[0;34m.\u001b[0m\u001b[0mmapper\u001b[0m\u001b[0;34m.\u001b[0m\u001b[0mcanStandardize\u001b[0m\u001b[0;34m(\u001b[0m\u001b[0mlocation\u001b[0m\u001b[0;34m.\u001b[0m\u001b[0mdatasetType\u001b[0m\u001b[0;34m)\u001b[0m\u001b[0;34m:\u001b[0m\u001b[0;34m\u001b[0m\u001b[0m\n\u001b[1;32m   1423\u001b[0m             \u001b[0minnerCallback\u001b[0m \u001b[0;34m=\u001b[0m \u001b[0mcallback\u001b[0m\u001b[0;34m\u001b[0m\u001b[0m\n",
      "\u001b[0;32m/opt/lsst/software/stack/stack/miniconda3-4.3.21-10a4fa6/Linux64/daf_persistence/15.0-9-g1e7c341/python/lsst/daf/persistence/butler.py\u001b[0m in \u001b[0;36m_read\u001b[0;34m(self, location)\u001b[0m\n\u001b[1;32m   1617\u001b[0m             \u001b[0;32mreturn\u001b[0m \u001b[0mresults\u001b[0m\u001b[0;34m\u001b[0m\u001b[0m\n\u001b[1;32m   1618\u001b[0m         \u001b[0;32melse\u001b[0m\u001b[0;34m:\u001b[0m\u001b[0;34m\u001b[0m\u001b[0m\n\u001b[0;32m-> 1619\u001b[0;31m             \u001b[0mresults\u001b[0m \u001b[0;34m=\u001b[0m \u001b[0mlocation\u001b[0m\u001b[0;34m.\u001b[0m\u001b[0mrepository\u001b[0m\u001b[0;34m.\u001b[0m\u001b[0mread\u001b[0m\u001b[0;34m(\u001b[0m\u001b[0mlocation\u001b[0m\u001b[0;34m)\u001b[0m\u001b[0;34m\u001b[0m\u001b[0m\n\u001b[0m\u001b[1;32m   1620\u001b[0m             \u001b[0;32mif\u001b[0m \u001b[0mlen\u001b[0m\u001b[0;34m(\u001b[0m\u001b[0mresults\u001b[0m\u001b[0;34m)\u001b[0m \u001b[0;34m==\u001b[0m \u001b[0;36m1\u001b[0m\u001b[0;34m:\u001b[0m\u001b[0;34m\u001b[0m\u001b[0m\n\u001b[1;32m   1621\u001b[0m                 \u001b[0mresults\u001b[0m \u001b[0;34m=\u001b[0m \u001b[0mresults\u001b[0m\u001b[0;34m[\u001b[0m\u001b[0;36m0\u001b[0m\u001b[0;34m]\u001b[0m\u001b[0;34m\u001b[0m\u001b[0m\n",
      "\u001b[0;32m/opt/lsst/software/stack/stack/miniconda3-4.3.21-10a4fa6/Linux64/daf_persistence/15.0-9-g1e7c341/python/lsst/daf/persistence/repository.py\u001b[0m in \u001b[0;36mread\u001b[0;34m(self, butlerLocation)\u001b[0m\n\u001b[1;32m    199\u001b[0m         \u001b[0mbutlerLocationStorage\u001b[0m \u001b[0;34m=\u001b[0m \u001b[0mbutlerLocation\u001b[0m\u001b[0;34m.\u001b[0m\u001b[0mgetStorage\u001b[0m\u001b[0;34m(\u001b[0m\u001b[0;34m)\u001b[0m\u001b[0;34m\u001b[0m\u001b[0m\n\u001b[1;32m    200\u001b[0m         \u001b[0;32mif\u001b[0m \u001b[0mbutlerLocationStorage\u001b[0m\u001b[0;34m:\u001b[0m\u001b[0;34m\u001b[0m\u001b[0m\n\u001b[0;32m--> 201\u001b[0;31m             \u001b[0;32mreturn\u001b[0m \u001b[0mbutlerLocationStorage\u001b[0m\u001b[0;34m.\u001b[0m\u001b[0mread\u001b[0m\u001b[0;34m(\u001b[0m\u001b[0mbutlerLocation\u001b[0m\u001b[0;34m)\u001b[0m\u001b[0;34m\u001b[0m\u001b[0m\n\u001b[0m\u001b[1;32m    202\u001b[0m         \u001b[0;32melse\u001b[0m\u001b[0;34m:\u001b[0m\u001b[0;34m\u001b[0m\u001b[0m\n\u001b[1;32m    203\u001b[0m             \u001b[0;32mreturn\u001b[0m \u001b[0mself\u001b[0m\u001b[0;34m.\u001b[0m\u001b[0m_storage\u001b[0m\u001b[0;34m.\u001b[0m\u001b[0mread\u001b[0m\u001b[0;34m(\u001b[0m\u001b[0mbutlerLocation\u001b[0m\u001b[0;34m)\u001b[0m\u001b[0;34m\u001b[0m\u001b[0m\n",
      "\u001b[0;32m/opt/lsst/software/stack/stack/miniconda3-4.3.21-10a4fa6/Linux64/daf_persistence/15.0-9-g1e7c341/python/lsst/daf/persistence/posixStorage.py\u001b[0m in \u001b[0;36mread\u001b[0;34m(self, butlerLocation)\u001b[0m\n\u001b[1;32m    284\u001b[0m             \u001b[0mreadFormatter\u001b[0m \u001b[0;34m=\u001b[0m \u001b[0mself\u001b[0m\u001b[0;34m.\u001b[0m\u001b[0mgetReadFormatter\u001b[0m\u001b[0;34m(\u001b[0m\u001b[0mbutlerLocation\u001b[0m\u001b[0;34m.\u001b[0m\u001b[0mgetPythonType\u001b[0m\u001b[0;34m(\u001b[0m\u001b[0;34m)\u001b[0m\u001b[0;34m)\u001b[0m\u001b[0;34m\u001b[0m\u001b[0m\n\u001b[1;32m    285\u001b[0m         \u001b[0;32mif\u001b[0m \u001b[0mreadFormatter\u001b[0m\u001b[0;34m:\u001b[0m\u001b[0;34m\u001b[0m\u001b[0m\n\u001b[0;32m--> 286\u001b[0;31m             \u001b[0;32mreturn\u001b[0m \u001b[0mreadFormatter\u001b[0m\u001b[0;34m(\u001b[0m\u001b[0mbutlerLocation\u001b[0m\u001b[0;34m)\u001b[0m\u001b[0;34m\u001b[0m\u001b[0m\n\u001b[0m\u001b[1;32m    287\u001b[0m \u001b[0;34m\u001b[0m\u001b[0m\n\u001b[1;32m    288\u001b[0m         \u001b[0;32mraise\u001b[0m\u001b[0;34m(\u001b[0m\u001b[0mRuntimeError\u001b[0m\u001b[0;34m(\u001b[0m\u001b[0;34m\"No formatter for location:{}\"\u001b[0m\u001b[0;34m.\u001b[0m\u001b[0mformat\u001b[0m\u001b[0;34m(\u001b[0m\u001b[0mbutlerLocation\u001b[0m\u001b[0;34m)\u001b[0m\u001b[0;34m)\u001b[0m\u001b[0;34m)\u001b[0m\u001b[0;34m\u001b[0m\u001b[0m\n",
      "\u001b[0;32m/opt/lsst/software/stack/stack/miniconda3-4.3.21-10a4fa6/Linux64/daf_persistence/15.0-9-g1e7c341/python/lsst/daf/persistence/posixStorage.py\u001b[0m in \u001b[0;36mreadFitsCatalogStorage\u001b[0;34m(butlerLocation)\u001b[0m\n\u001b[1;32m    753\u001b[0m         \u001b[0;32mif\u001b[0m \u001b[0madditionalData\u001b[0m\u001b[0;34m.\u001b[0m\u001b[0mexists\u001b[0m\u001b[0;34m(\u001b[0m\u001b[0;34m\"flags\"\u001b[0m\u001b[0;34m)\u001b[0m\u001b[0;34m:\u001b[0m\u001b[0;34m\u001b[0m\u001b[0m\n\u001b[1;32m    754\u001b[0m             \u001b[0mkwds\u001b[0m\u001b[0;34m[\u001b[0m\u001b[0;34m\"flags\"\u001b[0m\u001b[0;34m]\u001b[0m \u001b[0;34m=\u001b[0m \u001b[0madditionalData\u001b[0m\u001b[0;34m.\u001b[0m\u001b[0mgetInt\u001b[0m\u001b[0;34m(\u001b[0m\u001b[0;34m\"flags\"\u001b[0m\u001b[0;34m)\u001b[0m\u001b[0;34m\u001b[0m\u001b[0m\n\u001b[0;32m--> 755\u001b[0;31m         \u001b[0mfinalItem\u001b[0m \u001b[0;34m=\u001b[0m \u001b[0mpythonType\u001b[0m\u001b[0;34m.\u001b[0m\u001b[0mreadFits\u001b[0m\u001b[0;34m(\u001b[0m\u001b[0mlogLoc\u001b[0m\u001b[0;34m.\u001b[0m\u001b[0mlocString\u001b[0m\u001b[0;34m(\u001b[0m\u001b[0;34m)\u001b[0m\u001b[0;34m,\u001b[0m \u001b[0;34m**\u001b[0m\u001b[0mkwds\u001b[0m\u001b[0;34m)\u001b[0m\u001b[0;34m\u001b[0m\u001b[0m\n\u001b[0m\u001b[1;32m    756\u001b[0m         \u001b[0mresults\u001b[0m\u001b[0;34m.\u001b[0m\u001b[0mappend\u001b[0m\u001b[0;34m(\u001b[0m\u001b[0mfinalItem\u001b[0m\u001b[0;34m)\u001b[0m\u001b[0;34m\u001b[0m\u001b[0m\n\u001b[1;32m    757\u001b[0m     \u001b[0;32mreturn\u001b[0m \u001b[0mresults\u001b[0m\u001b[0;34m\u001b[0m\u001b[0m\n",
      "\u001b[0;31mKeyboardInterrupt\u001b[0m: "
     ]
    }
   ],
   "source": [
    "tract = sky_map[10054]\n",
    "patches = tract.getNumPatches()\n",
    "print(patches)\n",
    "patch_list = []\n",
    "for ii in range(patches[0]):\n",
    "    for jj in range(patches[1]):\n",
    "        patch_list.append((ii,jj))\n",
    "\n",
    "for ii in range(len(patch_list)):\n",
    "    p1 = patch_list[ii]\n",
    "    d_id_1 = {'filter':'HSC-R', 'tract':10054, 'patch':'%d,%d' % (p1[0], p1[1])}\n",
    "    if not butler.datasetExists('deepCoadd_ref', dataId=d_id_1):\n",
    "        continue\n",
    "    d1 = butler.get('deepCoadd_ref', dataId=d_id_1)\n",
    "    for jj in range(ii+1,len(patch_list)):\n",
    "        p2 = patch_list[jj]\n",
    "        d_id_2 = {'filter':'HSC-R', 'tract':10054, 'patch':'%d,%d' % (p2[0], p2[1])}\n",
    "        if not butler.datasetExists('deepCoadd_ref', dataId=d_id_2):\n",
    "            continue\n",
    "        d2 = butler.get('deepCoadd_ref', dataId=d_id_2)\n",
    "        inter = np.intersect1d(d1['id'], d2['id'])\n",
    "        if len(inter)>0:\n",
    "            print(p1,p2)\n",
    "            print(inter)\n",
    "        "
   ]
  },
  {
   "cell_type": "code",
   "execution_count": 416,
   "metadata": {},
   "outputs": [],
   "source": [
    "subset = data[10054][(3,4)]"
   ]
  },
  {
   "cell_type": "code",
   "execution_count": 419,
   "metadata": {},
   "outputs": [],
   "source": [
    "subset['id']\n",
    "subset_33 = data[10054][(3,3)]"
   ]
  },
  {
   "cell_type": "code",
   "execution_count": 420,
   "metadata": {},
   "outputs": [],
   "source": [
    "inter = np.intersect1d(subset['id'], subset_33['id'])"
   ]
  },
  {
   "cell_type": "code",
   "execution_count": 428,
   "metadata": {},
   "outputs": [],
   "source": [
    "patch_list = []\n",
    "for pp in data[10054].keys():\n",
    "    patch_list.append(pp)\n",
    "\n",
    "for ii in range(len(patch_list)):\n",
    "    p1 = data[10054][patch_list[ii]]\n",
    "    for jj in range(ii+1, len(patch_list)):\n",
    "        p2 = data[10054][patch_list[jj]]\n",
    "        inter = np.intersect1d(p1['id'], p2['id'])\n",
    "        if len(inter)>0:\n",
    "            print(inter)\n",
    "            print(patch_list[ii])\n",
    "            print(patch_list[jj])"
   ]
  },
  {
   "cell_type": "code",
   "execution_count": 344,
   "metadata": {},
   "outputs": [
    {
     "data": {
      "text/plain": [
       "PatchInfo(index=(3, 7), innerBBox=(minimum=(12000, 28000), maximum=(15999, 31999)), outerBBox=(minimum=(11900, 27900), maximum=(16099, 32099)))"
      ]
     },
     "execution_count": 344,
     "metadata": {},
     "output_type": "execute_result"
    }
   ],
   "source": [
    "ra_afw = Angle(ra, degrees)\n",
    "dec_afw = Angle(dec, degrees)\n",
    "sph_pt = SpherePoint(ra_afw, dec_afw)\n",
    "tract_info = sky_map.findTract(sph_pt)\n",
    "tract_id = tract_info.getId()\n",
    "tract_truth = sky_map[tract_id]\n",
    "tract_truth.findPatch(sph_pt)"
   ]
  },
  {
   "cell_type": "code",
   "execution_count": null,
   "metadata": {},
   "outputs": [],
   "source": []
  },
  {
   "cell_type": "code",
   "execution_count": 345,
   "metadata": {},
   "outputs": [
    {
     "name": "stdout",
     "output_type": "stream",
     "text": [
      "2\n",
      "18938\n",
      "(array([7318, 7555]),)\n",
      "[ 0.90038961  0.38219272 -0.20791169]\n",
      "[ 0.899605    0.37787851 -0.21890332]\n",
      "0.9999299780253365\n"
     ]
    }
   ],
   "source": [
    "print(len(valid_tracts[0]))\n",
    "print(len(tract_center_array))\n",
    "print(valid_tracts)\n",
    "ra_rad = np.radians(ra)\n",
    "dec_rad = np.radians(dec)\n",
    "xyz = np.array([np.cos(dec_rad)*np.cos(ra_rad), np.cos(dec_rad)*np.sin(ra_rad),\n",
    "                np.sin(dec_rad)])\n",
    "center = asq.tract_center_array[7318]\n",
    "print(xyz)\n",
    "print(center)\n",
    "print(np.dot(xyz,center))"
   ]
  },
  {
   "cell_type": "code",
   "execution_count": 459,
   "metadata": {},
   "outputs": [],
   "source": [
    "data = butler.get('deepCoadd_forced_src',\n",
    "                 dataId={'filter':'HSC-R',\n",
    "                        'tract':10054,\n",
    "                        'patch':'3,3'})"
   ]
  },
  {
   "cell_type": "code",
   "execution_count": 460,
   "metadata": {},
   "outputs": [],
   "source": [
    "wcs = sky_map[10054].getWcs()"
   ]
  },
  {
   "cell_type": "code",
   "execution_count": 464,
   "metadata": {},
   "outputs": [],
   "source": [
    "from lsst.afw.geom import radians, degrees, Angle, SpherePoint"
   ]
  },
  {
   "cell_type": "code",
   "execution_count": 462,
   "metadata": {},
   "outputs": [],
   "source": [
    "import matplotlib.pyplot as plt"
   ]
  },
  {
   "cell_type": "code",
   "execution_count": 466,
   "metadata": {},
   "outputs": [],
   "source": [
    "sph_pts = [SpherePoint(Angle(rr, radians), Angle(dd, radians))\n",
    "           for rr, dd in zip(data['coord_ra'], data['coord_dec'])]"
   ]
  },
  {
   "cell_type": "code",
   "execution_count": 490,
   "metadata": {},
   "outputs": [
    {
     "data": {
      "text/plain": [
       "{'base_CircularApertureFlux_12_0_flag',\n",
       " 'base_CircularApertureFlux_12_0_flag_apertureTruncated',\n",
       " 'base_CircularApertureFlux_12_0_flag_sincCoeffsTruncated',\n",
       " 'base_CircularApertureFlux_12_0_flux',\n",
       " 'base_CircularApertureFlux_12_0_fluxSigma',\n",
       " 'base_CircularApertureFlux_17_0_flag',\n",
       " 'base_CircularApertureFlux_17_0_flag_apertureTruncated',\n",
       " 'base_CircularApertureFlux_17_0_flux',\n",
       " 'base_CircularApertureFlux_17_0_fluxSigma',\n",
       " 'base_CircularApertureFlux_25_0_flag',\n",
       " 'base_CircularApertureFlux_25_0_flag_apertureTruncated',\n",
       " 'base_CircularApertureFlux_25_0_flux',\n",
       " 'base_CircularApertureFlux_25_0_fluxSigma',\n",
       " 'base_CircularApertureFlux_35_0_flag',\n",
       " 'base_CircularApertureFlux_35_0_flag_apertureTruncated',\n",
       " 'base_CircularApertureFlux_35_0_flux',\n",
       " 'base_CircularApertureFlux_35_0_fluxSigma',\n",
       " 'base_CircularApertureFlux_3_0_flag',\n",
       " 'base_CircularApertureFlux_3_0_flag_apertureTruncated',\n",
       " 'base_CircularApertureFlux_3_0_flag_sincCoeffsTruncated',\n",
       " 'base_CircularApertureFlux_3_0_flux',\n",
       " 'base_CircularApertureFlux_3_0_fluxSigma',\n",
       " 'base_CircularApertureFlux_4_5_flag',\n",
       " 'base_CircularApertureFlux_4_5_flag_apertureTruncated',\n",
       " 'base_CircularApertureFlux_4_5_flag_sincCoeffsTruncated',\n",
       " 'base_CircularApertureFlux_4_5_flux',\n",
       " 'base_CircularApertureFlux_4_5_fluxSigma',\n",
       " 'base_CircularApertureFlux_50_0_flag',\n",
       " 'base_CircularApertureFlux_50_0_flag_apertureTruncated',\n",
       " 'base_CircularApertureFlux_50_0_flux',\n",
       " 'base_CircularApertureFlux_50_0_fluxSigma',\n",
       " 'base_CircularApertureFlux_6_0_flag',\n",
       " 'base_CircularApertureFlux_6_0_flag_apertureTruncated',\n",
       " 'base_CircularApertureFlux_6_0_flag_sincCoeffsTruncated',\n",
       " 'base_CircularApertureFlux_6_0_flux',\n",
       " 'base_CircularApertureFlux_6_0_fluxSigma',\n",
       " 'base_CircularApertureFlux_70_0_flag',\n",
       " 'base_CircularApertureFlux_70_0_flag_apertureTruncated',\n",
       " 'base_CircularApertureFlux_70_0_flux',\n",
       " 'base_CircularApertureFlux_70_0_fluxSigma',\n",
       " 'base_CircularApertureFlux_9_0_flag',\n",
       " 'base_CircularApertureFlux_9_0_flag_apertureTruncated',\n",
       " 'base_CircularApertureFlux_9_0_flag_sincCoeffsTruncated',\n",
       " 'base_CircularApertureFlux_9_0_flux',\n",
       " 'base_CircularApertureFlux_9_0_fluxSigma',\n",
       " 'base_ClassificationExtendedness_flag',\n",
       " 'base_ClassificationExtendedness_value',\n",
       " 'base_GaussianFlux_apCorr',\n",
       " 'base_GaussianFlux_apCorrSigma',\n",
       " 'base_GaussianFlux_flag',\n",
       " 'base_GaussianFlux_flag_apCorr',\n",
       " 'base_GaussianFlux_flux',\n",
       " 'base_GaussianFlux_fluxSigma',\n",
       " 'base_InputCount_flag',\n",
       " 'base_InputCount_flag_noInputs',\n",
       " 'base_InputCount_value',\n",
       " 'base_LocalBackground_flag',\n",
       " 'base_LocalBackground_flag_noGoodPixels',\n",
       " 'base_LocalBackground_flag_noPsf',\n",
       " 'base_LocalBackground_flux',\n",
       " 'base_LocalBackground_fluxSigma',\n",
       " 'base_PixelFlags_flag',\n",
       " 'base_PixelFlags_flag_bad',\n",
       " 'base_PixelFlags_flag_bright_object',\n",
       " 'base_PixelFlags_flag_bright_objectCenter',\n",
       " 'base_PixelFlags_flag_clipped',\n",
       " 'base_PixelFlags_flag_clippedCenter',\n",
       " 'base_PixelFlags_flag_cr',\n",
       " 'base_PixelFlags_flag_crCenter',\n",
       " 'base_PixelFlags_flag_edge',\n",
       " 'base_PixelFlags_flag_inexact_psf',\n",
       " 'base_PixelFlags_flag_inexact_psfCenter',\n",
       " 'base_PixelFlags_flag_interpolated',\n",
       " 'base_PixelFlags_flag_interpolatedCenter',\n",
       " 'base_PixelFlags_flag_offimage',\n",
       " 'base_PixelFlags_flag_rejected',\n",
       " 'base_PixelFlags_flag_rejectedCenter',\n",
       " 'base_PixelFlags_flag_saturated',\n",
       " 'base_PixelFlags_flag_saturatedCenter',\n",
       " 'base_PixelFlags_flag_sensor_edge',\n",
       " 'base_PixelFlags_flag_sensor_edgeCenter',\n",
       " 'base_PixelFlags_flag_suspect',\n",
       " 'base_PixelFlags_flag_suspectCenter',\n",
       " 'base_PsfFlux_apCorr',\n",
       " 'base_PsfFlux_apCorrSigma',\n",
       " 'base_PsfFlux_area',\n",
       " 'base_PsfFlux_flag',\n",
       " 'base_PsfFlux_flag_apCorr',\n",
       " 'base_PsfFlux_flag_edge',\n",
       " 'base_PsfFlux_flag_noGoodPixels',\n",
       " 'base_PsfFlux_flux',\n",
       " 'base_PsfFlux_fluxSigma',\n",
       " 'base_SdssCentroid_flag',\n",
       " 'base_SdssCentroid_flag_almostNoSecondDerivative',\n",
       " 'base_SdssCentroid_flag_edge',\n",
       " 'base_SdssCentroid_flag_noSecondDerivative',\n",
       " 'base_SdssCentroid_flag_notAtMaximum',\n",
       " 'base_SdssCentroid_flag_resetToPeak',\n",
       " 'base_SdssCentroid_x',\n",
       " 'base_SdssCentroid_xSigma',\n",
       " 'base_SdssCentroid_y',\n",
       " 'base_SdssCentroid_ySigma',\n",
       " 'base_SdssShape_flag',\n",
       " 'base_SdssShape_flag_maxIter',\n",
       " 'base_SdssShape_flag_psf',\n",
       " 'base_SdssShape_flag_shift',\n",
       " 'base_SdssShape_flag_unweighted',\n",
       " 'base_SdssShape_flag_unweightedBad',\n",
       " 'base_SdssShape_flux',\n",
       " 'base_SdssShape_fluxSigma',\n",
       " 'base_SdssShape_flux_xx_Cov',\n",
       " 'base_SdssShape_flux_xy_Cov',\n",
       " 'base_SdssShape_flux_yy_Cov',\n",
       " 'base_SdssShape_psf_xx',\n",
       " 'base_SdssShape_psf_xy',\n",
       " 'base_SdssShape_psf_yy',\n",
       " 'base_SdssShape_x',\n",
       " 'base_SdssShape_xx',\n",
       " 'base_SdssShape_xxSigma',\n",
       " 'base_SdssShape_xy',\n",
       " 'base_SdssShape_xySigma',\n",
       " 'base_SdssShape_y',\n",
       " 'base_SdssShape_yy',\n",
       " 'base_SdssShape_yySigma',\n",
       " 'base_TransformedCentroid_flag',\n",
       " 'base_TransformedCentroid_x',\n",
       " 'base_TransformedCentroid_y',\n",
       " 'base_TransformedShape_flag',\n",
       " 'base_TransformedShape_xx',\n",
       " 'base_TransformedShape_xy',\n",
       " 'base_TransformedShape_yy',\n",
       " 'base_Variance_flag',\n",
       " 'base_Variance_flag_emptyFootprint',\n",
       " 'base_Variance_value',\n",
       " 'coord_dec',\n",
       " 'coord_ra',\n",
       " 'deblend_nChild',\n",
       " 'ext_convolved_ConvolvedFlux_0_3_3_apCorr',\n",
       " 'ext_convolved_ConvolvedFlux_0_3_3_apCorrSigma',\n",
       " 'ext_convolved_ConvolvedFlux_0_3_3_flag',\n",
       " 'ext_convolved_ConvolvedFlux_0_3_3_flag_apCorr',\n",
       " 'ext_convolved_ConvolvedFlux_0_3_3_flag_apertureTruncated',\n",
       " 'ext_convolved_ConvolvedFlux_0_3_3_flag_sincCoeffsTruncated',\n",
       " 'ext_convolved_ConvolvedFlux_0_3_3_flux',\n",
       " 'ext_convolved_ConvolvedFlux_0_3_3_fluxSigma',\n",
       " 'ext_convolved_ConvolvedFlux_0_4_5_apCorr',\n",
       " 'ext_convolved_ConvolvedFlux_0_4_5_apCorrSigma',\n",
       " 'ext_convolved_ConvolvedFlux_0_4_5_flag',\n",
       " 'ext_convolved_ConvolvedFlux_0_4_5_flag_apCorr',\n",
       " 'ext_convolved_ConvolvedFlux_0_4_5_flag_apertureTruncated',\n",
       " 'ext_convolved_ConvolvedFlux_0_4_5_flag_sincCoeffsTruncated',\n",
       " 'ext_convolved_ConvolvedFlux_0_4_5_flux',\n",
       " 'ext_convolved_ConvolvedFlux_0_4_5_fluxSigma',\n",
       " 'ext_convolved_ConvolvedFlux_0_6_0_apCorr',\n",
       " 'ext_convolved_ConvolvedFlux_0_6_0_apCorrSigma',\n",
       " 'ext_convolved_ConvolvedFlux_0_6_0_flag',\n",
       " 'ext_convolved_ConvolvedFlux_0_6_0_flag_apCorr',\n",
       " 'ext_convolved_ConvolvedFlux_0_6_0_flag_apertureTruncated',\n",
       " 'ext_convolved_ConvolvedFlux_0_6_0_flag_sincCoeffsTruncated',\n",
       " 'ext_convolved_ConvolvedFlux_0_6_0_flux',\n",
       " 'ext_convolved_ConvolvedFlux_0_6_0_fluxSigma',\n",
       " 'ext_convolved_ConvolvedFlux_0_deconv',\n",
       " 'ext_convolved_ConvolvedFlux_0_kron_apCorr',\n",
       " 'ext_convolved_ConvolvedFlux_0_kron_apCorrSigma',\n",
       " 'ext_convolved_ConvolvedFlux_0_kron_flag',\n",
       " 'ext_convolved_ConvolvedFlux_0_kron_flag_apCorr',\n",
       " 'ext_convolved_ConvolvedFlux_0_kron_flux',\n",
       " 'ext_convolved_ConvolvedFlux_0_kron_fluxSigma',\n",
       " 'ext_convolved_ConvolvedFlux_1_3_3_apCorr',\n",
       " 'ext_convolved_ConvolvedFlux_1_3_3_apCorrSigma',\n",
       " 'ext_convolved_ConvolvedFlux_1_3_3_flag',\n",
       " 'ext_convolved_ConvolvedFlux_1_3_3_flag_apCorr',\n",
       " 'ext_convolved_ConvolvedFlux_1_3_3_flag_apertureTruncated',\n",
       " 'ext_convolved_ConvolvedFlux_1_3_3_flag_sincCoeffsTruncated',\n",
       " 'ext_convolved_ConvolvedFlux_1_3_3_flux',\n",
       " 'ext_convolved_ConvolvedFlux_1_3_3_fluxSigma',\n",
       " 'ext_convolved_ConvolvedFlux_1_4_5_apCorr',\n",
       " 'ext_convolved_ConvolvedFlux_1_4_5_apCorrSigma',\n",
       " 'ext_convolved_ConvolvedFlux_1_4_5_flag',\n",
       " 'ext_convolved_ConvolvedFlux_1_4_5_flag_apCorr',\n",
       " 'ext_convolved_ConvolvedFlux_1_4_5_flag_apertureTruncated',\n",
       " 'ext_convolved_ConvolvedFlux_1_4_5_flag_sincCoeffsTruncated',\n",
       " 'ext_convolved_ConvolvedFlux_1_4_5_flux',\n",
       " 'ext_convolved_ConvolvedFlux_1_4_5_fluxSigma',\n",
       " 'ext_convolved_ConvolvedFlux_1_6_0_apCorr',\n",
       " 'ext_convolved_ConvolvedFlux_1_6_0_apCorrSigma',\n",
       " 'ext_convolved_ConvolvedFlux_1_6_0_flag',\n",
       " 'ext_convolved_ConvolvedFlux_1_6_0_flag_apCorr',\n",
       " 'ext_convolved_ConvolvedFlux_1_6_0_flag_apertureTruncated',\n",
       " 'ext_convolved_ConvolvedFlux_1_6_0_flag_sincCoeffsTruncated',\n",
       " 'ext_convolved_ConvolvedFlux_1_6_0_flux',\n",
       " 'ext_convolved_ConvolvedFlux_1_6_0_fluxSigma',\n",
       " 'ext_convolved_ConvolvedFlux_1_deconv',\n",
       " 'ext_convolved_ConvolvedFlux_1_kron_apCorr',\n",
       " 'ext_convolved_ConvolvedFlux_1_kron_apCorrSigma',\n",
       " 'ext_convolved_ConvolvedFlux_1_kron_flag',\n",
       " 'ext_convolved_ConvolvedFlux_1_kron_flag_apCorr',\n",
       " 'ext_convolved_ConvolvedFlux_1_kron_flux',\n",
       " 'ext_convolved_ConvolvedFlux_1_kron_fluxSigma',\n",
       " 'ext_convolved_ConvolvedFlux_2_3_3_apCorr',\n",
       " 'ext_convolved_ConvolvedFlux_2_3_3_apCorrSigma',\n",
       " 'ext_convolved_ConvolvedFlux_2_3_3_flag',\n",
       " 'ext_convolved_ConvolvedFlux_2_3_3_flag_apCorr',\n",
       " 'ext_convolved_ConvolvedFlux_2_3_3_flag_apertureTruncated',\n",
       " 'ext_convolved_ConvolvedFlux_2_3_3_flag_sincCoeffsTruncated',\n",
       " 'ext_convolved_ConvolvedFlux_2_3_3_flux',\n",
       " 'ext_convolved_ConvolvedFlux_2_3_3_fluxSigma',\n",
       " 'ext_convolved_ConvolvedFlux_2_4_5_apCorr',\n",
       " 'ext_convolved_ConvolvedFlux_2_4_5_apCorrSigma',\n",
       " 'ext_convolved_ConvolvedFlux_2_4_5_flag',\n",
       " 'ext_convolved_ConvolvedFlux_2_4_5_flag_apCorr',\n",
       " 'ext_convolved_ConvolvedFlux_2_4_5_flag_apertureTruncated',\n",
       " 'ext_convolved_ConvolvedFlux_2_4_5_flag_sincCoeffsTruncated',\n",
       " 'ext_convolved_ConvolvedFlux_2_4_5_flux',\n",
       " 'ext_convolved_ConvolvedFlux_2_4_5_fluxSigma',\n",
       " 'ext_convolved_ConvolvedFlux_2_6_0_apCorr',\n",
       " 'ext_convolved_ConvolvedFlux_2_6_0_apCorrSigma',\n",
       " 'ext_convolved_ConvolvedFlux_2_6_0_flag',\n",
       " 'ext_convolved_ConvolvedFlux_2_6_0_flag_apCorr',\n",
       " 'ext_convolved_ConvolvedFlux_2_6_0_flag_apertureTruncated',\n",
       " 'ext_convolved_ConvolvedFlux_2_6_0_flag_sincCoeffsTruncated',\n",
       " 'ext_convolved_ConvolvedFlux_2_6_0_flux',\n",
       " 'ext_convolved_ConvolvedFlux_2_6_0_fluxSigma',\n",
       " 'ext_convolved_ConvolvedFlux_2_deconv',\n",
       " 'ext_convolved_ConvolvedFlux_2_kron_apCorr',\n",
       " 'ext_convolved_ConvolvedFlux_2_kron_apCorrSigma',\n",
       " 'ext_convolved_ConvolvedFlux_2_kron_flag',\n",
       " 'ext_convolved_ConvolvedFlux_2_kron_flag_apCorr',\n",
       " 'ext_convolved_ConvolvedFlux_2_kron_flux',\n",
       " 'ext_convolved_ConvolvedFlux_2_kron_fluxSigma',\n",
       " 'ext_convolved_ConvolvedFlux_3_3_3_apCorr',\n",
       " 'ext_convolved_ConvolvedFlux_3_3_3_apCorrSigma',\n",
       " 'ext_convolved_ConvolvedFlux_3_3_3_flag',\n",
       " 'ext_convolved_ConvolvedFlux_3_3_3_flag_apCorr',\n",
       " 'ext_convolved_ConvolvedFlux_3_3_3_flag_apertureTruncated',\n",
       " 'ext_convolved_ConvolvedFlux_3_3_3_flag_sincCoeffsTruncated',\n",
       " 'ext_convolved_ConvolvedFlux_3_3_3_flux',\n",
       " 'ext_convolved_ConvolvedFlux_3_3_3_fluxSigma',\n",
       " 'ext_convolved_ConvolvedFlux_3_4_5_apCorr',\n",
       " 'ext_convolved_ConvolvedFlux_3_4_5_apCorrSigma',\n",
       " 'ext_convolved_ConvolvedFlux_3_4_5_flag',\n",
       " 'ext_convolved_ConvolvedFlux_3_4_5_flag_apCorr',\n",
       " 'ext_convolved_ConvolvedFlux_3_4_5_flag_apertureTruncated',\n",
       " 'ext_convolved_ConvolvedFlux_3_4_5_flag_sincCoeffsTruncated',\n",
       " 'ext_convolved_ConvolvedFlux_3_4_5_flux',\n",
       " 'ext_convolved_ConvolvedFlux_3_4_5_fluxSigma',\n",
       " 'ext_convolved_ConvolvedFlux_3_6_0_apCorr',\n",
       " 'ext_convolved_ConvolvedFlux_3_6_0_apCorrSigma',\n",
       " 'ext_convolved_ConvolvedFlux_3_6_0_flag',\n",
       " 'ext_convolved_ConvolvedFlux_3_6_0_flag_apCorr',\n",
       " 'ext_convolved_ConvolvedFlux_3_6_0_flag_apertureTruncated',\n",
       " 'ext_convolved_ConvolvedFlux_3_6_0_flag_sincCoeffsTruncated',\n",
       " 'ext_convolved_ConvolvedFlux_3_6_0_flux',\n",
       " 'ext_convolved_ConvolvedFlux_3_6_0_fluxSigma',\n",
       " 'ext_convolved_ConvolvedFlux_3_deconv',\n",
       " 'ext_convolved_ConvolvedFlux_3_kron_apCorr',\n",
       " 'ext_convolved_ConvolvedFlux_3_kron_apCorrSigma',\n",
       " 'ext_convolved_ConvolvedFlux_3_kron_flag',\n",
       " 'ext_convolved_ConvolvedFlux_3_kron_flag_apCorr',\n",
       " 'ext_convolved_ConvolvedFlux_3_kron_flux',\n",
       " 'ext_convolved_ConvolvedFlux_3_kron_fluxSigma',\n",
       " 'ext_convolved_ConvolvedFlux_flag',\n",
       " 'ext_convolved_ConvolvedFlux_seeing',\n",
       " 'ext_photometryKron_KronFlux_apCorr',\n",
       " 'ext_photometryKron_KronFlux_apCorrSigma',\n",
       " 'ext_photometryKron_KronFlux_flag',\n",
       " 'ext_photometryKron_KronFlux_flag_apCorr',\n",
       " 'ext_photometryKron_KronFlux_flag_bad_radius',\n",
       " 'ext_photometryKron_KronFlux_flag_bad_shape',\n",
       " 'ext_photometryKron_KronFlux_flag_bad_shape_no_psf',\n",
       " 'ext_photometryKron_KronFlux_flag_edge',\n",
       " 'ext_photometryKron_KronFlux_flag_no_fallback_radius',\n",
       " 'ext_photometryKron_KronFlux_flag_no_minimum_radius',\n",
       " 'ext_photometryKron_KronFlux_flag_small_radius',\n",
       " 'ext_photometryKron_KronFlux_flag_used_minimum_radius',\n",
       " 'ext_photometryKron_KronFlux_flag_used_psf_radius',\n",
       " 'ext_photometryKron_KronFlux_flux',\n",
       " 'ext_photometryKron_KronFlux_fluxSigma',\n",
       " 'ext_photometryKron_KronFlux_psf_radius',\n",
       " 'ext_photometryKron_KronFlux_radius',\n",
       " 'ext_photometryKron_KronFlux_radius_for_radius',\n",
       " 'id',\n",
       " 'modelfit_CModel_apCorr',\n",
       " 'modelfit_CModel_apCorrSigma',\n",
       " 'modelfit_CModel_dev_apCorr',\n",
       " 'modelfit_CModel_dev_apCorrSigma',\n",
       " 'modelfit_CModel_dev_flag',\n",
       " 'modelfit_CModel_dev_flag_apCorr',\n",
       " 'modelfit_CModel_dev_flag_badReference',\n",
       " 'modelfit_CModel_dev_flag_numericError',\n",
       " 'modelfit_CModel_dev_flux',\n",
       " 'modelfit_CModel_dev_fluxSigma',\n",
       " 'modelfit_CModel_dev_flux_inner',\n",
       " 'modelfit_CModel_exp_apCorr',\n",
       " 'modelfit_CModel_exp_apCorrSigma',\n",
       " 'modelfit_CModel_exp_flag',\n",
       " 'modelfit_CModel_exp_flag_apCorr',\n",
       " 'modelfit_CModel_exp_flag_badReference',\n",
       " 'modelfit_CModel_exp_flag_numericError',\n",
       " 'modelfit_CModel_exp_flux',\n",
       " 'modelfit_CModel_exp_fluxSigma',\n",
       " 'modelfit_CModel_exp_flux_inner',\n",
       " 'modelfit_CModel_flag',\n",
       " 'modelfit_CModel_flag_apCorr',\n",
       " 'modelfit_CModel_flag_badCentroid',\n",
       " 'modelfit_CModel_flag_badReference',\n",
       " 'modelfit_CModel_flag_noShapeletPsf',\n",
       " 'modelfit_CModel_flag_region_maxArea',\n",
       " 'modelfit_CModel_flag_region_maxBadPixelFraction',\n",
       " 'modelfit_CModel_flux',\n",
       " 'modelfit_CModel_fluxSigma',\n",
       " 'modelfit_CModel_flux_inner',\n",
       " 'modelfit_CModel_fracDev',\n",
       " 'modelfit_CModel_initial_apCorr',\n",
       " 'modelfit_CModel_initial_apCorrSigma',\n",
       " 'modelfit_CModel_initial_flag',\n",
       " 'modelfit_CModel_initial_flag_apCorr',\n",
       " 'modelfit_CModel_initial_flag_badReference',\n",
       " 'modelfit_CModel_initial_flag_numericError',\n",
       " 'modelfit_CModel_initial_flux',\n",
       " 'modelfit_CModel_initial_fluxSigma',\n",
       " 'modelfit_CModel_initial_flux_inner',\n",
       " 'modelfit_CModel_objective',\n",
       " 'modelfit_DoubleShapeletPsfApprox_0_0',\n",
       " 'modelfit_DoubleShapeletPsfApprox_0_1',\n",
       " 'modelfit_DoubleShapeletPsfApprox_0_2',\n",
       " 'modelfit_DoubleShapeletPsfApprox_0_3',\n",
       " 'modelfit_DoubleShapeletPsfApprox_0_4',\n",
       " 'modelfit_DoubleShapeletPsfApprox_0_5',\n",
       " 'modelfit_DoubleShapeletPsfApprox_0_x',\n",
       " 'modelfit_DoubleShapeletPsfApprox_0_xx',\n",
       " 'modelfit_DoubleShapeletPsfApprox_0_xy',\n",
       " 'modelfit_DoubleShapeletPsfApprox_0_y',\n",
       " 'modelfit_DoubleShapeletPsfApprox_0_yy',\n",
       " 'modelfit_DoubleShapeletPsfApprox_1_0',\n",
       " 'modelfit_DoubleShapeletPsfApprox_1_1',\n",
       " 'modelfit_DoubleShapeletPsfApprox_1_2',\n",
       " 'modelfit_DoubleShapeletPsfApprox_1_x',\n",
       " 'modelfit_DoubleShapeletPsfApprox_1_xx',\n",
       " 'modelfit_DoubleShapeletPsfApprox_1_xy',\n",
       " 'modelfit_DoubleShapeletPsfApprox_1_y',\n",
       " 'modelfit_DoubleShapeletPsfApprox_1_yy',\n",
       " 'modelfit_DoubleShapeletPsfApprox_flag',\n",
       " 'modelfit_DoubleShapeletPsfApprox_flag_invalidMoments',\n",
       " 'modelfit_DoubleShapeletPsfApprox_flag_invalidPointForPsf',\n",
       " 'modelfit_DoubleShapeletPsfApprox_flag_maxIterations',\n",
       " 'parent',\n",
       " 'undeblended_base_CircularApertureFlux_12_0_flag',\n",
       " 'undeblended_base_CircularApertureFlux_12_0_flag_apertureTruncated',\n",
       " 'undeblended_base_CircularApertureFlux_12_0_flag_sincCoeffsTruncated',\n",
       " 'undeblended_base_CircularApertureFlux_12_0_flux',\n",
       " 'undeblended_base_CircularApertureFlux_12_0_fluxSigma',\n",
       " 'undeblended_base_CircularApertureFlux_17_0_flag',\n",
       " 'undeblended_base_CircularApertureFlux_17_0_flag_apertureTruncated',\n",
       " 'undeblended_base_CircularApertureFlux_17_0_flux',\n",
       " 'undeblended_base_CircularApertureFlux_17_0_fluxSigma',\n",
       " 'undeblended_base_CircularApertureFlux_25_0_flag',\n",
       " 'undeblended_base_CircularApertureFlux_25_0_flag_apertureTruncated',\n",
       " 'undeblended_base_CircularApertureFlux_25_0_flux',\n",
       " 'undeblended_base_CircularApertureFlux_25_0_fluxSigma',\n",
       " 'undeblended_base_CircularApertureFlux_35_0_flag',\n",
       " 'undeblended_base_CircularApertureFlux_35_0_flag_apertureTruncated',\n",
       " 'undeblended_base_CircularApertureFlux_35_0_flux',\n",
       " 'undeblended_base_CircularApertureFlux_35_0_fluxSigma',\n",
       " 'undeblended_base_CircularApertureFlux_3_0_flag',\n",
       " 'undeblended_base_CircularApertureFlux_3_0_flag_apertureTruncated',\n",
       " 'undeblended_base_CircularApertureFlux_3_0_flag_sincCoeffsTruncated',\n",
       " 'undeblended_base_CircularApertureFlux_3_0_flux',\n",
       " 'undeblended_base_CircularApertureFlux_3_0_fluxSigma',\n",
       " 'undeblended_base_CircularApertureFlux_4_5_flag',\n",
       " 'undeblended_base_CircularApertureFlux_4_5_flag_apertureTruncated',\n",
       " 'undeblended_base_CircularApertureFlux_4_5_flag_sincCoeffsTruncated',\n",
       " 'undeblended_base_CircularApertureFlux_4_5_flux',\n",
       " 'undeblended_base_CircularApertureFlux_4_5_fluxSigma',\n",
       " 'undeblended_base_CircularApertureFlux_50_0_flag',\n",
       " 'undeblended_base_CircularApertureFlux_50_0_flag_apertureTruncated',\n",
       " 'undeblended_base_CircularApertureFlux_50_0_flux',\n",
       " 'undeblended_base_CircularApertureFlux_50_0_fluxSigma',\n",
       " 'undeblended_base_CircularApertureFlux_6_0_flag',\n",
       " 'undeblended_base_CircularApertureFlux_6_0_flag_apertureTruncated',\n",
       " 'undeblended_base_CircularApertureFlux_6_0_flag_sincCoeffsTruncated',\n",
       " 'undeblended_base_CircularApertureFlux_6_0_flux',\n",
       " 'undeblended_base_CircularApertureFlux_6_0_fluxSigma',\n",
       " 'undeblended_base_CircularApertureFlux_70_0_flag',\n",
       " 'undeblended_base_CircularApertureFlux_70_0_flag_apertureTruncated',\n",
       " 'undeblended_base_CircularApertureFlux_70_0_flux',\n",
       " 'undeblended_base_CircularApertureFlux_70_0_fluxSigma',\n",
       " 'undeblended_base_CircularApertureFlux_9_0_flag',\n",
       " 'undeblended_base_CircularApertureFlux_9_0_flag_apertureTruncated',\n",
       " 'undeblended_base_CircularApertureFlux_9_0_flag_sincCoeffsTruncated',\n",
       " 'undeblended_base_CircularApertureFlux_9_0_flux',\n",
       " 'undeblended_base_CircularApertureFlux_9_0_fluxSigma',\n",
       " 'undeblended_base_PsfFlux_area',\n",
       " 'undeblended_base_PsfFlux_flag',\n",
       " 'undeblended_base_PsfFlux_flag_edge',\n",
       " 'undeblended_base_PsfFlux_flag_noGoodPixels',\n",
       " 'undeblended_base_PsfFlux_flux',\n",
       " 'undeblended_base_PsfFlux_fluxSigma',\n",
       " 'undeblended_ext_photometryKron_KronFlux_flag',\n",
       " 'undeblended_ext_photometryKron_KronFlux_flag_bad_radius',\n",
       " 'undeblended_ext_photometryKron_KronFlux_flag_bad_shape',\n",
       " 'undeblended_ext_photometryKron_KronFlux_flag_bad_shape_no_psf',\n",
       " 'undeblended_ext_photometryKron_KronFlux_flag_edge',\n",
       " 'undeblended_ext_photometryKron_KronFlux_flag_no_fallback_radius',\n",
       " 'undeblended_ext_photometryKron_KronFlux_flag_no_minimum_radius',\n",
       " 'undeblended_ext_photometryKron_KronFlux_flag_small_radius',\n",
       " 'undeblended_ext_photometryKron_KronFlux_flag_used_minimum_radius',\n",
       " 'undeblended_ext_photometryKron_KronFlux_flag_used_psf_radius',\n",
       " 'undeblended_ext_photometryKron_KronFlux_flux',\n",
       " 'undeblended_ext_photometryKron_KronFlux_fluxSigma',\n",
       " 'undeblended_ext_photometryKron_KronFlux_psf_radius',\n",
       " 'undeblended_ext_photometryKron_KronFlux_radius',\n",
       " 'undeblended_ext_photometryKron_KronFlux_radius_for_radius'}"
      ]
     },
     "execution_count": 490,
     "metadata": {},
     "output_type": "execute_result"
    }
   ],
   "source": [
    "data.schema.getNames()"
   ]
  },
  {
   "cell_type": "code",
   "execution_count": 469,
   "metadata": {},
   "outputs": [],
   "source": [
    "pix_pts = wcs.skyToPixel(sph_pts)"
   ]
  },
  {
   "cell_type": "code",
   "execution_count": 530,
   "metadata": {},
   "outputs": [
    {
     "name": "stdout",
     "output_type": "stream",
     "text": [
      "14979\n"
     ]
    },
    {
     "name": "stderr",
     "output_type": "stream",
     "text": [
      "/opt/lsst/software/stack/python/miniconda3-4.3.21/lib/python3.6/site-packages/ipykernel/__main__.py:7: RuntimeWarning: invalid value encountered in less\n"
     ]
    }
   ],
   "source": [
    "xx_arr = np.array([pix_pts[ii].getX() for ii in range(len(pix_pts))])\n",
    "yy_arr = np.array([pix_pts[ii].getY() for ii in range(len(pix_pts))])\n",
    "err = np.sqrt(data['base_SdssCentroid_xSigma']**2+\n",
    "             data['base_SdssCentroid_ySigma']**2)\n",
    "valid = np.where(np.logical_and(np.logical_not(np.isnan(err)),\n",
    "                 np.logical_and(data['base_GaussianFlux_flux']>0.0,\n",
    "                                err<1.0e7)))\n",
    "print(len(valid[0]))\n"
   ]
  },
  {
   "cell_type": "code",
   "execution_count": 531,
   "metadata": {},
   "outputs": [
    {
     "data": {
      "text/plain": [
       "<matplotlib.colorbar.Colorbar at 0x7f6087cdee80>"
      ]
     },
     "execution_count": 531,
     "metadata": {},
     "output_type": "execute_result"
    },
    {
     "data": {
      "image/png": "[encoded data removed]",
      "text/plain": [
       "<matplotlib.figure.Figure at 0x7f607f884128>"
      ]
     },
     "metadata": {},
     "output_type": "display_data"
    }
   ],
   "source": [
    "plt.scatter(xx_arr[valid], yy_arr[valid], c=err[valid],\n",
    "           cmap=plt.cm.gist_ncar)\n",
    "plt.colorbar()"
   ]
  },
  {
   "cell_type": "code",
   "execution_count": 533,
   "metadata": {},
   "outputs": [
    {
     "data": {
      "text/plain": [
       "155005.27"
      ]
     },
     "execution_count": 533,
     "metadata": {},
     "output_type": "execute_result"
    }
   ],
   "source": [
    "err[valid].max()"
   ]
  },
  {
   "cell_type": "code",
   "execution_count": 534,
   "metadata": {},
   "outputs": [],
   "source": [
    "maxdex = np.argmax(err[valid])"
   ]
  },
  {
   "cell_type": "code",
   "execution_count": 535,
   "metadata": {},
   "outputs": [
    {
     "name": "stdout",
     "output_type": "stream",
     "text": [
      "13709.786084707117 15008.900109751241 155005.27\n"
     ]
    }
   ],
   "source": [
    "print(xx_arr[valid][maxdex], yy_arr[valid][maxdex], err[valid][maxdex])\n"
   ]
  },
  {
   "cell_type": "code",
   "execution_count": 536,
   "metadata": {},
   "outputs": [
    {
     "data": {
      "text/plain": [
       "0.06089905692522539"
      ]
     },
     "execution_count": 536,
     "metadata": {},
     "output_type": "execute_result"
    }
   ],
   "source": [
    "data['base_GaussianFlux_flux'][valid][maxdex]"
   ]
  },
  {
   "cell_type": "code",
   "execution_count": 537,
   "metadata": {},
   "outputs": [],
   "source": [
    "calexp = butler.get('deepCoadd_calexp',\n",
    "                   dataId={'filter':'HSC-R',\n",
    "                          'tract':10054,\n",
    "                          'patch':'3,3'})\n",
    "calib = calexp.getCalib()"
   ]
  },
  {
   "cell_type": "code",
   "execution_count": 538,
   "metadata": {},
   "outputs": [
    {
     "name": "stdout",
     "output_type": "stream",
     "text": [
      "30.038473581855495\n"
     ]
    }
   ],
   "source": [
    "print(calib.getMagnitude(data['base_GaussianFlux_flux'][valid][maxdex]))"
   ]
  },
  {
   "cell_type": "code",
   "execution_count": 539,
   "metadata": {},
   "outputs": [],
   "source": [
    "mags = calib.getMagnitude(data['base_GaussianFlux_flux'][valid])"
   ]
  },
  {
   "cell_type": "code",
   "execution_count": 540,
   "metadata": {},
   "outputs": [
    {
     "data": {
      "image/png": "[encoded data removed]",
      "text/plain": [
       "<matplotlib.figure.Figure at 0x7f6087cc68d0>"
      ]
     },
     "metadata": {},
     "output_type": "display_data"
    }
   ],
   "source": [
    "plt.scatter(mags,err[valid])\n",
    "axes = plt.gca()\n",
    "axes.xlim=(20,30)\n",
    "plt.show()"
   ]
  },
  {
   "cell_type": "code",
   "execution_count": 541,
   "metadata": {},
   "outputs": [
    {
     "data": {
      "text/plain": [
       "SchemaItem(key=Key<F>(offset=56, nElements=1), field=Field['F'](name=\"base_SdssCentroid_xSigma\", doc=\"1-sigma uncertainty on x position\", units=\"pixel\"))"
      ]
     },
     "execution_count": 541,
     "metadata": {},
     "output_type": "execute_result"
    }
   ],
   "source": [
    "data.schema.find('base_SdssCentroid_xSigma')"
   ]
  },
  {
   "cell_type": "code",
   "execution_count": null,
   "metadata": {},
   "outputs": [],
   "source": []
  }
 ],
 "metadata": {
  "kernelspec": {
   "display_name": "LSST",
   "language": "python",
   "name": "lsst"
  },
  "language_info": {
   "codemirror_mode": {
    "name": "ipython",
    "version": 3
   },
   "file_extension": ".py",
   "mimetype": "text/x-python",
   "name": "python",
   "nbconvert_exporter": "python",
   "pygments_lexer": "ipython3",
   "version": "3.6.2"
  }
 },
 "nbformat": 4,
 "nbformat_minor": 2
}
