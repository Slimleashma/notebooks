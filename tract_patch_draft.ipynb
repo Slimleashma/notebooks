{
 "cells": [
  {
   "cell_type": "code",
   "execution_count": 337,
   "metadata": {},
   "outputs": [],
   "source": [
    "import numpy as np\n",
    "from lsst.daf.persistence import Butler\n",
    "butler = Butler('/datasets/hsc/repo/rerun/DM-13666/DEEP')"
   ]
  },
  {
   "cell_type": "code",
   "execution_count": 338,
   "metadata": {},
   "outputs": [],
   "source": [
    "sky_map = butler.get('deepCoadd_skyMap')"
   ]
  },
  {
   "cell_type": "code",
   "execution_count": 339,
   "metadata": {},
   "outputs": [],
   "source": [
    "import numpy as np\n",
    "\n",
    "class ArbitrarySkyQuery(object):\n",
    "\n",
    "    def __init__(self, sky_map):\n",
    "    \n",
    "        self.sky_map = sky_map\n",
    "    \n",
    "        # an array of the centers of all tracts (Cartesian)\n",
    "        self.tract_center_array = np.zeros((len(sky_map), 3), dtype=float)\n",
    "\n",
    "        # an array of the angular radii of all tracts (in degrees)\n",
    "        self.tract_radius_array = np.zeros(len(sky_map), dtype=float)\n",
    "\n",
    "        # a dict keyed on tract id that gives the cartesian centers\n",
    "        # of all patches\n",
    "        self.tract_patch_centers = {}\n",
    "        self.tract_patch_radii = {}\n",
    "\n",
    "        # a dict that will associate the integer id of a patch\n",
    "        # in self.tract_patch_center_dict[tract_id] with the\n",
    "        # (ix, iy) identity of the patch\n",
    "        self.tract_patch_lookup = {}\n",
    "        self.tract_patch_initialized = {}\n",
    "\n",
    "        for ii in range(len(self.sky_map)):\n",
    "            tract = self.sky_map[ii]\n",
    "            wcs = tract.getWcs()\n",
    "            bbox = tract.getBBox()\n",
    "\n",
    "            tract_center = np.array(tract.getCtrCoord().getVector())                          \n",
    "               \n",
    "            dist_max = None\n",
    "            for xx in [bbox.getMinX(), bbox.getMaxX()]:\n",
    "                for yy in [bbox.getMinY(), bbox.getMaxY()]:\n",
    "                    sky_pt = np.array(wcs.pixelToSky(xx, yy).getVector())\n",
    "                    dp = np.dot(tract_center, sky_pt)\n",
    "                    rr = np.abs(np.arccos(dp))\n",
    "                    if dist_max is None or rr>dist_max:\n",
    "                        dist_max = rr\n",
    "            self.tract_radius_array[ii] = np.degrees(dist_max)\n",
    " \n",
    "            self.tract_center_array[ii] = tract_center\n",
    "            patch_grid_dim = tract.getNumPatches()\n",
    "            self.tract_patch_lookup[ii] = []\n",
    "            self.tract_patch_initialized[ii] = False\n",
    "            ct = 0\n",
    "            for i1 in range(patch_grid_dim[0]):\n",
    "                for i2 in range(patch_grid_dim[1]):\n",
    "                    self.tract_patch_lookup[ii].append((i1,i2))\n",
    "                    ct += 1\n",
    "            self.tract_patch_lookup[ii] = np.array(self.tract_patch_lookup[ii])\n",
    "            self.tract_patch_centers[ii] = np.zeros((ct,3), dtype=float)\n",
    "            self.tract_patch_radii[ii] = np.zeros(ct, dtype=float)\n",
    "\n",
    "    def find_tracts(self, ra, dec, angular_radius):\n",
    "        \"\"\"\n",
    "        ra, dec, angular radius are all in degrees\n",
    "        \"\"\"\n",
    "        ra_rad = np.radians(ra)\n",
    "        dec_rad = np.radians(dec)\n",
    "        xyz = np.array([np.cos(dec_rad)*np.cos(ra_rad),\n",
    "                        np.cos(dec_rad)*np.sin(ra_rad),\n",
    "                        np.sin(dec_rad)])\n",
    "        dot_prod = np.dot(self.tract_center_array, xyz)\n",
    "        valid = np.where(dot_prod>np.cos(np.radians(angular_radius +\n",
    "                                                    self.tract_radius_array)))\n",
    "\n",
    "        print('valid dot')\n",
    "        print(dot_prod[valid])\n",
    "        for i_valid in valid[0]:\n",
    "            print(np.dot(xyz,self.tract_center_array[i_valid]))\n",
    "        return valid\n",
    "    \n",
    "    def _initialize_patch_coords(self, tract_id):\n",
    "        \"\"\"\n",
    "        compute the centers and radii for the patches in a tract\n",
    "\n",
    "        tract_id is an integer denoting the tract we are dealing with\n",
    "        \"\"\"\n",
    "        if self.tract_patch_initialized[tract_id]:\n",
    "            return\n",
    "        print('initializing ',tract_id)\n",
    "        tract = self.sky_map[tract_id]\n",
    "        wcs = tract.getWcs()\n",
    "\n",
    "        xyz_array = np.zeros((4,3), dtype=float)\n",
    "        for ii in range(len(self.tract_patch_lookup[tract_id])):\n",
    "            patch_id = self.tract_patch_lookup[tract_id][ii]\n",
    "            patch = tract[patch_id[0], patch_id[1]]\n",
    "            bbox = patch.getOuterBBox()\n",
    "            ct = 0\n",
    "            for xx in [bbox.getMinX(), bbox.getMaxX()]:\n",
    "                for yy in [bbox.getMinY(), bbox.getMaxY()]:\n",
    "                    sky = np.array(wcs.pixelToSky(xx, yy).getVector())\n",
    "                    xyz_array[ct] = sky\n",
    "                    ct += 1\n",
    "            center_xyz = np.array([np.mean(xyz_array[:,0]),\n",
    "                                   np.mean(xyz_array[:,1]),\n",
    "                                   np.mean(xyz_array[:,2])])\n",
    "            self.tract_patch_centers[tract_id][ii] = center_xyz\n",
    "            \n",
    "            dist_max = None\n",
    "            for xyz in xyz_array:\n",
    "                dp = np.dot(xyz, center_xyz)\n",
    "                rr = np.degrees(np.abs(np.arccos(dp)))\n",
    "                if dist_max is None or rr> dist_max:\n",
    "                    dist_max = rr\n",
    "            self.tract_patch_radii[tract_id][ii] = dist_max\n",
    "\n",
    "        self.tract_patch_initialized[tract_id] = True\n",
    "    \n",
    "    def find_patches(self, ra, dec, angular_distance, tract_id):\n",
    "        \"\"\"\n",
    "        ra -- ra of boresite in degrees\n",
    "        dec -- dec of boresite in degrees\n",
    "        angular_distance -- radius of patch of sky in degrees\n",
    "        tract_id -- integer ID of the tract being considered\n",
    "        \n",
    "        returns:\n",
    "        --------\n",
    "        A 2-D list.  Each row contains the ix, iy indices of\n",
    "        patches that may overlap the region\n",
    "        \"\"\"\n",
    "        if not self.tract_patch_initialized[tract_id]:\n",
    "            self._initialize_patch_coords(tract_id)\n",
    "        \n",
    "        ra_rad = np.radians(ra)\n",
    "        dec_rad = np.radians(dec)\n",
    "        xyz = np.array([np.cos(dec_rad)*np.cos(ra_rad),\n",
    "                        np.cos(dec_rad)*np.sin(ra_rad),\n",
    "                        np.sin(dec_rad)])\n",
    "        \n",
    "        patch_centers = self.tract_patch_centers[tract_id]\n",
    "        patch_radii = self.tract_patch_radii[tract_id]\n",
    "        valid = np.where(np.dot(patch_centers, xyz) >\n",
    "                         np.cos(np.radians(patch_radii+angular_distance)))\n",
    "        return self.tract_patch_lookup[tract_id][valid]"
   ]
  },
  {
   "cell_type": "code",
   "execution_count": 340,
   "metadata": {},
   "outputs": [],
   "source": [
    "asq = ArbitrarySkyQuery(sky_map)"
   ]
  },
  {
   "cell_type": "code",
   "execution_count": 341,
   "metadata": {},
   "outputs": [
    {
     "name": "stdout",
     "output_type": "stream",
     "text": [
      "valid dot\n",
      "[0.99992998 0.99986769]\n",
      "0.9999299780253365\n",
      "0.9998676940551104\n"
     ]
    }
   ],
   "source": [
    "ra=23.0\n",
    "dec=-12.0\n",
    "dist = 0.1\n",
    "valid_tracts = asq.find_tracts(ra, dec, dist)"
   ]
  },
  {
   "cell_type": "code",
   "execution_count": 342,
   "metadata": {},
   "outputs": [
    {
     "name": "stdout",
     "output_type": "stream",
     "text": [
      "tract 7318\n",
      "initializing  7318\n",
      "[[2 7]\n",
      " [2 8]\n",
      " [3 7]\n",
      " [3 8]\n",
      " [4 7]\n",
      " [4 8]]\n",
      "tract 7555\n",
      "initializing  7555\n",
      "[[1 0]\n",
      " [2 0]\n",
      " [3 0]]\n"
     ]
    }
   ],
   "source": [
    "for tract_id in valid_tracts[0]:\n",
    "    print('tract %d' % tract_id)\n",
    "    patches = asq.find_patches(ra, dec, dist, tract_id)\n",
    "    print(patches)"
   ]
  },
  {
   "cell_type": "code",
   "execution_count": 343,
   "metadata": {},
   "outputs": [],
   "source": [
    "from lsst.afw.geom import SpherePoint, Angle, degrees"
   ]
  },
  {
   "cell_type": "code",
   "execution_count": 344,
   "metadata": {},
   "outputs": [
    {
     "data": {
      "text/plain": [
       "PatchInfo(index=(3, 7), innerBBox=(minimum=(12000, 28000), maximum=(15999, 31999)), outerBBox=(minimum=(11900, 27900), maximum=(16099, 32099)))"
      ]
     },
     "execution_count": 344,
     "metadata": {},
     "output_type": "execute_result"
    }
   ],
   "source": [
    "ra_afw = Angle(ra, degrees)\n",
    "dec_afw = Angle(dec, degrees)\n",
    "sph_pt = SpherePoint(ra_afw, dec_afw)\n",
    "tract_info = sky_map.findTract(sph_pt)\n",
    "tract_id = tract_info.getId()\n",
    "tract_truth = sky_map[tract_id]\n",
    "tract_truth.findPatch(sph_pt)"
   ]
  },
  {
   "cell_type": "code",
   "execution_count": 345,
   "metadata": {},
   "outputs": [
    {
     "name": "stdout",
     "output_type": "stream",
     "text": [
      "2\n",
      "18938\n",
      "(array([7318, 7555]),)\n",
      "[ 0.90038961  0.38219272 -0.20791169]\n",
      "[ 0.899605    0.37787851 -0.21890332]\n",
      "0.9999299780253365\n"
     ]
    }
   ],
   "source": [
    "print(len(valid_tracts[0]))\n",
    "print(len(tract_center_array))\n",
    "print(valid_tracts)\n",
    "ra_rad = np.radians(ra)\n",
    "dec_rad = np.radians(dec)\n",
    "xyz = np.array([np.cos(dec_rad)*np.cos(ra_rad), np.cos(dec_rad)*np.sin(ra_rad),\n",
    "                np.sin(dec_rad)])\n",
    "center = asq.tract_center_array[7318]\n",
    "print(xyz)\n",
    "print(center)\n",
    "print(np.dot(xyz,center))"
   ]
  },
  {
   "cell_type": "code",
   "execution_count": null,
   "metadata": {},
   "outputs": [],
   "source": []
  },
  {
   "cell_type": "code",
   "execution_count": null,
   "metadata": {},
   "outputs": [],
   "source": []
  }
 ],
 "metadata": {
  "kernelspec": {
   "display_name": "LSST",
   "language": "python",
   "name": "lsst"
  },
  "language_info": {
   "codemirror_mode": {
    "name": "ipython",
    "version": 3
   },
   "file_extension": ".py",
   "mimetype": "text/x-python",
   "name": "python",
   "nbconvert_exporter": "python",
   "pygments_lexer": "ipython3",
   "version": "3.6.2"
  }
 },
 "nbformat": 4,
 "nbformat_minor": 2
}
