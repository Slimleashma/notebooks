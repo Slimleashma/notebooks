{
 "cells": [
  {
   "cell_type": "markdown",
   "metadata": {},
   "source": [
    "# Notebook for running Serial CTE on ComCam data, using the EPER method.\n",
    "\n",
    "Initially written 15 Nov 2019 by Craig Lage.\n",
    "Not based on DM code."
   ]
  },
  {
   "cell_type": "code",
   "execution_count": 1,
   "metadata": {},
   "outputs": [],
   "source": [
    "import matplotlib.pyplot as plt\n",
    "from matplotlib.backends.backend_pdf import PdfPages\n",
    "import numpy as np\n",
    "import astropy.io.fits as pf\n",
    "import sys, glob"
   ]
  },
  {
   "cell_type": "code",
   "execution_count": 2,
   "metadata": {},
   "outputs": [],
   "source": [
    "REPO_DIR = '/project/shared/comCam/'\n",
    "OUTPUT_DIR = '/home/cslage/ComCam/20191113/'\n",
    "raftName = 'R22'"
   ]
  },
  {
   "cell_type": "code",
   "execution_count": 3,
   "metadata": {},
   "outputs": [
    {
     "name": "stdout",
     "output_type": "stream",
     "text": [
      "279\n",
      "CC_C_20191113_000078_R22_S00.fits\tEXPOSE\t6.000000\n"
     ]
    }
   ],
   "source": [
    "# First check the exposure times\n",
    "filedir = REPO_DIR+'raw/20191113/'\n",
    "files = np.sort(glob.glob(filedir+'CC_C_20191113_000???/CC_C_20191113_000???_R22_S00.fits'))\n",
    "numFiles = len(files)\n",
    "print(numFiles)\n",
    "# Choosing a 6 second exposure - about 75% full well.\n",
    "for file in files[77:78]:\n",
    "    hdulist = pf.open(file, mode='readonly', do_not_scale_image_data=True)\n",
    "        \n",
    "    phdr=hdulist[0].header\n",
    "    filename = phdr['FILENAME']\n",
    "    exptime = phdr['EXPTIME']\n",
    "    imgtype = phdr['IMGTYPE'] \n",
    "    print(\"%s\\t%s\\t%f\"%(filename, imgtype, exptime))"
   ]
  },
  {
   "cell_type": "code",
   "execution_count": 4,
   "metadata": {},
   "outputs": [
    {
     "name": "stdout",
     "output_type": "stream",
     "text": [
      "9\n",
      "CC_C_20191113_000078_R22_S00.fits\tEXPOSE\t6.000000\n",
      "CC_C_20191113_000078_R22_S01.fits\tEXPOSE\t6.000000\n",
      "CC_C_20191113_000078_R22_S02.fits\tEXPOSE\t6.000000\n",
      "CC_C_20191113_000078_R22_S10.fits\tEXPOSE\t6.000000\n",
      "CC_C_20191113_000078_R22_S11.fits\tEXPOSE\t6.000000\n",
      "CC_C_20191113_000078_R22_S12.fits\tEXPOSE\t6.000000\n",
      "CC_C_20191113_000078_R22_S20.fits\tEXPOSE\t6.000000\n",
      "CC_C_20191113_000078_R22_S21.fits\tEXPOSE\t6.000000\n",
      "CC_C_20191113_000078_R22_S22.fits\tEXPOSE\t6.000000\n"
     ]
    }
   ],
   "source": [
    "# Process just this one exposure time, all nine CCDs\n",
    "filedir = REPO_DIR+'raw/20191113/'\n",
    "files = np.sort(glob.glob(filedir+'CC_C_20191113_000078/CC_C_20191113_000078_R22_S??.fits'))\n",
    "numFiles = len(files)\n",
    "print(numFiles)\n",
    "\n",
    "for file in files:#[77:78]:\n",
    "    hdulist = pf.open(file, mode='readonly', do_not_scale_image_data=True)\n",
    "        \n",
    "    phdr=hdulist[0].header\n",
    "    filename = phdr['FILENAME']\n",
    "    exptime = phdr['EXPTIME']\n",
    "    imgtype = phdr['IMGTYPE'] \n",
    "    print(\"%s\\t%s\\t%f\"%(filename, imgtype, exptime))"
   ]
  },
  {
   "cell_type": "code",
   "execution_count": 5,
   "metadata": {},
   "outputs": [
    {
     "name": "stdout",
     "output_type": "stream",
     "text": [
      "/project/shared/comCam/raw/20191113/CC_C_20191113_000078/CC_C_20191113_000078_R22_S00.fits\n",
      "078 S00\n",
      "/project/shared/comCam/raw/20191113/CC_C_20191113_000078/CC_C_20191113_000078_R22_S01.fits\n",
      "078 S01\n",
      "/project/shared/comCam/raw/20191113/CC_C_20191113_000078/CC_C_20191113_000078_R22_S02.fits\n",
      "078 S02\n",
      "/project/shared/comCam/raw/20191113/CC_C_20191113_000078/CC_C_20191113_000078_R22_S10.fits\n",
      "078 S10\n",
      "/project/shared/comCam/raw/20191113/CC_C_20191113_000078/CC_C_20191113_000078_R22_S11.fits\n",
      "078 S11\n",
      "/project/shared/comCam/raw/20191113/CC_C_20191113_000078/CC_C_20191113_000078_R22_S12.fits\n",
      "078 S12\n",
      "/project/shared/comCam/raw/20191113/CC_C_20191113_000078/CC_C_20191113_000078_R22_S20.fits\n",
      "078 S20\n",
      "/project/shared/comCam/raw/20191113/CC_C_20191113_000078/CC_C_20191113_000078_R22_S21.fits\n",
      "078 S21\n",
      "/project/shared/comCam/raw/20191113/CC_C_20191113_000078/CC_C_20191113_000078_R22_S22.fits\n",
      "078 S22\n"
     ]
    },
    {
     "data": {
      "text/plain": [
       "<Figure size 432x288 with 0 Axes>"
      ]
     },
     "metadata": {},
     "output_type": "display_data"
    }
   ],
   "source": [
    "# These are for the ITL sensor, idenifying the end of the imaging region and the overscan region.\n",
    "xstart = 505\n",
    "xstop = 542\n",
    "ov_start = 512\n",
    "# Run most of the rows, but stay away from the edges.\n",
    "ystart = 200\n",
    "ystop = 1800\n",
    "xaxis = np.linspace(xstart,xstop-1,xstop-xstart)\n",
    "\n",
    "pdf = PdfPages(OUTPUT_DIR+'plots/ComCam_Serial_CTI_20191113000078.pdf')\n",
    "for file in files:\n",
    "    print(file)\n",
    "    name = file[74:77]\n",
    "    det = file[82:85]\n",
    "    print(name, det)\n",
    "    hdulist = pf.open(file, mode='readonly', do_not_scale_image_data=True)\n",
    "    fig = plt.figure(figsize=(15,15))\n",
    "    plt.subplots_adjust(hspace = 0.5, wspace = 0.5)\n",
    "    plt.suptitle(\"Serial CTE by segment - ITL ComCam, R22_%s\\n\"%det, fontsize=24)\n",
    "    for segment in range(16):\n",
    "            #try:\n",
    "            plt.subplot(4,4,segment+1)\n",
    "            imhdr=hdulist[segment+1].header\n",
    "            extname = imhdr['EXTNAME']\n",
    "            plt.title(\"CTE - %s\"%extname)\n",
    "            data = np.array(hdulist[segment+1].data + 32768, dtype = np.int32)\n",
    "            flat_overscan = np.mean(np.array(data[:,xstop-8:xstop]),axis = 1)\n",
    "            cte_data = ((np.transpose(np.transpose(data) - flat_overscan))[ystart:ystop,:].mean(axis=0))[xstart:xstop]\n",
    "            cte_std = ((np.transpose(np.transpose(data) - flat_overscan))[ystart:ystop,:].std(axis=0) / np.sqrt(float(ystop-ystart)))[xstart:xstop]\n",
    "            cti = np.median((np.transpose(np.transpose(data) - flat_overscan))[ystart:ystop,ov_start]\\\n",
    "            / (np.transpose(np.transpose(data) - flat_overscan))[ystart:ystop,ov_start-1]) / ov_start\n",
    "\n",
    "            plt.scatter(xaxis, cte_data, color = 'blue')\n",
    "            plt.errorbar(xaxis, cte_data, yerr=cte_std)\n",
    "            plt.text(xstart + 8, 20000, \"CTI = %.2E\"%cti, fontsize = 12)\n",
    "            plt.yscale('log',nonposy='clip')\n",
    "            plt.ylim(.01, 200000)\n",
    "            plt.xticks([510,520,530,540])\n",
    "            plt.xlabel(\"X (First overscan = 512)\")\n",
    "            plt.ylabel(\"Signal(ADU)\")\n",
    "            #print(\"Segment %s done\"%extname)\n",
    "            #except:\n",
    "            #continue\n",
    "    pdf.savefig(fig)  # saves the current figure into a pdf page\n",
    "    plt.close()\n",
    "    plt.savefig(\"/home/cslage/WORK/ats/Serial_CTE_%s_15Aug19.pdf\"%name)\n",
    "    plt.clf()\n",
    "pdf.close()"
   ]
  },
  {
   "cell_type": "code",
   "execution_count": 6,
   "metadata": {},
   "outputs": [
    {
     "name": "stdout",
     "output_type": "stream",
     "text": [
      "XTENSION BINTABLE\n",
      "BITPIX 8\n",
      "NAXIS 2\n",
      "NAXIS1 0\n",
      "NAXIS2 0\n",
      "PCOUNT 0\n",
      "GCOUNT 1\n",
      "TFIELDS 0\n",
      "CHECKSUM IGlqI9joIEjoI9jo\n",
      "TEMP1 -9.875\n",
      "TEMP2 -9.8125\n",
      "TEMP3 -22.5625\n",
      "TEMP4 -18.4375\n",
      "TEMP5 -20.1875\n",
      "TEMP6 -17.6875\n",
      "GDP 20.0\n",
      "GD 0\n",
      "RDP 13.0\n",
      "RD 0\n",
      "OGP -2.0\n",
      "OG 0\n",
      "ODP 25.0\n",
      "OD 0\n",
      "CSGATEP 1.0\n",
      "CSGATE 0\n",
      "AP0_RC 15\n",
      "AP1_RC 15\n",
      "AP0_GAIN 1\n",
      "AP1_GAIN 1\n",
      "AP0_CLMP 0\n",
      "AP1_CLMP 0\n",
      "AP0_AF1 0\n",
      "AP1_AF1 0\n",
      "SCK_LOWP -5.0\n",
      "SCK_LOW 0\n",
      "SCK_HIP 5.0\n",
      "SCK_HI 0\n",
      "PCK_LOWP -8.0\n",
      "PCK_LOW 0\n",
      "PCK_HIP 2.0\n",
      "PCK_HI 0\n",
      "RG_LOWP -2.0\n",
      "RG_LOW 0\n",
      "RG_HIP 8.0\n",
      "RG_HI 0\n",
      "HVBIAS UNKNOWN\n",
      "POWER 0.0\n",
      "ODVB 0.775\n",
      "ODIB 0.0\n",
      "ODVA 0.4738\n",
      "ODVA2 0.47500000000000003\n",
      "ODIA 0.0\n",
      "ODVS 0.0\n",
      "BSSVBS 0.15000000000000002\n",
      "BSSIBS 0.0\n",
      "DATASUM 0\n"
     ]
    }
   ],
   "source": [
    "# Query the voltage condition header\n",
    "hdulist = pf.open(files[0], mode='readonly', do_not_scale_image_data=True)\n",
    "\n",
    "hdr18=hdulist[17].header\n",
    "for key in hdr18.keys():\n",
    "    print(key,hdr18[key])\n",
    "\n"
   ]
  },
  {
   "cell_type": "code",
   "execution_count": null,
   "metadata": {},
   "outputs": [],
   "source": []
  }
 ],
 "metadata": {
  "kernelspec": {
   "display_name": "Python 3",
   "language": "python",
   "name": "python3"
  },
  "language_info": {
   "codemirror_mode": {
    "name": "ipython",
    "version": 3
   },
   "file_extension": ".py",
   "mimetype": "text/x-python",
   "name": "python",
   "nbconvert_exporter": "python",
   "pygments_lexer": "ipython3",
   "version": "3.6.8"
  }
 },
 "nbformat": 4,
 "nbformat_minor": 4
}
