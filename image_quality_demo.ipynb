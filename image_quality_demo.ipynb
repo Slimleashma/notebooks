{
 "cells": [
  {
   "cell_type": "markdown",
   "metadata": {},
   "source": [
    "# LSST DM Stack Image Quality Walkthrough\n",
    "\n",
    "Author: Keith Bechtol\n",
    "\n",
    "Last edited: 2018-06-22\n",
    "\n",
    "Works on DM Stack release: Weekly `2018_24` \n",
    "\n",
    "You can find the Stack version by using `eups list -s` on the terminal command line.\n",
    "\n",
    "This notebook provides a walkthrough of several image quality measurements in the LSST DM Stack. This walk-through is based on the following resources, which should be consulted for further details:\n",
    "\n",
    "* _The Hyper Suprime-Cam Software Pipeline_: https://arxiv.org/abs/1705.06766\n",
    "* _The first-year shear catalog of the Subaru Hyper-Suprime-Cam SSP Survey_: https://arxiv.org/abs/1705.06745\n",
    "* https://github.com/msimet/Stile"
   ]
  },
  {
   "cell_type": "code",
   "execution_count": 1,
   "metadata": {},
   "outputs": [],
   "source": [
    "import numpy as np\n",
    "from matplotlib import pyplot as plt\n",
    "%matplotlib inline"
   ]
  },
  {
   "cell_type": "markdown",
   "metadata": {},
   "source": [
    "## Prelude: Data Sample\n",
    "\n",
    "Begin by identifying a data sample to use for illustration. In this example, we will use a recent reprocessing of the HSC SSP DR1.\n",
    "\n",
    "Information available here: https://confluence.lsstcorp.org/display/DM/S18+HSC+PDR1+reprocessing\n",
    "\n",
    "The output repos are:\n",
    "* /datasets/hsc/repo/rerun/DM-13666/UDEEP/\n",
    "* /datasets/hsc/repo/rerun/DM-13666/DEEP/\n",
    "* /datasets/hsc/repo/rerun/DM-13666/WIDE/\n",
    "\n",
    "Note that each of the data repositories contains all of the HSC visits, so one has to select by field to get the visits corresponding to a particular Strategic Survey Program (SSP) survey."
   ]
  },
  {
   "cell_type": "code",
   "execution_count": 2,
   "metadata": {},
   "outputs": [],
   "source": [
    "import lsst.daf.persistence as daf_persistence"
   ]
  },
  {
   "cell_type": "code",
   "execution_count": 3,
   "metadata": {},
   "outputs": [],
   "source": [
    "# Instantiate the butler\n",
    "band = 'HSC-I'\n",
    "depth = 'WIDE' # WIDE, DEEP, UDEEP\n",
    "field = 'SSP_WIDE' # SSP_WIDE, SSP_DEEP, SSP_UDEEP\n",
    "butler = daf_persistence.Butler('/datasets/hsc/repo/rerun/DM-13666/%s/'%(depth))"
   ]
  },
  {
   "cell_type": "code",
   "execution_count": 4,
   "metadata": {},
   "outputs": [
    {
     "name": "stdout",
     "output_type": "stream",
     "text": [
      "{'filter': 'HSC-I', 'field': 'SSP_WIDE', 'pointing': 1318, 'visit': 38056, 'ccd': 27, 'dateObs': '2015-08-11', 'taiObs': '2015-08-11', 'expTime': 200.0}\n"
     ]
    }
   ],
   "source": [
    "# Obtain a random dataid for a single-CCD image in the i-band\n",
    "subset = butler.subset('calexp', dataId={'filter':band, 'field':field})\n",
    "dataid = subset.cache[0]\n",
    "print(dataid)"
   ]
  },
  {
   "cell_type": "code",
   "execution_count": null,
   "metadata": {},
   "outputs": [],
   "source": [
    "# Use that dataid to get the image and associated source catalog\n",
    "calexp = butler.get('calexp', **dataid)\n",
    "src = butler.get('src', **dataid)\n",
    "\n",
    "# Note that the calexp contains a PSF object\n",
    "psf = calexp.getPsf()"
   ]
  },
  {
   "cell_type": "markdown",
   "metadata": {},
   "source": [
    "## Part 1: PSF Model"
   ]
  },
  {
   "cell_type": "code",
   "execution_count": null,
   "metadata": {},
   "outputs": [],
   "source": [
    "import numpy as np"
   ]
  },
  {
   "cell_type": "code",
   "execution_count": null,
   "metadata": {},
   "outputs": [],
   "source": [
    "shape = psf.computeShape()"
   ]
  },
  {
   "cell_type": "markdown",
   "metadata": {},
   "source": [
    "### PSF Size\n",
    "\n",
    "Two common methods of computing the PSF size are the trace radius and determinant radius\n",
    "\n",
    "Second moments\n",
    "\n",
    "$Q = \\begin{bmatrix}\n",
    "    I_{xx} & I_{xy} \\\\\n",
    "    I_{xy} & I_{yy}\n",
    "  \\end{bmatrix}$\n",
    "  \n",
    "The trace radius is defined as $\\rm{Tr}(Q) = \\sqrt{\\frac{I_{xx} + I_{yy}}{2}}$ and determinant radius is defined as $\\rm{Det(Q)} = (I_{xx} I_{yy} - I_{xy}I_{xy})^\\frac{1}{4}$"
   ]
  },
  {
   "cell_type": "code",
   "execution_count": null,
   "metadata": {},
   "outputs": [],
   "source": [
    "# Trace radius (units are arcseconds?)\n",
    "assert shape.getTraceRadius() == np.sqrt((shape.getIxx() + shape.getIyy()) / 2.)\n",
    "print(shape.getTraceRadius())"
   ]
  },
  {
   "cell_type": "code",
   "execution_count": null,
   "metadata": {},
   "outputs": [],
   "source": [
    "# Determinant radius\n",
    "assert shape.getDeterminantRadius() == (shape.getIxx() * shape.getIyy() - shape.getIxy()**2)**(1. / 4.)\n",
    "print(shape.getDeterminantRadius())"
   ]
  },
  {
   "cell_type": "markdown",
   "metadata": {},
   "source": [
    "For visualization purposes, let's evaluate the PSF model at grid of points across the image\n",
    "\n",
    "$\\tan(2 \\phi) = \\frac{2 I_{xy}}{I_{xx} - I_{yy}} $"
   ]
  },
  {
   "cell_type": "code",
   "execution_count": null,
   "metadata": {},
   "outputs": [],
   "source": [
    "from lsst.afw.geom import Point2D\n",
    "\n",
    "n = 100\n",
    "x_array = np.arange(0, calexp.getDimensions()[0], 200)\n",
    "y_array = np.arange(0, calexp.getDimensions()[1], 200)\n",
    "xx, yy = np.meshgrid(x_array, y_array)\n",
    "\n",
    "print(calexp.getDimensions())\n",
    "\n",
    "size = []\n",
    "i_xx = []\n",
    "i_yy = []\n",
    "i_xy = []\n",
    "for x, y in zip(xx.flatten(), yy.flatten()):\n",
    "    point = Point2D(x, y)\n",
    "    shape = psf.computeShape(point)\n",
    "    size.append(shape.getTraceRadius())\n",
    "    i_xx.append(shape.getIxx())\n",
    "    i_yy.append(shape.getIyy())\n",
    "    i_xy.append(shape.getIxy())\n",
    "size = np.reshape(size, xx.shape)\n",
    "i_xx = np.reshape(i_xx, xx.shape)\n",
    "i_yy = np.reshape(i_yy, xx.shape)\n",
    "i_xy = np.reshape(i_xy, xx.shape)\n",
    "\n",
    "#phi = np.degrees(np.arctan2(2. * i_xy, i_xx - i_yy) / 2.)\n",
    "phi = np.arctan2(2. * i_xy, i_xx - i_yy) / 2.\n",
    "e1 = (i_xx - i_yy) / (i_xx + i_yy)\n",
    "e2 = (2. * i_xy) / (i_xx + i_yy)\n",
    "phi = np.arctan2(e2, e1) / 2.\n",
    "assert np.allclose(np.arctan2(e2, e1) / 2., np.arctan2(2. * i_xy, i_xx - i_yy) / 2.)\n",
    "e = np.sqrt(e1**2 + e2**2)\n",
    "ex = e * np.cos(phi)\n",
    "ey = e * np.sin(phi)"
   ]
  },
  {
   "cell_type": "code",
   "execution_count": null,
   "metadata": {},
   "outputs": [],
   "source": [
    "plt.figure(figsize=(20, 6))\n",
    "plt.subplots_adjust(wspace=0.5)\n",
    "\n",
    "plt.subplot(1, 4, 1)\n",
    "plt.quiver(xx, yy, ex, ey, e, headlength=0., headwidth=1., pivot='mid', width=0.01)\n",
    "#plt.quiver(xx, yy, scale=e, angles=phi, headlength=0., headwidth=1., pivot='mid', width=0.005)\n",
    "#colorbar = plt.colorbar(label='r$\\sqrt(e1^{2} + e2^{2})$')\n",
    "colorbar = plt.colorbar(label='e')\n",
    "plt.clim(0., 0.05)\n",
    "plt.xlabel('x')\n",
    "plt.ylabel('y')\n",
    "\n",
    "plt.subplot(1, 4, 2)\n",
    "plt.scatter(xx, yy, c=e1, vmin=-0.05, vmax=0.05, cmap='bwr')\n",
    "colorbar = plt.colorbar(label='e1')\n",
    "plt.xlabel('x')\n",
    "plt.ylabel('y')\n",
    "\n",
    "plt.subplot(1, 4, 3)\n",
    "plt.scatter(xx, yy, c=e2, vmin=-0.05, vmax=0.05, cmap='bwr')\n",
    "colorbar = plt.colorbar(label='e2')\n",
    "plt.xlabel('x')\n",
    "plt.ylabel('y')\n",
    "\n",
    "plt.subplot(1, 4, 4)\n",
    "plt.scatter(xx, yy, c=size)\n",
    "colorbar = plt.colorbar(label='Trace Radius')\n",
    "plt.xlabel('x')\n",
    "plt.ylabel('y')"
   ]
  },
  {
   "cell_type": "markdown",
   "metadata": {},
   "source": [
    "## Part 2: Source Catalog Shape Measurements"
   ]
  },
  {
   "cell_type": "markdown",
   "metadata": {},
   "source": [
    "## Part 3: Characterization"
   ]
  },
  {
   "cell_type": "code",
   "execution_count": null,
   "metadata": {},
   "outputs": [],
   "source": []
  }
 ],
 "metadata": {
  "kernelspec": {
   "display_name": "LSST",
   "language": "python",
   "name": "lsst"
  },
  "language_info": {
   "codemirror_mode": {
    "name": "ipython",
    "version": 3
   },
   "file_extension": ".py",
   "mimetype": "text/x-python",
   "name": "python",
   "nbconvert_exporter": "python",
   "pygments_lexer": "ipython3",
   "version": "3.6.2"
  }
 },
 "nbformat": 4,
 "nbformat_minor": 2
}
