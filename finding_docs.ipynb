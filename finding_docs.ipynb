{
 "cells": [
  {
   "cell_type": "markdown",
   "metadata": {},
   "source": [
    "# How to Find DM Stack Documentation\n",
    "\n",
    "In this notebook we will look at a few different ways to find the documentation on a given DM Stack function or class. "
   ]
  },
  {
   "cell_type": "code",
   "execution_count": 1,
   "metadata": {},
   "outputs": [],
   "source": [
    "%load_ext autoreload\n",
    "%autoreload 2"
   ]
  },
  {
   "cell_type": "markdown",
   "metadata": {},
   "source": [
    "## Inline Notebook Help\n",
    "\n",
    "Command line tasks have usage information - try running them with no arguments, or `--help`."
   ]
  },
  {
   "cell_type": "code",
   "execution_count": 2,
   "metadata": {},
   "outputs": [
    {
     "name": "stdout",
     "output_type": "stream",
     "text": [
      "usage: imageDifference.py input [options]\n",
      "\n",
      "positional arguments:\n",
      "  input                 path to input data repository, relative to\n",
      "                        $PIPE_INPUT_ROOT\n",
      "\n",
      "optional arguments:\n",
      "  -h, --help            show this help message and exit\n",
      "  --calib RAWCALIB      path to input calibration repository, relative to\n",
      "                        $PIPE_CALIB_ROOT\n",
      "  --output RAWOUTPUT    path to output data repository (need not exist),\n",
      "                        relative to $PIPE_OUTPUT_ROOT\n",
      "  --rerun [INPUT:]OUTPUT\n",
      "                        rerun name: sets OUTPUT to ROOT/rerun/OUTPUT;\n",
      "                        optionally sets ROOT to ROOT/rerun/INPUT\n",
      "  -c [NAME=VALUE [NAME=VALUE ...]], --config [NAME=VALUE [NAME=VALUE ...]]\n",
      "                        config override(s), e.g. -c foo=newfoo bar.baz=3\n",
      "  -C [CONFIGFILE [CONFIGFILE ...]], --configfile [CONFIGFILE [CONFIGFILE ...]]\n",
      "                        config override file(s)\n",
      "  -L [LEVEL|COMPONENT=LEVEL [LEVEL|COMPONENT=LEVEL ...]], --loglevel [LEVEL|COMPONENT=LEVEL [LEVEL|COMPONENT=LEVEL ...]]\n",
      "                        logging level; supported levels are\n",
      "                        [trace|debug|info|warn|error|fatal]\n",
      "  --longlog             use a more verbose format for the logging\n",
      "  --debug               enable debugging output?\n",
      "  --doraise             raise an exception on error (else log a message and\n",
      "                        continue)?\n",
      "  --noExit              Do not exit even upon failure (i.e. return a struct to\n",
      "                        the calling script)\n",
      "  --profile PROFILE     Dump cProfile statistics to filename\n",
      "  --show SHOW [SHOW ...]\n",
      "                        display the specified information to stdout and quit\n",
      "                        (unless run is specified).\n",
      "  -j PROCESSES, --processes PROCESSES\n",
      "                        Number of processes to use\n",
      "  -t TIMEOUT, --timeout TIMEOUT\n",
      "                        Timeout for multiprocessing; maximum wall time (sec)\n",
      "  --clobber-output      remove and re-create the output directory if it\n",
      "                        already exists (safe with -j, but not all other forms\n",
      "                        of parallel execution)\n",
      "  --clobber-config      backup and then overwrite existing config files\n",
      "                        instead of checking them (safe with -j, but not all\n",
      "                        other forms of parallel execution)\n",
      "  --no-backup-config    Don't copy config to file~N backup.\n",
      "  --clobber-versions    backup and then overwrite existing package versions\n",
      "                        instead of checkingthem (safe with -j, but not all\n",
      "                        other forms of parallel execution)\n",
      "  --no-versions         don't check package versions; useful for development\n",
      "  --id [KEY=VALUE1[^VALUE2[^VALUE3...] [KEY=VALUE1[^VALUE2[^VALUE3...] ...]]\n",
      "                        data ID, e.g. --id visit=12345 ccd=1,2\n",
      "  --templateId [KEY=VALUE1[^VALUE2[^VALUE3...] [KEY=VALUE1[^VALUE2[^VALUE3...] ...]]\n",
      "                        Optional template data ID (visit only), e.g.\n",
      "                        --templateId visit=6789\n",
      "\n",
      "Notes:\n",
      "            * --config, --configfile, --id, --loglevel and @file may appear multiple times;\n",
      "                all values are used, in order left to right\n",
      "            * @file reads command-line options from the specified file:\n",
      "                * data may be distributed among multiple lines (e.g. one option per line)\n",
      "                * data after # is treated as a comment and ignored\n",
      "                * blank lines and lines starting with # are ignored\n",
      "            * To specify multiple values for an option, do not use = after the option name:\n",
      "                * right: --configfile foo bar\n",
      "                * wrong: --configfile=foo bar\n"
     ]
    }
   ],
   "source": [
    "! imageDifference.py --help"
   ]
  },
  {
   "cell_type": "markdown",
   "metadata": {},
   "source": [
    "The pipeline task python code also contains useful docstrings, accessible in various ways:"
   ]
  },
  {
   "cell_type": "code",
   "execution_count": 3,
   "metadata": {},
   "outputs": [],
   "source": [
    "from lsst.pipe.tasks.imageDifference import ImageDifferenceTask"
   ]
  },
  {
   "cell_type": "code",
   "execution_count": 4,
   "metadata": {},
   "outputs": [
    {
     "name": "stdout",
     "output_type": "stream",
     "text": [
      "Help on class ImageDifferenceTask in module lsst.pipe.tasks.imageDifference:\n",
      "\n",
      "class ImageDifferenceTask(lsst.pipe.base.cmdLineTask.CmdLineTask)\n",
      " |  Subtract an image from a template and measure the result\n",
      " |  \n",
      " |  Method resolution order:\n",
      " |      ImageDifferenceTask\n",
      " |      lsst.pipe.base.cmdLineTask.CmdLineTask\n",
      " |      lsst.pipe.base.task.Task\n",
      " |      builtins.object\n",
      " |  \n",
      " |  Methods defined here:\n",
      " |  \n",
      " |  __init__(self, butler=None, **kwargs)\n",
      " |      !Construct an ImageDifference Task\n",
      " |      \n",
      " |      @param[in] butler  Butler object to use in constructing reference object loaders\n",
      " |  \n",
      " |  fitAstrometry(self, templateSources, templateExposure, selectSources)\n",
      " |      Fit the relative astrometry between templateSources and selectSources\n",
      " |      \n",
      " |      @todo remove this method. It originally fit a new WCS to the template before calling register.run\n",
      " |      because our TAN-SIP fitter behaved badly for points far from CRPIX, but that's been fixed.\n",
      " |      It remains because a subtask overrides it.\n",
      " |  \n",
      " |  getSchemaCatalogs(self)\n",
      " |      Return a dict of empty catalogs for each catalog dataset produced by this task.\n",
      " |  \n",
      " |  run(self, sensorRef, templateIdList=None)\n",
      " |      Subtract an image from a template coadd and measure the result\n",
      " |      \n",
      " |      Steps include:\n",
      " |      - warp template coadd to match WCS of image\n",
      " |      - PSF match image to warped template\n",
      " |      - subtract image from PSF-matched, warped template\n",
      " |      - persist difference image\n",
      " |      - detect sources\n",
      " |      - measure sources\n",
      " |      \n",
      " |      @param sensorRef: sensor-level butler data reference, used for the following data products:\n",
      " |      Input only:\n",
      " |      - calexp\n",
      " |      - psf\n",
      " |      - ccdExposureId\n",
      " |      - ccdExposureId_bits\n",
      " |      - self.config.coaddName + \"Coadd_skyMap\"\n",
      " |      - self.config.coaddName + \"Coadd\"\n",
      " |      Input or output, depending on config:\n",
      " |      - self.config.coaddName + \"Diff_subtractedExp\"\n",
      " |      Output, depending on config:\n",
      " |      - self.config.coaddName + \"Diff_matchedExp\"\n",
      " |      - self.config.coaddName + \"Diff_src\"\n",
      " |      \n",
      " |      @return pipe_base Struct containing these fields:\n",
      " |      - subtractedExposure: exposure after subtracting template;\n",
      " |          the unpersisted version if subtraction not run but detection run\n",
      " |          None if neither subtraction nor detection run (i.e. nothing useful done)\n",
      " |      - subtractRes: results of subtraction task; None if subtraction not run\n",
      " |      - sources: detected and possibly measured sources; None if detection not run\n",
      " |  \n",
      " |  runDebug(self, exposure, subtractRes, selectSources, kernelSources, diaSources)\n",
      " |      @todo Test and update for current debug display and slot names\n",
      " |  \n",
      " |  ----------------------------------------------------------------------\n",
      " |  Data and other attributes defined here:\n",
      " |  \n",
      " |  ConfigClass = <class 'lsst.pipe.tasks.imageDifference.ImageDifferenceC...\n",
      " |      Config for ImageDifferenceTask\n",
      " |  \n",
      " |  RunnerClass = <class 'lsst.pipe.tasks.imageDifference.ImageDifferenceT...\n",
      " |      A `TaskRunner` for `CmdLineTask`\\ s that require a ``butler`` keyword argument to be passed to\n",
      " |      their constructor.\n",
      " |  \n",
      " |  ----------------------------------------------------------------------\n",
      " |  Methods inherited from lsst.pipe.base.cmdLineTask.CmdLineTask:\n",
      " |  \n",
      " |  writeConfig(self, butler, clobber=False, doBackup=True)\n",
      " |      Write the configuration used for processing the data, or check that an existing\n",
      " |      one is equal to the new one if present.\n",
      " |      \n",
      " |      Parameters\n",
      " |      ----------\n",
      " |      butler : `lsst.daf.persistence.Butler`\n",
      " |          Data butler used to write the config. The config is written to dataset type\n",
      " |          `CmdLineTask._getConfigName`.\n",
      " |      clobber : `bool`, optional\n",
      " |          A boolean flag that controls what happens if a config already has been saved:\n",
      " |          - `True`: overwrite or rename the existing config, depending on ``doBackup``.\n",
      " |          - `False`: raise `TaskError` if this config does not match the existing config.\n",
      " |      doBackup : bool, optional\n",
      " |          Set to `True` to backup the config files if clobbering.\n",
      " |  \n",
      " |  writeMetadata(self, dataRef)\n",
      " |      Write the metadata produced from processing the data.\n",
      " |      \n",
      " |      Parameters\n",
      " |      ----------\n",
      " |      dataRef\n",
      " |          Butler data reference used to write the metadata.\n",
      " |          The metadata is written to dataset type `CmdLineTask._getMetadataName`.\n",
      " |  \n",
      " |  writePackageVersions(self, butler, clobber=False, doBackup=True, dataset='packages')\n",
      " |      Compare and write package versions.\n",
      " |      \n",
      " |      Parameters\n",
      " |      ----------\n",
      " |      butler : `lsst.daf.persistence.Butler`\n",
      " |          Data butler used to read/write the package versions.\n",
      " |      clobber : `bool`, optional\n",
      " |          A boolean flag that controls what happens if versions already have been saved:\n",
      " |          - `True`: overwrite or rename the existing version info, depending on ``doBackup``.\n",
      " |          - `False`: raise `TaskError` if this version info does not match the existing.\n",
      " |      doBackup : `bool`, optional\n",
      " |          If `True` and clobbering, old package version files are backed up.\n",
      " |      dataset : `str`, optional\n",
      " |          Name of dataset to read/write.\n",
      " |      \n",
      " |      Raises\n",
      " |      ------\n",
      " |      TaskError\n",
      " |          Raised if there is a version mismatch with current and persisted lists of package versions.\n",
      " |      \n",
      " |      Notes\n",
      " |      -----\n",
      " |      Note that this operation is subject to a race condition.\n",
      " |  \n",
      " |  writeSchemas(self, butler, clobber=False, doBackup=True)\n",
      " |      Write the schemas returned by `lsst.pipe.base.Task.getAllSchemaCatalogs`.\n",
      " |      \n",
      " |      Parameters\n",
      " |      ----------\n",
      " |      butler : `lsst.daf.persistence.Butler`\n",
      " |          Data butler used to write the schema. Each schema is written to the dataset type specified as the\n",
      " |          key in the dict returned by `~lsst.pipe.base.Task.getAllSchemaCatalogs`.\n",
      " |      clobber : `bool`, optional\n",
      " |          A boolean flag that controls what happens if a schema already has been saved:\n",
      " |          - `True`: overwrite or rename the existing schema, depending on ``doBackup``.\n",
      " |          - `False`: raise `TaskError` if this schema does not match the existing schema.\n",
      " |      doBackup : `bool`, optional\n",
      " |          Set to `True` to backup the schema files if clobbering.\n",
      " |      \n",
      " |      Notes\n",
      " |      -----\n",
      " |      If ``clobber`` is `False` and an existing schema does not match a current schema,\n",
      " |      then some schemas may have been saved successfully and others may not, and there is no easy way to\n",
      " |      tell which is which.\n",
      " |  \n",
      " |  ----------------------------------------------------------------------\n",
      " |  Class methods inherited from lsst.pipe.base.cmdLineTask.CmdLineTask:\n",
      " |  \n",
      " |  applyOverrides(config) from builtins.type\n",
      " |      A hook to allow a task to change the values of its config *after* the camera-specific\n",
      " |      overrides are loaded but before any command-line overrides are applied.\n",
      " |      \n",
      " |      Parameters\n",
      " |      ----------\n",
      " |      config : instance of task's ``ConfigClass``\n",
      " |          Task configuration.\n",
      " |      \n",
      " |      Notes\n",
      " |      -----\n",
      " |      This is necessary in some cases because the camera-specific overrides may retarget subtasks,\n",
      " |      wiping out changes made in ConfigClass.setDefaults. See LSST Trac ticket #2282 for more discussion.\n",
      " |      \n",
      " |      .. warning::\n",
      " |      \n",
      " |         This is called by CmdLineTask.parseAndRun; other ways of constructing a config will not apply\n",
      " |         these overrides.\n",
      " |  \n",
      " |  parseAndRun(args=None, config=None, log=None, doReturnResults=False) from builtins.type\n",
      " |      Parse an argument list and run the command.\n",
      " |      \n",
      " |      Parameters\n",
      " |      ----------\n",
      " |      args : `list`, optional\n",
      " |          List of command-line arguments; if `None` use `sys.argv`.\n",
      " |      config : `lsst.pex.config.Config`-type, optional\n",
      " |          Config for task. If `None` use `Task.ConfigClass`.\n",
      " |      log : `lsst.log.Log`-type, optional\n",
      " |          Log. If `None` use the default log.\n",
      " |      doReturnResults : `bool`, optional\n",
      " |          If `True`, return the results of this task. Default is `False`. This is only intended for\n",
      " |          unit tests and similar use. It can easily exhaust memory (if the task returns enough data and you\n",
      " |          call it enough times) and it will fail when using multiprocessing if the returned data cannot be\n",
      " |          pickled.\n",
      " |      \n",
      " |      Returns\n",
      " |      -------\n",
      " |      struct : `lsst.pipe.base.Struct`\n",
      " |          Fields are:\n",
      " |      \n",
      " |          - ``argumentParser``: the argument parser.\n",
      " |          - ``parsedCmd``: the parsed command returned by the argument parser's\n",
      " |            `lsst.pipe.base.ArgumentParser.parse_args` method.\n",
      " |          - ``taskRunner``: the task runner used to run the task (an instance of `Task.RunnerClass`).\n",
      " |          - ``resultList``: results returned by the task runner's ``run`` method, one entry per invocation.\n",
      " |              This will typically be a list of `None` unless ``doReturnResults`` is `True`;\n",
      " |              see `Task.RunnerClass` (`TaskRunner` by default) for more information.\n",
      " |      \n",
      " |      Notes\n",
      " |      -----\n",
      " |      Calling this method with no arguments specified is the standard way to run a command-line task\n",
      " |      from the command-line. For an example see ``pipe_tasks`` ``bin/makeSkyMap.py`` or almost any other\n",
      " |      file in that directory.\n",
      " |      \n",
      " |      If one or more of the dataIds fails then this routine will exit (with a status giving the\n",
      " |      number of failed dataIds) rather than returning this struct;  this behaviour can be\n",
      " |      overridden by specifying the ``--noExit`` command-line option.\n",
      " |  \n",
      " |  ----------------------------------------------------------------------\n",
      " |  Data and other attributes inherited from lsst.pipe.base.cmdLineTask.CmdLineTask:\n",
      " |  \n",
      " |  canMultiprocess = True\n",
      " |  \n",
      " |  ----------------------------------------------------------------------\n",
      " |  Methods inherited from lsst.pipe.base.task.Task:\n",
      " |  \n",
      " |  __reduce__(self)\n",
      " |      Pickler.\n",
      " |  \n",
      " |  emptyMetadata(self)\n",
      " |      Empty (clear) the metadata for this Task and all sub-Tasks.\n",
      " |  \n",
      " |  getAllSchemaCatalogs(self)\n",
      " |      Get schema catalogs for all tasks in the hierarchy, combining the results into a single dict.\n",
      " |      \n",
      " |      Returns\n",
      " |      -------\n",
      " |      schemacatalogs : `dict`\n",
      " |          Keys are butler dataset type, values are a empty catalog (an instance of the appropriate\n",
      " |          lsst.afw.table Catalog type) for all tasks in the hierarchy, from the top-level task down\n",
      " |          through all subtasks.\n",
      " |      \n",
      " |      Notes\n",
      " |      -----\n",
      " |      This method may be called on any task in the hierarchy; it will return the same answer, regardless.\n",
      " |      \n",
      " |      The default implementation should always suffice. If your subtask uses schemas the override\n",
      " |      `Task.getSchemaCatalogs`, not this method.\n",
      " |  \n",
      " |  getFullMetadata(self)\n",
      " |      Get metadata for all tasks.\n",
      " |      \n",
      " |      Returns\n",
      " |      -------\n",
      " |      metadata : `lsst.daf.base.PropertySet`\n",
      " |          The `~lsst.daf.base.PropertySet` keys are the full task name. Values are metadata\n",
      " |          for the top-level task and all subtasks, sub-subtasks, etc..\n",
      " |      \n",
      " |      Notes\n",
      " |      -----\n",
      " |      The returned metadata includes timing information (if ``@timer.timeMethod`` is used)\n",
      " |      and any metadata set by the task. The name of each item consists of the full task name\n",
      " |      with ``.`` replaced by ``:``, followed by ``.`` and the name of the item, e.g.::\n",
      " |      \n",
      " |          topLevelTaskName:subtaskName:subsubtaskName.itemName\n",
      " |      \n",
      " |      using ``:`` in the full task name disambiguates the rare situation that a task has a subtask\n",
      " |      and a metadata item with the same name.\n",
      " |  \n",
      " |  getFullName(self)\n",
      " |      Get the task name as a hierarchical name including parent task names.\n",
      " |      \n",
      " |      Returns\n",
      " |      -------\n",
      " |      fullName : `str`\n",
      " |          The full name consists of the name of the parent task and each subtask separated by periods.\n",
      " |          For example:\n",
      " |      \n",
      " |          - The full name of top-level task \"top\" is simply \"top\".\n",
      " |          - The full name of subtask \"sub\" of top-level task \"top\" is \"top.sub\".\n",
      " |          - The full name of subtask \"sub2\" of subtask \"sub\" of top-level task \"top\" is \"top.sub.sub2\".\n",
      " |  \n",
      " |  getName(self)\n",
      " |      Get the name of the task.\n",
      " |      \n",
      " |      Returns\n",
      " |      -------\n",
      " |      taskName : `str`\n",
      " |          Name of the task.\n",
      " |      \n",
      " |      See also\n",
      " |      --------\n",
      " |      getFullName\n",
      " |  \n",
      " |  getTaskDict(self)\n",
      " |      Get a dictionary of all tasks as a shallow copy.\n",
      " |      \n",
      " |      Returns\n",
      " |      -------\n",
      " |      taskDict : `dict`\n",
      " |          Dictionary containing full task name: task object for the top-level task and all subtasks,\n",
      " |          sub-subtasks, etc..\n",
      " |  \n",
      " |  makeSubtask(self, name, **keyArgs)\n",
      " |      Create a subtask as a new instance as the ``name`` attribute of this task.\n",
      " |      \n",
      " |      Parameters\n",
      " |      ----------\n",
      " |      name : `str`\n",
      " |          Brief name of the subtask.\n",
      " |      keyArgs\n",
      " |          Extra keyword arguments used to construct the task. The following arguments are automatically\n",
      " |          provided and cannot be overridden:\n",
      " |      \n",
      " |          - \"config\".\n",
      " |          - \"parentTask\".\n",
      " |      \n",
      " |      Notes\n",
      " |      -----\n",
      " |      The subtask must be defined by ``Task.config.name``, an instance of pex_config ConfigurableField\n",
      " |      or RegistryField.\n",
      " |  \n",
      " |  timer(self, name, logLevel=10000)\n",
      " |      Context manager to log performance data for an arbitrary block of code.\n",
      " |      \n",
      " |      Parameters\n",
      " |      ----------\n",
      " |      name : `str`\n",
      " |          Name of code being timed; data will be logged using item name: ``Start`` and ``End``.\n",
      " |      logLevel\n",
      " |          A `lsst.log` level constant.\n",
      " |      \n",
      " |      Examples\n",
      " |      --------\n",
      " |      Creating a timer context::\n",
      " |      \n",
      " |          with self.timer(\"someCodeToTime\"):\n",
      " |              pass  # code to time\n",
      " |      \n",
      " |      See also\n",
      " |      --------\n",
      " |      timer.logInfo\n",
      " |  \n",
      " |  ----------------------------------------------------------------------\n",
      " |  Class methods inherited from lsst.pipe.base.task.Task:\n",
      " |  \n",
      " |  makeField(doc) from builtins.type\n",
      " |      Make a `lsst.pex.config.ConfigurableField` for this task.\n",
      " |      \n",
      " |      Parameters\n",
      " |      ----------\n",
      " |      doc : `str`\n",
      " |          Help text for the field.\n",
      " |      \n",
      " |      Returns\n",
      " |      -------\n",
      " |      configurableField : `lsst.pex.config.ConfigurableField`\n",
      " |          A `~ConfigurableField` for this task.\n",
      " |      \n",
      " |      Examples\n",
      " |      --------\n",
      " |      Provides a convenient way to specify this task is a subtask of another task.\n",
      " |      \n",
      " |      Here is an example of use::\n",
      " |      \n",
      " |          class OtherTaskConfig(lsst.pex.config.Config)\n",
      " |              aSubtask = ATaskClass.makeField(\"a brief description of what this task does\")\n",
      " |  \n",
      " |  ----------------------------------------------------------------------\n",
      " |  Data descriptors inherited from lsst.pipe.base.task.Task:\n",
      " |  \n",
      " |  __dict__\n",
      " |      dictionary for instance variables (if defined)\n",
      " |  \n",
      " |  __weakref__\n",
      " |      list of weak references to the object (if defined)\n",
      "\n"
     ]
    }
   ],
   "source": [
    "help(ImageDifferenceTask)"
   ]
  },
  {
   "cell_type": "code",
   "execution_count": 5,
   "metadata": {},
   "outputs": [
    {
     "name": "stdout",
     "output_type": "stream",
     "text": [
      "Help on function run in module lsst.pipe.tasks.imageDifference:\n",
      "\n",
      "run(self, sensorRef, templateIdList=None)\n",
      "    Subtract an image from a template coadd and measure the result\n",
      "    \n",
      "    Steps include:\n",
      "    - warp template coadd to match WCS of image\n",
      "    - PSF match image to warped template\n",
      "    - subtract image from PSF-matched, warped template\n",
      "    - persist difference image\n",
      "    - detect sources\n",
      "    - measure sources\n",
      "    \n",
      "    @param sensorRef: sensor-level butler data reference, used for the following data products:\n",
      "    Input only:\n",
      "    - calexp\n",
      "    - psf\n",
      "    - ccdExposureId\n",
      "    - ccdExposureId_bits\n",
      "    - self.config.coaddName + \"Coadd_skyMap\"\n",
      "    - self.config.coaddName + \"Coadd\"\n",
      "    Input or output, depending on config:\n",
      "    - self.config.coaddName + \"Diff_subtractedExp\"\n",
      "    Output, depending on config:\n",
      "    - self.config.coaddName + \"Diff_matchedExp\"\n",
      "    - self.config.coaddName + \"Diff_src\"\n",
      "    \n",
      "    @return pipe_base Struct containing these fields:\n",
      "    - subtractedExposure: exposure after subtracting template;\n",
      "        the unpersisted version if subtraction not run but detection run\n",
      "        None if neither subtraction nor detection run (i.e. nothing useful done)\n",
      "    - subtractRes: results of subtraction task; None if subtraction not run\n",
      "    - sources: detected and possibly measured sources; None if detection not run\n",
      "\n"
     ]
    }
   ],
   "source": [
    "help(ImageDifferenceTask.run)"
   ]
  },
  {
   "cell_type": "code",
   "execution_count": 6,
   "metadata": {},
   "outputs": [
    {
     "name": "stdout",
     "output_type": "stream",
     "text": [
      "Subtract an image from a template coadd and measure the result\n",
      "\n",
      "        Steps include:\n",
      "        - warp template coadd to match WCS of image\n",
      "        - PSF match image to warped template\n",
      "        - subtract image from PSF-matched, warped template\n",
      "        - persist difference image\n",
      "        - detect sources\n",
      "        - measure sources\n",
      "\n",
      "        @param sensorRef: sensor-level butler data reference, used for the following data products:\n",
      "        Input only:\n",
      "        - calexp\n",
      "        - psf\n",
      "        - ccdExposureId\n",
      "        - ccdExposureId_bits\n",
      "        - self.config.coaddName + \"Coadd_skyMap\"\n",
      "        - self.config.coaddName + \"Coadd\"\n",
      "        Input or output, depending on config:\n",
      "        - self.config.coaddName + \"Diff_subtractedExp\"\n",
      "        Output, depending on config:\n",
      "        - self.config.coaddName + \"Diff_matchedExp\"\n",
      "        - self.config.coaddName + \"Diff_src\"\n",
      "\n",
      "        @return pipe_base Struct containing these fields:\n",
      "        - subtractedExposure: exposure after subtracting template;\n",
      "            the unpersisted version if subtraction not run but detection run\n",
      "            None if neither subtraction nor detection run (i.e. nothing useful done)\n",
      "        - subtractRes: results of subtraction task; None if subtraction not run\n",
      "        - sources: detected and possibly measured sources; None if detection not run\n",
      "        \n"
     ]
    }
   ],
   "source": [
    "print(ImageDifferenceTask.run.__doc__)"
   ]
  },
  {
   "cell_type": "code",
   "execution_count": 7,
   "metadata": {},
   "outputs": [
    {
     "data": {
      "text/plain": [
       "\u001b[0;31mInit signature:\u001b[0m \u001b[0mImageDifferenceTask\u001b[0m\u001b[0;34m(\u001b[0m\u001b[0mbutler\u001b[0m\u001b[0;34m=\u001b[0m\u001b[0;32mNone\u001b[0m\u001b[0;34m,\u001b[0m \u001b[0;34m**\u001b[0m\u001b[0mkwargs\u001b[0m\u001b[0;34m)\u001b[0m\u001b[0;34m\u001b[0m\u001b[0m\n",
       "\u001b[0;31mDocstring:\u001b[0m     \n",
       "Subtract an image from a template and measure the result\n",
       "    \n",
       "\u001b[0;31mInit docstring:\u001b[0m\n",
       "!Construct an ImageDifference Task\n",
       "\n",
       "@param[in] butler  Butler object to use in constructing reference object loaders\n",
       "\u001b[0;31mFile:\u001b[0m           /opt/lsst/software/stack/stack/miniconda3-4.3.21-10a4fa6/Linux64/pipe_tasks/15.0-13-g5992896b+1/python/lsst/pipe/tasks/imageDifference.py\n",
       "\u001b[0;31mType:\u001b[0m           type\n"
      ]
     },
     "metadata": {},
     "output_type": "display_data"
    }
   ],
   "source": [
    "? ImageDifferenceTask"
   ]
  },
  {
   "cell_type": "markdown",
   "metadata": {},
   "source": [
    "## Web Resources\n",
    "\n",
    "All the DM code is housed in GitHub repositories in the `lsst` organization."
   ]
  },
  {
   "cell_type": "markdown",
   "metadata": {},
   "source": [
    "GitHub search is pretty powerful. Here's an example, using the search string `user:lsst ImageDifferenceTask` and selecting \"Code\" results (in python):\n",
    "\n",
    "https://github.com/search?l=Python&q=user%3Alsst+ImageDifferenceTask&type=Code"
   ]
  },
  {
   "cell_type": "markdown",
   "metadata": {},
   "source": [
    "It's nice to provide hyperlinks to the code you are demonstrating, so people can quickly go read the source. We can construct the URL from the module name:"
   ]
  },
  {
   "cell_type": "code",
   "execution_count": 8,
   "metadata": {},
   "outputs": [],
   "source": [
    "from utils import whereis"
   ]
  },
  {
   "cell_type": "code",
   "execution_count": 9,
   "metadata": {},
   "outputs": [
    {
     "data": {
      "text/markdown": [
       "[lsst.pipe.tasks.imageDifference](https://github.com/lsst/pipe_tasks/blob/master/python/lsst/pipe/tasks/imageDifference.py)"
      ],
      "text/plain": [
       "<IPython.core.display.Markdown object>"
      ]
     },
     "metadata": {},
     "output_type": "display_data"
    },
    {
     "name": "stdout",
     "output_type": "stream",
     "text": [
      "[lsst.pipe.tasks.imageDifference](https://github.com/lsst/pipe_tasks/blob/master/python/lsst/pipe/tasks/imageDifference.py)\n"
     ]
    }
   ],
   "source": [
    "from lsst.pipe.tasks.imageDifference import ImageDifferenceTask\n",
    "whereis(ImageDifferenceTask)"
   ]
  },
  {
   "cell_type": "code",
   "execution_count": 10,
   "metadata": {},
   "outputs": [
    {
     "data": {
      "text/markdown": [
       "[lsst.daf.persistence.butler](https://github.com/lsst/daf_persistence/blob/master/python/lsst/daf/persistence/butler.py)"
      ],
      "text/plain": [
       "<IPython.core.display.Markdown object>"
      ]
     },
     "metadata": {},
     "output_type": "display_data"
    },
    {
     "name": "stdout",
     "output_type": "stream",
     "text": [
      "[lsst.daf.persistence.butler](https://github.com/lsst/daf_persistence/blob/master/python/lsst/daf/persistence/butler.py)\n"
     ]
    }
   ],
   "source": [
    "from lsst.daf.persistence import Butler\n",
    "whereis(Butler.get)"
   ]
  },
  {
   "cell_type": "markdown",
   "metadata": {},
   "source": [
    "Here's what the `whereis` function is doing:"
   ]
  },
  {
   "cell_type": "code",
   "execution_count": 11,
   "metadata": {},
   "outputs": [],
   "source": [
    "# %load whereis"
   ]
  },
  {
   "cell_type": "markdown",
   "metadata": {},
   "source": [
    "You can also generate search strings like the one above, like this:"
   ]
  },
  {
   "cell_type": "code",
   "execution_count": 12,
   "metadata": {},
   "outputs": [
    {
     "data": {
      "text/markdown": [
       "[searching for `Butler` in the `lsst` repo](https://github.com/search?l=Python&q=user%3Alsst+Butler&type=Code)"
      ],
      "text/plain": [
       "<IPython.core.display.Markdown object>"
      ]
     },
     "metadata": {},
     "output_type": "display_data"
    },
    {
     "name": "stdout",
     "output_type": "stream",
     "text": [
      "[searching for `Butler` in the `lsst` repo](https://github.com/search?l=Python&q=user%3Alsst+Butler&type=Code)\n"
     ]
    }
   ],
   "source": [
    "whereis(Butler, inthe='repo')"
   ]
  },
  {
   "cell_type": "markdown",
   "metadata": {},
   "source": [
    "Here's how to generate a search within the LSST DM technotes:"
   ]
  },
  {
   "cell_type": "code",
   "execution_count": 13,
   "metadata": {},
   "outputs": [
    {
     "data": {
      "text/markdown": [
       "[searching for `ImageDifferenceTask` in the `lsst-dm` technotes](https://github.com/search?l=reStructuredText&q=user%3Alsst-dm+ImageDifferenceTask&type=Code)"
      ],
      "text/plain": [
       "<IPython.core.display.Markdown object>"
      ]
     },
     "metadata": {},
     "output_type": "display_data"
    },
    {
     "name": "stdout",
     "output_type": "stream",
     "text": [
      "[searching for `ImageDifferenceTask` in the `lsst-dm` technotes](https://github.com/search?l=reStructuredText&q=user%3Alsst-dm+ImageDifferenceTask&type=Code)\n"
     ]
    }
   ],
   "source": [
    "whereis(ImageDifferenceTask, inthe='technotes')"
   ]
  }
 ],
 "metadata": {
  "kernelspec": {
   "display_name": "LSST",
   "language": "python",
   "name": "lsst"
  },
  "language_info": {
   "codemirror_mode": {
    "name": "ipython",
    "version": 3
   },
   "file_extension": ".py",
   "mimetype": "text/x-python",
   "name": "python",
   "nbconvert_exporter": "python",
   "pygments_lexer": "ipython3",
   "version": "3.6.2"
  }
 },
 "nbformat": 4,
 "nbformat_minor": 2
}
