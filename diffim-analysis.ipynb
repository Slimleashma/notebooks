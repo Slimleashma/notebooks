{
 "cells": [
  {
   "cell_type": "markdown",
   "metadata": {},
   "source": [
    "# How To Difference Two Images\n",
    "\n",
    "_Contact: Leanne Guy, Colin Slater, Phil Marshall_\n",
    "\n",
    "_Last edited: 2018-05-30_\n",
    "\n",
    "_Runs with Stack release: Weekly 2018-21_\n",
    "\n",
    "In this notebook we run the `ImageDifferenceTask` on two visit images, and inspect the result."
   ]
  },
  {
   "cell_type": "markdown",
   "metadata": {},
   "source": [
    "## Setups"
   ]
  },
  {
   "cell_type": "code",
   "execution_count": null,
   "metadata": {},
   "outputs": [],
   "source": [
    "# LSST stack imports\n",
    "from lsst.daf.persistence import Butler\n",
    "import lsst.afw.display as afw_display\n",
    "\n",
    "# Firefly client imports\n",
    "from firefly_client import FireflyClient\n",
    "\n",
    "# Standard libraries in support of Firefly display\n",
    "from urllib.parse import urlparse, urlunparse, ParseResult\n",
    "from IPython.display import IFrame, display, Markdown\n",
    "import os"
   ]
  },
  {
   "cell_type": "markdown",
   "metadata": {},
   "source": [
    "## Finding Two Images\n",
    "\n",
    "We'll use two single sensor images from the HSC WIDE dataset, taken close together in time and at the same point on the sky. \n",
    "\n",
    "Data is in `/datasets/hsc/repo/rerun/DM-10404/WIDE/`, cheating can be achieved via the sqlite3 database in `/datasets/hsc/repo/registry.sqlite3`: \n",
    "```\n",
    "    select * from raw limit 10\n",
    "```"
   ]
  },
  {
   "cell_type": "code",
   "execution_count": null,
   "metadata": {},
   "outputs": [],
   "source": [
    "data_dir = '/datasets/hsc/repo/rerun/DM-10404/WIDE/'"
   ]
  },
  {
   "cell_type": "code",
   "execution_count": null,
   "metadata": {},
   "outputs": [],
   "source": [
    "# Create a butler from this data directory\n",
    "from lsst.daf.persistence import Butler\n",
    "butler = Butler(data_dir)\n",
    "#print(butler.getUri)\n",
    "# get all the visits over the SSP_WIDE survey\n",
    "visitPointings = butler.queryMetadata('calexp',('visit', 'pointing'),{'field':'SSP_WIDE'})\n",
    "#print(visitPointings)"
   ]
  },
  {
   "cell_type": "code",
   "execution_count": null,
   "metadata": {},
   "outputs": [],
   "source": [
    "# Lets try to pull up 2 images from different fields of the same pointing\n",
    "# 374, 376, pointing :  814\n",
    "dataId1 = {'visit': 374, 'ccd':42}\n",
    "dataId2 = {'visit': 376, 'ccd':42}"
   ]
  },
  {
   "cell_type": "code",
   "execution_count": null,
   "metadata": {},
   "outputs": [],
   "source": [
    "calexp1 = butler.get('calexp', **dataId1)\n",
    "calexp2 = butler.get('calexp', **dataId2)"
   ]
  },
  {
   "cell_type": "code",
   "execution_count": null,
   "metadata": {},
   "outputs": [],
   "source": [
    "# Create a display in a new browser tab:\n",
    "my_channel = '{}_test_channel'.format(os.environ['USER'])\n",
    "server = 'https://lsst-lspdev.ncsa.illinois.edu'"
   ]
  },
  {
   "cell_type": "code",
   "execution_count": null,
   "metadata": {},
   "outputs": [],
   "source": [
    "# Uncomment the lines below, to get a display inside this notebook:\n",
    "\n",
    "#ff='{}/firefly/slate.html?__wsch={}'.format(server, my_channel)\n",
    "#IFrame(ff,800,600)"
   ]
  },
  {
   "cell_type": "code",
   "execution_count": null,
   "metadata": {},
   "outputs": [],
   "source": [
    "afw_display.setDefaultBackend('firefly')\n",
    "afw_display_1 = afw_display.getDisplay(frame=1, \n",
    "                                    name=my_channel)\n",
    "afw_display_2 = afw_display.getDisplay(frame=2, \n",
    "                                    name=my_channel)"
   ]
  },
  {
   "cell_type": "code",
   "execution_count": null,
   "metadata": {},
   "outputs": [],
   "source": [
    "afw_display_1.mtv(calexp1, \"Calexp %d\" % dataId1['visit'])\n",
    "afw_display_2.mtv(calexp2, \"Calexp %d\" % dataId2['visit'])"
   ]
  },
  {
   "cell_type": "code",
   "execution_count": null,
   "metadata": {},
   "outputs": [],
   "source": [
    "# C1 date\n",
    "c1VisitInfo = calexp1.getInfo().getVisitInfo()\n",
    "c1Date = c1VisitInfo.getDate()\n",
    "\n",
    "# C2\n",
    "c2VisitInfo = calexp2.getInfo().getVisitInfo()\n",
    "c2Date = c2VisitInfo.getDate()\n",
    "\n",
    "# Time difference \n",
    "timediff = c2Date.toPython() -c1Date.toPython()\n",
    "timediff.total_seconds()\n",
    "\n",
    "# Try to identify visits with the same exposure time \n",
    "for visit,pointing in visitPointings[:10] : \n",
    "    dataId = {'visit': visit, 'ccd':42}\n",
    "    calexp = butler.get('calexp', **dataId)\n",
    "    visitInfo = calexp.getInfo().getVisitInfo()\n",
    "    print(visit, \",\", visitInfo.getExposureTime())\n"
   ]
  },
  {
   "cell_type": "markdown",
   "metadata": {},
   "source": [
    "Looks like `374` and `376` will do just fine - and `376`, with its longer exposure time, will make a plausible model template image."
   ]
  },
  {
   "cell_type": "code",
   "execution_count": null,
   "metadata": {},
   "outputs": [],
   "source": [
    "image_dataId = {'visit': 374, 'ccd':42}\n",
    "template_dataId = {'visit': 376, 'ccd':42}"
   ]
  },
  {
   "cell_type": "markdown",
   "metadata": {},
   "source": [
    "## Image Differencing\n",
    "\n",
    "The relevant pipeline task is [`ImageDifferenceTask`](https://github.com/lsst/pipe_tasks/blob/master/python/lsst/pipe/tasks/imageDifference.py#L214), wrapped in the following command line task."
   ]
  },
  {
   "cell_type": "code",
   "execution_count": null,
   "metadata": {},
   "outputs": [],
   "source": [
    "! imageDifference.py"
   ]
  },
  {
   "cell_type": "markdown",
   "metadata": {},
   "source": [
    "The command line task does not complete, in our simple visit-visit example. Instead, let's call the python commands directly. (The command line that ought to run is given below, commented out, for completeness.)"
   ]
  },
  {
   "cell_type": "code",
   "execution_count": null,
   "metadata": {},
   "outputs": [],
   "source": [
    "# ! imageDifference.py $data_dir --output 'diffim-output' --id visit=image_dataId ccd=42 --templateId visit=template_dataId --configfile diffim-config.py"
   ]
  },
  {
   "cell_type": "code",
   "execution_count": null,
   "metadata": {},
   "outputs": [],
   "source": [
    "# Set up an ImageDifferenceTask object:\n",
    "from lsst.pipe.tasks.imageDifference import ImageDifferenceTask, ImageDifferenceConfig \n",
    "from lsst.ip.diffim.getTemplate import GetCalexpAsTemplateTask\n",
    "\n",
    "config = ImageDifferenceConfig()\n",
    "config.getTemplate.retarget(GetCalexpAsTemplateTask)\n",
    "config.doWriteSources=False\n",
    "config.doWriteSubtractedExp=False\n",
    "imageDifference = ImageDifferenceTask(butler=butler, config=config)\n",
    "\n",
    "# Prepare the science image, and the template to difference it with:\n",
    "image = butler.dataRef('calexp', dataId=image_dataId)\n",
    "# template = butler.dataRef('calexp', dataId=template_dataId) \n",
    "# NB: the template is not a Butler dataref objects, but instead a data ID:\n",
    "template = template_dataId\n",
    "\n",
    "# Take the difference:\n",
    "diffedImage = imageDifference.run(image, templateIdList=[template])"
   ]
  },
  {
   "cell_type": "code",
   "execution_count": null,
   "metadata": {},
   "outputs": [],
   "source": [
    "# To help debug the above commands, try using the python debugger:\n",
    "# %pdb\n",
    "# (This is a toggle.)"
   ]
  },
  {
   "cell_type": "markdown",
   "metadata": {},
   "source": [
    "Let's just print the resulting structure, to see what we have: "
   ]
  },
  {
   "cell_type": "code",
   "execution_count": null,
   "metadata": {},
   "outputs": [],
   "source": [
    "diffedImage"
   ]
  },
  {
   "cell_type": "code",
   "execution_count": null,
   "metadata": {},
   "outputs": [],
   "source": [
    "# Plot the differenced image in the firefly window.\n",
    "afw_display_2.mtv(diffedImage.subtractedExposure)"
   ]
  },
  {
   "cell_type": "markdown",
   "metadata": {},
   "source": [
    "The layers can be adjusted in the firefly display, to see the DIAsources."
   ]
  }
 ],
 "metadata": {
  "kernelspec": {
   "display_name": "LSST",
   "language": "python",
   "name": "lsst"
  },
  "language_info": {
   "codemirror_mode": {
    "name": "ipython",
    "version": 3
   },
   "file_extension": ".py",
   "mimetype": "text/x-python",
   "name": "python",
   "nbconvert_exporter": "python",
   "pygments_lexer": "ipython3",
   "version": "3.6.2"
  }
 },
 "nbformat": 4,
 "nbformat_minor": 2
}
