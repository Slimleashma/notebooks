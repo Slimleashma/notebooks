{
 "cells": [
  {
   "cell_type": "markdown",
   "metadata": {},
   "source": [
    "# How To Difference Two Images\n",
    "\n",
    "_Contact: Leanne Guy, Colin Slater, Phil Marshall_\n",
    "\n",
    "_Last edited: 2018-05-30_\n",
    "\n",
    "_Runs with Stack release: Weekly 2018-21_\n",
    "\n",
    "In this notebook we run the `ImageDifferenceTask` on two visit images, and inspect the result."
   ]
  },
  {
   "cell_type": "markdown",
   "metadata": {},
   "source": [
    "## Setups"
   ]
  },
  {
   "cell_type": "code",
   "execution_count": 1,
   "metadata": {},
   "outputs": [],
   "source": [
    "# LSST stack imports\n",
    "from lsst.daf.persistence import Butler\n",
    "import lsst.afw.display as afw_display\n",
    "\n",
    "# Firefly client imports\n",
    "from firefly_client import FireflyClient\n",
    "\n",
    "# Standard libraries in support of Firefly display\n",
    "from urllib.parse import urlparse, urlunparse, ParseResult\n",
    "from IPython.display import IFrame, display, Markdown\n",
    "import os"
   ]
  },
  {
   "cell_type": "markdown",
   "metadata": {},
   "source": [
    "## Finding Two Images\n",
    "\n",
    "We'll use two single sensor images from the HSC WIDE dataset, taken close together in time and at the same point on the sky. \n",
    "\n",
    "Data is in `/datasets/hsc/repo/rerun/DM-10404/WIDE/`, cheating can be achieved via the sqlite3 database in `/datasets/hsc/repo/registry.sqlite3`: \n",
    "```\n",
    "    select * from raw limit 10\n",
    "```"
   ]
  },
  {
   "cell_type": "code",
   "execution_count": 2,
   "metadata": {},
   "outputs": [],
   "source": [
    "data_dir = '/datasets/hsc/repo/rerun/DM-10404/WIDE/'"
   ]
  },
  {
   "cell_type": "code",
   "execution_count": 3,
   "metadata": {},
   "outputs": [],
   "source": [
    "# Create a butler from this data directory\n",
    "from lsst.daf.persistence import Butler\n",
    "butler = Butler(data_dir)\n",
    "#print(butler.getUri)\n",
    "# get all the visits over the SSP_WIDE survey\n",
    "visitPointings = butler.queryMetadata('calexp',('visit', 'pointing'),{'field':'SSP_WIDE'})\n",
    "#print(visitPointings)"
   ]
  },
  {
   "cell_type": "code",
   "execution_count": 4,
   "metadata": {},
   "outputs": [],
   "source": [
    "# Lets try to pull up 2 images from different fields of the same pointing\n",
    "# 374, 376, pointing :  814\n",
    "dataId1 = {'visit': 374, 'ccd':42}\n",
    "dataId2 = {'visit': 376, 'ccd':42}"
   ]
  },
  {
   "cell_type": "code",
   "execution_count": 5,
   "metadata": {},
   "outputs": [],
   "source": [
    "calexp1 = butler.get('calexp', **dataId1)\n",
    "calexp2 = butler.get('calexp', **dataId2)"
   ]
  },
  {
   "cell_type": "code",
   "execution_count": 6,
   "metadata": {},
   "outputs": [],
   "source": [
    "# Create a display in a new browser tab:\n",
    "my_channel = '{}_test_channel'.format(os.environ['USER'])\n",
    "server = 'https://lsst-lspdev.ncsa.illinois.edu'"
   ]
  },
  {
   "cell_type": "code",
   "execution_count": 7,
   "metadata": {},
   "outputs": [
    {
     "name": "stdout",
     "output_type": "stream",
     "text": [
      "Open a browser window to https://lsst-lspdev.ncsa.illinois.edu/firefly/slate.html?__wsch=womullan_test_channel\n"
     ]
    }
   ],
   "source": [
    "print('Open a browser window to {}/firefly/slate.html?__wsch={}'.format(server, my_channel))"
   ]
  },
  {
   "cell_type": "code",
   "execution_count": 8,
   "metadata": {},
   "outputs": [],
   "source": [
    "# Uncomment the lines below, to get a display inside this notebook:\n",
    "\n",
    "#ff='{}/firefly/slate.html?__wsch={}'.format(server, my_channel)\n",
    "#IFrame(ff,800,600)"
   ]
  },
  {
   "cell_type": "code",
   "execution_count": 10,
   "metadata": {},
   "outputs": [
    {
     "data": {
      "text/html": [
       "Open your web browser to <a href=\"https://lsst-lspdev.ncsa.illinois.edu/firefly//slate.html?__wsch=womullan_test_channel\"\" target=\"_blank\">this link</a>"
      ],
      "text/plain": [
       "<IPython.core.display.HTML object>"
      ]
     },
     "metadata": {},
     "output_type": "display_data"
    }
   ],
   "source": [
    "afw_display.setDefaultBackend('firefly')\n",
    "afw_display_1 = afw_display.getDisplay(frame=1,\n",
    "                                    name=my_channel)\n",
    "afw_display_2 = afw_display.getDisplay(frame=2,\n",
    "                                    name=my_channel)"
   ]
  },
  {
   "cell_type": "code",
   "execution_count": 11,
   "metadata": {},
   "outputs": [],
   "source": [
    "afw_display_1.mtv(calexp1, \"Calexp %d\" % dataId1['visit'])\n",
    "afw_display_2.mtv(calexp2, \"Calexp %d\" % dataId2['visit'])"
   ]
  },
  {
   "cell_type": "code",
   "execution_count": 12,
   "metadata": {},
   "outputs": [
    {
     "name": "stdout",
     "output_type": "stream",
     "text": [
      "374 , 30.0\n",
      "376 , 200.0\n",
      "378 , 30.0\n",
      "380 , 200.0\n",
      "382 , 30.0\n",
      "384 , 200.0\n",
      "386 , 30.0\n",
      "388 , 200.0\n",
      "390 , 30.0\n",
      "392 , 200.0\n"
     ]
    }
   ],
   "source": [
    "# C1 date\n",
    "c1VisitInfo = calexp1.getInfo().getVisitInfo()\n",
    "c1Date = c1VisitInfo.getDate()\n",
    "\n",
    "# C2\n",
    "c2VisitInfo = calexp2.getInfo().getVisitInfo()\n",
    "c2Date = c2VisitInfo.getDate()\n",
    "\n",
    "# Time difference \n",
    "timediff = c2Date.toPython() -c1Date.toPython()\n",
    "timediff.total_seconds()\n",
    "\n",
    "# Try to identify visits with the same exposure time \n",
    "for visit,pointing in visitPointings[:10] : \n",
    "    dataId = {'visit': visit, 'ccd':42}\n",
    "    calexp = butler.get('calexp', **dataId)\n",
    "    visitInfo = calexp.getInfo().getVisitInfo()\n",
    "    print(visit, \",\", visitInfo.getExposureTime())\n"
   ]
  },
  {
   "cell_type": "markdown",
   "metadata": {},
   "source": [
    "Looks like `374` and `376` will do just fine - and `376`, with its longer exposure time, will make a plausible model template image."
   ]
  },
  {
   "cell_type": "code",
   "execution_count": 13,
   "metadata": {},
   "outputs": [],
   "source": [
    "image_dataId = {'visit': 374, 'ccd':42}\n",
    "template_dataId = {'visit': 376, 'ccd':42}"
   ]
  },
  {
   "cell_type": "markdown",
   "metadata": {},
   "source": [
    "## Image Differencing\n",
    "\n",
    "The relevant pipeline task is [`ImageDifferenceTask`](https://github.com/lsst/pipe_tasks/blob/master/python/lsst/pipe/tasks/imageDifference.py#L214), wrapped in the following command line task."
   ]
  },
  {
   "cell_type": "code",
   "execution_count": 14,
   "metadata": {},
   "outputs": [
    {
     "name": "stdout",
     "output_type": "stream",
     "text": [
      "usage: imageDifference.py input [options]\n",
      "\n",
      "positional arguments:\n",
      "  input                 path to input data repository, relative to\n",
      "                        $PIPE_INPUT_ROOT\n",
      "\n",
      "optional arguments:\n",
      "  -h, --help            show this help message and exit\n",
      "  --calib RAWCALIB      path to input calibration repository, relative to\n",
      "                        $PIPE_CALIB_ROOT\n",
      "  --output RAWOUTPUT    path to output data repository (need not exist),\n",
      "                        relative to $PIPE_OUTPUT_ROOT\n",
      "  --rerun [INPUT:]OUTPUT\n",
      "                        rerun name: sets OUTPUT to ROOT/rerun/OUTPUT;\n",
      "                        optionally sets ROOT to ROOT/rerun/INPUT\n",
      "  -c [NAME=VALUE [NAME=VALUE ...]], --config [NAME=VALUE [NAME=VALUE ...]]\n",
      "                        config override(s), e.g. -c foo=newfoo bar.baz=3\n",
      "  -C [CONFIGFILE [CONFIGFILE ...]], --configfile [CONFIGFILE [CONFIGFILE ...]]\n",
      "                        config override file(s)\n",
      "  -L [LEVEL|COMPONENT=LEVEL [LEVEL|COMPONENT=LEVEL ...]], --loglevel [LEVEL|COMPONENT=LEVEL [LEVEL|COMPONENT=LEVEL ...]]\n",
      "                        logging level; supported levels are\n",
      "                        [trace|debug|info|warn|error|fatal]\n",
      "  --longlog             use a more verbose format for the logging\n",
      "  --debug               enable debugging output?\n",
      "  --doraise             raise an exception on error (else log a message and\n",
      "                        continue)?\n",
      "  --noExit              Do not exit even upon failure (i.e. return a struct to\n",
      "                        the calling script)\n",
      "  --profile PROFILE     Dump cProfile statistics to filename\n",
      "  --show SHOW [SHOW ...]\n",
      "                        display the specified information to stdout and quit\n",
      "                        (unless run is specified).\n",
      "  -j PROCESSES, --processes PROCESSES\n",
      "                        Number of processes to use\n",
      "  -t TIMEOUT, --timeout TIMEOUT\n",
      "                        Timeout for multiprocessing; maximum wall time (sec)\n",
      "  --clobber-output      remove and re-create the output directory if it\n",
      "                        already exists (safe with -j, but not all other forms\n",
      "                        of parallel execution)\n",
      "  --clobber-config      backup and then overwrite existing config files\n",
      "                        instead of checking them (safe with -j, but not all\n",
      "                        other forms of parallel execution)\n",
      "  --no-backup-config    Don't copy config to file~N backup.\n",
      "  --clobber-versions    backup and then overwrite existing package versions\n",
      "                        instead of checkingthem (safe with -j, but not all\n",
      "                        other forms of parallel execution)\n",
      "  --no-versions         don't check package versions; useful for development\n",
      "  --id [KEY=VALUE1[^VALUE2[^VALUE3...] [KEY=VALUE1[^VALUE2[^VALUE3...] ...]]\n",
      "                        data ID, e.g. --id visit=12345 ccd=1,2\n",
      "  --templateId [KEY=VALUE1[^VALUE2[^VALUE3...] [KEY=VALUE1[^VALUE2[^VALUE3...] ...]]\n",
      "                        Optional template data ID (visit only), e.g.\n",
      "                        --templateId visit=6789\n",
      "\n",
      "Notes:\n",
      "            * --config, --configfile, --id, --loglevel and @file may appear multiple times;\n",
      "                all values are used, in order left to right\n",
      "            * @file reads command-line options from the specified file:\n",
      "                * data may be distributed among multiple lines (e.g. one option per line)\n",
      "                * data after # is treated as a comment and ignored\n",
      "                * blank lines and lines starting with # are ignored\n",
      "            * To specify multiple values for an option, do not use = after the option name:\n",
      "                * right: --configfile foo bar\n",
      "                * wrong: --configfile=foo bar\n",
      "imageDifference.py: error: Must specify input as first argument\n"
     ]
    }
   ],
   "source": [
    "! imageDifference.py"
   ]
  },
  {
   "cell_type": "markdown",
   "metadata": {},
   "source": [
    "The command line task does not complete, in our simple visit-visit example. Instead, let's call the python commands directly. (The command line that ought to run is given below, commented out, for completeness.)"
   ]
  },
  {
   "cell_type": "code",
   "execution_count": 15,
   "metadata": {},
   "outputs": [],
   "source": [
    "# ! imageDifference.py $data_dir --output 'diffim-output' --id visit=image_dataId ccd=42 --templateId visit=template_dataId --configfile diffim-config.py"
   ]
  },
  {
   "cell_type": "code",
   "execution_count": 16,
   "metadata": {},
   "outputs": [
    {
     "name": "stderr",
     "output_type": "stream",
     "text": [
      "/opt/lsst/software/stack/stack/miniconda3-4.3.21-10a4fa6/Linux64/ip_diffim/15.0-8-g67a62d3/python/lsst/ip/diffim/dipoleFitTask.py:303: FutureWarning: `rcond` parameter will change to the default of machine precision times ``max(M, N)`` where M and N are the input matrix dimensions.\n",
      "To use the future default and silence this warning we advise to pass `rcond=None`, to keep using the old, explicitly pass `rcond=-1`.\n",
      "  pars = np.linalg.lstsq(M, B)[0]\n",
      "/opt/lsst/software/stack/stack/miniconda3-4.3.21-10a4fa6/Linux64/ip_diffim/15.0-8-g67a62d3/python/lsst/ip/diffim/dipoleFitTask.py:303: FutureWarning: `rcond` parameter will change to the default of machine precision times ``max(M, N)`` where M and N are the input matrix dimensions.\n",
      "To use the future default and silence this warning we advise to pass `rcond=None`, to keep using the old, explicitly pass `rcond=-1`.\n",
      "  pars = np.linalg.lstsq(M, B)[0]\n",
      "/opt/lsst/software/stack/stack/miniconda3-4.3.21-10a4fa6/Linux64/ip_diffim/15.0-8-g67a62d3/python/lsst/ip/diffim/dipoleFitTask.py:303: FutureWarning: `rcond` parameter will change to the default of machine precision times ``max(M, N)`` where M and N are the input matrix dimensions.\n",
      "To use the future default and silence this warning we advise to pass `rcond=None`, to keep using the old, explicitly pass `rcond=-1`.\n",
      "  pars = np.linalg.lstsq(M, B)[0]\n",
      "/opt/lsst/software/stack/stack/miniconda3-4.3.21-10a4fa6/Linux64/ip_diffim/15.0-8-g67a62d3/python/lsst/ip/diffim/dipoleFitTask.py:303: FutureWarning: `rcond` parameter will change to the default of machine precision times ``max(M, N)`` where M and N are the input matrix dimensions.\n",
      "To use the future default and silence this warning we advise to pass `rcond=None`, to keep using the old, explicitly pass `rcond=-1`.\n",
      "  pars = np.linalg.lstsq(M, B)[0]\n",
      "/opt/lsst/software/stack/stack/miniconda3-4.3.21-10a4fa6/Linux64/ip_diffim/15.0-8-g67a62d3/python/lsst/ip/diffim/dipoleFitTask.py:303: FutureWarning: `rcond` parameter will change to the default of machine precision times ``max(M, N)`` where M and N are the input matrix dimensions.\n",
      "To use the future default and silence this warning we advise to pass `rcond=None`, to keep using the old, explicitly pass `rcond=-1`.\n",
      "  pars = np.linalg.lstsq(M, B)[0]\n"
     ]
    }
   ],
   "source": [
    "# Set up an ImageDifferenceTask object:\n",
    "from lsst.pipe.tasks.imageDifference import ImageDifferenceTask, ImageDifferenceConfig \n",
    "from lsst.ip.diffim.getTemplate import GetCalexpAsTemplateTask\n",
    "\n",
    "config = ImageDifferenceConfig()\n",
    "config.getTemplate.retarget(GetCalexpAsTemplateTask)\n",
    "config.doWriteSources=False\n",
    "config.doWriteSubtractedExp=False\n",
    "imageDifference = ImageDifferenceTask(butler=butler, config=config)\n",
    "\n",
    "# Prepare the science image, and the template to difference it with:\n",
    "image = butler.dataRef('calexp', dataId=image_dataId)\n",
    "# template = butler.dataRef('calexp', dataId=template_dataId) \n",
    "# NB: the template is not a Butler dataref objects, but instead a data ID:\n",
    "template = template_dataId\n",
    "\n",
    "# Take the difference:\n",
    "diffedImage = imageDifference.run(image, templateIdList=[template])"
   ]
  },
  {
   "cell_type": "code",
   "execution_count": 17,
   "metadata": {},
   "outputs": [],
   "source": [
    "# To help debug the above commands, try using the python debugger:\n",
    "# %pdb\n",
    "# (This is a toggle.)"
   ]
  },
  {
   "cell_type": "markdown",
   "metadata": {},
   "source": [
    "Let's just print the resulting structure, to see what we have: "
   ]
  },
  {
   "cell_type": "code",
   "execution_count": 18,
   "metadata": {},
   "outputs": [
    {
     "data": {
      "text/plain": [
       "Struct(subtractedExposure=<lsst.afw.image.exposure.exposure.ExposureF object at 0x7f39f1a53fb8>; subtractRes=Struct(matchedImage=<lsst.afw.image.maskedImage.maskedImage.MaskedImageF object at 0x7f39f1a59148>; psfMatchingKernel=<lsst.afw.math._kernel.LinearCombinationKernel object at 0x7f39f1a59180>; backgroundModel=<lsst.afw.math._functionLibrary.Chebyshev1Function2D object at 0x7f39f1a591b8>; kernelCellSet=<lsst.afw.math._spatialCell.SpatialCellSet object at 0x7f39f1a540d8>; warpedExposure=<lsst.afw.image.exposure.exposure.ExposureF object at 0x7f39f1a54110>; matchedExposure=<lsst.afw.image.exposure.exposure.ExposureF object at 0x7f39f1a4dbc8>; subtractedExposure=<lsst.afw.image.exposure.exposure.ExposureF object at 0x7f39f1a53fb8>); sources=<class 'lsst.afw.table.source.source.SourceCatalog'>\n",
       "       id            coord_ra      ... ip_diffim_DipoleFit_flag_edge\n",
       "                       rad         ...                              \n",
       "--------------- ------------------ ... -----------------------------\n",
       "321443942367265  3.726094027494802 ...                         False\n",
       "321443942367266  3.726215561429443 ...                         False\n",
       "321443942367267  3.726397042302063 ...                         False\n",
       "321443942367268 3.7264538019216635 ...                         False\n",
       "321443942367269 3.7266088748120465 ...                         False\n",
       "321443942367270  3.726697593403301 ...                         False\n",
       "321443942367271 3.7267515687061614 ...                         False\n",
       "321443942367272  3.726843614463389 ...                         False\n",
       "321443942367273   3.72685358032498 ...                         False\n",
       "321443942367274  3.726892529636073 ...                         False\n",
       "321443942367275 3.7270121349598218 ...                         False\n",
       "321443942367276 3.7271656775860036 ...                         False\n",
       "321443942367277  3.727527613901204 ...                         False\n",
       "321443942367278 3.7278011615182716 ...                         False\n",
       "321443942367279 3.7279872491607464 ...                         False\n",
       "321443942367280 3.7283405971871346 ...                         False\n",
       "321443942367281 3.7286357906731378 ...                         False\n",
       "321443942367282 3.7289053369197616 ...                         False\n",
       "321443942367283  3.729117758307325 ...                         False\n",
       "321443942367284 3.7293654716572675 ...                         False\n",
       "321443942367285  3.729444234908088 ...                         False\n",
       "321443942367286 3.7294225344979437 ...                         False)"
      ]
     },
     "execution_count": 18,
     "metadata": {},
     "output_type": "execute_result"
    }
   ],
   "source": [
    "diffedImage"
   ]
  },
  {
   "cell_type": "code",
   "execution_count": 19,
   "metadata": {},
   "outputs": [],
   "source": [
    "# Plot the differenced image in the firefly window.\n",
    "afw_display_2.mtv(diffedImage.subtractedExposure)"
   ]
  },
  {
   "cell_type": "markdown",
   "metadata": {},
   "source": [
    "The layers can be adjusted in the firefly display, to see the DIAsources."
   ]
  }
 ],
 "metadata": {
  "kernelspec": {
   "display_name": "LSST",
   "language": "python",
   "name": "lsst"
  },
  "language_info": {
   "codemirror_mode": {
    "name": "ipython",
    "version": 3
   },
   "file_extension": ".py",
   "mimetype": "text/x-python",
   "name": "python",
   "nbconvert_exporter": "python",
   "pygments_lexer": "ipython3",
   "version": "3.6.2"
  }
 },
 "nbformat": 4,
 "nbformat_minor": 2
}
