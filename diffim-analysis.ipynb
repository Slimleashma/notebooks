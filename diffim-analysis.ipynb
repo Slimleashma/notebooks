{
 "cells": [
  {
   "cell_type": "raw",
   "metadata": {},
   "source": [
    "### First attempt at difference imagaging analaysis\n",
    "\n",
    "#### This might be connected to the artificial star tests above. \n",
    "# A big question is whether we have good templates to use for this test. \n",
    "# It would be extremely useful to start building up the machinery to do an analysis like \n",
    "# (1) create template, \n",
    "# (2) inject a point source of known flux into a test image, \n",
    "# (3) compute difference image, \n",
    "# (4) test how well we recover the injected object. \n",
    "# Even if we do not inject artificial point sources, it would be very interesting to examine the difference \n",
    "# images and identify failure modes."
   ]
  },
  {
   "cell_type": "code",
   "execution_count": 133,
   "metadata": {},
   "outputs": [],
   "source": [
    "# LSST stack imports\n",
    "from lsst.daf.persistence import Butler\n",
    "import lsst.afw.display as afw_display\n",
    "\n",
    "# Firefly client imports\n",
    "from firefly_client import FireflyClient\n",
    "\n",
    "# Standard libraries in support of Firefly display\n",
    "from urllib.parse import urlparse, urlunparse, ParseResult\n",
    "from IPython.display import IFrame, display, Markdown\n",
    "import os\n",
    "\n",
    "# Identify 2 individual visits that point to the same point on the sky. \n",
    "# Use the HSC WIDE dataset \n",
    "# /datasets/hsc/repo/rerun/DM-10404/WIDE/\n",
    "# Cheating can be achieved viu sqlite3 /datasets/hsc/repo/registry.sqlite3 \n",
    "# select * from raw limit 10\n",
    "data_dir = '/datasets/hsc/repo/rerun/DM-10404/WIDE/'"
   ]
  },
  {
   "cell_type": "code",
   "execution_count": 134,
   "metadata": {},
   "outputs": [],
   "source": [
    "# Create a butler from this data directory\n",
    "from lsst.daf.persistence import Butler\n",
    "butler = Butler(data_dir)\n",
    "#print(butler.getUri)\n",
    "# get all the visits over the SSP_WIDE survey\n",
    "visitPointings = butler.queryMetadata('calexp',('visit', 'pointing'),{'field':'SSP_WIDE'})\n",
    "#print(visitPointings)"
   ]
  },
  {
   "cell_type": "code",
   "execution_count": 135,
   "metadata": {},
   "outputs": [],
   "source": [
    "# Lets try to pull up 2 images from different fields of the same pointing\n",
    "# 374, 376, pointing :  814\n",
    "dataId1 = {'visit': 374, 'ccd':42}\n",
    "dataId2 = {'visit': 376, 'ccd':42}"
   ]
  },
  {
   "cell_type": "code",
   "execution_count": 136,
   "metadata": {},
   "outputs": [],
   "source": [
    "calexp1 = butler.get('calexp', **dataId1)\n",
    "calexp2 = butler.get('calexp', **dataId2)"
   ]
  },
  {
   "cell_type": "code",
   "execution_count": 137,
   "metadata": {},
   "outputs": [],
   "source": [
    "# Create a display\n",
    "my_channel = '{}_test_channel'.format(os.environ['USER'])\n",
    "server = 'https://lsst-lspdev.ncsa.illinois.edu'"
   ]
  },
  {
   "cell_type": "code",
   "execution_count": 138,
   "metadata": {},
   "outputs": [],
   "source": [
    "#ff='{}/firefly/slate.html?__wsch={}'.format(server, my_channel)\n",
    "#IFrame(ff,800,600)"
   ]
  },
  {
   "cell_type": "code",
   "execution_count": 139,
   "metadata": {},
   "outputs": [],
   "source": [
    "afwDisplay.setDefaultBackend('firefly')\n",
    "afw_display_1 = afwDisplay.getDisplay(frame=1, \n",
    "                                    name=my_channel)\n",
    "afw_display_2 = afwDisplay.getDisplay(frame=2, \n",
    "                                    name=my_channel)"
   ]
  },
  {
   "cell_type": "code",
   "execution_count": 140,
   "metadata": {},
   "outputs": [],
   "source": [
    "afw_display_1.mtv(calexp1, \"Calexp %d\" % dataId1['visit'])\n",
    "afw_display_2.mtv(calexp2, \"Calexp %d\" % dataId2['visit'])"
   ]
  },
  {
   "cell_type": "code",
   "execution_count": 141,
   "metadata": {},
   "outputs": [
    {
     "name": "stdout",
     "output_type": "stream",
     "text": [
      "374 , 30.0\n",
      "376 , 200.0\n",
      "378 , 30.0\n",
      "380 , 200.0\n",
      "382 , 30.0\n",
      "384 , 200.0\n",
      "386 , 30.0\n",
      "388 , 200.0\n",
      "390 , 30.0\n",
      "392 , 200.0\n"
     ]
    }
   ],
   "source": [
    "# C1 date\n",
    "c1VisitInfo = calexp1.getInfo().getVisitInfo()\n",
    "c1Date = c1VisitInfo.getDate()\n",
    "\n",
    "# C2\n",
    "c2VisitInfo = calexp2.getInfo().getVisitInfo()\n",
    "c2Date = c2VisitInfo.getDate()\n",
    "\n",
    "# Time difference \n",
    "timediff = c2Date.toPython() -c1Date.toPython()\n",
    "timediff.total_seconds()\n",
    "\n",
    "\n",
    "# Try to identify visits with the same exposure time \n",
    "for visit,pointing in visitPointings[:10] : \n",
    "    dataId = {'visit': visit, 'ccd':42}\n",
    "    calexp = butler.get('calexp', **dataId)\n",
    "    visitInfo = calexp.getInfo().getVisitInfo()\n",
    "    print(visit, \",\", visitInfo.getExposureTime())\n"
   ]
  },
  {
   "cell_type": "code",
   "execution_count": 142,
   "metadata": {},
   "outputs": [],
   "source": [
    "# Interim hack. Difference the 30 and 200 second images to get. Go back to find t2 overlapping images"
   ]
  }
 ],
 "metadata": {
  "kernelspec": {
   "display_name": "LSST",
   "language": "python",
   "name": "lsst"
  },
  "language_info": {
   "codemirror_mode": {
    "name": "ipython",
    "version": 3
   },
   "file_extension": ".py",
   "mimetype": "text/x-python",
   "name": "python",
   "nbconvert_exporter": "python",
   "pygments_lexer": "ipython3",
   "version": "3.6.2"
  }
 },
 "nbformat": 4,
 "nbformat_minor": 2
}
