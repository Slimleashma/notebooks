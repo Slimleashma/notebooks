{
 "cells": [
  {
   "cell_type": "raw",
   "metadata": {},
   "source": [
    "### First attempt at difference imagaging analaysis\n",
    "\n",
    "#### This might be connected to the artificial star tests above. \n",
    "# A big question is whether we have good templates to use for this test. \n",
    "# It would be extremely useful to start building up the machinery to do an analysis like \n",
    "# (1) create template, \n",
    "# (2) inject a point source of known flux into a test image, \n",
    "# (3) compute difference image, \n",
    "# (4) test how well we recover the injected object. \n",
    "# Even if we do not inject artificial point sources, it would be very interesting to examine the difference \n",
    "# images and identify failure modes."
   ]
  },
  {
   "cell_type": "code",
   "execution_count": 133,
   "metadata": {},
   "outputs": [],
   "source": [
    "# LSST stack imports\n",
    "from lsst.daf.persistence import Butler\n",
    "import lsst.afw.display as afw_display\n",
    "\n",
    "# Firefly client imports\n",
    "from firefly_client import FireflyClient\n",
    "\n",
    "# Standard libraries in support of Firefly display\n",
    "from urllib.parse import urlparse, urlunparse, ParseResult\n",
    "from IPython.display import IFrame, display, Markdown\n",
    "import os\n",
    "\n",
    "# Identify 2 individual visits that point to the same point on the sky. \n",
    "# Use the HSC WIDE dataset \n",
    "# /datasets/hsc/repo/rerun/DM-10404/WIDE/\n",
    "# Cheating can be achieved viu sqlite3 /datasets/hsc/repo/registry.sqlite3 \n",
    "# select * from raw limit 10\n",
    "data_dir = '/datasets/hsc/repo/rerun/DM-10404/WIDE/'"
   ]
  },
  {
   "cell_type": "code",
   "execution_count": 134,
   "metadata": {},
   "outputs": [],
   "source": [
    "# Create a butler from this data directory\n",
    "from lsst.daf.persistence import Butler\n",
    "butler = Butler(data_dir)\n",
    "#print(butler.getUri)\n",
    "# get all the visits over the SSP_WIDE survey\n",
    "visitPointings = butler.queryMetadata('calexp',('visit', 'pointing'),{'field':'SSP_WIDE'})\n",
    "#print(visitPointings)"
   ]
  },
  {
   "cell_type": "code",
   "execution_count": 135,
   "metadata": {},
   "outputs": [],
   "source": [
    "# Lets try to pull up 2 images from different fields of the same pointing\n",
    "# 374, 376, pointing :  814\n",
    "dataId1 = {'visit': 374, 'ccd':42}\n",
    "dataId2 = {'visit': 376, 'ccd':42}"
   ]
  },
  {
   "cell_type": "code",
   "execution_count": 136,
   "metadata": {},
   "outputs": [],
   "source": [
    "calexp1 = butler.get('calexp', **dataId1)\n",
    "calexp2 = butler.get('calexp', **dataId2)"
   ]
  },
  {
   "cell_type": "code",
   "execution_count": 137,
   "metadata": {},
   "outputs": [],
   "source": [
    "# Create a display\n",
    "my_channel = '{}_test_channel'.format(os.environ['USER'])\n",
    "server = 'https://lsst-lspdev.ncsa.illinois.edu'"
   ]
  },
  {
   "cell_type": "code",
   "execution_count": 138,
   "metadata": {},
   "outputs": [],
   "source": [
    "#ff='{}/firefly/slate.html?__wsch={}'.format(server, my_channel)\n",
    "#IFrame(ff,800,600)"
   ]
  },
  {
   "cell_type": "code",
   "execution_count": 139,
   "metadata": {},
   "outputs": [],
   "source": [
    "afwDisplay.setDefaultBackend('firefly')\n",
    "afw_display_1 = afwDisplay.getDisplay(frame=1, \n",
    "                                    name=my_channel)\n",
    "afw_display_2 = afwDisplay.getDisplay(frame=2, \n",
    "                                    name=my_channel)"
   ]
  },
  {
   "cell_type": "code",
   "execution_count": 140,
   "metadata": {},
   "outputs": [],
   "source": [
    "afw_display_1.mtv(calexp1, \"Calexp %d\" % dataId1['visit'])\n",
    "afw_display_2.mtv(calexp2, \"Calexp %d\" % dataId2['visit'])"
   ]
  },
  {
   "cell_type": "code",
   "execution_count": 141,
   "metadata": {},
   "outputs": [
    {
     "name": "stdout",
     "output_type": "stream",
     "text": [
      "374 , 30.0\n",
      "376 , 200.0\n",
      "378 , 30.0\n",
      "380 , 200.0\n",
      "382 , 30.0\n",
      "384 , 200.0\n",
      "386 , 30.0\n",
      "388 , 200.0\n",
      "390 , 30.0\n",
      "392 , 200.0\n"
     ]
    }
   ],
   "source": [
    "# C1 date\n",
    "c1VisitInfo = calexp1.getInfo().getVisitInfo()\n",
    "c1Date = c1VisitInfo.getDate()\n",
    "\n",
    "# C2\n",
    "c2VisitInfo = calexp2.getInfo().getVisitInfo()\n",
    "c2Date = c2VisitInfo.getDate()\n",
    "\n",
    "# Time difference \n",
    "timediff = c2Date.toPython() -c1Date.toPython()\n",
    "timediff.total_seconds()\n",
    "\n",
    "\n",
    "# Try to identify visits with the same exposure time \n",
    "for visit,pointing in visitPointings[:10] : \n",
    "    dataId = {'visit': visit, 'ccd':42}\n",
    "    calexp = butler.get('calexp', **dataId)\n",
    "    visitInfo = calexp.getInfo().getVisitInfo()\n",
    "    print(visit, \",\", visitInfo.getExposureTime())\n"
   ]
  },
  {
   "cell_type": "code",
   "execution_count": 143,
   "metadata": {},
   "outputs": [
    {
     "name": "stdout",
     "output_type": "stream",
     "text": [
      "usage: imageDifference.py input [options]\n",
      "\n",
      "positional arguments:\n",
      "  input                 path to input data repository, relative to\n",
      "                        $PIPE_INPUT_ROOT\n",
      "\n",
      "optional arguments:\n",
      "  -h, --help            show this help message and exit\n",
      "  --calib RAWCALIB      path to input calibration repository, relative to\n",
      "                        $PIPE_CALIB_ROOT\n",
      "  --output RAWOUTPUT    path to output data repository (need not exist),\n",
      "                        relative to $PIPE_OUTPUT_ROOT\n",
      "  --rerun [INPUT:]OUTPUT\n",
      "                        rerun name: sets OUTPUT to ROOT/rerun/OUTPUT;\n",
      "                        optionally sets ROOT to ROOT/rerun/INPUT\n",
      "  -c [NAME=VALUE [NAME=VALUE ...]], --config [NAME=VALUE [NAME=VALUE ...]]\n",
      "                        config override(s), e.g. -c foo=newfoo bar.baz=3\n",
      "  -C [CONFIGFILE [CONFIGFILE ...]], --configfile [CONFIGFILE [CONFIGFILE ...]]\n",
      "                        config override file(s)\n",
      "  -L [LEVEL|COMPONENT=LEVEL [LEVEL|COMPONENT=LEVEL ...]], --loglevel [LEVEL|COMPONENT=LEVEL [LEVEL|COMPONENT=LEVEL ...]]\n",
      "                        logging level; supported levels are\n",
      "                        [trace|debug|info|warn|error|fatal]\n",
      "  --longlog             use a more verbose format for the logging\n",
      "  --debug               enable debugging output?\n",
      "  --doraise             raise an exception on error (else log a message and\n",
      "                        continue)?\n",
      "  --noExit              Do not exit even upon failure (i.e. return a struct to\n",
      "                        the calling script)\n",
      "  --profile PROFILE     Dump cProfile statistics to filename\n",
      "  --show SHOW [SHOW ...]\n",
      "                        display the specified information to stdout and quit\n",
      "                        (unless run is specified).\n",
      "  -j PROCESSES, --processes PROCESSES\n",
      "                        Number of processes to use\n",
      "  -t TIMEOUT, --timeout TIMEOUT\n",
      "                        Timeout for multiprocessing; maximum wall time (sec)\n",
      "  --clobber-output      remove and re-create the output directory if it\n",
      "                        already exists (safe with -j, but not all other forms\n",
      "                        of parallel execution)\n",
      "  --clobber-config      backup and then overwrite existing config files\n",
      "                        instead of checking them (safe with -j, but not all\n",
      "                        other forms of parallel execution)\n",
      "  --no-backup-config    Don't copy config to file~N backup.\n",
      "  --clobber-versions    backup and then overwrite existing package versions\n",
      "                        instead of checkingthem (safe with -j, but not all\n",
      "                        other forms of parallel execution)\n",
      "  --no-versions         don't check package versions; useful for development\n",
      "  --id [KEY=VALUE1[^VALUE2[^VALUE3...] [KEY=VALUE1[^VALUE2[^VALUE3...] ...]]\n",
      "                        data ID, e.g. --id visit=12345 ccd=1,2\n",
      "  --templateId [KEY=VALUE1[^VALUE2[^VALUE3...] [KEY=VALUE1[^VALUE2[^VALUE3...] ...]]\n",
      "                        Optional template data ID (visit only), e.g.\n",
      "                        --templateId visit=6789\n",
      "\n",
      "Notes:\n",
      "            * --config, --configfile, --id, --loglevel and @file may appear multiple times;\n",
      "                all values are used, in order left to right\n",
      "            * @file reads command-line options from the specified file:\n",
      "                * data may be distributed among multiple lines (e.g. one option per line)\n",
      "                * data after # is treated as a comment and ignored\n",
      "                * blank lines and lines starting with # are ignored\n",
      "            * To specify multiple values for an option, do not use = after the option name:\n",
      "                * right: --configfile foo bar\n",
      "                * wrong: --configfile=foo bar\n",
      "imageDifference.py: error: Must specify input as first argument\n"
     ]
    }
   ],
   "source": [
    "# diff image the 30 sec and 180 sec. Run on the cmd line \n",
    "! imageDifference.py"
   ]
  },
  {
   "cell_type": "code",
   "execution_count": 151,
   "metadata": {},
   "outputs": [
    {
     "name": "stdout",
     "output_type": "stream",
     "text": [
      "CameraMapper INFO: Loading exposure registry from /datasets/hsc/repo/registry.sqlite3\n",
      "CameraMapper INFO: Loading calib registry from /datasets/hsc/repo/CALIB/calibRegistry.sqlite3\n",
      "HscMapper WARN: Unable to find calib root directory\n",
      "HscMapper WARN: Unable to find calib root directory\n",
      "HscMapper WARN: Unable to find calib root directory\n",
      "root INFO: Running: /home/lguy/notebooks/pipe_tasks/bin/imageDifference.py /datasets/hsc/repo/rerun/DM-10404/WIDE/ --output diffim-output --id visit=374 ccd=42 --templateId visit=376 -C diffim-config.py\n",
      "WARNING: You are using OpenBLAS with multiple threads (64), but have not\n",
      "specified the number of threads using one of the OpenBLAS environment variables:\n",
      "OPENBLAS_NUM_THREADS, GOTO_NUM_THREADS, OMP_NUM_THREADS.\n",
      "This may indicate that you are unintentionally using multiple threads, which may\n",
      "cause problems. WE HAVE THEREFORE DISABLED OpenBLAS THREADING. If you know\n",
      "what you are doing and want threads enabled implicitly, set the environment\n",
      "variable LSST_ALLOW_IMPLICIT_THREADS.\n",
      "Traceback (most recent call last):\n",
      "  File \"/home/lguy/notebooks/pipe_tasks/bin/imageDifference.py\", line 34, in <module>\n",
      "    ImageDifferenceTask.parseAndRun()\n",
      "  File \"/opt/lsst/software/stack/stack/miniconda3-4.3.21-10a4fa6/Linux64/pipe_base/15.0-6-gfa9b38f+3/python/lsst/pipe/base/cmdLineTask.py\", line 575, in parseAndRun\n",
      "    resultList = taskRunner.run(parsedCmd)\n",
      "  File \"/opt/lsst/software/stack/stack/miniconda3-4.3.21-10a4fa6/Linux64/pipe_base/15.0-6-gfa9b38f+3/python/lsst/pipe/base/cmdLineTask.py\", line 217, in run\n",
      "    if self.precall(parsedCmd):\n",
      "  File \"/opt/lsst/software/stack/stack/miniconda3-4.3.21-10a4fa6/Linux64/pipe_base/15.0-6-gfa9b38f+3/python/lsst/pipe/base/cmdLineTask.py\", line 331, in precall\n",
      "    task = self.makeTask(parsedCmd=parsedCmd)\n",
      "  File \"/opt/lsst/software/stack/stack/miniconda3-4.3.21-10a4fa6/Linux64/pipe_base/15.0-6-gfa9b38f+3/python/lsst/pipe/base/cmdLineTask.py\", line 461, in makeTask\n",
      "    return self.TaskClass(config=self.config, log=self.log, butler=butler)\n",
      "  File \"/home/lguy/notebooks/pipe_tasks/python/lsst/pipe/tasks/imageDifference.py\", line 241, in __init__\n",
      "    self.makeSubtask(\"sourceSelector\", schema=self.schema)\n",
      "  File \"/opt/lsst/software/stack/stack/miniconda3-4.3.21-10a4fa6/Linux64/pipe_base/15.0-6-gfa9b38f+3/python/lsst/pipe/base/task.py\", line 300, in makeSubtask\n",
      "    subtask = taskField.apply(name=name, parentTask=self, **keyArgs)\n",
      "  File \"/opt/lsst/software/stack/stack/miniconda3-4.3.21-10a4fa6/Linux64/pex_config/15.0-1-gae1598d+11/python/lsst/pex/config/configurableField.py\", line 83, in apply\n",
      "    return self.target(*args, config=self.value, **kw)\n",
      "  File \"/opt/lsst/software/stack/stack/miniconda3-4.3.21-10a4fa6/Linux64/meas_algorithms/15.0-11-g7db6e543+3/python/lsst/meas/algorithms/sourceSelector.py\", line 67, in __init__\n",
      "    pipeBase.Task.__init__(self, **kwargs)\n",
      "TypeError: __init__() got an unexpected keyword argument 'schema'\n"
     ]
    }
   ],
   "source": [
    "! imageDifference.py $data_dir --output 'diffim-output' --id visit=374 ccd=42 --templateId visit=376 -C diffim-config.py"
   ]
  },
  {
   "cell_type": "code",
   "execution_count": null,
   "metadata": {},
   "outputs": [],
   "source": []
  }
 ],
 "metadata": {
  "kernelspec": {
   "display_name": "LSST",
   "language": "python",
   "name": "lsst"
  },
  "language_info": {
   "codemirror_mode": {
    "name": "ipython",
    "version": 3
   },
   "file_extension": ".py",
   "mimetype": "text/x-python",
   "name": "python",
   "nbconvert_exporter": "python",
   "pygments_lexer": "ipython3",
   "version": "3.6.2"
  }
 },
 "nbformat": 4,
 "nbformat_minor": 2
}
