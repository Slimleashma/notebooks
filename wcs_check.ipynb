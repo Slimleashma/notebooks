{
 "cells": [
  {
   "cell_type": "code",
   "execution_count": 1,
   "metadata": {},
   "outputs": [],
   "source": [
    "import numpy as np\n",
    "\n",
    "import lsst.daf.persistence as dafPersist\n",
    "import lsst.afw.geom as afwGeom"
   ]
  },
  {
   "cell_type": "code",
   "execution_count": 2,
   "metadata": {},
   "outputs": [],
   "source": [
    "butler = dafPersist.Butler('/home/shared/twinkles/output_data_v2')"
   ]
  },
  {
   "cell_type": "code",
   "execution_count": 3,
   "metadata": {},
   "outputs": [],
   "source": [
    "subset = butler.subset('src')\n",
    "dataid = subset.cache[4] # Random choice\n",
    "my_src = butler.get('src', dataId=dataid)\n",
    "my_calexp = butler.get('calexp', dataId=dataid)\n",
    "my_wcs = my_calexp.getWcs()"
   ]
  },
  {
   "cell_type": "code",
   "execution_count": 4,
   "metadata": {},
   "outputs": [
    {
     "name": "stdout",
     "output_type": "stream",
     "text": [
      "base_SdssCentroid\n"
     ]
    }
   ],
   "source": [
    "for key, value in zip(my_src.schema.getAliasMap().keys(), \n",
    "                        my_srcc.schema.getAliasMap().values()): \n",
    "    #print('%60s%40s'%(key, value))\n",
    "    if key == 'slot_Centroid':\n",
    "        print(value)"
   ]
  },
  {
   "cell_type": "code",
   "execution_count": 5,
   "metadata": {},
   "outputs": [],
   "source": [
    "# Pick a bright star that was using to calibrate photometry\n",
    "selection = my_src['calib_photometry_used']\n",
    "index = np.argmax(np.ma.masked_array(my_src.getPsfFlux(), ~selection))"
   ]
  },
  {
   "cell_type": "code",
   "execution_count": 6,
   "metadata": {},
   "outputs": [
    {
     "name": "stdout",
     "output_type": "stream",
     "text": [
      "     sdss:    1047.712973    1078.325186\n",
      "    naive:    1047.108757    1078.047322\n",
      "    gauss:    1047.713089    1078.325101\n",
      "    radec:    1047.862596    1078.431977\n"
     ]
    }
   ],
   "source": [
    "ra_target, dec_target = my_src['coord_ra'][index], my_src['coord_dec'][index] # Radians\n",
    "radec = afwGeom.SpherePoint(ra_target, dec_target, afwGeom.radians)\n",
    "\n",
    "xy = my_wcs.skyToPixel(radec)\n",
    "\n",
    "print('%10s%15.6f%15.6f'%('sdss:', \n",
    "                          my_src['base_SdssCentroid_x'][index], \n",
    "                          my_src['base_SdssCentroid_y'][index]))\n",
    "print('%10s%15.6f%15.6f'%('naive:', \n",
    "                          my_src['base_NaiveCentroid_x'][index], \n",
    "                          my_src['base_NaiveCentroid_y'][index])) \n",
    "print('%10s%15.6f%15.6f'%('gauss:', \n",
    "                          my_src['base_GaussianCentroid_x'][index], \n",
    "                          my_src['base_GaussianCentroid_y'][index])) \n",
    "print('%10s%15.6f%15.6f'%('radec:', \n",
    "                          xy.getX(), \n",
    "                          xy.getY()))"
   ]
  },
  {
   "cell_type": "markdown",
   "metadata": {},
   "source": [
    "Is it surprising that the pixel coordinates converted from `coord_ra` and `coord_dec` via the WCS are not closer in value to the {sdss, naive, gauss} centroids?"
   ]
  },
  {
   "cell_type": "code",
   "execution_count": null,
   "metadata": {},
   "outputs": [],
   "source": []
  }
 ],
 "metadata": {
  "kernelspec": {
   "display_name": "LSST",
   "language": "python",
   "name": "lsst"
  },
  "language_info": {
   "codemirror_mode": {
    "name": "ipython",
    "version": 3
   },
   "file_extension": ".py",
   "mimetype": "text/x-python",
   "name": "python",
   "nbconvert_exporter": "python",
   "pygments_lexer": "ipython3",
   "version": "3.6.2"
  }
 },
 "nbformat": 4,
 "nbformat_minor": 2
}
