{
 "cells": [
  {
   "cell_type": "markdown",
   "metadata": {},
   "source": [
    "This demo notebook is to demonstrate initial procedure for generating, displaying, and characterizing defect masks using the DM calibration products pipeline."
   ]
  },
  {
   "cell_type": "markdown",
   "metadata": {},
   "source": [
    "From RHL:  \n",
    "\n",
    ">I don't think you want to bias correct the data (overscan, yes).\n",
    "\n",
    ">You'd run something like\n",
    "\trunIsr.py /project/shared/comCam --id visit=....  ccd=... --rerun bstalder/XXX -c isr.doBias=False isr.doDark=False isr.doFlat=False\n",
    "(I see that you're using just --rerun bstalder; that's OK but only allows one rerun).  Add -j 9 or something if the machine is quiet.\n",
    "\n",
    ">It might actually be easier to run \n",
    "\tfindDefects.py /project/shared/comCam --id visit=....  ccd=... --rerun bstalder/XXX -c makePlots=False -j 9 \n",
    "that will run the ISR for you with \"proper\" configs (we need to discuss with Andrés what \"proper\" should be), and then find the defects.  So if you run that you can then run my notebook to play with the defect finding.\n",
    "\n",
    ">N.B.:  I just pushed a lost changeset to make this work -- when I said, \"I'll just rebase onto master\" I forgot that Merlin would be doing a forced push.  I hope I didn't miss anything else!\n",
    "\n",
    ">Or, contrariwise, you can run the ISR as part of your notebook.  I assume you know how to do that, if not ask!\n",
    "\n"
   ]
  },
  {
   "cell_type": "markdown",
   "metadata": {},
   "source": [
    "Example notebook as follows (run on 8/21/2019 with w19_31):"
   ]
  },
  {
   "cell_type": "code",
   "execution_count": 1,
   "metadata": {},
   "outputs": [],
   "source": [
    "import os\n",
    "import sys\n",
    "import numpy as np\n",
    "import lsst.daf.persistence as dafPersist\n",
    "import lsst.afw.display as afwDisplay\n",
    "import lsst.afw.display.utils as dispUtils \n",
    "afwDisplay.setDefaultBackend(\"matplotlib\") \n",
    "import matplotlib.pyplot as plt\n",
    "%matplotlib ipympl \n",
    "plt.rcParams['figure.figsize'] = [7, 6]\n",
    " # For some reason, to get interactive plots, we need to run this command twice\n",
    "%matplotlib ipympl\n"
   ]
  },
  {
   "cell_type": "code",
   "execution_count": 2,
   "metadata": {},
   "outputs": [],
   "source": [
    " # For some reason, to get interactive plots, we need to run this command twice\n",
    "%matplotlib ipympl"
   ]
  },
  {
   "cell_type": "markdown",
   "metadata": {},
   "source": [
    "Load and initialise the findDefects code (from an RHL branch)"
   ]
  },
  {
   "cell_type": "code",
   "execution_count": 13,
   "metadata": {},
   "outputs": [
    {
     "ename": "RuntimeError",
     "evalue": "Must set config.isr.doAddDistortionModel to False for defect finding",
     "output_type": "error",
     "traceback": [
      "\u001b[0;31m---------------------------------------------------------------------------\u001b[0m",
      "\u001b[0;31mRuntimeError\u001b[0m                              Traceback (most recent call last)",
      "\u001b[0;32m<ipython-input-13-d2883b523d8f>\u001b[0m in \u001b[0;36m<module>\u001b[0;34m\u001b[0m\n\u001b[1;32m      3\u001b[0m \u001b[0mconfig\u001b[0m \u001b[0;34m=\u001b[0m \u001b[0mFindDefectsTask\u001b[0m\u001b[0;34m.\u001b[0m\u001b[0mConfigClass\u001b[0m\u001b[0;34m(\u001b[0m\u001b[0;34m)\u001b[0m\u001b[0;34m\u001b[0m\u001b[0;34m\u001b[0m\u001b[0m\n\u001b[1;32m      4\u001b[0m \u001b[0;34m\u001b[0m\u001b[0m\n\u001b[0;32m----> 5\u001b[0;31m \u001b[0mfindDefectsTask\u001b[0m \u001b[0;34m=\u001b[0m \u001b[0mFindDefectsTask\u001b[0m\u001b[0;34m(\u001b[0m\u001b[0mconfig\u001b[0m\u001b[0;34m=\u001b[0m\u001b[0mconfig\u001b[0m\u001b[0;34m)\u001b[0m\u001b[0;34m\u001b[0m\u001b[0;34m\u001b[0m\u001b[0m\n\u001b[0m",
      "\u001b[0;32m~/notebooks/local_ups_db/ups_db/cp_pipe/python/lsst/cp/pipe/defects.py\u001b[0m in \u001b[0;36m__init__\u001b[0;34m(self, *args, **kwargs)\u001b[0m\n\u001b[1;32m    209\u001b[0m         \u001b[0mplt\u001b[0m\u001b[0;34m.\u001b[0m\u001b[0minteractive\u001b[0m\u001b[0;34m(\u001b[0m\u001b[0;32mFalse\u001b[0m\u001b[0;34m)\u001b[0m  \u001b[0;31m# stop windows popping up when plotting. When headless, use 'agg' backend too\u001b[0m\u001b[0;34m\u001b[0m\u001b[0;34m\u001b[0m\u001b[0m\n\u001b[1;32m    210\u001b[0m         self.validateIsrConfig(self.isrForFlats, self.config.isrMandatoryStepsFlats,\n\u001b[0;32m--> 211\u001b[0;31m                                self.config.isrForbiddenStepsFlats, self.config.isrDesirableSteps)\n\u001b[0m\u001b[1;32m    212\u001b[0m         self.validateIsrConfig(self.isrForDarks, self.config.isrMandatoryStepsDarks,\n\u001b[1;32m    213\u001b[0m                                self.config.isrForbiddenStepsDarks, self.config.isrDesirableSteps)\n",
      "\u001b[0;32m~/notebooks/local_ups_db/ups_db/cp_pipe/python/lsst/cp/pipe/defects.py\u001b[0m in \u001b[0;36mvalidateIsrConfig\u001b[0;34m(self, isrTask, mandatory, forbidden, desirable)\u001b[0m\n\u001b[1;32m    242\u001b[0m             \u001b[0;32mif\u001b[0m \u001b[0mconfigDict\u001b[0m\u001b[0;34m[\u001b[0m\u001b[0mconfigParam\u001b[0m\u001b[0;34m]\u001b[0m \u001b[0;32mis\u001b[0m \u001b[0;32mTrue\u001b[0m\u001b[0;34m:\u001b[0m\u001b[0;34m\u001b[0m\u001b[0;34m\u001b[0m\u001b[0m\n\u001b[1;32m    243\u001b[0m                 raise RuntimeError('Must set config.isr.%s to False '\n\u001b[0;32m--> 244\u001b[0;31m                                    'for defect finding' % configParam)\n\u001b[0m\u001b[1;32m    245\u001b[0m \u001b[0;34m\u001b[0m\u001b[0m\n\u001b[1;32m    246\u001b[0m         \u001b[0;32mfor\u001b[0m \u001b[0mconfigParam\u001b[0m \u001b[0;32min\u001b[0m \u001b[0mdesirable\u001b[0m\u001b[0;34m:\u001b[0m\u001b[0;34m\u001b[0m\u001b[0;34m\u001b[0m\u001b[0m\n",
      "\u001b[0;31mRuntimeError\u001b[0m: Must set config.isr.doAddDistortionModel to False for defect finding"
     ]
    }
   ],
   "source": [
    "from lsst.cp.pipe.defects import FindDefectsTask \n",
    "    \n",
    "config = FindDefectsTask.ConfigClass() \n",
    "\n",
    "findDefectsTask = FindDefectsTask(config=config)"
   ]
  },
  {
   "cell_type": "markdown",
   "metadata": {},
   "source": [
    "Prepare to and then read data"
   ]
  },
  {
   "cell_type": "code",
   "execution_count": null,
   "metadata": {},
   "outputs": [],
   "source": [
    "butler = dafPersist.Butler(os.path.join(\"/project/shared/comCam\", \"rerun\", \"rhl/ 􏰀→defects\"))\n",
    "dataId = dict(detector=194)"
   ]
  },
  {
   "cell_type": "code",
   "execution_count": null,
   "metadata": {},
   "outputs": [],
   "source": [
    "visits = [201904182050253, 201904182051463]\n",
    "\n",
    "try: \n",
    "    exps\n",
    "except NameError: exps = {}\n",
    "\n",
    "for visit in visits:\n",
    "    if visit not in exps:\n",
    "        exps[visit] = butler.get(\"postISRCCD\", dataId, visit=visit)"
   ]
  },
  {
   "cell_type": "markdown",
   "metadata": {},
   "source": [
    "Find all the defects"
   ]
  },
  {
   "cell_type": "code",
   "execution_count": null,
   "metadata": {},
   "outputs": [],
   "source": [
    "ret = findDefectsTask.run({}, exps)\n",
    "\n",
    "defects = ret.defects\n",
    "#perExposureDefects = ret.perExposureDefects"
   ]
  },
  {
   "cell_type": "markdown",
   "metadata": {},
   "source": [
    "Visualise the defects"
   ]
  },
  {
   "cell_type": "code",
   "execution_count": null,
   "metadata": {},
   "outputs": [],
   "source": [
    "visit = visits[1]\n",
    "exp = exps[visit].clone()\n",
    "\n",
    "exp.mask.addMaskPlane(\"DEFECT\")\n",
    "afwDisplay.setDefaultMaskPlaneColor(\"DEFECT\", afwDisplay.YELLOW)\n",
    "\n",
    "defects.maskPixels(exp.maskedImage, \"DEFECT\") \n",
    "\n",
    "disp = afwDisplay.Display(1, reopenPlot=True)\n",
    "disp.scale('linear', 'zscale')\n",
    "\n",
    "disp.mtv(exp, title=f\"visit={visit} detector={exp.getDetector().getName()}\")"
   ]
  },
  {
   "cell_type": "code",
   "execution_count": null,
   "metadata": {},
   "outputs": [],
   "source": [
    "disp.erase()\n",
    "\n",
    "with disp.Buffering():\n",
    "    for i, d in enumerate(defects):\n",
    "        dispUtils.drawBBox(d.getBBox(), display=disp, borderWidth=0.5)"
   ]
  },
  {
   "cell_type": "code",
   "execution_count": null,
   "metadata": {},
   "outputs": [],
   "source": [
    "camera = butler.get(\"camera\") \n",
    "for det in camera:\n",
    "    if \"RTM-031\" in det.getName(): \n",
    "        print(det.getName(), det.getId())"
   ]
  },
  {
   "cell_type": "code",
   "execution_count": null,
   "metadata": {},
   "outputs": [],
   "source": []
  }
 ],
 "metadata": {
  "kernelspec": {
   "display_name": "LSST",
   "language": "python",
   "name": "lsst"
  },
  "language_info": {
   "codemirror_mode": {
    "name": "ipython",
    "version": 3
   },
   "file_extension": ".py",
   "mimetype": "text/x-python",
   "name": "python",
   "nbconvert_exporter": "python",
   "pygments_lexer": "ipython3",
   "version": "3.7.2"
  }
 },
 "nbformat": 4,
 "nbformat_minor": 2
}
