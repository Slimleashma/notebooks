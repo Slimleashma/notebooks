{
 "cells": [
  {
   "cell_type": "markdown",
   "metadata": {},
   "source": [
    "# Firefly Demo / Cheatsheet\n",
    "\n",
    "In this minimal notebook you will:\n",
    "* Start up a Firefly instance and display an image.\n",
    "* Run a parallel notebook with the same Firefly display."
   ]
  },
  {
   "cell_type": "markdown",
   "metadata": {},
   "source": [
    "## Requirements"
   ]
  },
  {
   "cell_type": "code",
   "execution_count": null,
   "metadata": {},
   "outputs": [],
   "source": [
    "# LSST stack imports:\n",
    "from lsst.daf.persistence import Butler\n",
    "import lsst.afw.display as afw_display\n",
    "\n",
    "# Firefly client imports:\n",
    "from firefly_client import FireflyClient"
   ]
  },
  {
   "cell_type": "markdown",
   "metadata": {},
   "source": [
    "Twinkles provides single sensor images:"
   ]
  },
  {
   "cell_type": "code",
   "execution_count": null,
   "metadata": {},
   "outputs": [],
   "source": [
    "butler = Butler('/project/shared/data/Twinkles_subset/output_data_v2')\n",
    "dataId = {'filter': 'r', 'raft': '2,2', 'sensor': '1,1', 'visit': 235}"
   ]
  },
  {
   "cell_type": "code",
   "execution_count": null,
   "metadata": {},
   "outputs": [],
   "source": [
    "calexp = butler.get('calexp', **dataId)"
   ]
  },
  {
   "cell_type": "markdown",
   "metadata": {},
   "source": [
    "## Starting a Firefly Display\n",
    "\n",
    "The cell below starts up a Firefly instance, using a channel personalized to your username. It's the contents of this cell that you need to paste into a parallel notebook in order to see the same display on one side of your jupyterlab tab, while your notebook scrolls past on the other side."
   ]
  },
  {
   "cell_type": "code",
   "execution_count": null,
   "metadata": {},
   "outputs": [],
   "source": [
    "import os\n",
    "from IPython.display import display, IFrame\n",
    "\n",
    "channel = '{}_test_channel'.format(os.environ['USER'])\n",
    "server = 'https://lsst-lspdev.ncsa.illinois.edu'\n",
    "ff='{}/firefly/slate.html?__wsch={}'.format(server, channel)\n",
    "\n",
    "import lsst.afw.display as afw_display\n",
    "afw_display.setDefaultBackend('firefly')\n",
    "display = afw_display.getDisplay(frame=1, \n",
    "                                  host=server,\n",
    "                                  name=channel)\n",
    "\n",
    "IFrame(ff, 800, 1000)"
   ]
  },
  {
   "cell_type": "markdown",
   "metadata": {},
   "source": [
    "## Using the Firefly Display\n",
    "\n",
    "Here are the lines for connecting your `display` object to the Firefly instance."
   ]
  },
  {
   "cell_type": "code",
   "execution_count": null,
   "metadata": {},
   "outputs": [],
   "source": [
    "afw_display.setDefaultBackend('firefly')\n",
    "display = afw_display.getDisplay(frame=1, \n",
    "                                  host=server,\n",
    "                                  name=channel)"
   ]
  },
  {
   "cell_type": "code",
   "execution_count": null,
   "metadata": {},
   "outputs": [],
   "source": [
    "display.mtv(calexp)"
   ]
  },
  {
   "cell_type": "markdown",
   "metadata": {},
   "source": [
    "## Going Further\n",
    "\n",
    "The `Firefly.ipynb` tutorial notebook in the `notebook-demo` folder provides a more extensive walkthrough of the Firefly display's capabilities."
   ]
  }
 ],
 "metadata": {
  "kernelspec": {
   "display_name": "LSST_Stack (Python 3)",
   "language": "python",
   "name": "lsst_stack"
  },
  "language_info": {
   "codemirror_mode": {
    "name": "ipython",
    "version": 3
   },
   "file_extension": ".py",
   "mimetype": "text/x-python",
   "name": "python",
   "nbconvert_exporter": "python",
   "pygments_lexer": "ipython3",
   "version": "3.6.2"
  }
 },
 "nbformat": 4,
 "nbformat_minor": 2
}
