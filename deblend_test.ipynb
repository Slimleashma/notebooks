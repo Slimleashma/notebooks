{
 "cells": [
  {
   "cell_type": "markdown",
   "metadata": {},
   "source": [
    "Deblending Test notebook.\n",
    "\n",
    "Jeff C. and Sasha B. for the SV bootcamp. First version on 05/31/18.\n",
    "\n",
    "In this notebook we use the HSC 100 sq deg. Deep dataset to test:\n",
    "\n",
    "    How to visualize the deblending of sources.\n",
    "    Comparing the \"truth\" as derived by COSMOS to the deblended sources.\n",
    "\n",
    "Borrowing some pieces from this notebook: https://github.com/RobertLuptonTheGood/notebooks/blob/master/Demos/Deblender.ipynb\n",
    "\n",
    "For info on the deblender functions available: https://github.com/lsst/analysis/blob/master/python/lsst/analysis/deblender.py"
   ]
  },
  {
   "cell_type": "raw",
   "metadata": {},
   "source": [
    "You'll need the lsst.analysis package to access the deblender class:\n",
    "\n",
    "1. Make a directory to contain the package (e.g., $HOME/lsst_repos/)\n",
    "2. $ cd $HOME/lsst_repos/\n",
    "3. $ git clone https://github.com/lsst/analysis\n",
    "4. $ cd analysis/\n",
    "5. $ setup -r .\n",
    "6. $ scons (build the package)\n",
    "7. $ cd ~/notebooks/\n",
    "8. If it exists, edit .user_setups. If not, create it and add the following line: “setup -r $HOME/lsst_repos/analysis/”\n",
    "9. $ source .user_setups (if no errors, then you’re good to go!)\n",
    "10. Now within your notebooks, you can import lsst.analysis.deblender (for example).\n"
   ]
  },
  {
   "cell_type": "code",
   "execution_count": 1,
   "metadata": {},
   "outputs": [
    {
     "name": "stderr",
     "output_type": "stream",
     "text": [
      "/opt/lsst/software/stack/python/miniconda3-4.3.21/lib/python3.6/site-packages/matplotlib/__init__.py:1405: UserWarning: \n",
      "This call to matplotlib.use() has no effect because the backend has already\n",
      "been chosen; matplotlib.use() must be called *before* pylab, matplotlib.pyplot,\n",
      "or matplotlib.backends is imported for the first time.\n",
      "\n",
      "  warnings.warn(_use_error_msg)\n"
     ]
    }
   ],
   "source": [
    "import numpy as np\n",
    "import pandas as pd\n",
    "import glob\n",
    "from collections import OrderedDict\n",
    "import importlib\n",
    "\n",
    "# LSST stack imports\n",
    "import lsst.daf.persistence as dafPersist\n",
    "import lsst.analysis.deblender as deblender\n",
    "import lsst.afw.display as afwDisplay\n",
    "\n",
    "# Firefly client imports\n",
    "from firefly_client import FireflyClient\n",
    "\n",
    "# Standard libraries in support of Firefly display\n",
    "from urllib.parse import urlparse, urlunparse, ParseResult\n",
    "from IPython.display import display, Markdown, IFrame\n",
    "import os\n",
    "\n",
    "# Plotting setup:\n",
    "%matplotlib inline\n",
    "import matplotlib.pyplot as plt\n",
    "plt.rcParams['figure.figsize'] = (13, 8)\n"
   ]
  },
  {
   "cell_type": "markdown",
   "metadata": {},
   "source": [
    "Grab the HSC DEEP data from the repo with the butler:"
   ]
  },
  {
   "cell_type": "code",
   "execution_count": 2,
   "metadata": {},
   "outputs": [],
   "source": [
    "depth = 'DEEP'\n",
    "dataPath = \"/datasets/hsc/repo/rerun/DM-13666/DEEP\"\n",
    "\n",
    "butler = dafPersist.Butler(dataPath)\n",
    "skymap = butler.get(\"deepCoadd_skyMap\")"
   ]
  },
  {
   "cell_type": "markdown",
   "metadata": {},
   "source": [
    "Define a function to RA and DEC center of a patch in a tract."
   ]
  },
  {
   "cell_type": "code",
   "execution_count": 3,
   "metadata": {},
   "outputs": [],
   "source": [
    "def getPatchCenter(skymap, tract, patch):\n",
    "    '''\n",
    "    Find the center of the patch BBox in pixel coordinates and convert with tract WCS\n",
    "    An example of the format is:\n",
    "    tract = 1800\n",
    "    patch = '4,4'\n",
    "    '''\n",
    "    \n",
    "    # Convert strings to ints\n",
    "    patch = list(map(int, patch.split(','))) \n",
    "\n",
    "    # Get WCS for this tract\n",
    "    wcs = skymap.generateTract(tract).getWcs()\n",
    "\n",
    "    # Get four corners of patch\n",
    "    bbox = skymap.generateTract(tract).getPatchInfo(patch).getInnerBBox() \n",
    "\n",
    "    # Manually calculate the center of the patch and then return the values converted to degrees\n",
    "    sky = wcs.pixelToSky(np.mean((bbox.getBeginX(), bbox.getEndX())), \n",
    "                         np.mean((bbox.getBeginY(), bbox.getEndY())))\n",
    "    return sky[0].asDegrees(), sky[1].asDegrees()"
   ]
  },
  {
   "cell_type": "markdown",
   "metadata": {},
   "source": [
    "Figure out which HSC tracts and patches overlap the COSMOS field:"
   ]
  },
  {
   "cell_type": "code",
   "execution_count": 4,
   "metadata": {},
   "outputs": [
    {
     "name": "stdout",
     "output_type": "stream",
     "text": [
      "Found 1303 patches\n"
     ]
    }
   ],
   "source": [
    "# (borrowed from https://github.com/lsst-com/notebooks/blob/master/WL_nulltest.ipynb)\n",
    "\n",
    "# In the generation 2 butler it isn't possibe to introspect the metadata for any step after the initial\n",
    "# data ingest.  This code parses the names of the files to build a dataframe for later inspection.\n",
    "\n",
    "infiles = glob.glob('/datasets/hsc/repo/rerun/DM-13666/{:s}/deepCoadd-results/HSC-I/*/*/calexp-*.fits'\n",
    "                    .format(depth))\n",
    "\n",
    "# Get the skymap for the repo so we can understand where the tracts and patches are\n",
    "skymap = butler.get('deepCoadd_skyMap')\n",
    "\n",
    "# Now get the names of the tracts and patches based on the file parsing\n",
    "tract_array = []\n",
    "patch_array = []\n",
    "for i in range(0, len(infiles)):\n",
    "    parts = infiles[i].split('/')\n",
    "    tract_array.append(int(parts[-3]))\n",
    "    patch_array.append(parts[-2])\n",
    "\n",
    "number_patches = len(patch_array)\n",
    "\n",
    "# Create arrays to hold the RA and DEC of the centers of the patches\n",
    "ra_center_array = np.empty(number_patches, dtype=np.float)\n",
    "dec_center_array = np.empty(number_patches, dtype=np.float) \n",
    "\n",
    "# Loop through the patches and figure out where their centers are in degrees\n",
    "for index, (tract, patch) in enumerate(zip(tract_array, patch_array)):\n",
    "    ra_center_array[index], dec_center_array[index] = getPatchCenter(skymap, tract, patch)\n",
    "    \n",
    "print('Found {:d} patches'.format(number_patches))"
   ]
  },
  {
   "cell_type": "code",
   "execution_count": 5,
   "metadata": {},
   "outputs": [],
   "source": [
    "# Make a pandas dataframe with information on each tract and patch\n",
    "data = OrderedDict({'tract': tract_array,\n",
    "        'patch': patch_array, \n",
    "        'ra_center': ra_center_array, \n",
    "        'dec_center': dec_center_array})\n",
    "\n",
    "df_tract_patch = pd.DataFrame(data=data)"
   ]
  },
  {
   "cell_type": "code",
   "execution_count": 6,
   "metadata": {},
   "outputs": [
    {
     "data": {
      "text/plain": [
       "<matplotlib.collections.PathCollection at 0x7f607efe1278>"
      ]
     },
     "execution_count": 6,
     "metadata": {},
     "output_type": "execute_result"
    },
    {
     "data": {
      "image/png": "[encoded data removed]",
      "text/plain": [
       "<matplotlib.figure.Figure at 0x7f5ec5078b00>"
      ]
     },
     "metadata": {},
     "output_type": "display_data"
    }
   ],
   "source": [
    "# Make sure the readout of the tract patch metadata file looks reasonable\n",
    "plt.figure()\n",
    "plt.scatter(df_tract_patch.ra_center, df_tract_patch.dec_center, marker='.', s=1)\n",
    "# Centered on COSMOS field\n",
    "plt.xlim(160., 140.)\n",
    "plt.ylim(0., 4.)\n",
    "\n",
    "# Pick one patch\n",
    "\n",
    "#df_tract_patch.query('ra_center > 140 & ra_center < 160 & dec_center<4')\n",
    "selected_patch = df_tract_patch.query(\"tract==9813 and patch == '4,4'\")\n",
    "#selected_patch = df_tract_patch.query(\"tract==10056 and patch == '7,0'\")\n",
    "plt.scatter(selected_patch.ra_center, selected_patch.dec_center)"
   ]
  },
  {
   "cell_type": "code",
   "execution_count": 7,
   "metadata": {},
   "outputs": [],
   "source": [
    "# Pick patches that are roughly within the COSMOS footprint:\n",
    "cosmos = (df_tract_patch['ra_center'] > 149.5) & (df_tract_patch['ra_center'] < 151) & (df_tract_patch['dec_center'] > 1.5) & (df_tract_patch['dec_center'] < 2.5)"
   ]
  },
  {
   "cell_type": "code",
   "execution_count": 8,
   "metadata": {},
   "outputs": [
    {
     "data": {
      "text/html": [
       "<div>\n",
       "<style>\n",
       "    .dataframe thead tr:only-child th {\n",
       "        text-align: right;\n",
       "    }\n",
       "\n",
       "    .dataframe thead th {\n",
       "        text-align: left;\n",
       "    }\n",
       "\n",
       "    .dataframe tbody tr th {\n",
       "        vertical-align: top;\n",
       "    }\n",
       "</style>\n",
       "<table border=\"1\" class=\"dataframe\">\n",
       "  <thead>\n",
       "    <tr style=\"text-align: right;\">\n",
       "      <th></th>\n",
       "      <th>tract</th>\n",
       "      <th>patch</th>\n",
       "      <th>ra_center</th>\n",
       "      <th>dec_center</th>\n",
       "    </tr>\n",
       "  </thead>\n",
       "  <tbody>\n",
       "    <tr>\n",
       "      <th>900</th>\n",
       "      <td>9812</td>\n",
       "      <td>0,4</td>\n",
       "      <td>149.507475</td>\n",
       "      <td>2.231262</td>\n",
       "    </tr>\n",
       "    <tr>\n",
       "      <th>909</th>\n",
       "      <td>9812</td>\n",
       "      <td>0,5</td>\n",
       "      <td>149.507570</td>\n",
       "      <td>2.417912</td>\n",
       "    </tr>\n",
       "    <tr>\n",
       "      <th>930</th>\n",
       "      <td>9812</td>\n",
       "      <td>0,1</td>\n",
       "      <td>149.507190</td>\n",
       "      <td>1.671328</td>\n",
       "    </tr>\n",
       "    <tr>\n",
       "      <th>938</th>\n",
       "      <td>9812</td>\n",
       "      <td>0,2</td>\n",
       "      <td>149.507285</td>\n",
       "      <td>1.857966</td>\n",
       "    </tr>\n",
       "    <tr>\n",
       "      <th>946</th>\n",
       "      <td>9812</td>\n",
       "      <td>0,3</td>\n",
       "      <td>149.507380</td>\n",
       "      <td>2.044612</td>\n",
       "    </tr>\n",
       "    <tr>\n",
       "      <th>1016</th>\n",
       "      <td>9813</td>\n",
       "      <td>0,4</td>\n",
       "      <td>150.995078</td>\n",
       "      <td>2.231262</td>\n",
       "    </tr>\n",
       "    <tr>\n",
       "      <th>1018</th>\n",
       "      <td>9813</td>\n",
       "      <td>4,1</td>\n",
       "      <td>150.247887</td>\n",
       "      <td>1.671469</td>\n",
       "    </tr>\n",
       "    <tr>\n",
       "      <th>1019</th>\n",
       "      <td>9813</td>\n",
       "      <td>1,5</td>\n",
       "      <td>150.808365</td>\n",
       "      <td>2.418002</td>\n",
       "    </tr>\n",
       "    <tr>\n",
       "      <th>1021</th>\n",
       "      <td>9813</td>\n",
       "      <td>5,2</td>\n",
       "      <td>150.061127</td>\n",
       "      <td>1.858114</td>\n",
       "    </tr>\n",
       "    <tr>\n",
       "      <th>1024</th>\n",
       "      <td>9813</td>\n",
       "      <td>6,3</td>\n",
       "      <td>149.874323</td>\n",
       "      <td>2.044742</td>\n",
       "    </tr>\n",
       "    <tr>\n",
       "      <th>1027</th>\n",
       "      <td>9813</td>\n",
       "      <td>3,1</td>\n",
       "      <td>150.434624</td>\n",
       "      <td>1.671461</td>\n",
       "    </tr>\n",
       "    <tr>\n",
       "      <th>1028</th>\n",
       "      <td>9813</td>\n",
       "      <td>0,5</td>\n",
       "      <td>150.995173</td>\n",
       "      <td>2.417912</td>\n",
       "    </tr>\n",
       "    <tr>\n",
       "      <th>1030</th>\n",
       "      <td>9813</td>\n",
       "      <td>4,2</td>\n",
       "      <td>150.247887</td>\n",
       "      <td>1.858124</td>\n",
       "    </tr>\n",
       "    <tr>\n",
       "      <th>1033</th>\n",
       "      <td>9813</td>\n",
       "      <td>5,3</td>\n",
       "      <td>150.061103</td>\n",
       "      <td>2.044775</td>\n",
       "    </tr>\n",
       "    <tr>\n",
       "      <th>1035</th>\n",
       "      <td>9813</td>\n",
       "      <td>6,4</td>\n",
       "      <td>149.874276</td>\n",
       "      <td>2.231404</td>\n",
       "    </tr>\n",
       "    <tr>\n",
       "      <th>1037</th>\n",
       "      <td>9813</td>\n",
       "      <td>2,1</td>\n",
       "      <td>150.621356</td>\n",
       "      <td>1.671434</td>\n",
       "    </tr>\n",
       "    <tr>\n",
       "      <th>1039</th>\n",
       "      <td>9813</td>\n",
       "      <td>3,2</td>\n",
       "      <td>150.434647</td>\n",
       "      <td>1.858114</td>\n",
       "    </tr>\n",
       "    <tr>\n",
       "      <th>1042</th>\n",
       "      <td>9813</td>\n",
       "      <td>4,3</td>\n",
       "      <td>150.247887</td>\n",
       "      <td>2.044786</td>\n",
       "    </tr>\n",
       "    <tr>\n",
       "      <th>1043</th>\n",
       "      <td>9813</td>\n",
       "      <td>8,4</td>\n",
       "      <td>149.500696</td>\n",
       "      <td>2.231262</td>\n",
       "    </tr>\n",
       "    <tr>\n",
       "      <th>1046</th>\n",
       "      <td>9813</td>\n",
       "      <td>5,4</td>\n",
       "      <td>150.061080</td>\n",
       "      <td>2.231440</td>\n",
       "    </tr>\n",
       "    <tr>\n",
       "      <th>1047</th>\n",
       "      <td>9813</td>\n",
       "      <td>1,1</td>\n",
       "      <td>150.808081</td>\n",
       "      <td>1.671390</td>\n",
       "    </tr>\n",
       "    <tr>\n",
       "      <th>1048</th>\n",
       "      <td>9813</td>\n",
       "      <td>2,2</td>\n",
       "      <td>150.621404</td>\n",
       "      <td>1.858084</td>\n",
       "    </tr>\n",
       "    <tr>\n",
       "      <th>1050</th>\n",
       "      <td>9813</td>\n",
       "      <td>3,3</td>\n",
       "      <td>150.434671</td>\n",
       "      <td>2.044775</td>\n",
       "    </tr>\n",
       "    <tr>\n",
       "      <th>1052</th>\n",
       "      <td>9813</td>\n",
       "      <td>7,4</td>\n",
       "      <td>149.687480</td>\n",
       "      <td>2.231345</td>\n",
       "    </tr>\n",
       "    <tr>\n",
       "      <th>1055</th>\n",
       "      <td>9813</td>\n",
       "      <td>4,4</td>\n",
       "      <td>150.247887</td>\n",
       "      <td>2.231452</td>\n",
       "    </tr>\n",
       "    <tr>\n",
       "      <th>1056</th>\n",
       "      <td>9813</td>\n",
       "      <td>8,5</td>\n",
       "      <td>149.500601</td>\n",
       "      <td>2.417912</td>\n",
       "    </tr>\n",
       "    <tr>\n",
       "      <th>1057</th>\n",
       "      <td>9813</td>\n",
       "      <td>8,1</td>\n",
       "      <td>149.500981</td>\n",
       "      <td>1.671327</td>\n",
       "    </tr>\n",
       "    <tr>\n",
       "      <th>1058</th>\n",
       "      <td>9813</td>\n",
       "      <td>0,1</td>\n",
       "      <td>150.994794</td>\n",
       "      <td>1.671328</td>\n",
       "    </tr>\n",
       "    <tr>\n",
       "      <th>1059</th>\n",
       "      <td>9813</td>\n",
       "      <td>1,2</td>\n",
       "      <td>150.808152</td>\n",
       "      <td>1.858035</td>\n",
       "    </tr>\n",
       "    <tr>\n",
       "      <th>1061</th>\n",
       "      <td>9813</td>\n",
       "      <td>2,3</td>\n",
       "      <td>150.621451</td>\n",
       "      <td>2.044742</td>\n",
       "    </tr>\n",
       "    <tr>\n",
       "      <th>1064</th>\n",
       "      <td>9813</td>\n",
       "      <td>3,4</td>\n",
       "      <td>150.434695</td>\n",
       "      <td>2.231440</td>\n",
       "    </tr>\n",
       "    <tr>\n",
       "      <th>1065</th>\n",
       "      <td>9813</td>\n",
       "      <td>7,5</td>\n",
       "      <td>149.687409</td>\n",
       "      <td>2.418002</td>\n",
       "    </tr>\n",
       "    <tr>\n",
       "      <th>1066</th>\n",
       "      <td>9813</td>\n",
       "      <td>7,1</td>\n",
       "      <td>149.687693</td>\n",
       "      <td>1.671390</td>\n",
       "    </tr>\n",
       "    <tr>\n",
       "      <th>1067</th>\n",
       "      <td>9813</td>\n",
       "      <td>4,5</td>\n",
       "      <td>150.247887</td>\n",
       "      <td>2.418118</td>\n",
       "    </tr>\n",
       "    <tr>\n",
       "      <th>1069</th>\n",
       "      <td>9813</td>\n",
       "      <td>8,2</td>\n",
       "      <td>149.500886</td>\n",
       "      <td>1.857966</td>\n",
       "    </tr>\n",
       "    <tr>\n",
       "      <th>1070</th>\n",
       "      <td>9813</td>\n",
       "      <td>0,2</td>\n",
       "      <td>150.994889</td>\n",
       "      <td>1.857966</td>\n",
       "    </tr>\n",
       "    <tr>\n",
       "      <th>1072</th>\n",
       "      <td>9813</td>\n",
       "      <td>1,3</td>\n",
       "      <td>150.808223</td>\n",
       "      <td>2.044688</td>\n",
       "    </tr>\n",
       "    <tr>\n",
       "      <th>1075</th>\n",
       "      <td>9813</td>\n",
       "      <td>2,4</td>\n",
       "      <td>150.621499</td>\n",
       "      <td>2.231404</td>\n",
       "    </tr>\n",
       "    <tr>\n",
       "      <th>1076</th>\n",
       "      <td>9813</td>\n",
       "      <td>6,5</td>\n",
       "      <td>149.874228</td>\n",
       "      <td>2.418066</td>\n",
       "    </tr>\n",
       "    <tr>\n",
       "      <th>1077</th>\n",
       "      <td>9813</td>\n",
       "      <td>6,1</td>\n",
       "      <td>149.874418</td>\n",
       "      <td>1.671434</td>\n",
       "    </tr>\n",
       "    <tr>\n",
       "      <th>1078</th>\n",
       "      <td>9813</td>\n",
       "      <td>3,5</td>\n",
       "      <td>150.434719</td>\n",
       "      <td>2.418105</td>\n",
       "    </tr>\n",
       "    <tr>\n",
       "      <th>1080</th>\n",
       "      <td>9813</td>\n",
       "      <td>7,2</td>\n",
       "      <td>149.687622</td>\n",
       "      <td>1.858035</td>\n",
       "    </tr>\n",
       "    <tr>\n",
       "      <th>1082</th>\n",
       "      <td>9813</td>\n",
       "      <td>8,3</td>\n",
       "      <td>149.500791</td>\n",
       "      <td>2.044612</td>\n",
       "    </tr>\n",
       "    <tr>\n",
       "      <th>1083</th>\n",
       "      <td>9813</td>\n",
       "      <td>0,3</td>\n",
       "      <td>150.994983</td>\n",
       "      <td>2.044612</td>\n",
       "    </tr>\n",
       "    <tr>\n",
       "      <th>1086</th>\n",
       "      <td>9813</td>\n",
       "      <td>1,4</td>\n",
       "      <td>150.808294</td>\n",
       "      <td>2.231345</td>\n",
       "    </tr>\n",
       "    <tr>\n",
       "      <th>1087</th>\n",
       "      <td>9813</td>\n",
       "      <td>5,5</td>\n",
       "      <td>150.061056</td>\n",
       "      <td>2.418105</td>\n",
       "    </tr>\n",
       "    <tr>\n",
       "      <th>1088</th>\n",
       "      <td>9813</td>\n",
       "      <td>5,1</td>\n",
       "      <td>150.061151</td>\n",
       "      <td>1.671461</td>\n",
       "    </tr>\n",
       "    <tr>\n",
       "      <th>1089</th>\n",
       "      <td>9813</td>\n",
       "      <td>2,5</td>\n",
       "      <td>150.621546</td>\n",
       "      <td>2.418066</td>\n",
       "    </tr>\n",
       "    <tr>\n",
       "      <th>1091</th>\n",
       "      <td>9813</td>\n",
       "      <td>6,2</td>\n",
       "      <td>149.874371</td>\n",
       "      <td>1.858084</td>\n",
       "    </tr>\n",
       "    <tr>\n",
       "      <th>1093</th>\n",
       "      <td>9813</td>\n",
       "      <td>7,3</td>\n",
       "      <td>149.687551</td>\n",
       "      <td>2.044688</td>\n",
       "    </tr>\n",
       "    <tr>\n",
       "      <th>1146</th>\n",
       "      <td>9814</td>\n",
       "      <td>8,4</td>\n",
       "      <td>150.988300</td>\n",
       "      <td>2.231262</td>\n",
       "    </tr>\n",
       "    <tr>\n",
       "      <th>1152</th>\n",
       "      <td>9814</td>\n",
       "      <td>8,5</td>\n",
       "      <td>150.988205</td>\n",
       "      <td>2.417912</td>\n",
       "    </tr>\n",
       "    <tr>\n",
       "      <th>1153</th>\n",
       "      <td>9814</td>\n",
       "      <td>8,1</td>\n",
       "      <td>150.988584</td>\n",
       "      <td>1.671327</td>\n",
       "    </tr>\n",
       "    <tr>\n",
       "      <th>1158</th>\n",
       "      <td>9814</td>\n",
       "      <td>8,2</td>\n",
       "      <td>150.988489</td>\n",
       "      <td>1.857966</td>\n",
       "    </tr>\n",
       "    <tr>\n",
       "      <th>1165</th>\n",
       "      <td>9814</td>\n",
       "      <td>8,3</td>\n",
       "      <td>150.988394</td>\n",
       "      <td>2.044612</td>\n",
       "    </tr>\n",
       "  </tbody>\n",
       "</table>\n",
       "</div>"
      ],
      "text/plain": [
       "      tract patch   ra_center  dec_center\n",
       "900    9812   0,4  149.507475    2.231262\n",
       "909    9812   0,5  149.507570    2.417912\n",
       "930    9812   0,1  149.507190    1.671328\n",
       "938    9812   0,2  149.507285    1.857966\n",
       "946    9812   0,3  149.507380    2.044612\n",
       "1016   9813   0,4  150.995078    2.231262\n",
       "1018   9813   4,1  150.247887    1.671469\n",
       "1019   9813   1,5  150.808365    2.418002\n",
       "1021   9813   5,2  150.061127    1.858114\n",
       "1024   9813   6,3  149.874323    2.044742\n",
       "1027   9813   3,1  150.434624    1.671461\n",
       "1028   9813   0,5  150.995173    2.417912\n",
       "1030   9813   4,2  150.247887    1.858124\n",
       "1033   9813   5,3  150.061103    2.044775\n",
       "1035   9813   6,4  149.874276    2.231404\n",
       "1037   9813   2,1  150.621356    1.671434\n",
       "1039   9813   3,2  150.434647    1.858114\n",
       "1042   9813   4,3  150.247887    2.044786\n",
       "1043   9813   8,4  149.500696    2.231262\n",
       "1046   9813   5,4  150.061080    2.231440\n",
       "1047   9813   1,1  150.808081    1.671390\n",
       "1048   9813   2,2  150.621404    1.858084\n",
       "1050   9813   3,3  150.434671    2.044775\n",
       "1052   9813   7,4  149.687480    2.231345\n",
       "1055   9813   4,4  150.247887    2.231452\n",
       "1056   9813   8,5  149.500601    2.417912\n",
       "1057   9813   8,1  149.500981    1.671327\n",
       "1058   9813   0,1  150.994794    1.671328\n",
       "1059   9813   1,2  150.808152    1.858035\n",
       "1061   9813   2,3  150.621451    2.044742\n",
       "1064   9813   3,4  150.434695    2.231440\n",
       "1065   9813   7,5  149.687409    2.418002\n",
       "1066   9813   7,1  149.687693    1.671390\n",
       "1067   9813   4,5  150.247887    2.418118\n",
       "1069   9813   8,2  149.500886    1.857966\n",
       "1070   9813   0,2  150.994889    1.857966\n",
       "1072   9813   1,3  150.808223    2.044688\n",
       "1075   9813   2,4  150.621499    2.231404\n",
       "1076   9813   6,5  149.874228    2.418066\n",
       "1077   9813   6,1  149.874418    1.671434\n",
       "1078   9813   3,5  150.434719    2.418105\n",
       "1080   9813   7,2  149.687622    1.858035\n",
       "1082   9813   8,3  149.500791    2.044612\n",
       "1083   9813   0,3  150.994983    2.044612\n",
       "1086   9813   1,4  150.808294    2.231345\n",
       "1087   9813   5,5  150.061056    2.418105\n",
       "1088   9813   5,1  150.061151    1.671461\n",
       "1089   9813   2,5  150.621546    2.418066\n",
       "1091   9813   6,2  149.874371    1.858084\n",
       "1093   9813   7,3  149.687551    2.044688\n",
       "1146   9814   8,4  150.988300    2.231262\n",
       "1152   9814   8,5  150.988205    2.417912\n",
       "1153   9814   8,1  150.988584    1.671327\n",
       "1158   9814   8,2  150.988489    1.857966\n",
       "1165   9814   8,3  150.988394    2.044612"
      ]
     },
     "execution_count": 8,
     "metadata": {},
     "output_type": "execute_result"
    }
   ],
   "source": [
    "df_tract_patch[cosmos]"
   ]
  },
  {
   "cell_type": "code",
   "execution_count": 9,
   "metadata": {},
   "outputs": [],
   "source": [
    "# Pick one patch within the COSMOS field (from the table above), and ingest its data:\n",
    "\n",
    "dataId = dict(tract=9813, patch='4,4', filter='HSC-I')\n",
    "coadd = butler.get(\"deepCoadd_calexp\", dataId, immediate=True)\n",
    "\n",
    "ss = butler.get('deepCoadd_meas', dataId)\n",
    "families = deblender.Families(ss, butler, nChildMin=2)\n",
    "### NOTE: nChildMin>2 seems to fail, for reasons we don't understand...\n",
    "\n",
    "nameNchild = \"deblend_nChild\"                \n",
    "if nameNchild not in ss.getSchema().extract(\"*\").keys():\n",
    "    nameNchild = \"deblend_nchild\"\n",
    "\n",
    "assert ss.getSchema().find(nameNchild) is not None"
   ]
  },
  {
   "cell_type": "code",
   "execution_count": 33,
   "metadata": {},
   "outputs": [],
   "source": [
    "# This cell is simply a way to identify indices of parents that have multiple children.\n",
    "# WARNING: Don't use print(families) -- this is too big and will cause problems...\n",
    "# Format of families: families[parent][children]\n",
    "\n",
    "#for i in range(len(families)):\n",
    "#    print(i,len(families[i][1]))"
   ]
  },
  {
   "cell_type": "markdown",
   "metadata": {},
   "source": [
    "Set up the firefly backend"
   ]
  },
  {
   "cell_type": "code",
   "execution_count": 10,
   "metadata": {},
   "outputs": [],
   "source": [
    "my_channel = '{}_test_channel'.format(os.environ['USER'])\n",
    "server = 'https://lsst-lspdev.ncsa.illinois.edu'"
   ]
  },
  {
   "cell_type": "code",
   "execution_count": 12,
   "metadata": {},
   "outputs": [],
   "source": [
    "# Use this cell if you want an inline \"iframe\":\n",
    "\n",
    "#ff='{}/firefly/slate.html?__wsch={}'.format(server, my_channel)\n",
    "#IFrame(ff,800,600)\n"
   ]
  },
  {
   "cell_type": "code",
   "execution_count": 11,
   "metadata": {},
   "outputs": [
    {
     "data": {
      "text/html": [
       "Open your web browser to <a href=\"https://lsst-lspdev.ncsa.illinois.edu/firefly//slate.html?__wsch=jcarlin_test_channel\"\" target=\"_blank\">this link</a>"
      ],
      "text/plain": [
       "<IPython.core.display.HTML object>"
      ]
     },
     "metadata": {},
     "output_type": "display_data"
    }
   ],
   "source": [
    "afwDisplay.setDefaultBackend('firefly')\n",
    "afw_display = afwDisplay.getDisplay(frame=1, name=my_channel)\n",
    "disp1  = afwDisplay.Display(1)\n",
    "disp2 = afwDisplay.Display(2)\n"
   ]
  },
  {
   "cell_type": "code",
   "execution_count": 14,
   "metadata": {},
   "outputs": [],
   "source": [
    "# The showBlend utility should interactively overplot deblended parents+children on an image, but right now interactivity\n",
    "# doesn't seem to work, because callback from Firefly isn't currently working:\n",
    "\n",
    "#deblender.showBlend(coadd, families, display=disp2, imageDisplay=disp1, mtv=True, key='d')\n"
   ]
  },
  {
   "cell_type": "code",
   "execution_count": 13,
   "metadata": {},
   "outputs": [],
   "source": [
    "# Let's look at a deblended family!\n",
    "# The first index (\"2\" in this example) is the index number of the deblended object. The second index (\"0\" or \"1\" here)\n",
    "# corresponds to parent (0) and children (1). See the deblender.py code referenced above for more info.\n",
    "deblender.plotDeblendFamily(coadd, families[2][0], families[2][1], display=disp2,symbolSize=25,plotb=True,background=0)\n"
   ]
  },
  {
   "cell_type": "code",
   "execution_count": 14,
   "metadata": {},
   "outputs": [
    {
     "name": "stdout",
     "output_type": "stream",
     "text": [
      "150.2725442471663 2.1339181894148607\n"
     ]
    }
   ],
   "source": [
    "# Check the coordinates of the ith deblended parent:\n",
    "# (where here i=0)\n",
    "print(families[0][0]['coord_ra'].asDegrees(),families[0][0]['coord_dec'].asDegrees())"
   ]
  },
  {
   "cell_type": "code",
   "execution_count": 15,
   "metadata": {},
   "outputs": [],
   "source": [
    "# Load the HDF5 file of COSMOS data created in this notebook: \n",
    "# https://github.com/lsst-com/notebooks/blob/master/hsc_cosmos_match.ipynb\n",
    "outfile_cosmos='/project/shared/data/COSMOS_catalogs/cosmos_acs_iphot_200709.h5'\n",
    "df_cosmos = pd.read_hdf(outfile_cosmos, 'df')"
   ]
  },
  {
   "cell_type": "code",
   "execution_count": 18,
   "metadata": {},
   "outputs": [
    {
     "data": {
      "text/plain": [
       "Index(['number', 'mag_iso', 'magerr_iso', 'mag_isocor', 'magerr_isocor',\n",
       "       'mag_petro', 'magerr_petro', 'petro_radius', 'mag_aper', 'magerr_aper',\n",
       "       'mag_auto', 'magerr_auto', 'mag_best', 'magerr_best', 'flux_auto',\n",
       "       'fluxerr_auto', 'kron_radius', 'background', 'threshold', 'flux_max',\n",
       "       'flux_radius', 'isoarea_image', 'x_image', 'y_image', 'xmin_image',\n",
       "       'ymin_image', 'xmax_image', 'ymax_image', 'xpeak_image', 'ypeak_image',\n",
       "       'alphapeak_j2000', 'deltapeak_j2000', 'a_image', 'b_image', 'ra', 'dec',\n",
       "       'theta_image', 'mu_threshold', 'mu_max', 'isoarea_world', 'x_world',\n",
       "       'y_world', 'a_world', 'b_world', 'theta_world', 'flags', 'fwhm_image',\n",
       "       'fwhm_world', 'cxx_image', 'cyy_image', 'cxy_image', 'elongation',\n",
       "       'class_star', 'field', 'mu_class', 'x', 'y', 'z', 'spt_ind', 'cntr'],\n",
       "      dtype='object')"
      ]
     },
     "execution_count": 18,
     "metadata": {},
     "output_type": "execute_result"
    }
   ],
   "source": [
    "df_cosmos.columns"
   ]
  },
  {
   "cell_type": "code",
   "execution_count": 16,
   "metadata": {},
   "outputs": [],
   "source": [
    "# Pick out the RA, Dec coordinates of all the parents:\n",
    "parents = [family[0] for family in families]\n",
    "parents_ra = [parent['coord_ra'].asDegrees() for parent in parents]\n",
    "parents_dec = [parent['coord_dec'].asDegrees() for parent in parents]"
   ]
  },
  {
   "cell_type": "code",
   "execution_count": 17,
   "metadata": {},
   "outputs": [
    {
     "data": {
      "text/plain": [
       "2.62275 rad"
      ]
     },
     "execution_count": 17,
     "metadata": {},
     "output_type": "execute_result"
    }
   ],
   "source": [
    "parents[0]['coord_ra']"
   ]
  },
  {
   "cell_type": "code",
   "execution_count": 18,
   "metadata": {},
   "outputs": [
    {
     "data": {
      "image/png": "[encoded data removed]",
      "text/plain": [
       "<matplotlib.figure.Figure at 0x7f5e948db5f8>"
      ]
     },
     "metadata": {},
     "output_type": "display_data"
    }
   ],
   "source": [
    "# Sanity check plot overplotting the HSC parents atop the COSMOS catalog:\n",
    "plt.figure()\n",
    "#plt.scatter(df_cosmos['ra'], df_cosmos['dec'], marker='.', s=1)\n",
    "plt.plot(df_cosmos['ra'], df_cosmos['dec'], 'b.')\n",
    "#plt.hist2d(df_cosmos['ra'], df_cosmos['dec'], bins=(300, 300), cmap='Blues')\n",
    "plt.plot(parents_ra,parents_dec,'r.')\n",
    "#plt.colorbar(label='Binned Counts')\n",
    "# NOTE: these coordinate ranges were chosen arbitrarily to zoom in on a small region:\n",
    "# Comment out the following two lines to see the whole COSMOS field (plus the HSC patch).\n",
    "plt.xlim(150.22,150.23)\n",
    "plt.ylim(2.25,2.27)\n",
    "plt.show()"
   ]
  },
  {
   "cell_type": "code",
   "execution_count": 20,
   "metadata": {},
   "outputs": [],
   "source": [
    "## Picking a single parent (arbitrarily), so we can compare its family to COSMOS:\n",
    "pra = np.array(parents_ra)\n",
    "pdec = np.array(parents_dec)\n",
    "#pick_parent = (pdec > 2.255) & (pdec < 2.2575) & (pra > 150.222) & (pra < 150.224)\n",
    "#pick_parent_ind = [i for i, x in enumerate(pick_parent) if x][0]"
   ]
  },
  {
   "cell_type": "code",
   "execution_count": 21,
   "metadata": {},
   "outputs": [],
   "source": [
    "# Picking a single parent by specifying an RA, Dec and finding the closest parent to those coords.\n",
    "# ...so we can compare its family to COSMOS:\n",
    "desired_ra = 150.2229\n",
    "desired_dec = 2.25596\n",
    "total_sep = lambda target_ra, target_dec, candidate_ra, candidate_dec: ((target_ra - candidate_ra)*np.cos(np.radians(target_dec))) ** 2.0 + (target_dec - candidate_dec)**2.0\n",
    "pick_parent_ind = np.argmin([total_sep(desired_ra, desired_dec, pra[i], pdec[i]) for i in range(len(pra))])\n"
   ]
  },
  {
   "cell_type": "code",
   "execution_count": 22,
   "metadata": {},
   "outputs": [
    {
     "name": "stdout",
     "output_type": "stream",
     "text": [
      "150.22291945562662 2.2559620121522577\n"
     ]
    }
   ],
   "source": [
    "print(pra[pick_parent_ind],pdec[pick_parent_ind])"
   ]
  },
  {
   "cell_type": "code",
   "execution_count": 23,
   "metadata": {},
   "outputs": [],
   "source": [
    "#parents[pick_parent_ind]"
   ]
  },
  {
   "cell_type": "code",
   "execution_count": 24,
   "metadata": {},
   "outputs": [],
   "source": [
    "# What does the deblending look like for this source?\n",
    "deblender.plotDeblendFamily(coadd, families[pick_parent_ind][0], families[pick_parent_ind][1], display=disp2,symbolSize=25,plotb=True,background=0)\n"
   ]
  },
  {
   "cell_type": "code",
   "execution_count": 25,
   "metadata": {},
   "outputs": [
    {
     "name": "stdout",
     "output_type": "stream",
     "text": [
      "[150.22295034434663, 150.22279188143824, 150.2226893524708, 150.2231966152749] [2.2559250230721903, 2.256251958656348, 2.2553479670254704, 2.2566550472399265]\n"
     ]
    }
   ],
   "source": [
    "# Picking the children of our selected parent:\n",
    "cra = [child['coord_ra'].asDegrees() for child in families[pick_parent_ind][1]]\n",
    "cdec = [child['coord_dec'].asDegrees() for child in families[pick_parent_ind][1]]\n",
    "print(cra,cdec)"
   ]
  },
  {
   "cell_type": "code",
   "execution_count": 26,
   "metadata": {},
   "outputs": [
    {
     "data": {
      "image/png": "[encoded data removed]",
      "text/plain": [
       "<matplotlib.figure.Figure at 0x7f5e94a954e0>"
      ]
     },
     "metadata": {},
     "output_type": "display_data"
    }
   ],
   "source": [
    "# Zoom in, comparing detected sources in COSMOS (blue) to the parent (red) and children (green):\n",
    "plt.figure()\n",
    "#plt.scatter(df_cosmos['ra'], df_cosmos['dec'], marker='.', s=1)\n",
    "plt.plot(df_cosmos['ra'], df_cosmos['dec'], 'bo',markersize=10,fillstyle='none')\n",
    "#plt.hist2d(df_cosmos['ra'], df_cosmos['dec'], bins=(300, 300), cmap='Blues')\n",
    "plt.plot(pra[pick_parent_ind],pdec[pick_parent_ind],'r.',markersize=35,fillstyle='none',alpha=0.75)\n",
    "plt.plot(cra,cdec,'g.',markersize=35,fillstyle='none',alpha=0.75)\n",
    "#plt.colorbar(label='Binned Counts')\n",
    "plt.xlim(150.222,150.224)\n",
    "plt.ylim(2.25,2.265)\n",
    "plt.show()\n"
   ]
  },
  {
   "cell_type": "code",
   "execution_count": 27,
   "metadata": {},
   "outputs": [],
   "source": [
    "cosmos_ra = np.array(df_cosmos['ra'])\n",
    "cosmos_dec = np.array(df_cosmos['dec'])"
   ]
  },
  {
   "cell_type": "code",
   "execution_count": 28,
   "metadata": {},
   "outputs": [],
   "source": [
    "# Now, we would like to mark the detected points from HSC and from COSMOS on top of the image.\n",
    "# This should work, in theory, but we ran out of time to finish this. \"afw_display.dot\" expects X,Y coordinates,\n",
    "#   so you need to convert from RA, Dec. \n",
    "# Note also that the \"Buffering\" portion here would cycle through all the objects before sending the XPA command\n",
    "#   to Firefly.\n",
    "\n",
    "disp1.mtv(coadd)\n",
    "# Note also that this displays the entire image -- ideally you would like a postage stamp around the object of interest.\n",
    "\n",
    "with afw_display.Buffering():\n",
    "#    for ind in range(0,2): #len(np.array(df_cosmos['ra']))):\n",
    "#        afw_display.dot('o', df_cosmos['ra'][ind], df_cosmos['dec'][ind], size=20, ctype='orange')\n",
    "        afw_display.dot('o', 1000.0, 1000.0, size=200, ctype='orange') # plot a circle at (X,Y)=(1000,1000)\n",
    "#        afw_display.dot('o', record.getX(), record.getY(), size=20, ctype='orange')"
   ]
  },
  {
   "cell_type": "code",
   "execution_count": 31,
   "metadata": {},
   "outputs": [
    {
     "name": "stdout",
     "output_type": "stream",
     "text": [
      "150.22291945562662 2.2559620121522577\n"
     ]
    }
   ],
   "source": [
    "print(pra[pick_parent_ind],pdec[pick_parent_ind])"
   ]
  },
  {
   "cell_type": "code",
   "execution_count": null,
   "metadata": {},
   "outputs": [],
   "source": []
  }
 ],
 "metadata": {
  "kernelspec": {
   "display_name": "LSST",
   "language": "python",
   "name": "lsst"
  },
  "language_info": {
   "codemirror_mode": {
    "name": "ipython",
    "version": 3
   },
   "file_extension": ".py",
   "mimetype": "text/x-python",
   "name": "python",
   "nbconvert_exporter": "python",
   "pygments_lexer": "ipython3",
   "version": "3.6.2"
  }
 },
 "nbformat": 4,
 "nbformat_minor": 2
}
