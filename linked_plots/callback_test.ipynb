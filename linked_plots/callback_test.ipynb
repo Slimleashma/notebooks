{
 "cells": [
  {
   "cell_type": "markdown",
   "metadata": {},
   "source": [
    "## Callback Example and Holoviews"
   ]
  },
  {
   "cell_type": "code",
   "execution_count": null,
   "metadata": {},
   "outputs": [],
   "source": [
    "import importlib\n",
    "import os\n",
    "import lsst.daf.persistence as dafPersist\n",
    "import source_plots as sp\n",
    "import numpy as np\n",
    "import pandas as pd\n",
    "import holoviews as hv\n",
    "import datashader as ds\n",
    "from holoviews.operation.datashader import datashade, shade, dynspread, rasterize\n",
    "from holoviews.operation import decimate\n",
    "from holoviews import streams\n",
    "\n",
    "hv.extension('bokeh','matplotlib')"
   ]
  },
  {
   "cell_type": "raw",
   "metadata": {},
   "source": [
    "#get some data"
   ]
  },
  {
   "cell_type": "code",
   "execution_count": null,
   "metadata": {},
   "outputs": [],
   "source": [
    "butler = dafPersist.Butler('/project/shared/data/Twinkles_subset/output_data_v2/')"
   ]
  },
  {
   "cell_type": "code",
   "execution_count": null,
   "metadata": {},
   "outputs": [],
   "source": [
    "keys = list(butler.getKeys('calexp'))\n",
    "values = butler.queryMetadata('calexp', keys)"
   ]
  },
  {
   "cell_type": "code",
   "execution_count": null,
   "metadata": {},
   "outputs": [],
   "source": [
    "data_ids = []\n",
    "for value in values:\n",
    "    temp = {}\n",
    "    for k, v in zip(keys, value):\n",
    "        temp[k]=v\n",
    "    data_ids.append(temp)"
   ]
  },
  {
   "cell_type": "code",
   "execution_count": null,
   "metadata": {},
   "outputs": [],
   "source": [
    "data_ids[0]"
   ]
  },
  {
   "cell_type": "code",
   "execution_count": null,
   "metadata": {},
   "outputs": [],
   "source": [
    "def get_pandas_dataid(butler, data_id):\n",
    "    \"\"\"\n",
    "    Produce a pandas dataframe with S/G data from a butler and dataid, probably something similar\n",
    "    exists already\n",
    "    \"\"\"\n",
    "    calexp = butler.get('calexp', dataId=data_id)\n",
    "    calib = calexp.getCalib()\n",
    "    src = butler.get('src', dataId=data_id)\n",
    "    fluxes = src.getPsfFlux()\n",
    "    good_indexes = np.logical_and(fluxes > 0.0, np.isfinite(fluxes))\n",
    "    # Model fluxes also need to check for negative and bad values.\n",
    "    model_fluxes = src.getModelFlux()\n",
    "    good_model_indexes = np.logical_and(model_fluxes > 0.0, np.isfinite(model_fluxes))\n",
    "    good_indexes = np.logical_and(good_indexes, good_model_indexes)\n",
    "    psf_mag = calib.getMagnitude(fluxes[good_indexes])\n",
    "    cm_mag = calib.getMagnitude(model_fluxes[good_indexes])\n",
    "    delta_mag = psf_mag - cm_mag\n",
    "    extendedness = src['base_ClassificationExtendedness_value'][good_indexes]\n",
    "    df = pd.DataFrame({'delta_mag':delta_mag, 'psf_mag':psf_mag, 'class':extendedness, 'visit':data_id['visit'], 'filter':data_id['filter']})\n",
    "    return df"
   ]
  },
  {
   "cell_type": "code",
   "execution_count": null,
   "metadata": {},
   "outputs": [],
   "source": [
    "# Loop over all visits (slow)\n",
    "df = get_pandas_dataid(butler, data_ids[0])\n",
    "for  i in range(1,10):\n",
    "    df = pd.concat([df,get_pandas_dataid(butler,data_ids[i])])"
   ]
  },
  {
   "cell_type": "code",
   "execution_count": null,
   "metadata": {},
   "outputs": [],
   "source": [
    "print(' Total objects = {}'.format(len(df)))"
   ]
  },
  {
   "cell_type": "code",
   "execution_count": null,
   "metadata": {},
   "outputs": [],
   "source": [
    "%%opts Layout [height=500 vspace=0.1 hspace=0.1]\n",
    "%%opts Scatter [height=400 width=400 tools=['hover']](color='k' marker='o' size=2)\n",
    "Points = hv.Scatter(df , 'psf_mag', 'delta_mag')\n",
    "Points_shader = dynspread(datashade(Points))"
   ]
  },
  {
   "cell_type": "code",
   "execution_count": null,
   "metadata": {},
   "outputs": [],
   "source": [
    "hv.Layout(Points +  Points_shader).cols(2)"
   ]
  },
  {
   "cell_type": "code",
   "execution_count": null,
   "metadata": {},
   "outputs": [],
   "source": [
    "# from http://holoviews.org/user_guide/Custom_Interactivity.html"
   ]
  },
  {
   "cell_type": "code",
   "execution_count": null,
   "metadata": {},
   "outputs": [],
   "source": [
    "# Grab pointer strem\n",
    "pointer = streams.PointerXY()\n"
   ]
  },
  {
   "cell_type": "code",
   "execution_count": null,
   "metadata": {},
   "outputs": [],
   "source": [
    "# Associate a map with the pointer\n",
    "\n",
    "pointer_dmap = hv.DynamicMap(lambda x, y: hv.Points([(x, y)]), streams=[pointer])\n",
    "print(pointer.source is pointer_dmap)\n",
    "\n"
   ]
  },
  {
   "cell_type": "code",
   "execution_count": null,
   "metadata": {},
   "outputs": [],
   "source": [
    "# last click\n",
    "pointer.contents"
   ]
  },
  {
   "cell_type": "code",
   "execution_count": null,
   "metadata": {},
   "outputs": [],
   "source": []
  }
 ],
 "metadata": {
  "kernelspec": {
   "display_name": "LSST",
   "language": "python",
   "name": "lsst"
  },
  "language_info": {
   "codemirror_mode": {
    "name": "ipython",
    "version": 3
   },
   "file_extension": ".py",
   "mimetype": "text/x-python",
   "name": "python",
   "nbconvert_exporter": "python",
   "pygments_lexer": "ipython3",
   "version": "3.6.2"
  }
 },
 "nbformat": 4,
 "nbformat_minor": 2
}
