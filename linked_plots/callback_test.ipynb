{
 "cells": [
  {
   "cell_type": "markdown",
   "metadata": {},
   "source": [
    "## Callback Example and Holoviews"
   ]
  },
  {
   "cell_type": "code",
   "execution_count": null,
   "metadata": {},
   "outputs": [],
   "source": [
    "import importlib\n",
    "import os\n",
    "import lsst.daf.persistence as dafPersist\n",
    "import source_plots as sp\n",
    "import numpy as np\n",
    "import pandas as pd\n",
    "import holoviews as hv\n",
    "import datashader as ds\n",
    "from holoviews.operation.datashader import datashade, shade, dynspread, rasterize\n",
    "from holoviews.operation import decimate\n",
    "from holoviews import streams\n",
    "\n",
    "hv.extension('bokeh','matplotlib')"
   ]
  },
  {
   "cell_type": "raw",
   "metadata": {},
   "source": [
    "#get some data"
   ]
  },
  {
   "cell_type": "code",
   "execution_count": null,
   "metadata": {},
   "outputs": [],
   "source": [
    "butler = dafPersist.Butler('/project/shared/data/Twinkles_subset/output_data_v2/')"
   ]
  },
  {
   "cell_type": "code",
   "execution_count": null,
   "metadata": {},
   "outputs": [],
   "source": [
    "keys = list(butler.getKeys('calexp'))\n",
    "values = butler.queryMetadata('calexp', keys)"
   ]
  },
  {
   "cell_type": "code",
   "execution_count": null,
   "metadata": {},
   "outputs": [],
   "source": [
    "data_ids = []\n",
    "for value in values:\n",
    "    temp = {}\n",
    "    for k, v in zip(keys, value):\n",
    "        temp[k]=v\n",
    "    data_ids.append(temp)"
   ]
  },
  {
   "cell_type": "code",
   "execution_count": null,
   "metadata": {},
   "outputs": [],
   "source": [
    "data_ids[0]"
   ]
  },
  {
   "cell_type": "code",
   "execution_count": null,
   "metadata": {},
   "outputs": [],
   "source": [
    "def get_pandas_dataid(butler, data_id):\n",
    "    \"\"\"\n",
    "    Produce a pandas dataframe with S/G data from a butler and dataid, probably something similar\n",
    "    exists already\n",
    "    \"\"\"\n",
    "    calexp = butler.get('calexp', dataId=data_id)\n",
    "    calib = calexp.getCalib()\n",
    "    src = butler.get('src', dataId=data_id)\n",
    "    fluxes = src.getPsfFlux()\n",
    "    good_indexes = np.logical_and(fluxes > 0.0, np.isfinite(fluxes))\n",
    "    # Model fluxes also need to check for negative and bad values.\n",
    "    model_fluxes = src.getModelFlux()\n",
    "    good_model_indexes = np.logical_and(model_fluxes > 0.0, np.isfinite(model_fluxes))\n",
    "    good_indexes = np.logical_and(good_indexes, good_model_indexes)\n",
    "    psf_mag = calib.getMagnitude(fluxes[good_indexes])\n",
    "    cm_mag = calib.getMagnitude(model_fluxes[good_indexes])\n",
    "    delta_mag = psf_mag - cm_mag\n",
    "    extendedness = src['base_ClassificationExtendedness_value'][good_indexes]\n",
    "    df = pd.DataFrame({'delta_mag':delta_mag, 'psf_mag':psf_mag, 'class':extendedness, 'visit':data_id['visit'], 'filter':data_id['filter']})\n",
    "    return df"
   ]
  },
  {
   "cell_type": "code",
   "execution_count": null,
   "metadata": {},
   "outputs": [],
   "source": [
    "# Loop over all visits (slow)\n",
    "df = get_pandas_dataid(butler, data_ids[0])\n",
    "for  i in range(1,len(data_ids)):\n",
    "    df = pd.concat([df,get_pandas_dataid(butler,data_ids[i])])"
   ]
  },
  {
   "cell_type": "code",
   "execution_count": null,
   "metadata": {},
   "outputs": [],
   "source": [
    "print(' Total objects = {}'.format(len(df)))"
   ]
  },
  {
   "cell_type": "code",
   "execution_count": null,
   "metadata": {},
   "outputs": [],
   "source": [
    "xyarray = np.array([df.psf_mag.values, df.delta_mag.values]).T"
   ]
  },
  {
   "cell_type": "code",
   "execution_count": null,
   "metadata": {},
   "outputs": [],
   "source": [
    "np.shape(xyarray)"
   ]
  },
  {
   "cell_type": "code",
   "execution_count": null,
   "metadata": {},
   "outputs": [],
   "source": [
    "%%opts Layout [ vspace=0.1 hspace=0.1]\n",
    "%%opts Points [ tools=['hover', 'box_select' ,'lasso_select']](color='k')\n",
    "# decimate create sampled data \n",
    "Points = decimate(hv.Points(xyarray))\n",
    "# use datashader\n",
    "Points_shader = dynspread(datashade(hv.Points(xyarray)))\n",
    "#selection will have the bounding box from the selection tools\n",
    "selection = hv.streams.BoundsXY(source=Points)\n",
    "\n",
    "\n",
    "def selected_hist(bounds):\n",
    "    \"\"\"\n",
    "    Generates a Holoview histogram based on the selection box.\n",
    "    *Note* Do not change the bounds variable, which is an attribute \n",
    "    of the stream selection object.\n",
    "    \"\"\"\n",
    "    arr = xyarray[:,0]\n",
    "    if not bounds:\n",
    "        lower = min(arr)\n",
    "        upper = max(arr)\n",
    "    else:\n",
    "        lower = list(bounds)[0]\n",
    "        upper = list(bounds)[2]\n",
    "        \n",
    "    sel = np.where((arr >= lower) & (arr < upper))\n",
    "    frequencies, edges = np.histogram(arr[sel], 20)\n",
    "    return hv.Histogram((edges, frequencies))\n"
   ]
  },
  {
   "cell_type": "code",
   "execution_count": null,
   "metadata": {},
   "outputs": [],
   "source": [
    "# plots need some clean up and labels and better scaling for histogram\n",
    "hv.Layout(Points +  Points_shader + hv.DynamicMap(selected_hist, streams=[selection],)).cols(2)\n",
    "#hv.Layout(Points +  Points_shader ).cols(2)"
   ]
  },
  {
   "cell_type": "code",
   "execution_count": null,
   "metadata": {},
   "outputs": [],
   "source": [
    "# You can get selected box from the plot coordinates outside visualization for further analysis\n",
    "selection"
   ]
  },
  {
   "cell_type": "code",
   "execution_count": null,
   "metadata": {},
   "outputs": [],
   "source": []
  }
 ],
 "metadata": {
  "kernelspec": {
   "display_name": "LSST",
   "language": "python",
   "name": "lsst"
  },
  "language_info": {
   "codemirror_mode": {
    "name": "ipython",
    "version": 3
   },
   "file_extension": ".py",
   "mimetype": "text/x-python",
   "name": "python",
   "nbconvert_exporter": "python",
   "pygments_lexer": "ipython3",
   "version": "3.6.2"
  }
 },
 "nbformat": 4,
 "nbformat_minor": 2
}
