{
 "cells": [
  {
   "cell_type": "markdown",
   "metadata": {},
   "source": [
    "## Example of custom callback using HoloViews linked streams"
   ]
  },
  {
   "cell_type": "markdown",
   "metadata": {},
   "source": [
    "**Authors:** Matias C. Kind, Wil O'Mullane, Angelo Fausti, Keith Bechtol\n",
    "\n",
    "**Stack Version:** w_2018_22\n",
    "\n",
    "**Image Size:** Small\n",
    "\n",
    "**Purpose:**  Demonstrates the Holoviews+Datashader+Bokeh stack for data exploration in particular the  [linked streams](http://holoviews.org/user_guide/Custom_Interactivity.html) functionality."
   ]
  },
  {
   "cell_type": "code",
   "execution_count": null,
   "metadata": {},
   "outputs": [],
   "source": [
    "import os\n",
    "from lsst.daf.persistence import Butler\n",
    "import pandas as pd\n",
    "import holoviews as hv\n",
    "import numpy as np\n",
    "from holoviews.operation.datashader import datashade\n",
    "import param\n",
    "from holoviews import streams\n",
    "\n",
    "hv.extension('bokeh')"
   ]
  },
  {
   "cell_type": "markdown",
   "metadata": {},
   "source": [
    "We'll use results from the [HSC RC2 reprocessing](https://confluence.lsstcorp.org/display/DM/Reprocessing+of+the+HSC+RC2+dataset)."
   ]
  },
  {
   "cell_type": "code",
   "execution_count": null,
   "metadata": {},
   "outputs": [],
   "source": [
    "datadir = '/datasets/hsc/repo/rerun/RC/w_2018_15/DM-14123/'\n",
    "butler = Butler(datadir)"
   ]
  },
  {
   "cell_type": "markdown",
   "metadata": {},
   "source": [
    "Which dataset types are available? which filters, tracts, and patches can we use? \n",
    "\n",
    "Currently, it is not possible to query the data repository for coadd metadata. For now we have to know in advance the dataIds available using information from the link above. Butler Gen3 will fix that."
   ]
  },
  {
   "cell_type": "code",
   "execution_count": null,
   "metadata": {},
   "outputs": [],
   "source": [
    "# dataids = butler.subset('deepCoadd_forced_src', dataId={'filter': 'HSC-G', 'tract': 9813 }).cache"
   ]
  },
  {
   "cell_type": "markdown",
   "metadata": {},
   "source": [
    "Let's read the `deepCoadd_forced_src` dataset type for the `HSC-G` filter for one tract and one patch. We'll use pandas dataframes which plays well with HoloViews. \n",
    "\n"
   ]
  },
  {
   "cell_type": "code",
   "execution_count": null,
   "metadata": {},
   "outputs": [],
   "source": [
    "_filter = 'HSC-G'\n",
    "tract = 9813\n",
    "patch = '7,3'\n",
    "\n",
    "df = butler.get('deepCoadd_forced_src', \n",
    "                dataId={'tract': tract, 'patch': patch, 'filter': _filter}).asAstropy().to_pandas()\n",
    "\n",
    "# Get only a few columns of interest\n",
    "df = df[['coord_ra', 'coord_dec', 'modelfit_CModel_flux']]\n",
    "\n"
   ]
  },
  {
   "cell_type": "code",
   "execution_count": null,
   "metadata": {},
   "outputs": [],
   "source": [
    "df['modelfit_CModel_flux'].describe()"
   ]
  },
  {
   "cell_type": "markdown",
   "metadata": {},
   "source": [
    "Get rid of `NaN` values and negative fluxes. "
   ]
  },
  {
   "cell_type": "code",
   "execution_count": null,
   "metadata": {},
   "outputs": [],
   "source": [
    "df = df.dropna()\n",
    "df = df.loc[df['modelfit_CModel_flux'] > 0]"
   ]
  },
  {
   "cell_type": "code",
   "execution_count": null,
   "metadata": {},
   "outputs": [],
   "source": [
    "print('Total objects in this patch = {}'.format(df.size))"
   ]
  },
  {
   "cell_type": "markdown",
   "metadata": {},
   "source": [
    "By creating a HoloViews dataset we annotate the dataset for visualization declaring which columns correspond to independent variables (called key dimensions or kdims) and dependent variables (called value dimensions or vdims). \n",
    "\n"
   ]
  },
  {
   "cell_type": "code",
   "execution_count": null,
   "metadata": {},
   "outputs": [],
   "source": [
    "kdims = [('coord_ra', 'RA(deg)'), ('coord_dec', 'Dec(deg)')]\n",
    "vdims = [('modelfit_CModel_flux', 'CModel Flux')]\n",
    "ds = hv.Dataset(df, kdims, vdims)\n",
    "ds"
   ]
  },
  {
   "cell_type": "markdown",
   "metadata": {},
   "source": [
    "In order to visualize a HoloViews dataset we can select one of the [Holoviews elements](http://holoviews.org/reference/index.html#elements). Perhaps the most obvious visualization for this dataset is to display the spatial distribution of the objects using the Point element. "
   ]
  },
  {
   "cell_type": "code",
   "execution_count": null,
   "metadata": {},
   "outputs": [],
   "source": [
    "%%opts Points [tools=['box_select']]\n",
    "points = hv.Points(ds).options({'Points': {'size': 1, 'alpha': 0.5}})\n",
    "points"
   ]
  },
  {
   "cell_type": "markdown",
   "metadata": {},
   "source": [
    "`hv.Points` works well with datasets size (`N<~50k`). Later we'll load a tract worth of data and we'll need another approach for visualization, called datashader.\n",
    "\n",
    "For this dataset, datashader is not really useful. "
   ]
  },
  {
   "cell_type": "code",
   "execution_count": null,
   "metadata": {},
   "outputs": [],
   "source": [
    "%%opts Points [tools=['box_select']]\n",
    "image = datashade(hv.Points(ds))\n",
    "image"
   ]
  },
  {
   "cell_type": "markdown",
   "metadata": {},
   "source": [
    "Notice, however, that the `box_select` tool is not available when using datashader. That's because a selection on the image representation cannot return the index of the data points anymore. That means we'll have to use another strategy for selecting data when using datashader later.\n"
   ]
  },
  {
   "cell_type": "markdown",
   "metadata": {},
   "source": [
    "Creating a histrogram is a little more involving, apparently it is not possible to map directly the value dimension onto the Histogram element, and reuse the label annotations for this variable yet."
   ]
  },
  {
   "cell_type": "code",
   "execution_count": null,
   "metadata": {},
   "outputs": [],
   "source": [
    "frequencies, edges = np.histogram(ds.data['modelfit_CModel_flux'])\n",
    "hist = hv.Histogram((np.log(frequencies), edges))\n",
    "hist"
   ]
  },
  {
   "cell_type": "markdown",
   "metadata": {},
   "source": [
    "Now we can use the [linked streams](http://holoviews.org/user_guide/Custom_Interactivity.html) functionality to link both plots. "
   ]
  },
  {
   "cell_type": "code",
   "execution_count": null,
   "metadata": {},
   "outputs": [],
   "source": [
    "listing = ', '.join(sorted([str(s.name) for s in param.descendents(streams.LinkedStream)]))\n",
    "listing"
   ]
  },
  {
   "cell_type": "markdown",
   "metadata": {},
   "source": [
    "There are streams to access plotting selections made using box- and lasso-select tools (`Selection1D`), the plot size (`PlotSize`) and the `Bounds` of a selection. This is really exciting, we can select regions on the spatial plot above and that will produce an histogram for the selected objects."
   ]
  },
  {
   "cell_type": "markdown",
   "metadata": {},
   "source": [
    "With `hv.Points` we can use the`Selection1D` linked stream and declare the `points` instance as the source of selection. "
   ]
  },
  {
   "cell_type": "code",
   "execution_count": null,
   "metadata": {},
   "outputs": [],
   "source": [
    "selection = streams.Selection1D(source=points)\n",
    "print('The %s stream has contents %r' % (selection, selection.contents))"
   ]
  },
  {
   "cell_type": "markdown",
   "metadata": {},
   "source": [
    "We have this custom callback function that will create an histogram based on the selected data."
   ]
  },
  {
   "cell_type": "code",
   "execution_count": null,
   "metadata": {},
   "outputs": [],
   "source": [
    "def update_histogram(index):\n",
    "    # this will initialize the histogram with data in case there's no selection\n",
    "    if len(index) > 0:\n",
    "        selected_flux = ds.data.iloc[index]['modelfit_CModel_flux']\n",
    "    else:\n",
    "        selected_flux = ds.data['modelfit_CModel_flux']\n",
    "    \n",
    "    frequencies, edges = np.histogram(selected_flux)\n",
    "    \n",
    "    hist = hv.Histogram((np.log(frequencies), edges))\n",
    "    return hist\n",
    "    "
   ]
  },
  {
   "cell_type": "markdown",
   "metadata": {},
   "source": [
    "Finally we associate the selection stream instance to the callback function. This is done using a `DynamicMap`.\n",
    "\n",
    "Use the `Box Select` tool to select an area in the RA, Dec plot and see the histogram update.\n"
   ]
  },
  {
   "cell_type": "code",
   "execution_count": null,
   "metadata": {},
   "outputs": [],
   "source": [
    "%%opts Points [tools=['box_select']]\n",
    "dmap = hv.DynamicMap(update_histogram, streams=[selection])\n",
    "points + dmap"
   ]
  },
  {
   "cell_type": "markdown",
   "metadata": {},
   "source": [
    "The following cells are useful for debugging:"
   ]
  },
  {
   "cell_type": "code",
   "execution_count": null,
   "metadata": {},
   "outputs": [],
   "source": [
    "# selection.contents"
   ]
  },
  {
   "cell_type": "code",
   "execution_count": null,
   "metadata": {},
   "outputs": [],
   "source": [
    "#index = selection.contents['index']\n",
    "\n",
    "#frequencies, edges = np.histogram(ds.data.iloc[index]['modelfit_CModel_flux'], 20)\n",
    "#hist = hv.Histogram((frequencies, edges))\n",
    "#hist"
   ]
  },
  {
   "cell_type": "markdown",
   "metadata": {},
   "source": [
    "Now, lets load a tract worth of data to make the datashader example more interesting."
   ]
  },
  {
   "cell_type": "code",
   "execution_count": null,
   "metadata": {},
   "outputs": [],
   "source": [
    "_filter = 'HSC-G'\n",
    "tract = 9813"
   ]
  },
  {
   "cell_type": "markdown",
   "metadata": {},
   "source": [
    "Because of the limitations mentioned bove in the butler implementation, we'll have to look at the data output repository to get the list of the patches available. \n",
    "\n",
    "Then we can loop over the dataIds and load the corresponding catalogs."
   ]
  },
  {
   "cell_type": "code",
   "execution_count": null,
   "metadata": {},
   "outputs": [],
   "source": [
    "patches = [x[1] for x in os.walk(\"{}/deepCoadd-results/{}/{}\".format(datadir, _filter, tract))][0]"
   ]
  },
  {
   "cell_type": "code",
   "execution_count": null,
   "metadata": {},
   "outputs": [],
   "source": [
    "%%time\n",
    "catalogs = []\n",
    "for patch in patches:\n",
    "    print(\"Loading filter: {}, tract: {}, patch: {}\".format(_filter, tract, patch))\n",
    "    catalog = butler.get('deepCoadd_forced_src', \n",
    "                         dataId={'tract': tract, 'patch': patch, 'filter': _filter}).asAstropy().to_pandas()\n",
    "    # Get only a few columns of interest\n",
    "    tmp = catalog[['coord_ra', 'coord_dec', 'modelfit_CModel_flux']]\n",
    "    catalogs.append(tmp)\n"
   ]
  },
  {
   "cell_type": "code",
   "execution_count": null,
   "metadata": {},
   "outputs": [],
   "source": [
    "df = pd.concat(catalogs)\n",
    "df = df.dropna()\n",
    "df = df.loc[df['modelfit_CModel_flux'] > 0]\n",
    "print('Total objects in this tract = {}'.format(df.size))"
   ]
  },
  {
   "cell_type": "markdown",
   "metadata": {},
   "source": [
    "As mentioned above we need datashader to visualize a dataset of this size. See how nice it plays with Bokeh pan and zomm tools."
   ]
  },
  {
   "cell_type": "code",
   "execution_count": null,
   "metadata": {},
   "outputs": [],
   "source": [
    "kdims = [('coord_ra', 'RA(deg)'), ('coord_dec', 'Dec(deg)')]\n",
    "vdims = [('modelfit_CModel_flux', 'CModel Flux')]\n",
    "ds = hv.Dataset(df, kdims, vdims)\n",
    "ds"
   ]
  },
  {
   "cell_type": "code",
   "execution_count": null,
   "metadata": {},
   "outputs": [],
   "source": [
    "%%opts Points [tools=['box_select']]\n",
    "image = datashade(hv.Points(ds))\n",
    "image"
   ]
  },
  {
   "cell_type": "code",
   "execution_count": null,
   "metadata": {},
   "outputs": [],
   "source": [
    "frequencies, edges = np.histogram(ds.data['modelfit_CModel_flux'])\n",
    "hist = hv.Histogram((np.log(frequencies), edges))\n",
    "hist"
   ]
  },
  {
   "cell_type": "markdown",
   "metadata": {},
   "source": [
    "For the datashader example let's use a linked stream called `BoundsXY`. This brings back the `box_select` tool in Bokeh and give us the selection box coordinates."
   ]
  },
  {
   "cell_type": "code",
   "execution_count": null,
   "metadata": {},
   "outputs": [],
   "source": [
    "# Initial bounding box\n",
    "ra_min = np.min(ds.data['coord_ra'])\n",
    "dec_min = np.min(ds.data['coord_dec'])\n",
    "ra_max = np.max(ds.data['coord_ra'])\n",
    "dec_max = np.max(ds.data['coord_dec'])\n",
    "\n",
    "bounds = (ra_min, dec_min, ra_max, dec_max)\n",
    "boundsxy = streams.BoundsXY(source=image, bounds=bounds)\n",
    "print('The %s stream has contents %r' % (boundsxy, boundsxy.contents))"
   ]
  },
  {
   "cell_type": "markdown",
   "metadata": {},
   "source": [
    "Now our callback function must accept the boubds arguments that will be used for slicing the pandas dataframe."
   ]
  },
  {
   "cell_type": "code",
   "execution_count": null,
   "metadata": {},
   "outputs": [],
   "source": [
    "def update_histogram(bounds=bounds):\n",
    "\n",
    "    selection = (ds.data['coord_ra'] > bounds[0]) & \\\n",
    "                (ds.data['coord_dec'] > bounds[1]) & \\\n",
    "                (ds.data['coord_ra'] < bounds[2]) & \\\n",
    "                (ds.data['coord_dec'] < bounds[3])\n",
    "    tmp = ds.data.loc[selection]\n",
    "\n",
    "    selected_flux = tmp['modelfit_CModel_flux']\n",
    "    \n",
    "    frequencies, edges = np.histogram(selected_flux)\n",
    "    \n",
    "    hist = hv.Histogram((np.log(frequencies), edges))\n",
    "    return hist"
   ]
  },
  {
   "cell_type": "markdown",
   "metadata": {},
   "source": [
    "Associate the `boundsxy` stream instance to the callback function with a `DynamicMap`."
   ]
  },
  {
   "cell_type": "code",
   "execution_count": null,
   "metadata": {},
   "outputs": [],
   "source": [
    "dmap = hv.DynamicMap(update_histogram, streams=[boundsxy])\n",
    "image + dmap"
   ]
  },
  {
   "cell_type": "markdown",
   "metadata": {},
   "source": [
    "Generally, we can use the the selection box coordinates to slice the pandas dataframe and perform subsequent analysis on the selected objects."
   ]
  },
  {
   "cell_type": "code",
   "execution_count": null,
   "metadata": {},
   "outputs": [],
   "source": [
    "selection = (ds.data['coord_ra'] > boundsxy.bounds[0]) \\\n",
    "    & (ds.data['coord_dec'] > boundsxy.bounds[1]) \\\n",
    "    & (ds.data['coord_ra'] < boundsxy.bounds[2]) \\\n",
    "    & (ds.data['coord_dec'] < boundsxy.bounds[3])\n",
    "tmp = ds.data.loc[selection]\n",
    "   \n",
    "selected_image = datashade(hv.Points(tmp))\n",
    "selected_image"
   ]
  },
  {
   "cell_type": "markdown",
   "metadata": {},
   "source": [
    "Alternatively, we can use another linked stream called `RangeXY` which gives us the `x_range`,  `y_range` of the current dispay. This way we can use the `Pan` and `Zoom` tools to nagivate through the RA, Dec plot and see the histogram update.\n"
   ]
  },
  {
   "cell_type": "code",
   "execution_count": null,
   "metadata": {},
   "outputs": [],
   "source": [
    "# Initial plot ranges\n",
    "x_range = (np.min(ds.data['coord_ra']), np.max(ds.data['coord_ra']))\n",
    "y_range = (np.min(ds.data['coord_dec']), np.max(ds.data['coord_dec']))\n",
    "\n",
    "rangexy = streams.RangeXY(source=image, x_range=x_range, y_range=y_range)\n",
    "print('The %s stream has contents %r' % (rangexy, rangexy.contents))"
   ]
  },
  {
   "cell_type": "markdown",
   "metadata": {},
   "source": [
    "Now our callback function must accept the `x_range`, `y_range` arguments that are used for slicing the pandas dataframe."
   ]
  },
  {
   "cell_type": "code",
   "execution_count": null,
   "metadata": {},
   "outputs": [],
   "source": [
    "def update_histogram(x_range, y_range):\n",
    "    \n",
    "    selection = (ds.data['coord_ra'] > x_range[0]) & \\\n",
    "                (ds.data['coord_ra'] < x_range[1]) & \\\n",
    "                (ds.data['coord_dec'] > y_range[0]) & \\\n",
    "                (ds.data['coord_dec'] < y_range[1])\n",
    "    \n",
    "    \n",
    "    selected_flux = ds.data.loc[selection]['modelfit_CModel_flux']\n",
    "    \n",
    "    frequencies, edges = np.histogram(selected_flux)\n",
    "    \n",
    "    hist = hv.Histogram((np.log(frequencies), edges))\n",
    "    return hist\n",
    "    "
   ]
  },
  {
   "cell_type": "markdown",
   "metadata": {},
   "source": [
    "Associate the `rangexy` stream instance to the callback function with a `DynamicMap`.\n",
    "\n"
   ]
  },
  {
   "cell_type": "code",
   "execution_count": null,
   "metadata": {},
   "outputs": [],
   "source": [
    "dmap = hv.DynamicMap(update_histogram, streams=[rangexy])\n",
    "image + dmap"
   ]
  }
 ],
 "metadata": {
  "kernelspec": {
   "display_name": "LSST",
   "language": "python",
   "name": "lsst"
  },
  "language_info": {
   "codemirror_mode": {
    "name": "ipython",
    "version": 3
   },
   "file_extension": ".py",
   "mimetype": "text/x-python",
   "name": "python",
   "nbconvert_exporter": "python",
   "pygments_lexer": "ipython3",
   "version": "3.6.2"
  }
 },
 "nbformat": 4,
 "nbformat_minor": 2
}
