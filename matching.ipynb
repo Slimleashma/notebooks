{
 "cells": [
  {
   "cell_type": "markdown",
   "metadata": {},
   "source": [
    "# Example notebook using a simple positional matching"
   ]
  },
  {
   "cell_type": "code",
   "execution_count": 1,
   "metadata": {
    "collapsed": true
   },
   "outputs": [],
   "source": [
    "import numpy\n",
    "from matplotlib import pylab as plt"
   ]
  },
  {
   "cell_type": "code",
   "execution_count": 2,
   "metadata": {
    "collapsed": true
   },
   "outputs": [],
   "source": [
    "from lsst.daf.persistence import Butler\n",
    "from lsst.afw.image import abMagFromFlux, fluxFromABMag\n",
    "from lsst.afw.table import MultiMatch\n",
    "from lsst.meas.astrom import DirectMatchTask"
   ]
  },
  {
   "cell_type": "code",
   "execution_count": 3,
   "metadata": {
    "collapsed": true
   },
   "outputs": [],
   "source": [
    "butler = Butler('/home/shared/twinkles/output_data_v2')\n",
    "subset = butler.subset('src', filter='r')"
   ]
  },
  {
   "cell_type": "code",
   "execution_count": 18,
   "metadata": {
    "collapsed": true
   },
   "outputs": [],
   "source": [
    "matched_cat = None\n",
    "calexps = {}\n",
    "for data_ref in subset:\n",
    "    data_id = data_ref.dataId\n",
    "    src_cat = data_ref.get('src')\n",
    "    calexps[data_id['visit']] = data_ref.get('calexp')\n",
    "    if matched_cat is None:\n",
    "        id_fmt = {'visit':numpy.int64}\n",
    "        matched_cat = MultiMatch(src_cat.schema, id_fmt)\n",
    "    matched_cat.add(src_cat, data_id)\n",
    "final_catalog = matched_cat.finish()"
   ]
  },
  {
   "cell_type": "code",
   "execution_count": 127,
   "metadata": {},
   "outputs": [
    {
     "name": "stdout",
     "output_type": "stream",
     "text": [
      "0\n",
      "1\n",
      "2\n",
      "3\n",
      "4\n",
      "5\n",
      "6\n",
      "7\n",
      "8\n",
      "9\n"
     ]
    },
    {
     "data": {
      "text/plain": [
       "32"
      ]
     },
     "execution_count": 127,
     "metadata": {},
     "output_type": "execute_result"
    }
   ],
   "source": [
    "# Experimental cell\n",
    "for ii, data_red in enumerate(subset):\n",
    "    print(ii)\n",
    "subset.__sizeof__()"
   ]
  },
  {
   "cell_type": "code",
   "execution_count": 5,
   "metadata": {},
   "outputs": [],
   "source": [
    "object_ids = final_catalog.get('object')\n",
    "unique_object_ids = set(object_ids)"
   ]
  },
  {
   "cell_type": "code",
   "execution_count": 6,
   "metadata": {
    "collapsed": false
   },
   "outputs": [
    {
     "name": "stderr",
     "output_type": "stream",
     "text": [
      "/opt/lsst/software/stack/python/miniconda3-4.3.21/lib/python3.6/site-packages/numpy/lib/function_base.py:1128: RuntimeWarning: Mean of empty slice.\n",
      "  avg = a.mean(axis)\n",
      "/opt/lsst/software/stack/python/miniconda3-4.3.21/lib/python3.6/site-packages/numpy/core/_methods.py:80: RuntimeWarning: invalid value encountered in double_scalars\n",
      "  ret = ret.dtype.type(ret / rcount)\n",
      "/opt/lsst/software/stack/python/miniconda3-4.3.21/lib/python3.6/site-packages/numpy/core/_methods.py:135: RuntimeWarning: Degrees of freedom <= 0 for slice\n",
      "  keepdims=keepdims)\n",
      "/opt/lsst/software/stack/python/miniconda3-4.3.21/lib/python3.6/site-packages/numpy/core/_methods.py:105: RuntimeWarning: invalid value encountered in true_divide\n",
      "  arrmean, rcount, out=arrmean, casting='unsafe', subok=False)\n",
      "/opt/lsst/software/stack/python/miniconda3-4.3.21/lib/python3.6/site-packages/numpy/core/_methods.py:127: RuntimeWarning: invalid value encountered in double_scalars\n",
      "  ret = ret.dtype.type(ret / rcount)\n"
     ]
    }
   ],
   "source": [
    "object_count = {}\n",
    "avg_flux = {}\n",
    "stdev_flux = {}\n",
    "avg_snr = {}\n",
    "for obj_id in unique_object_ids:\n",
    "    idx = numpy.where(final_catalog.get('object')==obj_id)[0]\n",
    "    flux_inst = final_catalog.get('base_PsfFlux_flux')[idx]\n",
    "    flux_inst_err = final_catalog.get('base_PsfFlux_fluxSigma')[idx]\n",
    "    flag_gen = final_catalog.get('base_PsfFlux_flag')[idx]\n",
    "    flag_edge = final_catalog.get('base_PsfFlux_flag_edge')[idx]\n",
    "    flag_nogood = final_catalog.get('base_PsfFlux_flag_noGoodPixels')[idx]\n",
    "    visit = final_catalog.get('visit')[idx]\n",
    "    flux = []\n",
    "    flux_err = []\n",
    "    for f, f_err, v, fl1, fl2, fl3 in zip(flux_inst, flux_inst_err, visit, flag_gen, flag_edge, flag_nogood):\n",
    "        if f > 0. and not (fl1|fl2|fl3):\n",
    "            calib = calexps[v].getCalib()\n",
    "            flux.append(fluxFromABMag(calib.getMagnitude(f)))\n",
    "            flux_err.append(fluxFromABMag(calib.getMagnitude(f_err)))\n",
    "    flux = numpy.array(flux)\n",
    "    flux_err = numpy.array(flux_err)\n",
    "    object_count[obj_id] = len(flux)\n",
    "    avg_flux[obj_id] = numpy.average(flux)\n",
    "    stdev_flux[obj_id] = numpy.std(flux)\n",
    "    avg_snr[obj_id] = numpy.average(flux/flux_err)"
   ]
  },
  {
   "cell_type": "code",
   "execution_count": 7,
   "metadata": {},
   "outputs": [],
   "source": [
    "matcher = DirectMatchTask(butler=butler)"
   ]
  },
  {
   "cell_type": "code",
   "execution_count": 8,
   "metadata": {},
   "outputs": [],
   "source": [
    "matches = matcher.run(final_catalog, filterName='r').matches"
   ]
  },
  {
   "cell_type": "code",
   "execution_count": 9,
   "metadata": {},
   "outputs": [],
   "source": [
    "ref_mags = {}\n",
    "for match in matches:\n",
    "    object_id = match.second.get('object')\n",
    "    ref_mags[object_id] = abMagFromFlux(match.first.get('r_flux'))"
   ]
  },
  {
   "cell_type": "code",
   "execution_count": 10,
   "metadata": {
    "collapsed": true
   },
   "outputs": [],
   "source": [
    "mags = []\n",
    "g_flux = []\n",
    "g_flux_std = []\n",
    "g_snr = []\n",
    "ids = []\n",
    "for obj_id in unique_object_ids:\n",
    "    if object_count[obj_id] > 8:\n",
    "        g_flux.append(avg_flux[obj_id])\n",
    "        g_flux_std.append(stdev_flux[obj_id])\n",
    "        g_snr.append(avg_snr[obj_id])\n",
    "        mags.append(abMagFromFlux(avg_flux[obj_id]))\n",
    "        ids.append(obj_id)\n",
    "g_flux = numpy.array(g_flux)\n",
    "g_flux_std = numpy.array(g_flux_std)"
   ]
  },
  {
   "cell_type": "code",
   "execution_count": 11,
   "metadata": {},
   "outputs": [
    {
     "data": {
      "text/plain": [
       "(0.98, 1.02)"
      ]
     },
     "execution_count": 11,
     "metadata": {},
     "output_type": "execute_result"
    },
    {
     "data": {
      "image/png": "[encoded data removed]",
      "text/plain": [
       "<matplotlib.figure.Figure at 0x7fb86c725ac8>"
      ]
     },
     "metadata": {},
     "output_type": "display_data"
    }
   ],
   "source": [
    "for i, m in zip(ids, mags):\n",
    "    if i in ref_mags:\n",
    "        plt.scatter(m, ref_mags[i]/m, color='b', alpha=0.5)\n",
    "plt.ylim(0.98, 1.02) # there is one significant outlier"
   ]
  },
  {
   "cell_type": "code",
   "execution_count": 12,
   "metadata": {
    "collapsed": false
   },
   "outputs": [
    {
     "data": {
      "text/plain": [
       "<matplotlib.collections.PathCollection at 0x7fb86f218f98>"
      ]
     },
     "execution_count": 12,
     "metadata": {},
     "output_type": "execute_result"
    },
    {
     "data": {
      "image/png": "[encoded data removed]",
      "text/plain": [
       "<matplotlib.figure.Figure at 0x7fb86c495278>"
      ]
     },
     "metadata": {},
     "output_type": "display_data"
    }
   ],
   "source": [
    "plt.scatter(mags, g_snr)"
   ]
  },
  {
   "cell_type": "code",
   "execution_count": 14,
   "metadata": {
    "collapsed": false
   },
   "outputs": [
    {
     "data": {
      "text/plain": [
       "<matplotlib.collections.PathCollection at 0x7fb86f18c400>"
      ]
     },
     "execution_count": 14,
     "metadata": {},
     "output_type": "execute_result"
    },
    {
     "data": {
      "image/png": "[encoded data removed]",
      "text/plain": [
       "<matplotlib.figure.Figure at 0x7fb8739c8eb8>"
      ]
     },
     "metadata": {},
     "output_type": "display_data"
    }
   ],
   "source": [
    "plt.scatter(ids, g_snr/(g_flux/g_flux_std))"
   ]
  },
  {
   "cell_type": "code",
   "execution_count": 15,
   "metadata": {},
   "outputs": [],
   "source": [
    "idx = numpy.where(g_snr/(g_flux/g_flux_std) > 80)[0]"
   ]
  },
  {
   "cell_type": "code",
   "execution_count": 16,
   "metadata": {},
   "outputs": [],
   "source": [
    "outlier_ids = [ids[el] for el in idx]"
   ]
  },
  {
   "cell_type": "code",
   "execution_count": 17,
   "metadata": {},
   "outputs": [],
   "source": [
    "outlier1_idx = numpy.where(final_catalog.get('object')==outlier_ids[0])[0]\n",
    "outlier2_idx = numpy.where(final_catalog.get('object')==outlier_ids[1])[0]"
   ]
  },
  {
   "cell_type": "code",
   "execution_count": 18,
   "metadata": {},
   "outputs": [
    {
     "data": {
      "text/plain": [
       "19962"
      ]
     },
     "execution_count": 18,
     "metadata": {},
     "output_type": "execute_result"
    }
   ],
   "source": [
    "len(final_catalog)"
   ]
  },
  {
   "cell_type": "code",
   "execution_count": null,
   "metadata": {},
   "outputs": [],
   "source": []
  }
 ],
 "metadata": {
  "kernelspec": {
   "display_name": "LSST_Stack (Python 3)",
   "language": "python",
   "name": "lsst_stack"
  },
  "language_info": {
   "codemirror_mode": {
    "name": "ipython",
    "version": 3
   },
   "file_extension": ".py",
   "mimetype": "text/x-python",
   "name": "python",
   "nbconvert_exporter": "python",
   "pygments_lexer": "ipython3",
   "version": "3.6.2"
  }
 },
 "nbformat": 4,
 "nbformat_minor": 2
}
