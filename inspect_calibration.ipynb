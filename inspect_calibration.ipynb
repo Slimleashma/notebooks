{
 "cells": [
  {
   "cell_type": "markdown",
   "metadata": {},
   "source": [
    "## Looking at Bias, Dark, and Flat calibration data\n",
    "## From HSC\n",
    "\n",
    "Michael Wood-Vasey"
   ]
  },
  {
   "cell_type": "code",
   "execution_count": null,
   "metadata": {},
   "outputs": [],
   "source": [
    "import os\n",
    "\n",
    "import numpy as np\n",
    "\n",
    "from lsst.daf.persistence import Butler\n",
    "\n",
    "import lsst.afw.image as afwImage"
   ]
  },
  {
   "cell_type": "code",
   "execution_count": null,
   "metadata": {},
   "outputs": [],
   "source": [
    "# From Firefly.ipynb\n",
    "# Firefly client imports\n",
    "from firefly_client import FireflyClient\n",
    "\n",
    "# Standard libraries in support of Firefly display\n",
    "from urllib.parse import urlparse, urlunparse, ParseResult\n",
    "from IPython.display import display, Markdown\n",
    "import os"
   ]
  },
  {
   "cell_type": "code",
   "execution_count": null,
   "metadata": {},
   "outputs": [],
   "source": [
    "%matplotlib ipympl\n",
    "# %matplotlib inline  # To be more conservative\n",
    "\n",
    "import matplotlib.pyplot as plt\n",
    "import lsst.afw.display as afwDisplay"
   ]
  },
  {
   "cell_type": "code",
   "execution_count": null,
   "metadata": {},
   "outputs": [],
   "source": [
    "calib_bias_dir = '/datasets/hsc/calib/20180117/BIAS/2014-07-06/NONE/'\n",
    "bias_file = 'BIAS-2014-07-06-076.fits'\n",
    "\n",
    "file_path = os.path.join(calib_bias_dir, bias_file)"
   ]
  },
  {
   "cell_type": "code",
   "execution_count": null,
   "metadata": {},
   "outputs": [],
   "source": [
    "bias = afwImage.ExposureF(file_path)"
   ]
  },
  {
   "cell_type": "code",
   "execution_count": null,
   "metadata": {},
   "outputs": [],
   "source": [
    "# The Firefly server is already running and is available here:\n",
    "server = 'https://lsst-lspdev.ncsa.illinois.edu'\n",
    "# We pick a channel name that won't conflict\n",
    "my_channel = '{}_test_channel'.format(os.environ['USER'])\n",
    "\n",
    "firefly_base = '{}/firefly'.format(server)\n",
    "theme = 'slate.html'\n",
    "firefly_url = '{}/{}?__wsch={}'.format(firefly_base, theme, my_channel)\n",
    "\n",
    "print('Our channel will be visible on the Firefly server at')\n",
    "print(firefly_url)"
   ]
  },
  {
   "cell_type": "markdown",
   "metadata": {},
   "source": [
    "We use `IFrame` to open this up right here in the Notebook, but you can just as easily open this same display in a different browser window (or tab) using this url.  Because it's nice and kind of cool to see it right here, but after a while it's annoying to scroll up and down and it's easier to just have the Firefly view open in a separate viewer."
   ]
  },
  {
   "cell_type": "code",
   "execution_count": null,
   "metadata": {},
   "outputs": [],
   "source": [
    "import IPython\n",
    "IPython.display.IFrame(firefly_url, width=1024, height=640)"
   ]
  },
  {
   "cell_type": "code",
   "execution_count": null,
   "metadata": {},
   "outputs": [],
   "source": [
    "afwDisplay.setDefaultBackend('firefly')\n",
    "display = afwDisplay.getDisplay(frame=1, name=my_channel)"
   ]
  },
  {
   "cell_type": "code",
   "execution_count": null,
   "metadata": {},
   "outputs": [],
   "source": [
    "display.mtv(bias)"
   ]
  },
  {
   "cell_type": "code",
   "execution_count": null,
   "metadata": {},
   "outputs": [],
   "source": [
    "display.scale(\"asinh\", \"zscale\")"
   ]
  },
  {
   "cell_type": "code",
   "execution_count": null,
   "metadata": {},
   "outputs": [],
   "source": [
    "frame = 1\n",
    "plt.figure(frame)\n",
    "plt.plot(bias.image.array[100, :])"
   ]
  },
  {
   "cell_type": "code",
   "execution_count": null,
   "metadata": {},
   "outputs": [],
   "source": [
    "fc = FireflyClient(url=firefly_base, channel=my_channel, html_file=theme)"
   ]
  },
  {
   "cell_type": "code",
   "execution_count": null,
   "metadata": {},
   "outputs": [],
   "source": [
    "fc = display._client\n",
    "\n",
    "fc.dispatch_remote_action(channel=fc.channel,\n",
    "                       action_type='ImagePlotCntlr.Rotate',\n",
    "                             payload={'plotId': str(display.frame),\n",
    "                                             'angle': 90,\n",
    "                                              'rotateType': 'ANGLE'})"
   ]
  },
  {
   "cell_type": "code",
   "execution_count": null,
   "metadata": {},
   "outputs": [],
   "source": []
  }
 ],
 "metadata": {
  "kernelspec": {
   "display_name": "LSST",
   "language": "python",
   "name": "lsst"
  },
  "language_info": {
   "codemirror_mode": {
    "name": "ipython",
    "version": 3
   },
   "file_extension": ".py",
   "mimetype": "text/x-python",
   "name": "python",
   "nbconvert_exporter": "python",
   "pygments_lexer": "ipython3",
   "version": "3.6.2"
  }
 },
 "nbformat": 4,
 "nbformat_minor": 2
}
