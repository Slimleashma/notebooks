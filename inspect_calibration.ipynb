{
 "cells": [
  {
   "cell_type": "markdown",
   "metadata": {},
   "source": [
    "## Looking at Bias, Dark, and Flat calibration data\n",
    "## From HSC\n",
    "\n",
    "Michael Wood-Vasey"
   ]
  },
  {
   "cell_type": "code",
   "execution_count": null,
   "metadata": {},
   "outputs": [],
   "source": [
    "import os\n",
    "\n",
    "import numpy as np\n",
    "\n",
    "from lsst.daf.persistence import Butler\n",
    "\n",
    "import lsst.afw.image as afwImage"
   ]
  },
  {
   "cell_type": "code",
   "execution_count": null,
   "metadata": {},
   "outputs": [],
   "source": [
    "# From Firefly.ipynb\n",
    "# Firefly client imports\n",
    "from firefly_client import FireflyClient\n",
    "\n",
    "# Standard libraries in support of Firefly display\n",
    "from urllib.parse import urlparse, urlunparse, ParseResult\n",
    "from IPython.display import display, Markdown\n",
    "import os"
   ]
  },
  {
   "cell_type": "code",
   "execution_count": null,
   "metadata": {},
   "outputs": [],
   "source": [
    "%matplotlib ipympl\n",
    "# %matplotlib inline  # To be more conservative\n",
    "\n",
    "import matplotlib.pyplot as plt\n",
    "import lsst.afw.display as afwDisplay"
   ]
  },
  {
   "cell_type": "code",
   "execution_count": null,
   "metadata": {},
   "outputs": [],
   "source": [
    "repo_path = '/datasets/hsc/repo'\n",
    "\n",
    "butler = Butler(repo_path)"
   ]
  },
  {
   "cell_type": "code",
   "execution_count": null,
   "metadata": {},
   "outputs": [],
   "source": [
    "bias_data_id = {'calibDate': '2013-11-02', 'ccd': 27}\n",
    "bias = butler.get(datasetType='bias', dataId=bias_data_id)\n",
    "\n",
    "dark_data_id = {'calibDate': '2013-11-02', }"
   ]
  },
  {
   "cell_type": "code",
   "execution_count": null,
   "metadata": {},
   "outputs": [],
   "source": [
    "# The Firefly server is already running and is available here:\n",
    "server = 'https://lsst-lspdev.ncsa.illinois.edu'\n",
    "# We pick a channel name that won't conflict\n",
    "my_channel = '{}_test_channel'.format(os.environ['USER'])\n",
    "\n",
    "firefly_base = '{}/firefly'.format(server)\n",
    "theme = 'slate.html'\n",
    "firefly_url = '{}/{}?__wsch={}'.format(firefly_base, theme, my_channel)\n",
    "\n",
    "print('Our channel will be visible on the Firefly server at')\n",
    "print(firefly_url)"
   ]
  },
  {
   "cell_type": "markdown",
   "metadata": {},
   "source": [
    "We use `IFrame` to open this up right here in the Notebook, but you can just as easily open this same display in a different browser window (or tab) using this url.  Because it's nice and kind of cool to see it right here, but after a while it's annoying to scroll up and down and it's easier to just have the Firefly view open in a separate viewer."
   ]
  },
  {
   "cell_type": "code",
   "execution_count": null,
   "metadata": {},
   "outputs": [],
   "source": [
    "import IPython\n",
    "IPython.display.IFrame(firefly_url, width=1024, height=640)"
   ]
  },
  {
   "cell_type": "code",
   "execution_count": null,
   "metadata": {},
   "outputs": [],
   "source": [
    "afwDisplay.setDefaultBackend('firefly')\n",
    "display = afwDisplay.getDisplay(frame=1, name=my_channel)"
   ]
  },
  {
   "cell_type": "markdown",
   "metadata": {},
   "source": [
    "### showCamera\n",
    "\n",
    "There are a number of useful utilities in the `lsst.afw.cameraGeom.utils` package that will help us think about and analyze images on the scale of focal planes.  Here we're going to focus on `showCamera`.  For more documentation, see the documentation for AFW Camerao Geometry\n",
    "http://doxygen.lsst.codes/stack/doxygen/x_masterDoxyDoc/afw_camera_geom.html\n",
    "\n",
    "See examples in the `CommandLineTask` in the `obs_subaru` repo:\n",
    "https://github.com/lsst/obs_subaru/blob/master/bin.src/displayCamera.py"
   ]
  },
  {
   "cell_type": "code",
   "execution_count": null,
   "metadata": {},
   "outputs": [],
   "source": [
    "from lsst.afw.cameraGeom.utils import showCamera"
   ]
  },
  {
   "cell_type": "code",
   "execution_count": null,
   "metadata": {},
   "outputs": [],
   "source": [
    "help(showCamera)"
   ]
  },
  {
   "cell_type": "code",
   "execution_count": null,
   "metadata": {},
   "outputs": [],
   "source": [
    "from lsst.obs.hsc import HscMapper"
   ]
  },
  {
   "cell_type": "code",
   "execution_count": null,
   "metadata": {},
   "outputs": [],
   "source": [
    "camera = butler.get(\"camera\")"
   ]
  },
  {
   "cell_type": "code",
   "execution_count": null,
   "metadata": {},
   "outputs": [],
   "source": [
    "showCamera(camera=camera, display=display)"
   ]
  },
  {
   "cell_type": "code",
   "execution_count": null,
   "metadata": {},
   "outputs": [],
   "source": [
    "display.mtv(bias)"
   ]
  },
  {
   "cell_type": "code",
   "execution_count": null,
   "metadata": {},
   "outputs": [],
   "source": [
    "display.scale(\"asinh\", \"zscale\")"
   ]
  },
  {
   "cell_type": "code",
   "execution_count": null,
   "metadata": {},
   "outputs": [],
   "source": [
    "frame = 1\n",
    "plt.figure(frame)\n",
    "plt.plot(bias.image.array[100, :])"
   ]
  },
  {
   "cell_type": "code",
   "execution_count": null,
   "metadata": {},
   "outputs": [],
   "source": [
    "fc = FireflyClient(url=firefly_base, channel=my_channel, html_file=theme)"
   ]
  },
  {
   "cell_type": "code",
   "execution_count": null,
   "metadata": {},
   "outputs": [],
   "source": [
    "fc = display._client\n",
    "\n",
    "fc.dispatch_remote_action(channel=fc.channel,\n",
    "                       action_type='ImagePlotCntlr.Rotate',\n",
    "                             payload={'plotId': str(display.frame),\n",
    "                                             'angle': 90,\n",
    "                                              'rotateType': 'ANGLE'})"
   ]
  },
  {
   "cell_type": "code",
   "execution_count": null,
   "metadata": {},
   "outputs": [],
   "source": []
  }
 ],
 "metadata": {
  "kernelspec": {
   "display_name": "LSST",
   "language": "python",
   "name": "lsst"
  },
  "language_info": {
   "codemirror_mode": {
    "name": "ipython",
    "version": 3
   },
   "file_extension": ".py",
   "mimetype": "text/x-python",
   "name": "python",
   "nbconvert_exporter": "python",
   "pygments_lexer": "ipython3",
   "version": "3.6.2"
  }
 },
 "nbformat": 4,
 "nbformat_minor": 2
}
