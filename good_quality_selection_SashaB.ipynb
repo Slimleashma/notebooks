{
 "cells": [
  {
   "cell_type": "code",
   "execution_count": 72,
   "metadata": {},
   "outputs": [],
   "source": [
    "# LSST stack imports\n",
    "from lsst.daf.persistence import Butler\n",
    "import lsst.afw.display as afw_display\n",
    "import matplotlib.pyplot as plt\n",
    "%matplotlib inline\n",
    "\n",
    "# Firefly client imports\n",
    "from firefly_client import FireflyClient\n",
    "\n",
    "# Standard libraries in support of Firefly display\n",
    "from urllib.parse import urlparse, urlunparse, ParseResult\n",
    "from IPython.display import display, Markdown\n",
    "import os"
   ]
  },
  {
   "cell_type": "code",
   "execution_count": null,
   "metadata": {},
   "outputs": [],
   "source": [
    "#Coadd or single visit? For now, let's just do a coadd "
   ]
  },
  {
   "cell_type": "code",
   "execution_count": 12,
   "metadata": {},
   "outputs": [
    {
     "name": "stdout",
     "output_type": "stream",
     "text": [
      "aaa\n"
     ]
    }
   ],
   "source": [
    "print ('aaA'.lower()) \n"
   ]
  },
  {
   "cell_type": "code",
   "execution_count": 174,
   "metadata": {},
   "outputs": [],
   "source": [
    "data_set = 'UDEEP'# can be WIDE, DEEP, UDEEP\n",
    "sample_datadir = '/datasets/hsc/repo/rerun/DM-13666/' + data_set \n",
    "butler = Butler(sample_datadir)\n",
    "#help(butler)"
   ]
  },
  {
   "cell_type": "code",
   "execution_count": 187,
   "metadata": {},
   "outputs": [
    {
     "name": "stdout",
     "output_type": "stream",
     "text": [
      "It would be great to be able to query butler based on things like, eg, RA, Dec rather than, the tract and patch number\n"
     ]
    }
   ],
   "source": [
    "#print (butler)\n",
    "tract = 8766\n",
    "patch = '8,3'\n",
    "#patch = '1,1'\n",
    "data_set = 'deepCoadd_forced_src'\n",
    "print('It would be great to be able to query butler based on things like, eg, RA, Dec rather than, the tract and patch number')"
   ]
  },
  {
   "cell_type": "code",
   "execution_count": 190,
   "metadata": {},
   "outputs": [
    {
     "name": "stdout",
     "output_type": "stream",
     "text": [
      "len(deep_coadd_I) = 557\n",
      "len(deep_coadd_Y) = 557\n",
      "        id             coord_ra      ... base_ClassificationExtendedness_flag\n",
      "                         rad         ...                                     \n",
      "----------------- ------------------ ... ------------------------------------\n",
      "38554388112867329 0.6091708127037836 ...                                 True\n",
      "38554388112867330 0.6088483716148637 ...                                 True\n",
      "38554388112867331 0.6088083727993384 ...                                 True\n",
      "38554388112867332 0.6086042979258403 ...                                 True\n",
      "38554388112867333  0.609303056672418 ...                                 True\n",
      "38554388112867334 0.6088255166576976 ...                                 True\n",
      "38554388112867335 0.6087218464317827 ...                                 True\n",
      "38554388112867336  0.608714501260787 ...                                 True\n",
      "38554388112867337 0.6097773391108072 ...                                 True\n",
      "38554388112867338 0.6086467484672133 ...                                 True\n",
      "              ...                ... ...                                  ...\n",
      "38554388112868193 0.6087489879566959 ...                                 True\n",
      "38554388112868194 0.6084460167201117 ...                                 True\n",
      "38554388112868195 0.6084484624780553 ...                                 True\n",
      "38554388112868196  0.608449434364568 ...                                 True\n",
      "38554388112868197 0.6086080845225981 ...                                 True\n",
      "38554388112868198  0.608611745713022 ...                                 True\n",
      "38554388112868199 0.6085940016348973 ...                                 True\n",
      "38554388112868200 0.6085963378527159 ...                                 True\n",
      "38554388112868201 0.6085982446365871 ...                                 True\n",
      "38554388112868202 0.6085980340221424 ...                                 True\n",
      "Length = 557 rows\n",
      "        id             coord_ra      ... base_ClassificationExtendedness_flag\n",
      "                         rad         ...                                     \n",
      "----------------- ------------------ ... ------------------------------------\n",
      "38554388112867329 0.6091708127037836 ...                                 True\n",
      "38554388112867330 0.6088483716148637 ...                                 True\n",
      "38554388112867331 0.6088083727993384 ...                                 True\n",
      "38554388112867332 0.6086042979258403 ...                                 True\n",
      "38554388112867333  0.609303056672418 ...                                 True\n",
      "38554388112867334 0.6088255166576976 ...                                 True\n",
      "38554388112867335 0.6087218464317827 ...                                 True\n",
      "38554388112867336  0.608714501260787 ...                                 True\n",
      "38554388112867337 0.6097773391108072 ...                                 True\n",
      "38554388112867338 0.6086467484672133 ...                                 True\n",
      "              ...                ... ...                                  ...\n",
      "38554388112868193 0.6087489879566959 ...                                 True\n",
      "38554388112868194 0.6084460167201117 ...                                 True\n",
      "38554388112868195 0.6084484624780553 ...                                 True\n",
      "38554388112868196  0.608449434364568 ...                                False\n",
      "38554388112868197 0.6086080845225981 ...                                 True\n",
      "38554388112868198  0.608611745713022 ...                                 True\n",
      "38554388112868199 0.6085940016348973 ...                                False\n",
      "38554388112868200 0.6085963378527159 ...                                 True\n",
      "38554388112868201 0.6085982446365871 ...                                False\n",
      "38554388112868202 0.6085980340221424 ...                                False\n",
      "Length = 557 rows\n"
     ]
    }
   ],
   "source": [
    "deep_coadd_Y = butler.get(data_set, tract = tract, patch = patch, dataId={'filter': 'HSC-Y'})\n",
    "deep_coadd_I = butler.get(data_set, tract = tract, patch = patch, dataId={'filter': 'HSC-I'})\n",
    "print ('len(deep_coadd_I) = ' + str(len(deep_coadd_I)))\n",
    "print ('len(deep_coadd_Y) = ' + str(len(deep_coadd_Y)))\n",
    "print (deep_coadd_I)\n",
    "print (deep_coadd_Y)"
   ]
  },
  {
   "cell_type": "code",
   "execution_count": 192,
   "metadata": {},
   "outputs": [
    {
     "name": "stdout",
     "output_type": "stream",
     "text": [
      "<class 'astropy.table.table.Table'>\n",
      "<class 'astropy.table.table.Table'>\n"
     ]
    }
   ],
   "source": [
    "deep_coadd_I_table =  deep_coadd_I.asAstropy()\n",
    "deep_coadd_Y_table =  deep_coadd_Y.asAstropy()\n",
    "#print (deep_coadd[556])\n",
    "#print (deep_coadd[556]['id'])\n",
    "#print (deep_coadd[556].schema)\n",
    "print (type(deep_coadd_Y_table))\n",
    "print (type(deep_coadd_I_table))\n",
    "#print (deep_coadd_table.info())\n",
    "#print(deep_coadd_Y_table.info())\n",
    "#print(deep_coadd_I_table.info())"
   ]
  },
  {
   "cell_type": "code",
   "execution_count": 193,
   "metadata": {},
   "outputs": [],
   "source": [
    "ras_I = deep_coadd_I_table['coord_ra']\n",
    "decs_I = deep_coadd_I_table['coord_dec']\n",
    "#Note that the syntax for these bad pixels is different from \n",
    "# that listed on page 6 of the paper 'The Hyper Suprime-Cam Software Pipeline' \n",
    "#\n",
    "I_bad_pixel_flags = deep_coadd_I_table['base_PixelFlags_flag_bad']\n",
    "Y_cr_pixel_flags=deep_coadd_I_table['base_PixelFlags_flag_cr']"
   ]
  },
  {
   "cell_type": "code",
   "execution_count": 210,
   "metadata": {},
   "outputs": [
    {
     "name": "stdout",
     "output_type": "stream",
     "text": [
      "base_PixelFlags_flag_edge\n",
      "-------------------------\n",
      "                    False\n",
      "                     True\n",
      "                     True\n",
      "                     True\n",
      "                     True\n",
      "                     True\n",
      "                     True\n",
      "                     True\n",
      "                     True\n",
      "                     True\n",
      "                      ...\n",
      "                    False\n",
      "                    False\n",
      "                    False\n",
      "                    False\n",
      "                    False\n",
      "                    False\n",
      "                    False\n",
      "                    False\n",
      "                    False\n",
      "                    False\n",
      "                    False\n",
      "Length = 557 rows\n",
      "base_PixelFlags_flag_edge\n",
      "-------------------------\n",
      "                     True\n",
      "                     True\n",
      "                     True\n",
      "                     True\n",
      "                     True\n",
      "                     True\n",
      "                     True\n",
      "                    False\n",
      "                    False\n",
      "                    False\n",
      "                      ...\n",
      "                    False\n",
      "                    False\n",
      "                     True\n",
      "                     True\n",
      "                     True\n",
      "                    False\n",
      "                    False\n",
      "                    False\n",
      "                    False\n",
      "                    False\n",
      "                    False\n",
      "Length = 557 rows\n"
     ]
    }
   ],
   "source": [
    "print (deep_coadd_I_table['base_PixelFlags_flag_edge'])\n",
    "print (deep_coadd_Y_table['base_PixelFlags_flag_edge'])"
   ]
  },
  {
   "cell_type": "code",
   "execution_count": 154,
   "metadata": {},
   "outputs": [],
   "source": [
    "#print (deep_coadd_table['base_PixelFlags_flag_edge'])"
   ]
  },
  {
   "cell_type": "code",
   "execution_count": 156,
   "metadata": {},
   "outputs": [
    {
     "name": "stdout",
     "output_type": "stream",
     "text": [
      "['base_PixelFlags_flag_bad', 'base_PixelFlags_flag_cr', 'base_PixelFlags_flag_offimage', 'base_PixelFlags_flag_edge', 'base_PixelFlags_flag_saturated', 'base_PixelFlags_flag_rejected']\n"
     ]
    },
    {
     "data": {
      "text/plain": [
       "[False, False, False, False, False, False]"
      ]
     },
     "execution_count": 156,
     "metadata": {},
     "output_type": "execute_result"
    }
   ],
   "source": []
  },
  {
   "cell_type": "code",
   "execution_count": 203,
   "metadata": {},
   "outputs": [
    {
     "name": "stdout",
     "output_type": "stream",
     "text": [
      "[True, True, True, True, True, True, True, False, False, False, False, False, False, False, False, True, False, False, False, False, False, False, False, False, False, False, False, False, False, False, False, False, False, True, False, False, False, False, False, False, False, False, True, False, False, False, False, False, False, False, False, False, False, True, False, False, False, False, False, False, False, False, False, False, False, False, False, False, False, False, False, False, False, False, False, False, False, False, False, False, False, False, False, False, False, False, False, False, False, False, False, False, False, False, False, False, False, False, False, False, False, False, False, False, False, False, False, False, False, False, False, False, False, False, False, False, False, False, False, False, False, True, False, False, False, False, False, False, False, False, False, False, False, False, False, False, False, False, False, True, True, False, False, False, False, False, False, False, False, False, False, False, False, False, False, False, False, False, False, False, False, False, False, False, False, False, False, False, False, False, True, False, True, False, False, True, False, True, False, False, False, False, True, False, False, False, False, True, False, False, True, False, True, True, False, True, False, False, False, False, False, True, True, True, True, False, True, True, True, True, False, False, True, True, True, True, True, True, True, True, True, True, True, True, True, True, True, True, True, True, True, True, True, True, True, True, True, True, True, True, True, True, True, True, True, True, True, True, True, True, True, True, True, True, True, True, True, True, True, True, True, True, True, True, True, True, True, True, True, True, True, True, True, True, True, True, True, True, True, True, True, True, True, True, True, True, True, True, True, True, True, True, True, True, True, True, True, True, True, True, True, True, True, True, True, True, True, True, True, True, True, True, True, True, True, True, True, True, True, True, True, False, True, True, False, False, False, False, False, False, False, False, False, True, True, True, False, False, True, True, True, False, False, False, False, False, False, False, False, False, False, True, True, False, False, False, False, False, False, False, False, False, False, False, False, False, False, False, False, False, False, False, False, False, False, False, False, False, False, True, True, True, False, False, False, False, False, False, False, False, False, False, False, False, False, False, False, False, False, True, True, False, False, True, False, True, False, False, False, False, False, False, False, True, True, False, False, False, False, False, True, False, False, True, True, True, False, False, False, False, False, False, False, False, False, False, False, False, False, False, False, False, False, False, False, False, False, False, False, False, False, False, False, False, False, False, False, False, False, False, False, False, False, False, False, False, False, True, False, True, False, True, True, False, True, True, True, True, True, True, False, True, True, True, True, True, True, False, True, True, False, False, True, False, True, True, False, False, True, True, True, True, True, False, True, True, False, True, False, False, False, False, False, False, False, False, False, False, True, True, True, True, True, True, False, False, False, False, True, True, False, False, True, False, False, False, False, False, False, False, False, False, False, False, False, False, False, False, True, True, True, False, False, False, False, False, False]\n",
      "[False, True, True, True, True, True, True, True, True, True, True, True, True, True, True, False, False, True, False, True, False, True, True, True, True, False, True, True, True, True, True, True, True, False, True, False, True, True, True, True, True, True, False, True, False, True, True, True, True, False, True, False, True, False, True, True, True, True, True, True, True, True, False, True, True, True, True, False, True, True, True, True, False, True, False, False, True, True, True, True, True, True, False, True, True, True, True, False, True, True, True, True, True, True, False, True, True, True, True, True, True, True, True, True, True, True, True, True, True, True, False, True, True, True, True, True, True, True, True, True, True, False, False, False, True, False, True, True, True, False, True, True, True, True, True, True, False, True, True, False, False, True, False, True, True, False, False, True, True, True, False, False, False, True, True, True, False, True, False, True, True, True, True, True, False, False, False, False, True, True, False, True, False, True, True, True, True, False, False, True, True, True, False, False, False, True, True, True, True, True, True, True, True, False, True, False, False, True, True, True, False, True, True, True, False, True, True, True, True, True, False, False, True, True, True, True, True, True, True, True, True, True, True, True, True, True, True, True, True, True, True, True, True, True, True, True, True, True, True, True, True, True, True, True, True, True, True, True, True, True, True, True, True, True, True, True, True, True, True, True, True, True, True, True, True, True, True, True, True, True, True, True, True, True, True, True, True, True, True, True, True, True, True, True, True, True, True, True, True, True, True, True, True, True, True, True, True, True, True, True, True, True, True, True, True, True, True, True, True, True, True, True, True, True, True, True, True, False, False, False, False, False, False, False, False, False, False, False, False, False, False, False, False, False, False, False, False, False, False, False, False, False, False, False, False, False, False, False, False, False, False, False, False, False, False, False, False, False, False, False, False, False, False, False, False, False, False, False, False, False, False, False, False, False, False, False, False, False, False, False, False, False, False, False, False, False, False, False, False, False, False, False, False, False, False, False, False, False, False, False, False, False, False, False, False, False, False, False, False, False, False, False, False, False, False, False, False, False, False, False, False, False, False, False, False, False, False, False, False, False, False, False, False, False, False, False, False, False, False, False, False, False, False, False, False, False, False, False, False, False, False, False, False, False, False, False, False, False, False, False, False, False, False, False, False, False, False, False, False, False, False, False, False, False, False, False, False, False, False, False, False, False, False, False, False, False, False, False, False, False, False, False, False, False, False, False, False, False, False, False, False, False, False, False, False, False, False, False, False, False, False, False, False, False, False, False, False, False, False, False, False, False, False, False, False, False, False, False, False, False, False, False, False, False, False, False, False, False, False, False, False, False, False, False, False, False, False, False, False, False, False, False, False, False, False, False, False]\n"
     ]
    }
   ],
   "source": [
    "#Specify the flags that we wish to reject on, and then combine them together so that if any flag is on, \n",
    "# the object is marked for rejection. \n",
    "flags_to_reject_on_suffixes = ['flag_bad', 'flag_cr', 'flag_offimage','flag_edge', 'flag_saturated', 'flag_rejected']\n",
    "flags_to_reject_on = ['base_PixelFlags_' + suffix for suffix in flags_to_reject_on_suffixes]\n",
    "base_PixelFlags_I_master_rejection = ([any([deep_coadd_I_table[rej_flag][i] for rej_flag in flags_to_reject_on]) for i in range(len(deep_coadd))])\n",
    "base_PixelFlags_Y_master_rejection = ([any([deep_coadd_Y_table[rej_flag][i] for rej_flag in flags_to_reject_on]) for i in range(len(deep_coadd))])\n",
    "print(base_PixelFlags_Y_master_rejection)\n",
    "print(base_PixelFlags_I_master_rejection)"
   ]
  },
  {
   "cell_type": "code",
   "execution_count": 198,
   "metadata": {},
   "outputs": [
    {
     "name": "stdout",
     "output_type": "stream",
     "text": [
      "len(good_objects) = 261\n",
      "        id             coord_ra      ... base_ClassificationExtendedness_flag\n",
      "                         rad         ...                                     \n",
      "----------------- ------------------ ... ------------------------------------\n",
      "38554388112867330 0.6088483716148637 ...                                 True\n",
      "38554388112867331 0.6088083727993384 ...                                 True\n",
      "38554388112867332 0.6086042979258403 ...                                 True\n",
      "38554388112867333  0.609303056672418 ...                                 True\n",
      "38554388112867334 0.6088255166576976 ...                                 True\n",
      "38554388112867335 0.6087218464317827 ...                                 True\n",
      "38554388112867336  0.608714501260787 ...                                 True\n",
      "38554388112867337 0.6097773391108072 ...                                 True\n",
      "38554388112867338 0.6086467484672133 ...                                 True\n",
      "38554388112867339 0.6085977706268977 ...                                 True\n",
      "              ...                ... ...                                  ...\n",
      "38554388112867636 0.6115188288971112 ...                                 True\n",
      "38554388112867637 0.6088020890667566 ...                                 True\n",
      "38554388112867638  0.608728556542001 ...                                 True\n",
      "38554388112867639 0.6086994739003773 ...                                 True\n",
      "38554388112867640  0.608907058732003 ...                                 True\n",
      "38554388112867641 0.6097977248600247 ...                                 True\n",
      "38554388112867642 0.6102502563800859 ...                                 True\n",
      "38554388112867643 0.6100444867532429 ...                                 True\n",
      "38554388112867644 0.6104239306840507 ...                                 True\n",
      "38554388112867645 0.6085692533802962 ...                                 True\n",
      "Length = 261 rows\n"
     ]
    }
   ],
   "source": [
    "#Now define a NEW astropy table and fill it in with those objects that are not rejected by the flag \n",
    "good_I_objects = deep_coadd_table[base_PixelFlags_I_master_rejection]\n",
    "good_Y_objects = deep_coadd_table[base_PixelFlags_Y_master_rejection]\n",
    "print ('len(good_objects) = ' + str(len(good_objects)))\n",
    "print (good_objects)"
   ]
  },
  {
   "cell_type": "code",
   "execution_count": 167,
   "metadata": {},
   "outputs": [],
   "source": [
    "base_PixelFlags_master_rejection\n",
    "refined_objects = [deep_coadd_table[i] for i in range(len(deep_coadd_table)) if not(base_PixelFlags_master_rejection[i])] \n",
    "#refined_objects = [1 for i in range(len(deep_coadd_table)) if not(base_PixelFlags_master_rejection[i])] \n"
   ]
  },
  {
   "cell_type": "code",
   "execution_count": 171,
   "metadata": {},
   "outputs": [
    {
     "name": "stdout",
     "output_type": "stream",
     "text": [
      "492\n"
     ]
    }
   ],
   "source": [
    "print (len(refined_objects[0])) "
   ]
  },
  {
   "cell_type": "code",
   "execution_count": 74,
   "metadata": {},
   "outputs": [
    {
     "data": {
      "image/png": "[encoded data removed]",
      "text/plain": [
       "<matplotlib.figure.Figure at 0x7f236bd99ac8>"
      ]
     },
     "metadata": {},
     "output_type": "display_data"
    }
   ],
   "source": [
    "plt.scatter(ras, decs)\n",
    "plt.show() "
   ]
  },
  {
   "cell_type": "code",
   "execution_count": null,
   "metadata": {},
   "outputs": [],
   "source": [
    "user_specs = {portion_of_sky:[], object_type:[], object_qualities:[],flags_to_not_cut_on:[]}"
   ]
  },
  {
   "cell_type": "code",
   "execution_count": 153,
   "metadata": {},
   "outputs": [
    {
     "name": "stdout",
     "output_type": "stream",
     "text": [
      "[True, True]\n"
     ]
    }
   ],
   "source": [
    "test = [False, True, True, False]\n",
    "print ([elem for elem in test if elem == True ])"
   ]
  },
  {
   "cell_type": "code",
   "execution_count": null,
   "metadata": {},
   "outputs": [],
   "source": []
  }
 ],
 "metadata": {
  "kernelspec": {
   "display_name": "LSST",
   "language": "python",
   "name": "lsst"
  },
  "language_info": {
   "codemirror_mode": {
    "name": "ipython",
    "version": 3
   },
   "file_extension": ".py",
   "mimetype": "text/x-python",
   "name": "python",
   "nbconvert_exporter": "python",
   "pygments_lexer": "ipython3",
   "version": "3.6.2"
  }
 },
 "nbformat": 4,
 "nbformat_minor": 2
}
